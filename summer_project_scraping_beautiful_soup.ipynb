{
 "cells": [
  {
   "cell_type": "code",
   "execution_count": 1,
   "id": "3ede9b81",
   "metadata": {},
   "outputs": [],
   "source": [
    "# https://medium.com/technofunnel/web-scraping-with-python-using-beautifulsoup-76b710e3e92f\n",
    "# https://www.crummy.com/software/BeautifulSoup/bs4/doc/"
   ]
  },
  {
   "cell_type": "code",
   "execution_count": 2,
   "id": "b9b55ecf",
   "metadata": {},
   "outputs": [],
   "source": [
    "import requests \n",
    "from bs4 import BeautifulSoup \n",
    "import re\n",
    "from statistics import mode\n",
    "import pandas as pd\n",
    "import numpy as np"
   ]
  },
  {
   "cell_type": "markdown",
   "id": "218d0718",
   "metadata": {},
   "source": [
    "# Scraping manually"
   ]
  },
  {
   "cell_type": "markdown",
   "id": "d9d4fc73",
   "metadata": {},
   "source": [
    "## Columbia Stats"
   ]
  },
  {
   "cell_type": "code",
   "execution_count": 217,
   "id": "cedd1333",
   "metadata": {},
   "outputs": [],
   "source": [
    "URL = \"https://stat.columbia.edu/department-directory/faculty-and-lecturers/\"\n",
    "\n",
    "r = requests.get(URL) \n",
    "\n",
    "c_soup = BeautifulSoup(r.content, 'html5lib') "
   ]
  },
  {
   "cell_type": "code",
   "execution_count": 218,
   "id": "b870b31d",
   "metadata": {},
   "outputs": [],
   "source": [
    "c_profs = c_soup.findAll(attrs = {'class':'container-fluid cn-container'}) "
   ]
  },
  {
   "cell_type": "code",
   "execution_count": 219,
   "id": "40694709",
   "metadata": {},
   "outputs": [],
   "source": [
    "columbia_stats = []\n",
    "for prof in c_profs:\n",
    "    # name\n",
    "    name = prof.find(attrs = {'class':'cn-entry-name'}).text\n",
    "\n",
    "    # title\n",
    "    title = prof.findAll(attrs = {'class': 'col-md-3'})[1].text.strip('\\n').strip()\n",
    "\n",
    "    # img\n",
    "    try:\n",
    "        img = prof.find('img')\n",
    "        img = img['src']\n",
    "    except:\n",
    "        img = None\n",
    "\n",
    "    item = {'name':name, 'title':title, 'img':img}\n",
    "    columbia_stats.append(item)"
   ]
  },
  {
   "cell_type": "markdown",
   "id": "54fbf264",
   "metadata": {},
   "source": [
    "## UPenn Stats"
   ]
  },
  {
   "cell_type": "code",
   "execution_count": 221,
   "id": "39fbfea9",
   "metadata": {},
   "outputs": [],
   "source": [
    "URL = \"https://statistics.wharton.upenn.edu/faculty/faculty-list/\"\n",
    "\n",
    "r = requests.get(URL) \n",
    "\n",
    "p_soup = BeautifulSoup(r.content, 'html5lib') "
   ]
  },
  {
   "cell_type": "code",
   "execution_count": 222,
   "id": "99dfbafd",
   "metadata": {},
   "outputs": [],
   "source": [
    "p_profs = p_soup.findAll(attrs = {'class':'wdp_listing-row vc_row vc_row-fluid'}) "
   ]
  },
  {
   "cell_type": "code",
   "execution_count": 223,
   "id": "950ce89a",
   "metadata": {},
   "outputs": [],
   "source": [
    "upenn_stats = []\n",
    "for prof in p_profs:\n",
    "    # name\n",
    "    name = prof.find(attrs = {'class':'wdp_listing-name'}).text\n",
    "\n",
    "    # title\n",
    "    s = str(prof)\n",
    "    m = re.search(\"[a-zA-Z0-9 ]*(Professor|Lecturer)[a-zA-Z0-9_ ]*\", s)\n",
    "    if m:\n",
    "        title = m.group(0)\n",
    "    else:\n",
    "        title = None\n",
    "\n",
    "\n",
    "    # img\n",
    "    try:\n",
    "        img = prof.find('img')\n",
    "        img = img['src']\n",
    "    except:\n",
    "        img = None\n",
    "\n",
    "    item = {'name':name, 'title':title, 'img':img}\n",
    "    upenn_stats.append(item)"
   ]
  },
  {
   "cell_type": "code",
   "execution_count": 224,
   "id": "0cc53dd7",
   "metadata": {},
   "outputs": [
    {
     "data": {
      "text/plain": [
       "[{'name': 'David Blei',\n",
       "  'title': 'Professor',\n",
       "  'img': 'https://stat.columbia.edu/wp-content/uploads/connections-images/david-blei/Blei-David-1.jpg'},\n",
       " {'name': 'John P. Cunningham',\n",
       "  'title': 'Professor',\n",
       "  'img': 'https://stat.columbia.edu/wp-content/uploads/connections-images/john-cunningham/cunningham_original.jpg'},\n",
       " {'name': 'Richard A. Davis',\n",
       "  'title': 'Howard Levene Professor',\n",
       "  'img': 'https://stat.columbia.edu/wp-content/uploads/connections-images/richard-davis/Davis-Richard.jpg'}]"
      ]
     },
     "execution_count": 224,
     "metadata": {},
     "output_type": "execute_result"
    }
   ],
   "source": [
    "columbia_stats[:3]"
   ]
  },
  {
   "cell_type": "code",
   "execution_count": 225,
   "id": "613ddbfb",
   "metadata": {},
   "outputs": [
    {
     "data": {
      "text/plain": [
       "[{'name': 'Bhaswar B. Bhattacharya',\n",
       "  'title': 'Assistant Professor of Statistics and Data Science',\n",
       "  'img': 'https://faculty.wharton.upenn.edu/wp-content/uploads/2016/09/Bhaswar_Homepage_Cropped.jpg'},\n",
       " {'name': 'Tony Cai',\n",
       "  'title': ' Silberberg Professor in Applied Mathematics and Statistics',\n",
       "  'img': 'https://faculty.wharton.upenn.edu/wp-content/uploads/2016/11/Tony_Cai_Crop7.jpg'},\n",
       " {'name': 'Yuxin Chen',\n",
       "  'title': 'Associate Professor of Statistics and Data Science',\n",
       "  'img': 'https://faculty.wharton.upenn.edu/wp-content/uploads/2016/11/Yuxin_Chen.jpeg'}]"
      ]
     },
     "execution_count": 225,
     "metadata": {},
     "output_type": "execute_result"
    }
   ],
   "source": [
    "upenn_stats[:3]"
   ]
  },
  {
   "cell_type": "markdown",
   "id": "9e54aac3",
   "metadata": {},
   "source": [
    "# Automating"
   ]
  },
  {
   "cell_type": "markdown",
   "id": "88824e1a",
   "metadata": {},
   "source": [
    "## Define functions"
   ]
  },
  {
   "cell_type": "code",
   "execution_count": 43,
   "id": "1273b912",
   "metadata": {},
   "outputs": [],
   "source": [
    "def get_soup(URL):\n",
    "    r = requests.get(URL) \n",
    "    return BeautifulSoup(r.content, 'html5lib') "
   ]
  },
  {
   "cell_type": "code",
   "execution_count": 168,
   "id": "e9fc88c1",
   "metadata": {},
   "outputs": [],
   "source": [
    "# return 3 images, to make sure images selected are the headshots \n",
    "def select_headshots(soup):\n",
    "    headshots = soup.body.find_all('img')\n",
    "    return headshots[len(headshots)//6], headshots[len(headshots)//3], headshots[len(headshots)//2]"
   ]
  },
  {
   "cell_type": "code",
   "execution_count": 205,
   "id": "4eaf5912",
   "metadata": {},
   "outputs": [],
   "source": [
    "# check if the link for imgs are src or srcset\n",
    "def src_or_srcset(tag):\n",
    "    try: \n",
    "        tag['src']\n",
    "        return True\n",
    "    except:\n",
    "        return False"
   ]
  },
  {
   "cell_type": "code",
   "execution_count": 87,
   "id": "20f288c5",
   "metadata": {},
   "outputs": [],
   "source": [
    "# for each tag containing imgs, find their first parents that contains the the keyword \n",
    "# (professor, lecturer, student (some pages include grad students), ...) \n",
    "# My rational is since the tag includes the title already, it likely also includes the name of the person. \n",
    "\n",
    "def find_profile_class(tag):\n",
    "    s = str(tag)\n",
    "    if re.search(r'(Professor|Lecturer|Student|Director)', s):\n",
    "        m = re.findall(r'class=\"(.+?)\"', s)\n",
    "        return tag, m[0]\n",
    "    else:\n",
    "        return find_profile_class(tag.parent)"
   ]
  },
  {
   "cell_type": "code",
   "execution_count": 268,
   "id": "85ff9b3f",
   "metadata": {},
   "outputs": [],
   "source": [
    "# possible to use ML instead of regex to find name?\n",
    "def find_name_pos(tag):\n",
    "    pos = 0\n",
    "    strs = tag.stripped_strings\n",
    "    while True: \n",
    "        s = next(strs)\n",
    "        if re.match(\"^([a-zA-Z.]*[,]* [a-zA-Z.]* [a-zA-Z.]*|[a-zA-Z.]*[,]* [a-zA-Z.]*)[, Ph.D.]*$\", s):\n",
    "            if \"University\" not in s and \"College\" not in s and 'Department' not in s:\n",
    "                return pos\n",
    "        pos += 1"
   ]
  },
  {
   "cell_type": "code",
   "execution_count": 102,
   "id": "b3bdc9a8",
   "metadata": {},
   "outputs": [],
   "source": [
    "def find_title_pos(tag):\n",
    "    pos = 0\n",
    "    strs = tag.stripped_strings\n",
    "    while True: \n",
    "        s = next(strs)\n",
    "        if re.match(\"[a-zA-Z0-9 ]*(Professor|Lecturer|Student|Director)[a-zA-Z0-9_ ]*\", s):\n",
    "            return pos\n",
    "        else:\n",
    "            pos += 1"
   ]
  },
  {
   "cell_type": "code",
   "execution_count": 252,
   "id": "bda15064",
   "metadata": {},
   "outputs": [],
   "source": [
    "def find_by_pos(tag, pos):\n",
    "    it = tag.stripped_strings\n",
    "    try:\n",
    "        item = next(x for i,x in enumerate(it) if i==pos)\n",
    "    except:\n",
    "        item = None\n",
    "    return item"
   ]
  },
  {
   "cell_type": "code",
   "execution_count": 214,
   "id": "dc5f3892",
   "metadata": {},
   "outputs": [],
   "source": [
    "def find_img(tag, src):\n",
    "    try:\n",
    "        if src:\n",
    "            img = tag.find('img')['src']\n",
    "        else:\n",
    "            img = tag.find('img')['srcset'].split()[0]\n",
    "    except:\n",
    "        img = None\n",
    "    return img"
   ]
  },
  {
   "cell_type": "markdown",
   "id": "5794dc29",
   "metadata": {},
   "source": [
    "## Putting it together"
   ]
  },
  {
   "cell_type": "code",
   "execution_count": 241,
   "id": "95668377",
   "metadata": {},
   "outputs": [],
   "source": [
    "def get_department_info(URL):\n",
    "    # get the soup (entire webpage)\n",
    "    soup = get_soup(URL)\n",
    "    \n",
    "    # get 3 headshot tags in different pos. Because all the pages have headshots ('img' in html), \n",
    "    # that's something in common for all pages regardless of the design \n",
    "    headshots = select_headshots(soup)\n",
    "    \n",
    "    # use the random headshot to find the name of the class containing profiles, name pos and title pos\n",
    "    profile_classes = []\n",
    "    tags = []\n",
    "    src_or_not = None\n",
    "    \n",
    "    # for each tag containing imgs, find their first parents that contains the the keyword \n",
    "    # (professor, lecturer, student (some pages include grad students), ...) \n",
    "    # My rational is since the tag includes the title already, it likely also includes the name of the person. \n",
    "    for headshot in headshots:\n",
    "        tag, profile_c = find_profile_class(headshot)\n",
    "        profile_classes.append(profile_c)\n",
    "        tags.append(tag)\n",
    "        \n",
    "    # compare the class name of tag containg profile found from ancestors of the 3 headshot tags, \n",
    "    # if 2 or more out of 3 are same, select it as the class name of profile tags. If all 3 are different, throw an error\n",
    "    if len(set(profile_classes)) != 3:\n",
    "        if profile_classes[0] == profile_classes[1] or profile_classes[0] == profile_classes[2]:\n",
    "            profile_class = profile_classes[0]\n",
    "            tmp_tag = tags[0]\n",
    "            src_or_not = src_or_srcset(headshots[0])\n",
    "        else:\n",
    "            profile_class = profile_classes[1]\n",
    "            tmp_tag = tags[1]\n",
    "            src_or_not = src_or_srcset(headshots[1])\n",
    "    else:\n",
    "        raise Exception(\"class names for profiles are different\")\n",
    "\n",
    "    # find the position of name and title in the tmp_tag (from 1 of parents of headshots)\n",
    "    name_pos = find_name_pos(tmp_tag)\n",
    "    title_pos = find_title_pos(tmp_tag)\n",
    "\n",
    "    \n",
    "    # get all profiles\n",
    "    profs = soup.find_all(attrs = {'class':profile_class})\n",
    "    items = []\n",
    "    # get info for each profile\n",
    "    for p in profs:\n",
    "        name = find_by_pos(p, name_pos)\n",
    "        title = find_by_pos(p, title_pos)\n",
    "        img = find_img(p, src_or_not)\n",
    "        item = {'name': name, 'title': title, 'img':img}\n",
    "        items.append(item)\n",
    "    return items"
   ]
  },
  {
   "cell_type": "markdown",
   "id": "8af61f11",
   "metadata": {},
   "source": [
    "## Testing"
   ]
  },
  {
   "cell_type": "markdown",
   "id": "b6fc098c",
   "metadata": {},
   "source": [
    "### Stats"
   ]
  },
  {
   "cell_type": "code",
   "execution_count": 269,
   "id": "e4324a5a",
   "metadata": {},
   "outputs": [],
   "source": [
    "c_stats = get_department_info(\"https://stat.columbia.edu/department-directory/faculty-and-lecturers/\")"
   ]
  },
  {
   "cell_type": "code",
   "execution_count": 270,
   "id": "c8c7827d",
   "metadata": {},
   "outputs": [
    {
     "data": {
      "text/plain": [
       "[{'name': 'David Blei',\n",
       "  'title': 'Professor',\n",
       "  'img': 'https://stat.columbia.edu/wp-content/uploads/connections-images/david-blei/Blei-David-1.jpg'},\n",
       " {'name': 'John P. Cunningham',\n",
       "  'title': 'Professor',\n",
       "  'img': 'https://stat.columbia.edu/wp-content/uploads/connections-images/john-cunningham/cunningham_original.jpg'}]"
      ]
     },
     "execution_count": 270,
     "metadata": {},
     "output_type": "execute_result"
    }
   ],
   "source": [
    "c_stats[:2]"
   ]
  },
  {
   "cell_type": "code",
   "execution_count": 261,
   "id": "46077774",
   "metadata": {},
   "outputs": [],
   "source": [
    "penn_stats = get_department_info(\"https://statistics.wharton.upenn.edu/faculty/faculty-list/\")"
   ]
  },
  {
   "cell_type": "code",
   "execution_count": 262,
   "id": "1e10be60",
   "metadata": {},
   "outputs": [
    {
     "data": {
      "text/plain": [
       "[{'name': 'Bhaswar B. Bhattacharya',\n",
       "  'title': 'Assistant Professor of Statistics and Data Science',\n",
       "  'img': 'https://faculty.wharton.upenn.edu/wp-content/uploads/2016/09/Bhaswar_Homepage_Cropped.jpg'},\n",
       " {'name': 'Tony Cai',\n",
       "  'title': 'Daniel H. Silberberg Professor in Applied Mathematics and Statistics, Professor of Statistics and Data Science',\n",
       "  'img': 'https://faculty.wharton.upenn.edu/wp-content/uploads/2016/11/Tony_Cai_Crop7.jpg'}]"
      ]
     },
     "execution_count": 262,
     "metadata": {},
     "output_type": "execute_result"
    }
   ],
   "source": [
    "penn_stats[:2]"
   ]
  },
  {
   "cell_type": "code",
   "execution_count": 178,
   "id": "bb14de8a",
   "metadata": {},
   "outputs": [],
   "source": [
    "h_stats = get_department_info(\"https://statistics.fas.harvard.edu/faculty\")"
   ]
  },
  {
   "cell_type": "code",
   "execution_count": 179,
   "id": "3a9fc671",
   "metadata": {},
   "outputs": [
    {
     "data": {
      "text/plain": [
       "[{'name': 'Morgane Austern',\n",
       "  'title': 'Assistant Professor',\n",
       "  'img': '//static.hwpi.harvard.edu/files/styles/profile_thumbnail/public/statistics-2/files/img-20210401-wa0022.jpg?m=1647356154&itok=X-5OHRTO'},\n",
       " {'name': 'Joseph K. Blitzstein',\n",
       "  'title': 'Professor of the Practice in Statistics,',\n",
       "  'img': '//static.hwpi.harvard.edu/files/styles/profile_thumbnail/public/statistics-2/files/blitzstein_1_0.jpg?m=1629481923&itok=K83gCeQ4'}]"
      ]
     },
     "execution_count": 179,
     "metadata": {},
     "output_type": "execute_result"
    }
   ],
   "source": [
    "h_stats[:2]"
   ]
  },
  {
   "cell_type": "code",
   "execution_count": 180,
   "id": "863ed9b8",
   "metadata": {},
   "outputs": [],
   "source": [
    "y_stats = get_department_info(\"https://statistics.yale.edu/people\")"
   ]
  },
  {
   "cell_type": "code",
   "execution_count": 181,
   "id": "7dbc380b",
   "metadata": {},
   "outputs": [
    {
     "data": {
      "text/plain": [
       "[{'name': 'Andrew Barron',\n",
       "  'title': 'Charles C. and Dorothea S. Dilley Professor of Statistics & Data Science',\n",
       "  'img': 'https://statistics.yale.edu/sites/default/files/styles/people_user_image/public/pictures/picture-15-1362597227.jpg?itok=sPNt5_6y'},\n",
       " {'name': 'Elisa Celis',\n",
       "  'title': 'Assistant Professor of Statistics & Data Science',\n",
       "  'img': 'https://statistics.yale.edu/sites/default/files/styles/people_user_image/public/pictures/picture-1274-1563890739.jpg?itok=9WAMwA7S'}]"
      ]
     },
     "execution_count": 181,
     "metadata": {},
     "output_type": "execute_result"
    }
   ],
   "source": [
    "y_stats[:2]"
   ]
  },
  {
   "cell_type": "code",
   "execution_count": 182,
   "id": "4b4d730f",
   "metadata": {},
   "outputs": [],
   "source": [
    "b_stats = get_department_info(\"https://www.brown.edu/academics/public-health/biostats/people/faculty\")"
   ]
  },
  {
   "cell_type": "code",
   "execution_count": 183,
   "id": "be1477ce",
   "metadata": {},
   "outputs": [
    {
     "data": {
      "text/plain": [
       "[{'name': 'Alyssa Bilinski, Ph.D.',\n",
       "  'title': 'Peterson Family Assistant Professor of Health Policy, Assistant Professor of Health Services, Policy and Practice and Biostatistics',\n",
       "  'img': 'https://www.brown.edu/academics/public-health/biostats/sites/biostats/files/images/people/abilinsk_photo_.jpg'},\n",
       " {'name': 'Stavroula  Chrysanthopoulou, Ph.D.',\n",
       "  'title': \"Assistant Professor of Biostatistics, Director of the Master's Graduate Program in Biostatistics\",\n",
       "  'img': 'https://www.brown.edu/academics/public-health/biostats/sites/biostats/files/images/people/schrysan_photo_%20%281%29.jpg'}]"
      ]
     },
     "execution_count": 183,
     "metadata": {},
     "output_type": "execute_result"
    }
   ],
   "source": [
    "b_stats[:2]"
   ]
  },
  {
   "cell_type": "code",
   "execution_count": 184,
   "id": "10587ad5",
   "metadata": {},
   "outputs": [
    {
     "ename": "Exception",
     "evalue": "class names for profiles are different",
     "output_type": "error",
     "traceback": [
      "\u001b[1;31m---------------------------------------------------------------------------\u001b[0m",
      "\u001b[1;31mException\u001b[0m                                 Traceback (most recent call last)",
      "\u001b[1;32mC:\\Users\\GUOSHE~1\\AppData\\Local\\Temp/ipykernel_8536/3348871283.py\u001b[0m in \u001b[0;36m<module>\u001b[1;34m\u001b[0m\n\u001b[1;32m----> 1\u001b[1;33m \u001b[0mcornell_stats\u001b[0m \u001b[1;33m=\u001b[0m \u001b[0mget_department_info\u001b[0m\u001b[1;33m(\u001b[0m\u001b[1;34m\"https://stat.cornell.edu/people/faculty\"\u001b[0m\u001b[1;33m)\u001b[0m\u001b[1;33m\u001b[0m\u001b[1;33m\u001b[0m\u001b[0m\n\u001b[0m",
      "\u001b[1;32mC:\\Users\\GUOSHE~1\\AppData\\Local\\Temp/ipykernel_8536/2840944634.py\u001b[0m in \u001b[0;36mget_department_info\u001b[1;34m(URL)\u001b[0m\n\u001b[0;32m     24\u001b[0m             \u001b[0mtmp_tag\u001b[0m \u001b[1;33m=\u001b[0m \u001b[0mtags\u001b[0m\u001b[1;33m[\u001b[0m\u001b[1;36m1\u001b[0m\u001b[1;33m]\u001b[0m\u001b[1;33m\u001b[0m\u001b[1;33m\u001b[0m\u001b[0m\n\u001b[0;32m     25\u001b[0m     \u001b[1;32melse\u001b[0m\u001b[1;33m:\u001b[0m\u001b[1;33m\u001b[0m\u001b[1;33m\u001b[0m\u001b[0m\n\u001b[1;32m---> 26\u001b[1;33m         \u001b[1;32mraise\u001b[0m \u001b[0mException\u001b[0m\u001b[1;33m(\u001b[0m\u001b[1;34m\"class names for profiles are different\"\u001b[0m\u001b[1;33m)\u001b[0m\u001b[1;33m\u001b[0m\u001b[1;33m\u001b[0m\u001b[0m\n\u001b[0m\u001b[0;32m     27\u001b[0m \u001b[1;33m\u001b[0m\u001b[0m\n\u001b[0;32m     28\u001b[0m     \u001b[0mname_pos\u001b[0m \u001b[1;33m=\u001b[0m \u001b[0mfind_name_pos\u001b[0m\u001b[1;33m(\u001b[0m\u001b[0mtmp_tag\u001b[0m\u001b[1;33m)\u001b[0m\u001b[1;33m\u001b[0m\u001b[1;33m\u001b[0m\u001b[0m\n",
      "\u001b[1;31mException\u001b[0m: class names for profiles are different"
     ]
    }
   ],
   "source": [
    "cornell_stats = get_department_info(\"https://stat.cornell.edu/people/faculty\")"
   ]
  },
  {
   "cell_type": "markdown",
   "id": "50cab5c1",
   "metadata": {},
   "source": [
    "## Math"
   ]
  },
  {
   "cell_type": "code",
   "execution_count": 253,
   "id": "4a433f3d",
   "metadata": {},
   "outputs": [],
   "source": [
    "c_math = get_department_info(\"https://www.math.columbia.edu/people/faculty-by-rank/\")"
   ]
  },
  {
   "cell_type": "code",
   "execution_count": 254,
   "id": "c3b5d18c",
   "metadata": {},
   "outputs": [
    {
     "data": {
      "text/plain": [
       "[{'name': 'New York',\n",
       "  'title': 'Professor',\n",
       "  'img': '//www.math.columbia.edu/department/website/wp-content/uploads/connections-images/mohammed-abouzaid/abouzaid_original-4f5f03379ff345dc53d8afd47027fbab.jpg'},\n",
       " {'name': 'New York',\n",
       "  'title': 'Associate Professor (w/ tenure)',\n",
       "  'img': '//www.math.columbia.edu/department/website/wp-content/uploads/connections-images/amol-aggarwal/AmolAggarwal-450732ed7d7b0ab496fe9e1e33b7ce46.jpg'}]"
      ]
     },
     "execution_count": 254,
     "metadata": {},
     "output_type": "execute_result"
    }
   ],
   "source": [
    "c_math[:2]\n",
    "# Doesn't work because the tag containing name is outside"
   ]
  },
  {
   "cell_type": "code",
   "execution_count": 271,
   "id": "22daa8af",
   "metadata": {},
   "outputs": [],
   "source": [
    "# only the standing faculty\n",
    "penn_math = get_department_info(\"https://www.math.upenn.edu/people/standing-faculty\")"
   ]
  },
  {
   "cell_type": "code",
   "execution_count": 272,
   "id": "e5c67577",
   "metadata": {},
   "outputs": [
    {
     "data": {
      "text/plain": [
       "[{'name': 'Jonathan  Block',\n",
       "  'title': 'Professor of Mathematics',\n",
       "  'img': 'https://www.math.upenn.edu/sites/default/files/styles/profile-thumb/public/Block_0.jpg?itok=8lsKofiB'},\n",
       " {'name': 'Eugenio  Calabi',\n",
       "  'title': None,\n",
       "  'img': '../sites/www.math.upenn.edu/themes/math/images/penn-shield.png'},\n",
       " {'name': 'Ching-Li  Chai',\n",
       "  'title': 'Professor of Mathematics',\n",
       "  'img': 'https://www.math.upenn.edu/sites/default/files/styles/profile-thumb/public/Chai.jpg?itok=tsPC4wGh'}]"
      ]
     },
     "execution_count": 272,
     "metadata": {},
     "output_type": "execute_result"
    }
   ],
   "source": [
    "penn_math[:3]"
   ]
  },
  {
   "cell_type": "code",
   "execution_count": 273,
   "id": "e4e1a6a4",
   "metadata": {},
   "outputs": [],
   "source": [
    "h_math = get_department_info(\"https://www.math.harvard.edu/people/\")"
   ]
  },
  {
   "cell_type": "code",
   "execution_count": 275,
   "id": "149cfb2b",
   "metadata": {},
   "outputs": [
    {
     "data": {
      "text/plain": [
       "[{'name': 'Alpöge, Levent',\n",
       "  'title': 'Junior Fellow',\n",
       "  'img': 'https://www.math.harvard.edu/wp-content/uploads/Levent_Alpoge.jpeg'},\n",
       " {'name': 'Antunes, Jonier',\n",
       "  'title': 'Lecturer',\n",
       "  'img': 'https://www.math.harvard.edu/wp-content/uploads/Jonier_Amaral_Antunes.jpeg'}]"
      ]
     },
     "execution_count": 275,
     "metadata": {},
     "output_type": "execute_result"
    }
   ],
   "source": [
    "h_math[:2]"
   ]
  },
  {
   "cell_type": "code",
   "execution_count": 276,
   "id": "f58a9b0e",
   "metadata": {},
   "outputs": [],
   "source": [
    "y_math = get_department_info(\"https://math.yale.edu/people/all-faculty\")"
   ]
  },
  {
   "cell_type": "code",
   "execution_count": 278,
   "id": "c2d79c61",
   "metadata": {},
   "outputs": [
    {
     "data": {
      "text/plain": [
       "[{'name': None, 'title': None, 'img': None},\n",
       " {'name': 'About', 'title': 'News', 'img': None},\n",
       " {'name': 'About', 'title': 'News', 'img': None},\n",
       " {'name': 'News', 'title': None, 'img': None},\n",
       " {'name': 'Employment', 'title': None, 'img': None},\n",
       " {'name': 'People', 'title': 'All Faculty', 'img': None},\n",
       " {'name': 'All Faculty', 'title': None, 'img': None},\n",
       " {'name': 'Gibbs Assistant Professors', 'title': None, 'img': None},\n",
       " {'name': 'Visitors & Other Researchers', 'title': None, 'img': None},\n",
       " {'name': 'Emeritus Faculty', 'title': None, 'img': None},\n",
       " {'name': 'Staff', 'title': None, 'img': None},\n",
       " {'name': 'Courses', 'title': None, 'img': None},\n",
       " {'name': 'Ph.D. Requirements', 'title': None, 'img': None},\n",
       " {'name': 'The Qualifying Exams', 'title': None, 'img': None},\n",
       " {'name': 'Undergraduate',\n",
       "  'title': 'First year student resources',\n",
       "  'img': None},\n",
       " {'name': 'First year student resources', 'title': None, 'img': None},\n",
       " {'name': 'Director of Undergraduate Studies', 'title': None, 'img': None},\n",
       " {'name': 'Calculus FAQ', 'title': None, 'img': None},\n",
       " {'name': 'Competition and Prizes', 'title': None, 'img': None},\n",
       " {'name': 'Math community', 'title': None, 'img': None},\n",
       " {'name': 'Math Community', 'title': 'DEI Statement', 'img': None},\n",
       " {'name': 'DEI Statement', 'title': None, 'img': None},\n",
       " {'name': 'SUMRY', 'title': None, 'img': None},\n",
       " {'name': 'Dimensions', 'title': None, 'img': None},\n",
       " {'name': 'DSAC - Applied Math', 'title': None, 'img': None},\n",
       " {'name': 'MMATHS', 'title': None, 'img': None},\n",
       " {'name': 'Yale Splash', 'title': None, 'img': None},\n",
       " {'name': None, 'title': None, 'img': None},\n",
       " {'name': None, 'title': None, 'img': None},\n",
       " {'name': 'Jeffrey Brock',\n",
       "  'title': 'Dean, School of Engineering & Applied Science; FAS Dean of Science; Zhao and Ji Professor of Mathematics',\n",
       "  'img': 'https://math.yale.edu/sites/default/files/styles/people_thumbnail/public/pictures/picture-886-1590976044.jpg?itok=wJR25f-W'},\n",
       " {'name': 'Igor Frenkel',\n",
       "  'title': 'Sol Goldman Family Professor of Mathematics',\n",
       "  'img': 'https://math.yale.edu/sites/default/files/styles/people_thumbnail/public/pictures/picture-236-1512662000.jpg?itok=yGZGsU6r'},\n",
       " {'name': 'Alexander Goncharov',\n",
       "  'title': 'Philip Schuyler Beebe Professor of Mathematics',\n",
       "  'img': 'https://math.yale.edu/sites/default/files/styles/people_thumbnail/public/pictures/picture-206-1524231611.jpg?itok=qqfxQUUT'},\n",
       " {'name': 'Richard Kenyon',\n",
       "  'title': 'Erastus L. DeForest Professor of Mathematics',\n",
       "  'img': 'https://math.yale.edu/sites/default/files/styles/people_thumbnail/public/pictures/picture-1408-1565277180.jpg?itok=KgZEIaGP'},\n",
       " {'name': 'Yair Minsky',\n",
       "  'title': 'Einar Hille Professor of Mathematics',\n",
       "  'img': 'https://math.yale.edu/sites/default/files/styles/people_thumbnail/public/pictures/picture-286-1512077508.jpg?itok=agFFE8ZQ'},\n",
       " {'name': 'Andrew Neitzke',\n",
       "  'title': 'Director of Undergraduate Studies and Professor of Mathematics',\n",
       "  'img': 'https://math.yale.edu/sites/default/files/styles/people_thumbnail/public/pictures/picture-1410-1563285633.jpg?itok=N9TzZDMy'},\n",
       " {'name': 'Nicholas Read',\n",
       "  'title': 'Henry Ford II Professor of Physics and Professor of Applied Physics and of Mathematics',\n",
       "  'img': 'https://math.yale.edu/sites/default/files/styles/people_thumbnail/public/pictures/picture-636-1512665064.jpg?itok=zFNGCvyH'},\n",
       " {'name': 'Wilhelm Schlag',\n",
       "  'title': 'Phillips Professor of Mathematics, Department Chair',\n",
       "  'img': 'https://math.yale.edu/sites/default/files/styles/people_thumbnail/public/pictures/picture-971-1626119480.jpg?itok=0RHONYpR'},\n",
       " {'name': 'Charles Smart',\n",
       "  'title': 'Professor of Mathematics',\n",
       "  'img': 'https://math.yale.edu/sites/default/files/styles/people_thumbnail/public/pictures/picture-1543-1625163484.jpg?itok=eJOCIrhd'},\n",
       " {'name': 'Van Vu',\n",
       "  'title': 'Percey F. Smith Professor of Mathematics and Professor of Statistics & Data Science',\n",
       "  'img': 'https://math.yale.edu/sites/default/files/styles/people_thumbnail/public/pictures/picture-306-1559583859.jpg?itok=Z3HQ_8Mm'},\n",
       " {'name': 'John Wettlaufer',\n",
       "  'title': 'A.M. Bateman Professor of Geophysics, Mathematics and Physics',\n",
       "  'img': 'https://math.yale.edu/sites/default/files/styles/people_thumbnail/public/pictures/picture-731-1512663218.jpg?itok=NtlCX2-P'},\n",
       " {'name': 'Junior Faculty',\n",
       "  'title': 'Junliang Shen',\n",
       "  'img': 'https://math.yale.edu/sites/default/files/styles/people_thumbnail/public/pictures/picture-1547-1625169980.jpg?itok=usC8i6kf'},\n",
       " {'name': 'Junliang Shen',\n",
       "  'title': 'Research Scientist',\n",
       "  'img': 'https://math.yale.edu/sites/default/files/styles/people_thumbnail/public/pictures/picture-1547-1625169980.jpg?itok=usC8i6kf'},\n",
       " {'name': 'Yariv Aizenbud',\n",
       "  'title': 'Gibbs Assistant Professor, Applied Mathematics',\n",
       "  'img': 'https://math.yale.edu/sites/default/files/styles/people_thumbnail/public/pictures/picture-1420-1565728087.png?itok=2cc6vinF'},\n",
       " {'name': 'Subhadip Dey',\n",
       "  'title': 'Gibbs Assistant Professor',\n",
       "  'img': 'https://math.yale.edu/sites/default/files/styles/people_thumbnail/public/pictures/picture-1485-1594140353.jpg?itok=ieERweBy'},\n",
       " {'name': 'Daniel Douglas',\n",
       "  'title': 'Gibbs Assistant Professor',\n",
       "  'img': 'https://math.yale.edu/sites/default/files/styles/people_thumbnail/public/pictures/picture-1504-1601442274.jpg?itok=NsSbCtop'},\n",
       " {'name': 'Abinand Gopal',\n",
       "  'title': 'Gibbs Assistant Professor, Applied Mathematics',\n",
       "  'img': 'https://math.yale.edu/sites/default/files/styles/people_thumbnail/public/pictures/picture-1559-1628016565.jpg?itok=VRmQoUTq'},\n",
       " {'name': 'Yakov Kononov',\n",
       "  'title': 'Gibbs Assistant Professor',\n",
       "  'img': 'https://math.yale.edu/sites/default/files/styles/people_thumbnail/public/pictures/picture-1553-1626785870.jpg?itok=8JtsPGi9'},\n",
       " {'name': 'Or Landesberg',\n",
       "  'title': 'Gibbs Assistant Professor',\n",
       "  'img': 'https://math.yale.edu/sites/default/files/styles/people_thumbnail/public/pictures/picture-1528-1631103515.jpg?itok=7c6JgsaC'},\n",
       " {'name': \"Kevin O'Neill\",\n",
       "  'title': 'Gibbs Assistant Professor, Applied Mathematics',\n",
       "  'img': 'https://math.yale.edu/sites/default/files/styles/people_thumbnail/public/pictures/picture-1531-1626376354.jpg?itok=5W7mr1oc'},\n",
       " {'name': 'Cosmin Pohoata',\n",
       "  'title': 'Gibbs Assistant Professor',\n",
       "  'img': 'https://math.yale.edu/sites/default/files/styles/people_thumbnail/public/pictures/picture-1484-1593728200.jpg?itok=IpJVuS9C'},\n",
       " {'name': 'Jay Stanley',\n",
       "  'title': 'Postdoctoral Associate, Applied Mathematics',\n",
       "  'img': 'https://math.yale.edu/sites/default/files/styles/people_thumbnail/public/pictures/picture-1479-1629826520.jpg?itok=MUiDu8tV'},\n",
       " {'name': 'Franco Vargas Pallete',\n",
       "  'title': 'Gibbs Assistant Professor',\n",
       "  'img': 'https://math.yale.edu/sites/default/files/styles/people_thumbnail/public/pictures/picture-1412-1565023931.jpg?itok=7D_lOU5Z'},\n",
       " {'name': 'Visitors',\n",
       "  'title': 'Gil Kalai',\n",
       "  'img': 'https://math.yale.edu/sites/default/files/styles/people_thumbnail/public/pictures/picture-516-1535459894.jpg?itok=qKb8oVoR'},\n",
       " {'name': 'Gil Kalai',\n",
       "  'title': 'Visiting Professor',\n",
       "  'img': 'https://math.yale.edu/sites/default/files/styles/people_thumbnail/public/pictures/picture-516-1535459894.jpg?itok=qKb8oVoR'},\n",
       " {'name': 'Jacques Peyriere',\n",
       "  'title': 'Visiting Professor',\n",
       "  'img': 'https://math.yale.edu/sites/default/files/styles/people_thumbnail/public/pictures/picture-1251-1565723915.jpg?itok=BD1VLtUw'},\n",
       " {'name': 'John Hall',\n",
       "  'title': 'Senior Lecturer in Mathematics',\n",
       "  'img': 'https://math.yale.edu/sites/default/files/styles/people_thumbnail/public/pictures/picture-486-1512663046.jpg?itok=aXNDAfMM'},\n",
       " {'name': 'Lecturers',\n",
       "  'title': 'Ian Adelstein',\n",
       "  'img': 'https://math.yale.edu/sites/default/files/styles/people_thumbnail/public/pictures/picture-356-1524599053.png?itok=fG0cpMJ_'},\n",
       " {'name': 'Ian Adelstein',\n",
       "  'title': 'Lecturer',\n",
       "  'img': 'https://math.yale.edu/sites/default/files/styles/people_thumbnail/public/pictures/picture-356-1524599053.png?itok=fG0cpMJ_'},\n",
       " {'name': 'Meghan Anderson',\n",
       "  'title': 'Lecturer',\n",
       "  'img': 'https://math.yale.edu/sites/default/files/styles/people_thumbnail/public/pictures/picture-1545-1629821920.jpg?itok=PUcOFMeT'},\n",
       " {'name': 'Patrick Devlin',\n",
       "  'title': 'Lecturer',\n",
       "  'img': 'https://math.yale.edu/sites/default/files/styles/people_thumbnail/public/pictures/picture-431-1512665512.png?itok=5N-GlI4Q'},\n",
       " {'name': 'Eric Geiger',\n",
       "  'title': 'Lecturer',\n",
       "  'img': 'https://math.yale.edu/sites/default/files/styles/people_thumbnail/public/pictures/picture-1565-1629822738.jpg?itok=l8Nu90Na'},\n",
       " {'name': 'Robert McDonald',\n",
       "  'title': 'Lecturer',\n",
       "  'img': 'https://math.yale.edu/sites/default/files/styles/people_thumbnail/public/pictures/picture-1414-1563289931.jpg?itok=FMP47dlA'},\n",
       " {'name': 'Richard Beals',\n",
       "  'title': 'Professor Emeritus of Mathematics',\n",
       "  'img': 'https://math.yale.edu/sites/default/files/styles/people_thumbnail/public/pictures/picture-386-1524233290.jpg?itok=uje5HRoH'},\n",
       " {'name': 'Howard Garland',\n",
       "  'title': 'Professor Emeritus of Mathematics',\n",
       "  'img': 'https://math.yale.edu/sites/default/files/styles/people_thumbnail/public/pictures/picture-456-1524234537.jpg?itok=Wc9nnbpB'},\n",
       " {'name': 'Gregory Margulis',\n",
       "  'title': 'Erastus L. DeForest Professor of Mathematics',\n",
       "  'img': 'https://math.yale.edu/sites/default/files/styles/people_thumbnail/public/pictures/picture-276-1512661168.jpg?itok=AaFEsFb-'},\n",
       " {'name': 'Gregg Zuckerman',\n",
       "  'title': 'Professor Emeritus of Mathematics',\n",
       "  'img': 'https://math.yale.edu/sites/default/files/styles/people_thumbnail/public/pictures/picture-326-1512660944.jpg?itok=R_yd-rH_'},\n",
       " {'name': 'Printer-friendly version',\n",
       "  'title': None,\n",
       "  'img': 'https://math.yale.edu/sites/all/modules/contrib/print/icons/print_icon.gif'},\n",
       " {'name': 'All Faculty', 'title': 'Ladder Faculty', 'img': None},\n",
       " {'name': None, 'title': None, 'img': None},\n",
       " {'name': 'Facebook', 'title': 'Twitter', 'img': None}]"
      ]
     },
     "execution_count": 278,
     "metadata": {},
     "output_type": "execute_result"
    }
   ],
   "source": [
    "y_math\n",
    "# Doesn't work because the class names are \"even\"/\"odd\""
   ]
  },
  {
   "cell_type": "code",
   "execution_count": 279,
   "id": "51d401d9",
   "metadata": {},
   "outputs": [
    {
     "ename": "IndexError",
     "evalue": "list index out of range",
     "output_type": "error",
     "traceback": [
      "\u001b[1;31m---------------------------------------------------------------------------\u001b[0m",
      "\u001b[1;31mIndexError\u001b[0m                                Traceback (most recent call last)",
      "\u001b[1;32mC:\\Users\\GUOSHE~1\\AppData\\Local\\Temp/ipykernel_8536/2050716488.py\u001b[0m in \u001b[0;36m<module>\u001b[1;34m\u001b[0m\n\u001b[1;32m----> 1\u001b[1;33m \u001b[0mb_math\u001b[0m \u001b[1;33m=\u001b[0m \u001b[0mget_department_info\u001b[0m\u001b[1;33m(\u001b[0m\u001b[1;34m\"https://www.brown.edu/academics/math/faculty\"\u001b[0m\u001b[1;33m)\u001b[0m\u001b[1;33m\u001b[0m\u001b[1;33m\u001b[0m\u001b[0m\n\u001b[0m",
      "\u001b[1;32mC:\\Users\\GUOSHE~1\\AppData\\Local\\Temp/ipykernel_8536/2252509136.py\u001b[0m in \u001b[0;36mget_department_info\u001b[1;34m(URL)\u001b[0m\n\u001b[0;32m      9\u001b[0m     \u001b[0msrc_or_not\u001b[0m \u001b[1;33m=\u001b[0m \u001b[1;32mNone\u001b[0m\u001b[1;33m\u001b[0m\u001b[1;33m\u001b[0m\u001b[0m\n\u001b[0;32m     10\u001b[0m     \u001b[1;32mfor\u001b[0m \u001b[0mheadshot\u001b[0m \u001b[1;32min\u001b[0m \u001b[0mheadshots\u001b[0m\u001b[1;33m:\u001b[0m\u001b[1;33m\u001b[0m\u001b[1;33m\u001b[0m\u001b[0m\n\u001b[1;32m---> 11\u001b[1;33m         \u001b[0mtag\u001b[0m\u001b[1;33m,\u001b[0m \u001b[0mprofile_c\u001b[0m \u001b[1;33m=\u001b[0m \u001b[0mfind_profile_class\u001b[0m\u001b[1;33m(\u001b[0m\u001b[0mheadshot\u001b[0m\u001b[1;33m)\u001b[0m\u001b[1;33m\u001b[0m\u001b[1;33m\u001b[0m\u001b[0m\n\u001b[0m\u001b[0;32m     12\u001b[0m         \u001b[0mprofile_classes\u001b[0m\u001b[1;33m.\u001b[0m\u001b[0mappend\u001b[0m\u001b[1;33m(\u001b[0m\u001b[0mprofile_c\u001b[0m\u001b[1;33m)\u001b[0m\u001b[1;33m\u001b[0m\u001b[1;33m\u001b[0m\u001b[0m\n\u001b[0;32m     13\u001b[0m         \u001b[0mtags\u001b[0m\u001b[1;33m.\u001b[0m\u001b[0mappend\u001b[0m\u001b[1;33m(\u001b[0m\u001b[0mtag\u001b[0m\u001b[1;33m)\u001b[0m\u001b[1;33m\u001b[0m\u001b[1;33m\u001b[0m\u001b[0m\n",
      "\u001b[1;32mC:\\Users\\GUOSHE~1\\AppData\\Local\\Temp/ipykernel_8536/832812511.py\u001b[0m in \u001b[0;36mfind_profile_class\u001b[1;34m(tag)\u001b[0m\n\u001b[0;32m      5\u001b[0m         \u001b[1;32mreturn\u001b[0m \u001b[0mtag\u001b[0m\u001b[1;33m,\u001b[0m \u001b[0mm\u001b[0m\u001b[1;33m[\u001b[0m\u001b[1;36m0\u001b[0m\u001b[1;33m]\u001b[0m\u001b[1;33m\u001b[0m\u001b[1;33m\u001b[0m\u001b[0m\n\u001b[0;32m      6\u001b[0m     \u001b[1;32melse\u001b[0m\u001b[1;33m:\u001b[0m\u001b[1;33m\u001b[0m\u001b[1;33m\u001b[0m\u001b[0m\n\u001b[1;32m----> 7\u001b[1;33m         \u001b[1;32mreturn\u001b[0m \u001b[0mfind_profile_class\u001b[0m\u001b[1;33m(\u001b[0m\u001b[0mtag\u001b[0m\u001b[1;33m.\u001b[0m\u001b[0mparent\u001b[0m\u001b[1;33m)\u001b[0m\u001b[1;33m\u001b[0m\u001b[1;33m\u001b[0m\u001b[0m\n\u001b[0m",
      "\u001b[1;32mC:\\Users\\GUOSHE~1\\AppData\\Local\\Temp/ipykernel_8536/832812511.py\u001b[0m in \u001b[0;36mfind_profile_class\u001b[1;34m(tag)\u001b[0m\n\u001b[0;32m      5\u001b[0m         \u001b[1;32mreturn\u001b[0m \u001b[0mtag\u001b[0m\u001b[1;33m,\u001b[0m \u001b[0mm\u001b[0m\u001b[1;33m[\u001b[0m\u001b[1;36m0\u001b[0m\u001b[1;33m]\u001b[0m\u001b[1;33m\u001b[0m\u001b[1;33m\u001b[0m\u001b[0m\n\u001b[0;32m      6\u001b[0m     \u001b[1;32melse\u001b[0m\u001b[1;33m:\u001b[0m\u001b[1;33m\u001b[0m\u001b[1;33m\u001b[0m\u001b[0m\n\u001b[1;32m----> 7\u001b[1;33m         \u001b[1;32mreturn\u001b[0m \u001b[0mfind_profile_class\u001b[0m\u001b[1;33m(\u001b[0m\u001b[0mtag\u001b[0m\u001b[1;33m.\u001b[0m\u001b[0mparent\u001b[0m\u001b[1;33m)\u001b[0m\u001b[1;33m\u001b[0m\u001b[1;33m\u001b[0m\u001b[0m\n\u001b[0m",
      "\u001b[1;32mC:\\Users\\GUOSHE~1\\AppData\\Local\\Temp/ipykernel_8536/832812511.py\u001b[0m in \u001b[0;36mfind_profile_class\u001b[1;34m(tag)\u001b[0m\n\u001b[0;32m      3\u001b[0m     \u001b[1;32mif\u001b[0m \u001b[0mre\u001b[0m\u001b[1;33m.\u001b[0m\u001b[0msearch\u001b[0m\u001b[1;33m(\u001b[0m\u001b[1;34mr'(Professor|Lecturer|Student|Director)'\u001b[0m\u001b[1;33m,\u001b[0m \u001b[0ms\u001b[0m\u001b[1;33m)\u001b[0m\u001b[1;33m:\u001b[0m\u001b[1;33m\u001b[0m\u001b[1;33m\u001b[0m\u001b[0m\n\u001b[0;32m      4\u001b[0m         \u001b[0mm\u001b[0m \u001b[1;33m=\u001b[0m \u001b[0mre\u001b[0m\u001b[1;33m.\u001b[0m\u001b[0mfindall\u001b[0m\u001b[1;33m(\u001b[0m\u001b[1;34mr'class=\"(.+?)\"'\u001b[0m\u001b[1;33m,\u001b[0m \u001b[0ms\u001b[0m\u001b[1;33m)\u001b[0m\u001b[1;33m\u001b[0m\u001b[1;33m\u001b[0m\u001b[0m\n\u001b[1;32m----> 5\u001b[1;33m         \u001b[1;32mreturn\u001b[0m \u001b[0mtag\u001b[0m\u001b[1;33m,\u001b[0m \u001b[0mm\u001b[0m\u001b[1;33m[\u001b[0m\u001b[1;36m0\u001b[0m\u001b[1;33m]\u001b[0m\u001b[1;33m\u001b[0m\u001b[1;33m\u001b[0m\u001b[0m\n\u001b[0m\u001b[0;32m      6\u001b[0m     \u001b[1;32melse\u001b[0m\u001b[1;33m:\u001b[0m\u001b[1;33m\u001b[0m\u001b[1;33m\u001b[0m\u001b[0m\n\u001b[0;32m      7\u001b[0m         \u001b[1;32mreturn\u001b[0m \u001b[0mfind_profile_class\u001b[0m\u001b[1;33m(\u001b[0m\u001b[0mtag\u001b[0m\u001b[1;33m.\u001b[0m\u001b[0mparent\u001b[0m\u001b[1;33m)\u001b[0m\u001b[1;33m\u001b[0m\u001b[1;33m\u001b[0m\u001b[0m\n",
      "\u001b[1;31mIndexError\u001b[0m: list index out of range"
     ]
    }
   ],
   "source": [
    "b_math = get_department_info(\"https://www.brown.edu/academics/math/faculty\")\n",
    "# doesn't have a class name for the profile"
   ]
  }
 ],
 "metadata": {
  "kernelspec": {
   "display_name": "Python 3 (ipykernel)",
   "language": "python",
   "name": "python3"
  },
  "language_info": {
   "codemirror_mode": {
    "name": "ipython",
    "version": 3
   },
   "file_extension": ".py",
   "mimetype": "text/x-python",
   "name": "python",
   "nbconvert_exporter": "python",
   "pygments_lexer": "ipython3",
   "version": "3.9.7"
  }
 },
 "nbformat": 4,
 "nbformat_minor": 5
}
