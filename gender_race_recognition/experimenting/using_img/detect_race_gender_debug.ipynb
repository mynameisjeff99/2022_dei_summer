{
 "cells": [
  {
   "cell_type": "markdown",
   "id": "bc2e37eb",
   "metadata": {},
   "source": [
    "https://github.com/serengil/deepface"
   ]
  },
  {
   "cell_type": "code",
   "execution_count": 1,
   "id": "4509bcc0",
   "metadata": {},
   "outputs": [],
   "source": [
    "import sys\n",
    "import json\n",
    "import time\n",
    "import numpy as np\n",
    "import cv2\n",
    "from urllib.request import Request, urlopen\n",
    "from deepface import DeepFace"
   ]
  },
  {
   "cell_type": "code",
   "execution_count": 8,
   "id": "26dd821a",
   "metadata": {},
   "outputs": [],
   "source": [
    "with open(sys.path[0] + '/../data/columbia_test_sans_processing_w_name_gender_race.json') as f:\n",
    "    columbia = json.load(f)"
   ]
  },
  {
   "cell_type": "code",
   "execution_count": 4,
   "id": "b993d152",
   "metadata": {},
   "outputs": [],
   "source": [
    "def get_img(url):\n",
    "    req = Request(url, headers={'User-Agent': 'Mozilla/5.0'})\n",
    "    webpage = urlopen(req).read()\n",
    "    arr = np.asarray(bytearray(webpage), dtype=np.uint8)\n",
    "    img = cv2.imdecode(arr, -1)\n",
    "    if len(img.shape) == 2:\n",
    "        img = cv2.merge((img,img,img))\n",
    "    # https://stackoverflow.com/questions/36872379/how-to-remove-4th-channel-from-png-images\n",
    "    elif len(img.shape) > 2 and img.shape[2] == 4:\n",
    "    #convert the image from RGBA2RGB\n",
    "        img = cv2.cvtColor(img, cv2.COLOR_BGRA2BGR)\n",
    "    return img"
   ]
  },
  {
   "cell_type": "code",
   "execution_count": 5,
   "id": "e0490296",
   "metadata": {},
   "outputs": [],
   "source": [
    "def detect_gender_race(img):\n",
    "    obj = DeepFace.analyze(img_path = img, actions = ['gender', 'race'])\n",
    "    gender = obj.get('gender')\n",
    "    race = obj.get('dominant_race')\n",
    "    return gender, race"
   ]
  },
  {
   "cell_type": "code",
   "execution_count": 5,
   "id": "e41146ca",
   "metadata": {
    "scrolled": true
   },
   "outputs": [
    {
     "ename": "NameError",
     "evalue": "name 'columbia' is not defined",
     "output_type": "error",
     "traceback": [
      "\u001b[1;31m---------------------------------------------------------------------------\u001b[0m",
      "\u001b[1;31mNameError\u001b[0m                                 Traceback (most recent call last)",
      "\u001b[1;32mC:\\Users\\GUOSHE~1\\AppData\\Local\\Temp/ipykernel_16156/2370147484.py\u001b[0m in \u001b[0;36m<module>\u001b[1;34m\u001b[0m\n\u001b[1;32m----> 1\u001b[1;33m \u001b[1;32mfor\u001b[0m \u001b[0mdepartment\u001b[0m \u001b[1;32min\u001b[0m \u001b[0mcolumbia\u001b[0m\u001b[1;33m:\u001b[0m\u001b[1;33m\u001b[0m\u001b[1;33m\u001b[0m\u001b[0m\n\u001b[0m\u001b[0;32m      2\u001b[0m     \u001b[0mprint\u001b[0m\u001b[1;33m(\u001b[0m\u001b[0mdepartment\u001b[0m\u001b[1;33m.\u001b[0m\u001b[0mget\u001b[0m\u001b[1;33m(\u001b[0m\u001b[1;34m'department'\u001b[0m\u001b[1;33m)\u001b[0m\u001b[1;33m)\u001b[0m\u001b[1;33m\u001b[0m\u001b[1;33m\u001b[0m\u001b[0m\n\u001b[0;32m      3\u001b[0m     \u001b[0mstart\u001b[0m \u001b[1;33m=\u001b[0m \u001b[0mtime\u001b[0m\u001b[1;33m.\u001b[0m\u001b[0mtime\u001b[0m\u001b[1;33m(\u001b[0m\u001b[1;33m)\u001b[0m\u001b[1;33m\u001b[0m\u001b[1;33m\u001b[0m\u001b[0m\n\u001b[0;32m      4\u001b[0m     \u001b[1;32mif\u001b[0m \u001b[0mdepartment\u001b[0m\u001b[1;33m.\u001b[0m\u001b[0mget\u001b[0m\u001b[1;33m(\u001b[0m\u001b[1;34m'profiles'\u001b[0m\u001b[1;33m)\u001b[0m \u001b[1;32mis\u001b[0m \u001b[1;32mnot\u001b[0m \u001b[1;32mNone\u001b[0m\u001b[1;33m:\u001b[0m\u001b[1;33m\u001b[0m\u001b[1;33m\u001b[0m\u001b[0m\n\u001b[0;32m      5\u001b[0m         \u001b[1;32mfor\u001b[0m \u001b[0mp\u001b[0m \u001b[1;32min\u001b[0m \u001b[0mdepartment\u001b[0m\u001b[1;33m.\u001b[0m\u001b[0mget\u001b[0m\u001b[1;33m(\u001b[0m\u001b[1;34m'profiles'\u001b[0m\u001b[1;33m)\u001b[0m\u001b[1;33m:\u001b[0m\u001b[1;33m\u001b[0m\u001b[1;33m\u001b[0m\u001b[0m\n",
      "\u001b[1;31mNameError\u001b[0m: name 'columbia' is not defined"
     ]
    }
   ],
   "source": [
    "for department in columbia:\n",
    "    print(department.get('department'))\n",
    "    start = time.time()\n",
    "    if department.get('profiles') is not None:\n",
    "        for p in department.get('profiles'):\n",
    "            img_url = p.get('img')\n",
    "            try:\n",
    "                img = get_img(img_url)\n",
    "                gender, race = detech_gender_race(img)\n",
    "                #obj = DeepFace.analyze(img_path = img, actions = ['gender', 'race'])\n",
    "                #gender = obj.get('gender')\n",
    "                #race = obj.get('dominant_race')\n",
    "                p.update({'gender_img':gender, 'race_img':race})\n",
    "            except:\n",
    "                p.update({'gender_img':None, 'race_img':None})\n",
    "                pass\n",
    "        end = time.time()\n",
    "        print(f'Time taken = {end-start:.1f} seconds for {len(department.get(\"profiles\"))} profiles')\n",
    "    else:\n",
    "        print(\"No profiles\")\n",
    "    print(\"____________________________________\")"
   ]
  },
  {
   "cell_type": "code",
   "execution_count": 11,
   "id": "8fd3be4b",
   "metadata": {},
   "outputs": [],
   "source": [
    "with open(sys.path[0] + '/../data/columbia_test_sans_processing_all.json', 'w') as f:\n",
    "    json.dump(columbia, f)"
   ]
  },
  {
   "cell_type": "code",
   "execution_count": 6,
   "id": "7d788048",
   "metadata": {},
   "outputs": [],
   "source": [
    "with open(sys.path[0] + '/../data/columbia_test_sans_processing_all.json') as f:\n",
    "    columbia = json.load(f)"
   ]
  },
  {
   "cell_type": "code",
   "execution_count": 13,
   "id": "25633f57",
   "metadata": {},
   "outputs": [
    {
     "name": "stdout",
     "output_type": "stream",
     "text": [
      "_____________________________\n",
      "0\n",
      "Man\n",
      "white\n",
      "_____________________________\n",
      "1\n",
      "Man\n",
      "black\n",
      "_____________________________\n",
      "2\n",
      "Man\n",
      "black\n",
      "_____________________________\n",
      "3\n",
      "Man\n",
      "white\n",
      "_____________________________\n",
      "5\n",
      "Man\n",
      "middle eastern\n",
      "_____________________________\n",
      "6\n",
      "Man\n",
      "latino hispanic\n",
      "_____________________________\n",
      "10\n",
      "Man\n",
      "white\n",
      "_____________________________\n",
      "11\n",
      "Man\n",
      "asian\n",
      "_____________________________\n",
      "12\n",
      "Man\n",
      "white\n",
      "_____________________________\n",
      "13\n",
      "None\n",
      "None\n",
      "_____________________________\n",
      "14\n",
      "Woman\n",
      "white\n",
      "_____________________________\n",
      "15\n",
      "None\n",
      "None\n",
      "_____________________________\n",
      "16\n",
      "Man\n",
      "white\n",
      "_____________________________\n",
      "17\n",
      "Man\n",
      "white\n",
      "_____________________________\n",
      "18\n",
      "Man\n",
      "white\n",
      "_____________________________\n",
      "21\n",
      "None\n",
      "None\n",
      "_____________________________\n",
      "22\n",
      "Woman\n",
      "white\n",
      "_____________________________\n",
      "23\n",
      "Man\n",
      "middle eastern\n",
      "_____________________________\n",
      "24\n",
      "Woman\n",
      "latino hispanic\n",
      "_____________________________\n",
      "25\n",
      "Man\n",
      "asian\n",
      "_____________________________\n",
      "28\n",
      "None\n",
      "None\n",
      "_____________________________\n",
      "29\n",
      "None\n",
      "None\n",
      "_____________________________\n",
      "30\n",
      "Man\n",
      "white\n",
      "_____________________________\n",
      "31\n",
      "Man\n",
      "white\n",
      "_____________________________\n",
      "32\n",
      "Woman\n",
      "white\n",
      "_____________________________\n",
      "33\n",
      "Man\n",
      "white\n",
      "_____________________________\n",
      "34\n",
      "Man\n",
      "middle eastern\n",
      "_____________________________\n",
      "36\n",
      "Man\n",
      "white\n",
      "_____________________________\n",
      "37\n",
      "None\n",
      "None\n",
      "_____________________________\n",
      "38\n",
      "Man\n",
      "black\n",
      "_____________________________\n",
      "39\n",
      "Man\n",
      "white\n",
      "_____________________________\n",
      "40\n",
      "None\n",
      "None\n",
      "_____________________________\n",
      "43\n",
      "Man\n",
      "latino hispanic\n",
      "_____________________________\n",
      "44\n",
      "Woman\n",
      "white\n",
      "_____________________________\n",
      "47\n",
      "Man\n",
      "middle eastern\n",
      "_____________________________\n",
      "48\n",
      "Woman\n",
      "white\n",
      "_____________________________\n",
      "49\n",
      "None\n",
      "None\n",
      "_____________________________\n",
      "50\n",
      "None\n",
      "None\n",
      "_____________________________\n",
      "52\n",
      "None\n",
      "None\n",
      "_____________________________\n",
      "53\n",
      "Man\n",
      "white\n",
      "_____________________________\n",
      "54\n",
      "None\n",
      "None\n",
      "_____________________________\n",
      "57\n",
      "Man\n",
      "asian\n",
      "_____________________________\n",
      "58\n",
      "None\n",
      "None\n",
      "_____________________________\n",
      "61\n",
      "Man\n",
      "black\n",
      "_____________________________\n",
      "62\n",
      "Woman\n",
      "asian\n",
      "_____________________________\n",
      "63\n",
      "None\n",
      "None\n",
      "_____________________________\n",
      "64\n",
      "None\n",
      "None\n",
      "_____________________________\n",
      "65\n",
      "Woman\n",
      "white\n",
      "_____________________________\n",
      "68\n",
      "Man\n",
      "white\n",
      "_____________________________\n",
      "69\n",
      "Man\n",
      "white\n",
      "_____________________________\n",
      "70\n",
      "Man\n",
      "latino hispanic\n",
      "_____________________________\n",
      "72\n",
      "Man\n",
      "white\n"
     ]
    }
   ],
   "source": [
    "i = 0\n",
    "for department in columbia:\n",
    "    if department.get('success') == True:\n",
    "        print(\"_____________________________\")\n",
    "        print(i)\n",
    "        print(department.get('profiles')[1].get('gender_img'))\n",
    "        print(department.get('profiles')[1].get('race_img'))\n",
    "    i += 1"
   ]
  },
  {
   "cell_type": "code",
   "execution_count": 32,
   "id": "c275765d",
   "metadata": {},
   "outputs": [
    {
     "name": "stderr",
     "output_type": "stream",
     "text": [
      "Action: race: 100%|██████████████████████████████████████████████████████████████████████| 2/2 [00:00<00:00,  2.64it/s]\n"
     ]
    },
    {
     "data": {
      "text/plain": [
       "('Man', 'white')"
      ]
     },
     "execution_count": 32,
     "metadata": {},
     "output_type": "execute_result"
    }
   ],
   "source": [
    "detect_gender_race(get_img(\"https://asit-prod-web1.cc.columbia.edu/econdept/wp-content/uploads/sites/41/2017/10/almond-1-300x300.png\"))"
   ]
  },
  {
   "cell_type": "markdown",
   "id": "18bba22d",
   "metadata": {},
   "source": [
    "https://anthropology.fas.harvard.edu/role/faculty"
   ]
  },
  {
   "cell_type": "code",
   "execution_count": 9,
   "id": "82c99c4e",
   "metadata": {},
   "outputs": [],
   "source": [
    "img = get_img('http://static.projects.iq.harvard.edu/files/styles/profile_thumbnail/public/anthropology/files/beck_photo.jpeg?m=1628802155&itok=GKJK3RZm')"
   ]
  },
  {
   "cell_type": "code",
   "execution_count": null,
   "id": "e1b5d207",
   "metadata": {},
   "outputs": [],
   "source": []
  }
 ],
 "metadata": {
  "kernelspec": {
   "display_name": "Python 3 (ipykernel)",
   "language": "python",
   "name": "python3"
  },
  "language_info": {
   "codemirror_mode": {
    "name": "ipython",
    "version": 3
   },
   "file_extension": ".py",
   "mimetype": "text/x-python",
   "name": "python",
   "nbconvert_exporter": "python",
   "pygments_lexer": "ipython3",
   "version": "3.9.7"
  }
 },
 "nbformat": 4,
 "nbformat_minor": 5
}
