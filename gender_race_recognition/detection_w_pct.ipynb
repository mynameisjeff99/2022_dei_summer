{
 "cells": [
  {
   "cell_type": "code",
   "execution_count": 13,
   "id": "e8a778c9",
   "metadata": {},
   "outputs": [],
   "source": [
    "import sys\n",
    "import json\n",
    "from urllib.request import Request, urlopen\n",
    "import pandas as pd\n",
    "import gender_guesser.detector as g_detector\n",
    "from ethnicolr import census_ln, pred_census_ln\n",
    "import numpy as np\n",
    "import cv2\n",
    "from deepface import DeepFace"
   ]
  },
  {
   "cell_type": "code",
   "execution_count": 3,
   "id": "a4b9cddf",
   "metadata": {},
   "outputs": [],
   "source": [
    "url = \"https://stat.columbia.edu/wp-content/uploads/connections-images/david-blei/Blei-David-1.jpg\"\n",
    "req = Request(url, headers={'User-Agent': 'Mozilla/5.0'})\n",
    "webpage = urlopen(req).read()\n",
    "arr = np.asarray(bytearray(webpage), dtype=np.uint8)\n",
    "img = cv2.imdecode(arr, -1)"
   ]
  },
  {
   "cell_type": "code",
   "execution_count": 5,
   "id": "bbb582b0",
   "metadata": {},
   "outputs": [
    {
     "name": "stderr",
     "output_type": "stream",
     "text": [
      "Action: race: 100%|██████████████████████████████████████████████████████████████████████| 2/2 [00:01<00:00,  1.25it/s]\n"
     ]
    }
   ],
   "source": [
    "obj = DeepFace.analyze(img_path=img, actions=['gender', 'race'])"
   ]
  },
  {
   "cell_type": "code",
   "execution_count": 61,
   "id": "deea7575",
   "metadata": {},
   "outputs": [],
   "source": [
    "race_img = obj.get('race')"
   ]
  },
  {
   "cell_type": "code",
   "execution_count": 62,
   "id": "8ed01590",
   "metadata": {},
   "outputs": [],
   "source": [
    "def format_race_img(dictionary):\n",
    "    new_dict = {}\n",
    "    new_dict['pcthispanic'] = dictionary.get('latino hispanic')\n",
    "    new_dict['pctwhite'] = max(dictionary.get('white'), dictionary.get('middle eastern'))\n",
    "    new_dict['pctapi'] = max(dictionary.get('asian'), dictionary.get('indian'))\n",
    "    new_dict['pctblack'] = dictionary.get('black')\n",
    "    return new_dict"
   ]
  },
  {
   "cell_type": "code",
   "execution_count": 63,
   "id": "394b60aa",
   "metadata": {},
   "outputs": [],
   "source": [
    "race_img = format_race_img(race_img)"
   ]
  },
  {
   "cell_type": "code",
   "execution_count": 64,
   "id": "005fdd3b",
   "metadata": {},
   "outputs": [
    {
     "data": {
      "text/plain": [
       "{'pcthispanic': 23.247361183166504,\n",
       " 'pctwhite': 54.6481728553772,\n",
       " 'pctapi': 1.218129973858595,\n",
       " 'pctblack': 0.11852119350805879}"
      ]
     },
     "execution_count": 64,
     "metadata": {},
     "output_type": "execute_result"
    }
   ],
   "source": [
    "race_img"
   ]
  },
  {
   "cell_type": "code",
   "execution_count": 10,
   "id": "1901520f",
   "metadata": {},
   "outputs": [],
   "source": [
    "name = [{'name': 'blei'}]\n",
    "name_df = pd.DataFrame(name)"
   ]
  },
  {
   "cell_type": "code",
   "execution_count": 57,
   "id": "02f26932",
   "metadata": {},
   "outputs": [],
   "source": [
    "race_name = census_ln(name_df, 'name')"
   ]
  },
  {
   "cell_type": "code",
   "execution_count": 58,
   "id": "8d30d0a0",
   "metadata": {},
   "outputs": [
    {
     "data": {
      "text/html": [
       "<div>\n",
       "<style scoped>\n",
       "    .dataframe tbody tr th:only-of-type {\n",
       "        vertical-align: middle;\n",
       "    }\n",
       "\n",
       "    .dataframe tbody tr th {\n",
       "        vertical-align: top;\n",
       "    }\n",
       "\n",
       "    .dataframe thead th {\n",
       "        text-align: right;\n",
       "    }\n",
       "</style>\n",
       "<table border=\"1\" class=\"dataframe\">\n",
       "  <thead>\n",
       "    <tr style=\"text-align: right;\">\n",
       "      <th></th>\n",
       "      <th>name</th>\n",
       "      <th>rowindex</th>\n",
       "      <th>pctwhite</th>\n",
       "      <th>pctblack</th>\n",
       "      <th>pctapi</th>\n",
       "      <th>pctaian</th>\n",
       "      <th>pct2prace</th>\n",
       "      <th>pcthispanic</th>\n",
       "    </tr>\n",
       "  </thead>\n",
       "  <tbody>\n",
       "    <tr>\n",
       "      <th>0</th>\n",
       "      <td>Blei</td>\n",
       "      <td>0</td>\n",
       "      <td>97.38</td>\n",
       "      <td>(S)</td>\n",
       "      <td>(S)</td>\n",
       "      <td>0.00</td>\n",
       "      <td>0.00</td>\n",
       "      <td>2.18</td>\n",
       "    </tr>\n",
       "  </tbody>\n",
       "</table>\n",
       "</div>"
      ],
      "text/plain": [
       "   name  rowindex pctwhite pctblack pctapi pctaian pct2prace pcthispanic\n",
       "0  Blei         0    97.38      (S)    (S)    0.00      0.00        2.18"
      ]
     },
     "execution_count": 58,
     "metadata": {},
     "output_type": "execute_result"
    }
   ],
   "source": [
    "race_name"
   ]
  },
  {
   "cell_type": "code",
   "execution_count": 55,
   "id": "3a68ec72",
   "metadata": {},
   "outputs": [],
   "source": [
    "def format_race_name(df):\n",
    "    new_dict = {}\n",
    "    df = df.loc[0, ['pctwhite', 'pctblack', 'pctapi', 'pcthispanic']]\n",
    "    df = df.replace(to_replace='(S)', value=0.0)\n",
    "    new_dict['pcthispanic'] = float(df.loc['pcthispanic'])\n",
    "    new_dict['pctwhite'] = float(df.loc['pctwhite'])\n",
    "    new_dict['pctapi'] = float(df.loc['pctapi'])\n",
    "    new_dict['pctblack'] = float(df.loc['pcthispanic'])\n",
    "    return new_dict"
   ]
  },
  {
   "cell_type": "code",
   "execution_count": 59,
   "id": "efadcc1b",
   "metadata": {},
   "outputs": [],
   "source": [
    "race_name = format_race_name(race_name)"
   ]
  },
  {
   "cell_type": "code",
   "execution_count": 60,
   "id": "e64f4f8e",
   "metadata": {},
   "outputs": [
    {
     "data": {
      "text/plain": [
       "{'pcthispanic': 2.18, 'pctwhite': 97.38, 'pctapi': 0.0, 'pctblack': 2.18}"
      ]
     },
     "execution_count": 60,
     "metadata": {},
     "output_type": "execute_result"
    }
   ],
   "source": [
    "race_name"
   ]
  }
 ],
 "metadata": {
  "kernelspec": {
   "display_name": "Python 3 (ipykernel)",
   "language": "python",
   "name": "python3"
  },
  "language_info": {
   "codemirror_mode": {
    "name": "ipython",
    "version": 3
   },
   "file_extension": ".py",
   "mimetype": "text/x-python",
   "name": "python",
   "nbconvert_exporter": "python",
   "pygments_lexer": "ipython3",
   "version": "3.9.7"
  }
 },
 "nbformat": 4,
 "nbformat_minor": 5
}
