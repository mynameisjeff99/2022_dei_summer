{
 "cells": [
  {
   "cell_type": "code",
   "execution_count": 12,
   "id": "c9d96549",
   "metadata": {},
   "outputs": [],
   "source": [
    "import sys\n",
    "import json\n",
    "import gender_guesser.detector as gender"
   ]
  },
  {
   "cell_type": "code",
   "execution_count": 9,
   "id": "731fbb8f",
   "metadata": {},
   "outputs": [],
   "source": [
    "with open(sys.path[0] + '/../data/columbia_test_sans_processing_name.json') as f:\n",
    "    columbia = json.load(f)"
   ]
  },
  {
   "cell_type": "code",
   "execution_count": 10,
   "id": "d6b98c5f",
   "metadata": {},
   "outputs": [],
   "source": [
    "d = gender.Detector()"
   ]
  },
  {
   "cell_type": "code",
   "execution_count": 13,
   "id": "fc8fb42a",
   "metadata": {},
   "outputs": [],
   "source": [
    "def guess_gender(p, gender_detector):\n",
    "    fname = p.get('first_name')\n",
    "    gender = None\n",
    "    if fname is not None:\n",
    "        gender = gender_detector.get_gender(fname)\n",
    "    p.update({'gender': gender})"
   ]
  },
  {
   "cell_type": "code",
   "execution_count": 16,
   "id": "170a07dc",
   "metadata": {},
   "outputs": [],
   "source": [
    "for department in columbia:\n",
    "    if department.get('profiles') is not None:\n",
    "        for p in department.get('profiles'):\n",
    "            guess_gender(p, d)"
   ]
  },
  {
   "cell_type": "code",
   "execution_count": 19,
   "id": "c1351eff",
   "metadata": {},
   "outputs": [],
   "source": [
    "with open(sys.path[0] + '/../data/columbia_test_sans_processing_w_name_gender.json', 'w') as f:\n",
    "    json.dump(columbia, f)"
   ]
  }
 ],
 "metadata": {
  "kernelspec": {
   "display_name": "Python 3 (ipykernel)",
   "language": "python",
   "name": "python3"
  },
  "language_info": {
   "codemirror_mode": {
    "name": "ipython",
    "version": 3
   },
   "file_extension": ".py",
   "mimetype": "text/x-python",
   "name": "python",
   "nbconvert_exporter": "python",
   "pygments_lexer": "ipython3",
   "version": "3.9.7"
  }
 },
 "nbformat": 4,
 "nbformat_minor": 5
}
