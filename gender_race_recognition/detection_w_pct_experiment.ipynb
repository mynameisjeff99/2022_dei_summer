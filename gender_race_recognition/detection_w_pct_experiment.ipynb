{
 "cells": [
  {
   "cell_type": "code",
   "execution_count": 1,
   "id": "e8a778c9",
   "metadata": {},
   "outputs": [],
   "source": [
    "import sys\n",
    "import json\n",
    "from urllib.request import Request, urlopen\n",
    "import pandas as pd\n",
    "from census_name_guesser import CensusNameGuesser\n",
    "from ethnicolr import census_ln, pred_census_ln\n",
    "import numpy as np\n",
    "import cv2"
   ]
  },
  {
   "cell_type": "code",
   "execution_count": 2,
   "id": "e6e88f0d",
   "metadata": {},
   "outputs": [],
   "source": [
    "import deepface.DeepFace as DeepFace"
   ]
  },
  {
   "cell_type": "code",
   "execution_count": 3,
   "id": "46fdca48",
   "metadata": {},
   "outputs": [],
   "source": [
    "guesser = CensusNameGuesser()"
   ]
  },
  {
   "cell_type": "code",
   "execution_count": 4,
   "id": "0ce53072",
   "metadata": {},
   "outputs": [],
   "source": [
    "with open(sys.path[0] + '/../data/columbia/columbia_w_profiles_labeled.json') as f:\n",
    "    columbia = json.load(f)"
   ]
  },
  {
   "cell_type": "code",
   "execution_count": 5,
   "id": "9fba892f",
   "metadata": {},
   "outputs": [],
   "source": [
    "tmp_prof = columbia[0].get('profiles')[2]"
   ]
  },
  {
   "cell_type": "code",
   "execution_count": 6,
   "id": "166ff739",
   "metadata": {},
   "outputs": [
    {
     "data": {
      "text/plain": [
       "{'name': 'Matthias Breuer',\n",
       " 'title': 'Assistant Professor of Business',\n",
       " 'img': 'https://www8.gsb.columbia.edu/cbs-directory/photo/mb4468/110x90',\n",
       " 'rank': 'assistant professor',\n",
       " 'first_name': 'Matthias',\n",
       " 'middle_name': None,\n",
       " 'last_name': 'Breuer'}"
      ]
     },
     "execution_count": 6,
     "metadata": {},
     "output_type": "execute_result"
    }
   ],
   "source": [
    "tmp_prof"
   ]
  },
  {
   "cell_type": "markdown",
   "id": "55daf319",
   "metadata": {},
   "source": [
    "# Gender Race IMG"
   ]
  },
  {
   "cell_type": "code",
   "execution_count": 7,
   "id": "a4b9cddf",
   "metadata": {},
   "outputs": [],
   "source": [
    "url = tmp_prof['img']\n",
    "req = Request(url, headers={'User-Agent': 'Mozilla/5.0'})\n",
    "webpage = urlopen(req).read()\n",
    "arr = np.asarray(bytearray(webpage), dtype=np.uint8)\n",
    "img = cv2.imdecode(arr, -1)"
   ]
  },
  {
   "cell_type": "code",
   "execution_count": 8,
   "id": "bbb582b0",
   "metadata": {},
   "outputs": [
    {
     "name": "stderr",
     "output_type": "stream",
     "text": [
      "Action: race: 100%|██████████████████████████████████████████████████████████████████████| 2/2 [00:00<00:00,  2.26it/s]\n"
     ]
    }
   ],
   "source": [
    "obj = DeepFace.analyze(img_path=img, actions=['gender', 'race'])"
   ]
  },
  {
   "cell_type": "code",
   "execution_count": 9,
   "id": "accdcf71",
   "metadata": {},
   "outputs": [
    {
     "data": {
      "text/plain": [
       "{'gender': {'Woman': 0.031784133170731366, 'Man': 99.96821880340576},\n",
       " 'dominant_gender': 'Man',\n",
       " 'region': {'x': 21, 'y': 14, 'w': 55, 'h': 55},\n",
       " 'race': {'asian': 0.011072922575908755,\n",
       "  'indian': 0.0009576589607251095,\n",
       "  'black': 0.00011164505150806698,\n",
       "  'white': 99.25931687708598,\n",
       "  'middle eastern': 0.36109252656802693,\n",
       "  'latino hispanic': 0.3674512948066768},\n",
       " 'dominant_race': 'white'}"
      ]
     },
     "execution_count": 9,
     "metadata": {},
     "output_type": "execute_result"
    }
   ],
   "source": [
    "obj"
   ]
  },
  {
   "cell_type": "code",
   "execution_count": 14,
   "id": "deea7575",
   "metadata": {},
   "outputs": [],
   "source": [
    "race_img = obj.get('race')"
   ]
  },
  {
   "cell_type": "code",
   "execution_count": 15,
   "id": "8ed01590",
   "metadata": {},
   "outputs": [],
   "source": [
    "def format_race_img(dictionary):\n",
    "    new_dict = {}\n",
    "    new_dict['pctwhite'] = max(dictionary.get('white'), dictionary.get('middle eastern'))\n",
    "    new_dict['pctblack'] = dictionary.get('black')\n",
    "    new_dict['pctapi'] = max(dictionary.get('asian'), dictionary.get('indian'))\n",
    "    new_dict['pcthispanic'] = dictionary.get('latino hispanic')\n",
    "    return new_dict"
   ]
  },
  {
   "cell_type": "code",
   "execution_count": 16,
   "id": "394b60aa",
   "metadata": {},
   "outputs": [],
   "source": [
    "race_img = format_race_img(race_img)"
   ]
  },
  {
   "cell_type": "code",
   "execution_count": 17,
   "id": "005fdd3b",
   "metadata": {},
   "outputs": [
    {
     "data": {
      "text/plain": [
       "{'pctwhite': 99.25931687708598,\n",
       " 'pctblack': 0.00011164505150806698,\n",
       " 'pctapi': 0.011072922575908755,\n",
       " 'pcthispanic': 0.3674512948066768}"
      ]
     },
     "execution_count": 17,
     "metadata": {},
     "output_type": "execute_result"
    }
   ],
   "source": [
    "race_img"
   ]
  },
  {
   "cell_type": "code",
   "execution_count": 27,
   "id": "d82003c0",
   "metadata": {},
   "outputs": [],
   "source": [
    "gender_img = obj.get('gender')"
   ]
  },
  {
   "cell_type": "code",
   "execution_count": 28,
   "id": "6b410c2f",
   "metadata": {},
   "outputs": [
    {
     "data": {
      "text/plain": [
       "{'Woman': 0.031784133170731366, 'Man': 99.96821880340576}"
      ]
     },
     "execution_count": 28,
     "metadata": {},
     "output_type": "execute_result"
    }
   ],
   "source": [
    "gender_img"
   ]
  },
  {
   "cell_type": "code",
   "execution_count": 29,
   "id": "c89febae",
   "metadata": {},
   "outputs": [],
   "source": [
    "def format_gender_img(dictionary):\n",
    "    new_dict = {}\n",
    "    new_dict['pctmale'] = dictionary.get('Man')\n",
    "    new_dict['pctfemale'] = dictionary.get('Woman')\n",
    "    return new_dict"
   ]
  },
  {
   "cell_type": "code",
   "execution_count": 30,
   "id": "101c714b",
   "metadata": {},
   "outputs": [],
   "source": [
    "gender_img = format_gender_img(gender_img)"
   ]
  },
  {
   "cell_type": "code",
   "execution_count": 31,
   "id": "4993497e",
   "metadata": {},
   "outputs": [
    {
     "data": {
      "text/plain": [
       "{'pctmale': 99.96821880340576, 'pctfemale': 0.031784133170731366}"
      ]
     },
     "execution_count": 31,
     "metadata": {},
     "output_type": "execute_result"
    }
   ],
   "source": [
    "gender_img"
   ]
  },
  {
   "cell_type": "markdown",
   "id": "7c1b13a2",
   "metadata": {},
   "source": [
    "# Gender NAME"
   ]
  },
  {
   "cell_type": "code",
   "execution_count": 32,
   "id": "e9b6bc2b",
   "metadata": {},
   "outputs": [],
   "source": [
    "gender_name = guesser.gender_guesser(tmp_prof.get('first_name'))"
   ]
  },
  {
   "cell_type": "code",
   "execution_count": 33,
   "id": "231b50db",
   "metadata": {},
   "outputs": [
    {
     "data": {
      "text/plain": [
       "{'pctmale': 100.0, 'pctfemale': 0.0}"
      ]
     },
     "execution_count": 33,
     "metadata": {},
     "output_type": "execute_result"
    }
   ],
   "source": [
    "gender_name"
   ]
  },
  {
   "cell_type": "markdown",
   "id": "06ef15c9",
   "metadata": {},
   "source": [
    "# Race NAME"
   ]
  },
  {
   "cell_type": "code",
   "execution_count": 34,
   "id": "02f26932",
   "metadata": {},
   "outputs": [],
   "source": [
    "race_name = guesser.race_guesser(tmp_prof.get('last_name'))"
   ]
  },
  {
   "cell_type": "code",
   "execution_count": 35,
   "id": "defc49ad",
   "metadata": {},
   "outputs": [
    {
     "data": {
      "text/plain": [
       "{'pctwhite': 95.58927668184117,\n",
       " 'pctapi': 0.5665149215983815,\n",
       " 'pctblack': 1.274658573596358,\n",
       " 'pcthispanic': 2.0333839150227613,\n",
       " 'pctaian': 0.5361659079413252}"
      ]
     },
     "execution_count": 35,
     "metadata": {},
     "output_type": "execute_result"
    }
   ],
   "source": [
    "race_name"
   ]
  },
  {
   "cell_type": "code",
   "execution_count": 36,
   "id": "e5ba3d99",
   "metadata": {},
   "outputs": [
    {
     "name": "stdout",
     "output_type": "stream",
     "text": [
      "{'pctwhite': 99.25931687708598, 'pctblack': 0.00011164505150806698, 'pctapi': 0.011072922575908755, 'pcthispanic': 0.3674512948066768}\n",
      "{'pctwhite': 95.58927668184117, 'pctapi': 0.5665149215983815, 'pctblack': 1.274658573596358, 'pcthispanic': 2.0333839150227613, 'pctaian': 0.5361659079413252}\n",
      "{'pctmale': 99.96821880340576, 'pctfemale': 0.031784133170731366}\n",
      "{'pctmale': 100.0, 'pctfemale': 0.0}\n"
     ]
    }
   ],
   "source": [
    "print(race_img)\n",
    "print(race_name)\n",
    "print(gender_img)\n",
    "print(gender_name)"
   ]
  }
 ],
 "metadata": {
  "kernelspec": {
   "display_name": "Python 3 (ipykernel)",
   "language": "python",
   "name": "python3"
  },
  "language_info": {
   "codemirror_mode": {
    "name": "ipython",
    "version": 3
   },
   "file_extension": ".py",
   "mimetype": "text/x-python",
   "name": "python",
   "nbconvert_exporter": "python",
   "pygments_lexer": "ipython3",
   "version": "3.9.7"
  }
 },
 "nbformat": 4,
 "nbformat_minor": 5
}
