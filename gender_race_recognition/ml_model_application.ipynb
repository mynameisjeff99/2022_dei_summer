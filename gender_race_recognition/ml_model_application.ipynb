{
 "cells": [
  {
   "cell_type": "code",
   "execution_count": 521,
   "id": "f715b599",
   "metadata": {},
   "outputs": [],
   "source": [
    "import sys\n",
    "import json\n",
    "import numpy as np\n",
    "import pandas as pd\n",
    "import sklearn\n",
    "from sklearn.model_selection import train_test_split\n",
    "from sklearn.naive_bayes import MultinomialNB, GaussianNB\n",
    "from sklearn.linear_model import LogisticRegression\n",
    "import matplotlib.pyplot as plt\n",
    "import seaborn as sns\n",
    "sns.set(style=\"white\")"
   ]
  },
  {
   "cell_type": "code",
   "execution_count": 112,
   "id": "b31f8285",
   "metadata": {},
   "outputs": [],
   "source": [
    "def get_school_json(school):\n",
    "    with open(sys.path[0] + f'/../data/{school}/{school}_w_profiles_detected_pct.json', 'r') as f:\n",
    "        the_school = json.load(f)\n",
    "    return the_school"
   ]
  },
  {
   "cell_type": "code",
   "execution_count": 113,
   "id": "0828a5d3",
   "metadata": {},
   "outputs": [],
   "source": [
    "school_names = [\"columbia\", \"dartmouth\", \"yale\", \"princeton\", \"brown\", \"cornell\", \"upenn\", \"harvard\"]"
   ]
  },
  {
   "cell_type": "code",
   "execution_count": 114,
   "id": "133d77c2",
   "metadata": {},
   "outputs": [],
   "source": [
    "schools = {}\n",
    "for school in school_names:\n",
    "    schools[school] = get_school_json(school)"
   ]
  },
  {
   "cell_type": "code",
   "execution_count": 115,
   "id": "c02a6735",
   "metadata": {},
   "outputs": [],
   "source": [
    "def get_feature_val(pct_data, category, feature):\n",
    "    if pct_data.get(category) is None:\n",
    "        return None\n",
    "    else:\n",
    "        return pct_data.get(category).get(feature)"
   ]
  },
  {
   "cell_type": "code",
   "execution_count": 116,
   "id": "b6daa665",
   "metadata": {},
   "outputs": [],
   "source": [
    "# not including pctaian_name and pcthispanic_img\n",
    "# only has pctaian from name \n",
    "def get_profile(profile):\n",
    "    pct_data = profile.get('pct_data')\n",
    "    prof_dict = {'index': profile.get('index'), \n",
    "                 'pctmale_name': get_feature_val(pct_data, 'gender_pct_name', 'pctmale'),\n",
    "                 'pctmale_img': get_feature_val(pct_data, 'gender_pct_img', 'pctmale'),\n",
    "                 'pctwhite_name': get_feature_val(pct_data, 'race_pct_name', 'pctwhite'),\n",
    "                 'pctapi_name': get_feature_val(pct_data, 'race_pct_name', 'pctapi'),\n",
    "                 'pctblack_name': get_feature_val(pct_data, 'race_pct_name', 'pctblack'),\n",
    "                 'pcthispanic_name': get_feature_val(pct_data, 'race_pct_name', 'pcthispanic'),\n",
    "                 'pctwhite_img': get_feature_val(pct_data, 'race_pct_img', 'pctwhite'),\n",
    "                 'pctapi_img': get_feature_val(pct_data, 'race_pct_img', 'pctapi'),\n",
    "                 'pctblack_img': get_feature_val(pct_data, 'race_pct_img', 'pctblack')\n",
    "                }\n",
    "    if 'race_labeled' not in profile.keys() or profile['race_labeled'] == 'unknown' or profile['gender_labeled'] == 'unknown':\n",
    "        prof_dict['race_target'] = None\n",
    "        prof_dict['gender_target'] = None\n",
    "    else: \n",
    "        prof_dict['race_target'] = profile['race_labeled']\n",
    "        prof_dict['gender_target'] = profile['gender_labeled']\n",
    "    return prof_dict"
   ]
  },
  {
   "cell_type": "code",
   "execution_count": 117,
   "id": "0cbdf250",
   "metadata": {},
   "outputs": [],
   "source": [
    "profile_list = []\n",
    "index = 0\n",
    "for school in school_names:\n",
    "    the_school = schools[school]\n",
    "    for department in the_school:\n",
    "        profiles = department.get('profiles')\n",
    "        if profiles is not None:\n",
    "            for prof in profiles:\n",
    "                if prof.get('pct_data') is not None:\n",
    "                    prof['index'] = index\n",
    "                    profile_list.append(get_profile(prof))\n",
    "                    index += 1"
   ]
  },
  {
   "cell_type": "code",
   "execution_count": 669,
   "id": "5f36d320",
   "metadata": {},
   "outputs": [],
   "source": [
    "df = pd.DataFrame(profile_list).set_index('index')"
   ]
  },
  {
   "cell_type": "code",
   "execution_count": 670,
   "id": "493a1ecd",
   "metadata": {},
   "outputs": [],
   "source": [
    "df_labeled = df[pd.notnull(df['race_target'])]"
   ]
  },
  {
   "cell_type": "code",
   "execution_count": 671,
   "id": "56c0ad82",
   "metadata": {},
   "outputs": [
    {
     "data": {
      "text/html": [
       "<div>\n",
       "<style scoped>\n",
       "    .dataframe tbody tr th:only-of-type {\n",
       "        vertical-align: middle;\n",
       "    }\n",
       "\n",
       "    .dataframe tbody tr th {\n",
       "        vertical-align: top;\n",
       "    }\n",
       "\n",
       "    .dataframe thead th {\n",
       "        text-align: right;\n",
       "    }\n",
       "</style>\n",
       "<table border=\"1\" class=\"dataframe\">\n",
       "  <thead>\n",
       "    <tr style=\"text-align: right;\">\n",
       "      <th></th>\n",
       "      <th>pctmale_name</th>\n",
       "      <th>pctmale_img</th>\n",
       "      <th>pctwhite_name</th>\n",
       "      <th>pctapi_name</th>\n",
       "      <th>pctblack_name</th>\n",
       "      <th>pcthispanic_name</th>\n",
       "      <th>pctwhite_img</th>\n",
       "      <th>pctapi_img</th>\n",
       "      <th>pctblack_img</th>\n",
       "      <th>race_target</th>\n",
       "      <th>gender_target</th>\n",
       "    </tr>\n",
       "    <tr>\n",
       "      <th>index</th>\n",
       "      <th></th>\n",
       "      <th></th>\n",
       "      <th></th>\n",
       "      <th></th>\n",
       "      <th></th>\n",
       "      <th></th>\n",
       "      <th></th>\n",
       "      <th></th>\n",
       "      <th></th>\n",
       "      <th></th>\n",
       "      <th></th>\n",
       "    </tr>\n",
       "  </thead>\n",
       "  <tbody>\n",
       "    <tr>\n",
       "      <th>25</th>\n",
       "      <td>0.693669</td>\n",
       "      <td>2.205466</td>\n",
       "      <td>56.663244</td>\n",
       "      <td>0.451745</td>\n",
       "      <td>39.507187</td>\n",
       "      <td>2.351129</td>\n",
       "      <td>2.345702e+01</td>\n",
       "      <td>9.543050e+00</td>\n",
       "      <td>3.892100e+00</td>\n",
       "      <td>black</td>\n",
       "      <td>female</td>\n",
       "    </tr>\n",
       "    <tr>\n",
       "      <th>26</th>\n",
       "      <td>0.297202</td>\n",
       "      <td>2.273915</td>\n",
       "      <td>69.002254</td>\n",
       "      <td>0.614628</td>\n",
       "      <td>26.623643</td>\n",
       "      <td>2.673632</td>\n",
       "      <td>2.654887e-01</td>\n",
       "      <td>5.819630e+00</td>\n",
       "      <td>8.356323e+01</td>\n",
       "      <td>black</td>\n",
       "      <td>female</td>\n",
       "    </tr>\n",
       "    <tr>\n",
       "      <th>28</th>\n",
       "      <td>99.585823</td>\n",
       "      <td>99.982530</td>\n",
       "      <td>71.926418</td>\n",
       "      <td>0.633623</td>\n",
       "      <td>23.444047</td>\n",
       "      <td>3.260092</td>\n",
       "      <td>6.411822e-01</td>\n",
       "      <td>9.179066e+00</td>\n",
       "      <td>7.697966e+01</td>\n",
       "      <td>black</td>\n",
       "      <td>male</td>\n",
       "    </tr>\n",
       "    <tr>\n",
       "      <th>29</th>\n",
       "      <td>1.715987</td>\n",
       "      <td>77.652425</td>\n",
       "      <td>65.271238</td>\n",
       "      <td>0.450358</td>\n",
       "      <td>31.535312</td>\n",
       "      <td>2.262027</td>\n",
       "      <td>2.276086e+00</td>\n",
       "      <td>2.741469e+01</td>\n",
       "      <td>4.634169e+01</td>\n",
       "      <td>black</td>\n",
       "      <td>female</td>\n",
       "    </tr>\n",
       "    <tr>\n",
       "      <th>30</th>\n",
       "      <td>99.497728</td>\n",
       "      <td>99.994028</td>\n",
       "      <td>NaN</td>\n",
       "      <td>NaN</td>\n",
       "      <td>NaN</td>\n",
       "      <td>NaN</td>\n",
       "      <td>1.250127e+00</td>\n",
       "      <td>2.718069e+01</td>\n",
       "      <td>5.629524e+01</td>\n",
       "      <td>black</td>\n",
       "      <td>male</td>\n",
       "    </tr>\n",
       "    <tr>\n",
       "      <th>...</th>\n",
       "      <td>...</td>\n",
       "      <td>...</td>\n",
       "      <td>...</td>\n",
       "      <td>...</td>\n",
       "      <td>...</td>\n",
       "      <td>...</td>\n",
       "      <td>...</td>\n",
       "      <td>...</td>\n",
       "      <td>...</td>\n",
       "      <td>...</td>\n",
       "      <td>...</td>\n",
       "    </tr>\n",
       "    <tr>\n",
       "      <th>12980</th>\n",
       "      <td>99.486973</td>\n",
       "      <td>99.997878</td>\n",
       "      <td>93.074820</td>\n",
       "      <td>3.118356</td>\n",
       "      <td>1.417434</td>\n",
       "      <td>1.873038</td>\n",
       "      <td>9.981297e+01</td>\n",
       "      <td>1.400021e-05</td>\n",
       "      <td>8.189770e-08</td>\n",
       "      <td>white</td>\n",
       "      <td>male</td>\n",
       "    </tr>\n",
       "    <tr>\n",
       "      <th>12983</th>\n",
       "      <td>0.081542</td>\n",
       "      <td>53.714746</td>\n",
       "      <td>94.779970</td>\n",
       "      <td>0.677795</td>\n",
       "      <td>2.225594</td>\n",
       "      <td>2.134547</td>\n",
       "      <td>9.495648e+01</td>\n",
       "      <td>2.924023e-02</td>\n",
       "      <td>7.272754e-04</td>\n",
       "      <td>white</td>\n",
       "      <td>female</td>\n",
       "    </tr>\n",
       "    <tr>\n",
       "      <th>13011</th>\n",
       "      <td>99.933027</td>\n",
       "      <td>99.999976</td>\n",
       "      <td>42.826221</td>\n",
       "      <td>0.432900</td>\n",
       "      <td>52.927231</td>\n",
       "      <td>3.019996</td>\n",
       "      <td>7.820126e+01</td>\n",
       "      <td>5.652465e+00</td>\n",
       "      <td>6.782344e-01</td>\n",
       "      <td>black</td>\n",
       "      <td>male</td>\n",
       "    </tr>\n",
       "    <tr>\n",
       "      <th>13060</th>\n",
       "      <td>99.697826</td>\n",
       "      <td>99.986029</td>\n",
       "      <td>59.198524</td>\n",
       "      <td>0.399713</td>\n",
       "      <td>37.696013</td>\n",
       "      <td>2.121554</td>\n",
       "      <td>8.512112e+00</td>\n",
       "      <td>3.928203e+01</td>\n",
       "      <td>2.342090e+01</td>\n",
       "      <td>black</td>\n",
       "      <td>male</td>\n",
       "    </tr>\n",
       "    <tr>\n",
       "      <th>13086</th>\n",
       "      <td>0.334032</td>\n",
       "      <td>55.263716</td>\n",
       "      <td>NaN</td>\n",
       "      <td>NaN</td>\n",
       "      <td>NaN</td>\n",
       "      <td>NaN</td>\n",
       "      <td>1.534837e-22</td>\n",
       "      <td>5.108224e-13</td>\n",
       "      <td>1.000000e+02</td>\n",
       "      <td>black</td>\n",
       "      <td>female</td>\n",
       "    </tr>\n",
       "  </tbody>\n",
       "</table>\n",
       "<p>1059 rows × 11 columns</p>\n",
       "</div>"
      ],
      "text/plain": [
       "       pctmale_name  pctmale_img  pctwhite_name  pctapi_name  pctblack_name  \\\n",
       "index                                                                         \n",
       "25         0.693669     2.205466      56.663244     0.451745      39.507187   \n",
       "26         0.297202     2.273915      69.002254     0.614628      26.623643   \n",
       "28        99.585823    99.982530      71.926418     0.633623      23.444047   \n",
       "29         1.715987    77.652425      65.271238     0.450358      31.535312   \n",
       "30        99.497728    99.994028            NaN          NaN            NaN   \n",
       "...             ...          ...            ...          ...            ...   \n",
       "12980     99.486973    99.997878      93.074820     3.118356       1.417434   \n",
       "12983      0.081542    53.714746      94.779970     0.677795       2.225594   \n",
       "13011     99.933027    99.999976      42.826221     0.432900      52.927231   \n",
       "13060     99.697826    99.986029      59.198524     0.399713      37.696013   \n",
       "13086      0.334032    55.263716            NaN          NaN            NaN   \n",
       "\n",
       "       pcthispanic_name  pctwhite_img    pctapi_img  pctblack_img race_target  \\\n",
       "index                                                                           \n",
       "25             2.351129  2.345702e+01  9.543050e+00  3.892100e+00       black   \n",
       "26             2.673632  2.654887e-01  5.819630e+00  8.356323e+01       black   \n",
       "28             3.260092  6.411822e-01  9.179066e+00  7.697966e+01       black   \n",
       "29             2.262027  2.276086e+00  2.741469e+01  4.634169e+01       black   \n",
       "30                  NaN  1.250127e+00  2.718069e+01  5.629524e+01       black   \n",
       "...                 ...           ...           ...           ...         ...   \n",
       "12980          1.873038  9.981297e+01  1.400021e-05  8.189770e-08       white   \n",
       "12983          2.134547  9.495648e+01  2.924023e-02  7.272754e-04       white   \n",
       "13011          3.019996  7.820126e+01  5.652465e+00  6.782344e-01       black   \n",
       "13060          2.121554  8.512112e+00  3.928203e+01  2.342090e+01       black   \n",
       "13086               NaN  1.534837e-22  5.108224e-13  1.000000e+02       black   \n",
       "\n",
       "      gender_target  \n",
       "index                \n",
       "25           female  \n",
       "26           female  \n",
       "28             male  \n",
       "29           female  \n",
       "30             male  \n",
       "...             ...  \n",
       "12980          male  \n",
       "12983        female  \n",
       "13011          male  \n",
       "13060          male  \n",
       "13086        female  \n",
       "\n",
       "[1059 rows x 11 columns]"
      ]
     },
     "execution_count": 671,
     "metadata": {},
     "output_type": "execute_result"
    }
   ],
   "source": [
    "df_labeled"
   ]
  },
  {
   "cell_type": "markdown",
   "id": "ffcb3019",
   "metadata": {},
   "source": [
    "# Gender"
   ]
  },
  {
   "cell_type": "code",
   "execution_count": 552,
   "id": "8a2160c8",
   "metadata": {},
   "outputs": [],
   "source": [
    "df_labeled_gender = df_labeled.loc[:,['pctmale_name', 'pctmale_img', 'gender_target']]"
   ]
  },
  {
   "cell_type": "code",
   "execution_count": 553,
   "id": "703aa4d2",
   "metadata": {},
   "outputs": [],
   "source": [
    "df_labeled_gender = df_labeled_gender[pd.notnull(df_labeled_gender['pctmale_name']) & pd.notnull(df_labeled_gender['pctmale_img'])]"
   ]
  },
  {
   "cell_type": "code",
   "execution_count": 554,
   "id": "cb6dbb56",
   "metadata": {},
   "outputs": [
    {
     "name": "stdout",
     "output_type": "stream",
     "text": [
      "797\n"
     ]
    }
   ],
   "source": [
    "print(len(df_labeled_gender))"
   ]
  },
  {
   "cell_type": "code",
   "execution_count": 579,
   "id": "0f22248f",
   "metadata": {},
   "outputs": [],
   "source": [
    "X_gender = df_labeled_gender.iloc[:, 0:-1]"
   ]
  },
  {
   "cell_type": "code",
   "execution_count": 580,
   "id": "58439738",
   "metadata": {},
   "outputs": [],
   "source": [
    "y_gender = df_labeled_gender.iloc[:, -1]"
   ]
  },
  {
   "cell_type": "code",
   "execution_count": 581,
   "id": "dfbc5c7f",
   "metadata": {},
   "outputs": [],
   "source": [
    "X_train_gender, X_test_gender, y_train_gender, y_test_gender = train_test_split(\n",
    "    X_gender, y_gender, test_size=0.33, random_state=42)"
   ]
  },
  {
   "cell_type": "markdown",
   "id": "4d383f4e",
   "metadata": {},
   "source": [
    "## Multinomial Naive Bayes"
   ]
  },
  {
   "cell_type": "code",
   "execution_count": 582,
   "id": "d21414cc",
   "metadata": {},
   "outputs": [],
   "source": [
    "clf_gender_nb = MultinomialNB(fit_prior=False)\n",
    "clf_gender_nb.fit(X_train_gender, y_train_gender)\n",
    "y_pred_gender = clf_gender_nb.predict(X_test_gender)"
   ]
  },
  {
   "cell_type": "code",
   "execution_count": 583,
   "id": "ee80cde0",
   "metadata": {},
   "outputs": [
    {
     "data": {
      "text/plain": [
       "0.8863636363636364"
      ]
     },
     "execution_count": 583,
     "metadata": {},
     "output_type": "execute_result"
    }
   ],
   "source": [
    "sklearn.metrics.accuracy_score(y_test_gender, y_pred_gender)"
   ]
  },
  {
   "cell_type": "markdown",
   "id": "db460be3",
   "metadata": {},
   "source": [
    "## Logistic"
   ]
  },
  {
   "cell_type": "code",
   "execution_count": 584,
   "id": "ec73f289",
   "metadata": {},
   "outputs": [],
   "source": [
    "clf_gender_log = LogisticRegression(random_state=0)\n",
    "clf_gender_log.fit(X_train_gender, y_train_gender)\n",
    "y_pred_gender = clf_gender_log.predict(X_test_gender)"
   ]
  },
  {
   "cell_type": "code",
   "execution_count": 585,
   "id": "995140d7",
   "metadata": {},
   "outputs": [
    {
     "data": {
      "text/plain": [
       "0.9737335834896811"
      ]
     },
     "execution_count": 585,
     "metadata": {},
     "output_type": "execute_result"
    }
   ],
   "source": [
    "clf_gender_log.score(X_train_gender, y_train_gender)"
   ]
  },
  {
   "cell_type": "code",
   "execution_count": 586,
   "id": "f326b989",
   "metadata": {},
   "outputs": [
    {
     "data": {
      "text/plain": [
       "0.9810606060606061"
      ]
     },
     "execution_count": 586,
     "metadata": {},
     "output_type": "execute_result"
    }
   ],
   "source": [
    "# logistic produce better results\n",
    "sklearn.metrics.accuracy_score(y_test_gender, y_pred_gender)"
   ]
  },
  {
   "cell_type": "code",
   "execution_count": 588,
   "id": "2d032396",
   "metadata": {},
   "outputs": [
    {
     "data": {
      "image/png": "[encoded data removed]",
      "text/plain": [
       "<Figure size 1152x864 with 2 Axes>"
      ]
     },
     "metadata": {},
     "output_type": "display_data"
    }
   ],
   "source": [
    "y_gender_binary = [1 if i == 'male' else 0 for i in y_gender]\n",
    "# https://stackoverflow.com/questions/28256058/plotting-decision-boundary-of-logistic-regression\n",
    "xx, yy = np.mgrid[0:100:.1, 0:100:.1]\n",
    "grid = np.c_[xx.ravel(), yy.ravel()]\n",
    "probs = clf_gender_log.predict_proba(grid)[:, 1].reshape(xx.shape)\n",
    "\n",
    "f, ax = plt.subplots(figsize=(16, 12))\n",
    "contour = ax.contourf(xx, yy, probs, 25, cmap=\"RdBu\",\n",
    "                      vmin=0, vmax=1)\n",
    "\n",
    "ax_c = f.colorbar(contour)\n",
    "ax_c.set_label(\"$P(y = 1)$\")\n",
    "ax_c.set_ticks([0, .25, .5, .75, 1])\n",
    "\n",
    "ax.scatter(X_gender['pctmale_name'], X_gender['pctmale_img'], c=y_gender_binary, s=50,\n",
    "           cmap=\"RdBu\", vmin=-.2, vmax=1.2,\n",
    "           edgecolor=\"white\", linewidth=1)\n",
    "\n",
    "ax.set(aspect=\"equal\",\n",
    "       xlim=(-10, 110), ylim=(-10, 110),\n",
    "       xlabel=\"Name\", ylabel=\"Image\")\n",
    "plt.show()"
   ]
  },
  {
   "cell_type": "markdown",
   "id": "9225dfbc",
   "metadata": {},
   "source": [
    "## Partial"
   ]
  },
  {
   "cell_type": "code",
   "execution_count": 589,
   "id": "8777287e",
   "metadata": {},
   "outputs": [],
   "source": [
    "df_labeled_gender = df_labeled.loc[:,['pctmale_name', 'pctmale_img', 'gender_target']]\n",
    "df_gender_partial = df_labeled_gender[pd.isnull(df_labeled_gender['pctmale_name']) | pd.isnull(df_labeled_gender['pctmale_img'])]"
   ]
  },
  {
   "cell_type": "code",
   "execution_count": 590,
   "id": "22a386fa",
   "metadata": {},
   "outputs": [],
   "source": [
    "y_pred_gender_partial = []\n",
    "for i in df_gender_partial.index:\n",
    "    if pd.isnull(df_gender_partial.loc[i, 'pctmale_name']) and pd.isnull(df_gender_partial.loc[i, 'pctmale_img']):\n",
    "        y_pred_gender_partial.append('unknown')\n",
    "    elif pd.notnull(df_gender_partial.loc[i, 'pctmale_name']):\n",
    "        if df_gender_partial.loc[i, 'pctmale_name'] >= 50:\n",
    "            y_pred_gender_partial.append('male')\n",
    "        else:\n",
    "            y_pred_gender_partial.append('female')\n",
    "    else:\n",
    "        if df_gender_partial.loc[i, 'pctmale_img'] >= 50:\n",
    "            y_pred_gender_partial.append('male')\n",
    "        else:\n",
    "            y_pred_gender_partial.append('female')"
   ]
  },
  {
   "cell_type": "code",
   "execution_count": 593,
   "id": "e7f09aec",
   "metadata": {},
   "outputs": [
    {
     "name": "stdout",
     "output_type": "stream",
     "text": [
      "For fully detected data (264 for testing), the accuracy = 0.9810606060606061\n",
      "For partially detected data (252), the accuracy = 0.897\n"
     ]
    }
   ],
   "source": [
    "print(f'For fully detected data ({len(y_test_gender)} for testing), the accuracy = {sklearn.metrics.accuracy_score(y_test_gender, y_pred_gender)}')\n",
    "correct = 0\n",
    "num_unknown = 0\n",
    "for i in range(df_gender_partial.shape[0]):\n",
    "    if y_pred_gender_partial[i] == 'unknown':\n",
    "        num_unknown += 1\n",
    "    elif df_gender_partial.iloc[i, -1] == y_pred_gender_partial[i]:\n",
    "        correct += 1\n",
    "print(f'For partially detected data ({df_gender_partial.shape[0] - num_unknown}), the accuracy = {correct/(df_gender_partial.shape[0] - num_unknown):.3f}')"
   ]
  },
  {
   "cell_type": "markdown",
   "id": "b190e756",
   "metadata": {},
   "source": [
    "# Race"
   ]
  },
  {
   "cell_type": "code",
   "execution_count": 605,
   "id": "a238c772",
   "metadata": {},
   "outputs": [],
   "source": [
    "df_labeled_race = df_labeled.loc[:,['pctwhite_name', 'pctapi_name', 'pctblack_name', 'pcthispanic_name', 'pctwhite_img', 'pctapi_img', 'pctblack_img', 'race_target']]"
   ]
  },
  {
   "cell_type": "code",
   "execution_count": 606,
   "id": "f4e895d2",
   "metadata": {},
   "outputs": [],
   "source": [
    "df_labeled_race = df_labeled_race[pd.notnull(df_labeled_race['pctwhite_name']) & pd.notnull(df_labeled_race['pctwhite_img'])]"
   ]
  },
  {
   "cell_type": "code",
   "execution_count": 607,
   "id": "2da109df",
   "metadata": {},
   "outputs": [
    {
     "name": "stdout",
     "output_type": "stream",
     "text": [
      "786\n"
     ]
    }
   ],
   "source": [
    "print(len(df_labeled_race))"
   ]
  },
  {
   "cell_type": "code",
   "execution_count": 608,
   "id": "ba454622",
   "metadata": {},
   "outputs": [],
   "source": [
    "X_race = df_labeled_race.iloc[:, 0:-1]"
   ]
  },
  {
   "cell_type": "code",
   "execution_count": 609,
   "id": "f804d233",
   "metadata": {},
   "outputs": [],
   "source": [
    "y_race = df_labeled_race.iloc[:, -1]"
   ]
  },
  {
   "cell_type": "code",
   "execution_count": 610,
   "id": "dbe3e756",
   "metadata": {},
   "outputs": [],
   "source": [
    "X_train_race, X_test_race, y_train_race, y_test_race = train_test_split(\n",
    "    X_race, y_race, test_size=0.33, random_state=42)"
   ]
  },
  {
   "cell_type": "code",
   "execution_count": 611,
   "id": "610b053e",
   "metadata": {},
   "outputs": [],
   "source": [
    "clf_race = MultinomialNB(fit_prior=True)\n",
    "clf_race.fit(X_train_race, y_train_race)\n",
    "y_pred_race = clf_race.predict(X_test_race)"
   ]
  },
  {
   "cell_type": "code",
   "execution_count": 612,
   "id": "11ff4e70",
   "metadata": {},
   "outputs": [
    {
     "data": {
      "text/plain": [
       "0.9115384615384615"
      ]
     },
     "execution_count": 612,
     "metadata": {},
     "output_type": "execute_result"
    }
   ],
   "source": [
    "sklearn.metrics.accuracy_score(y_test_race, y_pred_race)"
   ]
  },
  {
   "cell_type": "markdown",
   "id": "d957896f",
   "metadata": {},
   "source": [
    "# Partial data"
   ]
  },
  {
   "cell_type": "code",
   "execution_count": 620,
   "id": "6ea4960c",
   "metadata": {},
   "outputs": [],
   "source": [
    "df_labeled_race = df_labeled.loc[:,['pctwhite_name', 'pctapi_name', 'pctblack_name', 'pcthispanic_name', 'pctwhite_img', 'pctapi_img', 'pctblack_img', 'race_target']]\n",
    "df_race_partial = df_labeled_race[pd.isnull(df_labeled_race['pctwhite_name']) | pd.isnull(df_labeled_race['pctwhite_img'])]"
   ]
  },
  {
   "cell_type": "code",
   "execution_count": 621,
   "id": "9237b3d8",
   "metadata": {},
   "outputs": [],
   "source": [
    "def get_category(s):\n",
    "    tmp = s.split('_')[0]\n",
    "    return tmp[3:]"
   ]
  },
  {
   "cell_type": "code",
   "execution_count": 626,
   "id": "8862643f",
   "metadata": {},
   "outputs": [
    {
     "name": "stdout",
     "output_type": "stream",
     "text": [
      "For fully detected data (260 for testing), the accuracy = 0.912\n",
      "For partially detected data (245), the accuracy = 0.751\n"
     ]
    }
   ],
   "source": [
    "y_pred_race_partial = []\n",
    "for i in range(df_race_partial.shape[0]):\n",
    "    if pd.isnull(df_race_partial.iloc[i, 0]) and pd.isnull(df_race_partial.iloc[i, 4]):\n",
    "        y_pred_race_partial.append('unknown')\n",
    "    # name\n",
    "    elif pd.notnull(df_race_partial.iloc[i, 0]):\n",
    "        tmp = df_race_partial.iloc[i, :4].astype('float64')\n",
    "        if 100 - sum(tmp) > tmp.max():\n",
    "            y_pred_race_partial.append('aian')\n",
    "        else:\n",
    "            s = tmp.idxmax()\n",
    "            y_pred_race_partial.append(get_category(s))\n",
    "    else:\n",
    "        tmp = df_race_partial.iloc[i, 4:7].astype('float64')\n",
    "        if 100 - sum(tmp) > tmp.max():\n",
    "            y_pred_race_partial.append('hispanic')\n",
    "        else:\n",
    "            s = tmp.idxmax()\n",
    "            y_pred_race_partial.append(get_category(s))\n",
    "\n",
    "print(f'For fully detected data ({len(y_test_race)} for testing), the accuracy = {sklearn.metrics.accuracy_score(y_test_race, y_pred_race):.3f}')\n",
    "num_unknown = 0\n",
    "correct = 0\n",
    "for i in range(df_race_partial.shape[0]):\n",
    "    if y_pred_race_partial[i] == 'unknown':\n",
    "        num_unknown += 1\n",
    "    elif df_race_partial.iloc[i, -1] == y_pred_race_partial[i]:\n",
    "        correct += 1\n",
    "print(f'For partially detected data ({df_race_partial.shape[0] - num_unknown}), the accuracy = {correct/(df_race_partial.shape[0] - num_unknown):.3f}')"
   ]
  },
  {
   "cell_type": "markdown",
   "id": "c5af5957",
   "metadata": {},
   "source": [
    "# Fit the model for all the data"
   ]
  },
  {
   "cell_type": "code",
   "execution_count": 627,
   "id": "51ba1469",
   "metadata": {},
   "outputs": [],
   "source": [
    "def detect_gender(row, clf):\n",
    "    if pd.notnull(row['gender_detected']):\n",
    "        return row['gender_detected']\n",
    "    elif pd.isnull(row['pctmale_name']) and pd.isnull(row['pctmale_img']):\n",
    "        return 'unknown'\n",
    "    elif pd.notnull(row['pctmale_name']) and pd.notnull(row['pctmale_img']):\n",
    "        return clf.predict(np.array(row.iloc[:2]).reshape(1, -1))[0]\n",
    "    elif pd.notnull(row['pctmale_name']):\n",
    "        if row['pctmale_name'] >= 50:\n",
    "            return 'male'\n",
    "        else:\n",
    "            return 'female'\n",
    "    else:\n",
    "        if row['pctmale_img'] >= 50:\n",
    "            return 'male'\n",
    "        else:\n",
    "            return 'female'"
   ]
  },
  {
   "cell_type": "code",
   "execution_count": 650,
   "id": "1807b7af",
   "metadata": {},
   "outputs": [],
   "source": [
    "def detect_race(row, clf):\n",
    "    if pd.notnull(row['race_detected']):\n",
    "        return row['race_detected']\n",
    "    elif pd.isnull(row['pctwhite_name']) and pd.isnull(row['pctwhite_img']):\n",
    "        return 'unknown'\n",
    "    elif pd.notnull(row['pctwhite_name']) and pd.notnull(row['pctwhite_img']):\n",
    "        return clf.predict(np.array(row.iloc[2:-2]).reshape(1, -1))[0]\n",
    "    elif pd.notnull(row['pctwhite_name']):\n",
    "        tmp = row.iloc[2:6].astype('float64')\n",
    "        if 100 - sum(tmp) > tmp.max():\n",
    "            return 'aian'\n",
    "        else:\n",
    "            s = tmp.idxmax()\n",
    "            return get_category(s)\n",
    "    else:\n",
    "        tmp = row.iloc[6:-2].astype('float64')\n",
    "        if 100 - sum(tmp) > tmp.max():\n",
    "            return 'hispanic'\n",
    "        else:\n",
    "            s = tmp.idxmax()\n",
    "            return get_category(s)"
   ]
  },
  {
   "cell_type": "code",
   "execution_count": 672,
   "id": "0f397ed2",
   "metadata": {},
   "outputs": [
    {
     "data": {
      "text/plain": [
       "LogisticRegression(random_state=0)"
      ]
     },
     "execution_count": 672,
     "metadata": {},
     "output_type": "execute_result"
    }
   ],
   "source": [
    "clf_gender = LogisticRegression(random_state=0)\n",
    "clf_gender.fit(X_gender, y_gender)"
   ]
  },
  {
   "cell_type": "code",
   "execution_count": 673,
   "id": "785dffec",
   "metadata": {},
   "outputs": [
    {
     "data": {
      "text/plain": [
       "MultinomialNB()"
      ]
     },
     "execution_count": 673,
     "metadata": {},
     "output_type": "execute_result"
    }
   ],
   "source": [
    "clf_race = MultinomialNB(fit_prior=True)\n",
    "clf_race.fit(X_race, y_race)"
   ]
  },
  {
   "cell_type": "code",
   "execution_count": 674,
   "id": "3ce5ff5e",
   "metadata": {},
   "outputs": [],
   "source": [
    "df = df.rename(columns = {'race_target' : 'race_detected', 'gender_target' : 'gender_detected'})"
   ]
  },
  {
   "cell_type": "code",
   "execution_count": 676,
   "id": "f4581aed",
   "metadata": {},
   "outputs": [],
   "source": [
    "for i in df.index:\n",
    "    df.iloc[i, -1] = detect_gender(df.iloc[i, :], clf_gender)"
   ]
  },
  {
   "cell_type": "code",
   "execution_count": 678,
   "id": "d4d574c9",
   "metadata": {},
   "outputs": [],
   "source": [
    "for i in df.index:\n",
    "    df.iloc[i, -2] = detect_race(df.iloc[i, :], clf_race)"
   ]
  },
  {
   "cell_type": "code",
   "execution_count": 679,
   "id": "51d2f729",
   "metadata": {},
   "outputs": [
    {
     "data": {
      "text/html": [
       "<div>\n",
       "<style scoped>\n",
       "    .dataframe tbody tr th:only-of-type {\n",
       "        vertical-align: middle;\n",
       "    }\n",
       "\n",
       "    .dataframe tbody tr th {\n",
       "        vertical-align: top;\n",
       "    }\n",
       "\n",
       "    .dataframe thead th {\n",
       "        text-align: right;\n",
       "    }\n",
       "</style>\n",
       "<table border=\"1\" class=\"dataframe\">\n",
       "  <thead>\n",
       "    <tr style=\"text-align: right;\">\n",
       "      <th></th>\n",
       "      <th>pctmale_name</th>\n",
       "      <th>pctmale_img</th>\n",
       "      <th>pctwhite_name</th>\n",
       "      <th>pctapi_name</th>\n",
       "      <th>pctblack_name</th>\n",
       "      <th>pcthispanic_name</th>\n",
       "      <th>pctwhite_img</th>\n",
       "      <th>pctapi_img</th>\n",
       "      <th>pctblack_img</th>\n",
       "      <th>race_detected</th>\n",
       "      <th>gender_detected</th>\n",
       "    </tr>\n",
       "    <tr>\n",
       "      <th>index</th>\n",
       "      <th></th>\n",
       "      <th></th>\n",
       "      <th></th>\n",
       "      <th></th>\n",
       "      <th></th>\n",
       "      <th></th>\n",
       "      <th></th>\n",
       "      <th></th>\n",
       "      <th></th>\n",
       "      <th></th>\n",
       "      <th></th>\n",
       "    </tr>\n",
       "  </thead>\n",
       "  <tbody>\n",
       "    <tr>\n",
       "      <th>0</th>\n",
       "      <td>99.774626</td>\n",
       "      <td>99.719268</td>\n",
       "      <td>NaN</td>\n",
       "      <td>NaN</td>\n",
       "      <td>NaN</td>\n",
       "      <td>NaN</td>\n",
       "      <td>95.945364</td>\n",
       "      <td>0.019835</td>\n",
       "      <td>0.000703</td>\n",
       "      <td>white</td>\n",
       "      <td>male</td>\n",
       "    </tr>\n",
       "    <tr>\n",
       "      <th>1</th>\n",
       "      <td>99.637479</td>\n",
       "      <td>99.966264</td>\n",
       "      <td>NaN</td>\n",
       "      <td>NaN</td>\n",
       "      <td>NaN</td>\n",
       "      <td>NaN</td>\n",
       "      <td>75.545019</td>\n",
       "      <td>0.492700</td>\n",
       "      <td>0.015279</td>\n",
       "      <td>white</td>\n",
       "      <td>male</td>\n",
       "    </tr>\n",
       "    <tr>\n",
       "      <th>2</th>\n",
       "      <td>100.000000</td>\n",
       "      <td>99.968219</td>\n",
       "      <td>95.589277</td>\n",
       "      <td>0.566515</td>\n",
       "      <td>1.274659</td>\n",
       "      <td>2.033384</td>\n",
       "      <td>99.259317</td>\n",
       "      <td>0.011073</td>\n",
       "      <td>0.000112</td>\n",
       "      <td>white</td>\n",
       "      <td>male</td>\n",
       "    </tr>\n",
       "    <tr>\n",
       "      <th>3</th>\n",
       "      <td>78.176796</td>\n",
       "      <td>0.019154</td>\n",
       "      <td>1.566952</td>\n",
       "      <td>97.507123</td>\n",
       "      <td>0.000000</td>\n",
       "      <td>0.925926</td>\n",
       "      <td>0.586976</td>\n",
       "      <td>99.370378</td>\n",
       "      <td>0.000010</td>\n",
       "      <td>api</td>\n",
       "      <td>female</td>\n",
       "    </tr>\n",
       "    <tr>\n",
       "      <th>4</th>\n",
       "      <td>99.585467</td>\n",
       "      <td>76.998234</td>\n",
       "      <td>53.906090</td>\n",
       "      <td>0.522862</td>\n",
       "      <td>42.782448</td>\n",
       "      <td>2.296494</td>\n",
       "      <td>40.101653</td>\n",
       "      <td>7.768338</td>\n",
       "      <td>1.107492</td>\n",
       "      <td>white</td>\n",
       "      <td>male</td>\n",
       "    </tr>\n",
       "  </tbody>\n",
       "</table>\n",
       "</div>"
      ],
      "text/plain": [
       "       pctmale_name  pctmale_img  pctwhite_name  pctapi_name  pctblack_name  \\\n",
       "index                                                                         \n",
       "0         99.774626    99.719268            NaN          NaN            NaN   \n",
       "1         99.637479    99.966264            NaN          NaN            NaN   \n",
       "2        100.000000    99.968219      95.589277     0.566515       1.274659   \n",
       "3         78.176796     0.019154       1.566952    97.507123       0.000000   \n",
       "4         99.585467    76.998234      53.906090     0.522862      42.782448   \n",
       "\n",
       "       pcthispanic_name  pctwhite_img  pctapi_img  pctblack_img race_detected  \\\n",
       "index                                                                           \n",
       "0                   NaN     95.945364    0.019835      0.000703         white   \n",
       "1                   NaN     75.545019    0.492700      0.015279         white   \n",
       "2              2.033384     99.259317    0.011073      0.000112         white   \n",
       "3              0.925926      0.586976   99.370378      0.000010           api   \n",
       "4              2.296494     40.101653    7.768338      1.107492         white   \n",
       "\n",
       "      gender_detected  \n",
       "index                  \n",
       "0                male  \n",
       "1                male  \n",
       "2                male  \n",
       "3              female  \n",
       "4                male  "
      ]
     },
     "execution_count": 679,
     "metadata": {},
     "output_type": "execute_result"
    }
   ],
   "source": [
    "df.head(5)"
   ]
  },
  {
   "cell_type": "markdown",
   "id": "0181b22f",
   "metadata": {},
   "source": [
    "# Update the results to the dictionary"
   ]
  },
  {
   "cell_type": "code",
   "execution_count": 683,
   "id": "06135717",
   "metadata": {},
   "outputs": [],
   "source": [
    "for school in school_names:\n",
    "    the_school = schools[school]\n",
    "    for department in the_school:\n",
    "        profiles = department.get('profiles')\n",
    "        if profiles is not None:\n",
    "            for prof in profiles:\n",
    "                index = prof.get('index')\n",
    "                if index is not None:\n",
    "                    prof.update({'race_detected': df.loc[index, 'race_detected'], \n",
    "                                 'gender_detected': df.loc[index, 'gender_detected']})\n",
    "                else:\n",
    "                    prof.update({'race_detected': 'unknown',\n",
    "                                'gender_detected': 'unknown'})"
   ]
  },
  {
   "cell_type": "code",
   "execution_count": 685,
   "id": "8c5a31f1",
   "metadata": {},
   "outputs": [
    {
     "data": {
      "text/plain": [
       "{'name': 'Tukufu Zuberi',\n",
       " 'title': 'Lasry Family Professor of Race Relations',\n",
       " 'img': 'https://africana.sas.upenn.edu/sites/default/files/styles/profile_wide/public/FLOzY7b4_0.jpg?itok=Ajp-x58X',\n",
       " 'rank': 'professor',\n",
       " 'first_name': 'Tukufu',\n",
       " 'middle_name': None,\n",
       " 'last_name': 'Zuberi',\n",
       " 'pct_data': {'race_pct_name': {'pctwhite': 12.575536570118777,\n",
       "   'pctapi': 77.24525942904774,\n",
       "   'pctblack': 8.678891435715775,\n",
       "   'pcthispanic': 1.500312565117733,\n",
       "   'pctaian': 0.0},\n",
       "  'gender_pct_name': None,\n",
       "  'race_pct_img': {'pctwhite': 2.9903251476193834e-14,\n",
       "   'pctblack': 100.0,\n",
       "   'pctapi': 1.4778410717397605e-07,\n",
       "   'pcthispanic': 1.9910757070862317e-09},\n",
       "  'gender_pct_img': {'pctmale': 99.9106228351593,\n",
       "   'pctfemale': 0.08937048260122538}},\n",
       " 'index': 10283,\n",
       " 'race_detected': 'black',\n",
       " 'gender_detected': 'male'}"
      ]
     },
     "execution_count": 685,
     "metadata": {},
     "output_type": "execute_result"
    }
   ],
   "source": [
    "schools['upenn'][0].get('profiles')[-1]"
   ]
  },
  {
   "cell_type": "code",
   "execution_count": 687,
   "id": "1f8139e7",
   "metadata": {},
   "outputs": [],
   "source": [
    "for school in school_names:\n",
    "    with open(sys.path[0] + f'/../data/{school}/{school}_detected_pct.json', 'w') as f:\n",
    "        json.dump(schools[school], f)"
   ]
  }
 ],
 "metadata": {
  "kernelspec": {
   "display_name": "Python 3 (ipykernel)",
   "language": "python",
   "name": "python3"
  },
  "language_info": {
   "codemirror_mode": {
    "name": "ipython",
    "version": 3
   },
   "file_extension": ".py",
   "mimetype": "text/x-python",
   "name": "python",
   "nbconvert_exporter": "python",
   "pygments_lexer": "ipython3",
   "version": "3.9.12"
  }
 },
 "nbformat": 4,
 "nbformat_minor": 5
}
