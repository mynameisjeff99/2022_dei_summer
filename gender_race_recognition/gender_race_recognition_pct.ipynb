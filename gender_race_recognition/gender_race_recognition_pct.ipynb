{
 "cells": [
  {
   "cell_type": "code",
   "execution_count": 1,
   "id": "56e1aa77",
   "metadata": {
    "pycharm": {
     "name": "#%%\n"
    }
   },
   "outputs": [],
   "source": [
    "import sys\n",
    "import json\n",
    "from gender_race_recognition_pct import GenderRaceRecognition"
   ]
  },
  {
   "cell_type": "code",
   "execution_count": 2,
   "id": "478ef12c",
   "metadata": {
    "pycharm": {
     "name": "#%%\n"
    }
   },
   "outputs": [],
   "source": [
    "recognition = GenderRaceRecognition()"
   ]
  },
  {
   "cell_type": "code",
   "execution_count": 3,
   "id": "72e6c5e2",
   "metadata": {
    "pycharm": {
     "name": "#%%\n"
    }
   },
   "outputs": [],
   "source": [
    "def get_paths(school):\n",
    "    in_path = sys.path[0] + f'/../data/{school}/{school}_w_profiles_labeled.json'\n",
    "    out_path = sys.path[0] + f'/../data/{school}/{school}_w_profiles_detected_pct.json'\n",
    "    return in_path, out_path"
   ]
  },
  {
   "cell_type": "markdown",
   "id": "0582ff2a",
   "metadata": {
    "pycharm": {
     "name": "#%% md\n"
    }
   },
   "source": [
    "# Columbia"
   ]
  },
  {
   "cell_type": "code",
   "execution_count": 4,
   "id": "d413ed64",
   "metadata": {
    "pycharm": {
     "name": "#%%\n"
    }
   },
   "outputs": [],
   "source": [
    "in_path, out_path = get_paths('columbia')"
   ]
  },
  {
   "cell_type": "code",
   "execution_count": 5,
   "id": "900adf9b",
   "metadata": {
    "scrolled": true,
    "pycharm": {
     "name": "#%%\n"
    }
   },
   "outputs": [
    {
     "name": "stdout",
     "output_type": "stream",
     "text": [
      "15/07/2022 17:15:49 Accounting Division: 25 profiles completed\n",
      "15/07/2022 17:16:07 African American and African Diaspora Studies Department: 27 profiles completed\n",
      "15/07/2022 17:16:13 Africana Studies (Barnard College): 8 profiles completed\n",
      "15/07/2022 17:16:18 Anthropology (Barnard College): 9 profiles completed\n",
      "15/07/2022 17:16:18 Anthropology Department: 20 profiles completed\n",
      "15/07/2022 17:16:42 Applied Physics and Applied Mathematics Department: 45 profiles completed\n",
      "15/07/2022 17:16:46 Architecture (Barnard College): 15 profiles completed\n",
      "15/07/2022 17:16:46 Art History (Barnard College): 6 profiles completed\n",
      "15/07/2022 17:16:46 Art History and Archaeology Department: 29 profiles completed\n",
      "15/07/2022 17:16:50 Asian and Middle Eastern Cultures (Barnard College): 7 profiles completed\n",
      "15/07/2022 17:17:07 Astronomy and Astrophysics Department: 28 profiles completed\n",
      "15/07/2022 17:17:07 Biological Sciences Department: 0 profiles completed\n",
      "15/07/2022 17:17:21 Biology (Barnard College): 20 profiles completed\n",
      "15/07/2022 17:17:46 Biomedical Engineering Department: 44 profiles completed\n",
      "15/07/2022 17:18:08 Biostatistics Department: 45 profiles completed\n",
      "15/07/2022 17:18:19 Chemical Engineering Department: 19 profiles completed\n",
      "15/07/2022 17:18:27 Chemistry (Barnard College): 14 profiles completed\n",
      "15/07/2022 17:18:47 Chemistry, Department of: 35 profiles completed\n",
      "15/07/2022 17:19:00 Civil Engineering and Engineering Mechanics Department: 38 profiles completed\n",
      "15/07/2022 17:19:00 Classics and Ancient Studies (Barnard College): 0 profiles completed\n",
      "15/07/2022 17:19:00 Classics Department: 0 profiles completed\n",
      "15/07/2022 17:19:03 Computer Science Department: 72 profiles completed\n",
      "15/07/2022 17:19:16 Dance (Barnard College): 22 profiles completed\n",
      "15/07/2022 17:20:00 Decision, Risk, and Operations Division: 48 profiles completed\n",
      "15/07/2022 17:20:14 Earth and Environmental Engineering Department: 27 profiles completed\n",
      "15/07/2022 17:20:27 Earth and Environmental Sciences Department: 39 profiles completed\n",
      "15/07/2022 17:20:27 East Asian Languages and Cultures Department: 86 profiles completed\n",
      "15/07/2022 17:20:27 Ecology, Evolution and Environmental Biology Department: 0 profiles completed\n",
      "15/07/2022 17:20:27 Economics (Barnard College): 17 profiles completed\n",
      "15/07/2022 17:20:59 Economics Department: 54 profiles completed\n",
      "15/07/2022 17:21:02 Electrical Engineering Department: 6 profiles completed\n",
      "15/07/2022 17:21:45 English and Comparative Literature Department: 60 profiles completed\n",
      "15/07/2022 17:22:10 Environmental Health Sciences Department: 49 profiles completed\n",
      "15/07/2022 17:22:16 Environmental Science (Barnard College): 9 profiles completed\n",
      "15/07/2022 17:23:39 Epidemiology Department: 150 profiles completed\n",
      "15/07/2022 17:24:22 Film (School of the Arts): 76 profiles completed\n",
      "15/07/2022 17:25:37 Finance and Economics Division: 131 profiles completed\n",
      "15/07/2022 17:25:42 French (Barnard College): 8 profiles completed\n",
      "15/07/2022 17:25:55 French and Romance Philology Department: 26 profiles completed\n",
      "15/07/2022 17:26:05 Germanic Languages Department: 21 profiles completed\n",
      "15/07/2022 17:26:36 Health Policy and Management Department: 94 profiles completed\n",
      "15/07/2022 17:26:36 History Department: 0 profiles completed\n",
      "15/07/2022 17:27:00 Industrial Engineering & Operations Research, Department of: 43 profiles completed\n",
      "15/07/2022 17:27:15 Italian Department: 20 profiles completed\n",
      "15/07/2022 17:27:15 Latin American and Iberian Cultures, Department of: 0 profiles completed\n",
      "15/07/2022 17:28:11 Management Division: 64 profiles completed\n",
      "15/07/2022 17:28:15 Mathematics (Barnard College): 7 profiles completed\n",
      "15/07/2022 17:28:15 Mathematics Department: 0 profiles completed\n",
      "15/07/2022 17:28:34 Mechanical Engineering Department: 41 profiles completed\n",
      "15/07/2022 17:28:34 Microbiology & Immunology, Department of: 0 profiles completed\n",
      "15/07/2022 17:29:08 Middle Eastern, South Asian, and African Studies: 51 profiles completed\n",
      "15/07/2022 17:29:31 Music, Department of: 55 profiles completed\n",
      "15/07/2022 17:29:31 Philosophy (Barnard College): 30 profiles completed\n",
      "15/07/2022 17:29:50 Philosophy, Department of: 28 profiles completed\n",
      "15/07/2022 17:29:50 Physical Education (Barnard College): 0 profiles completed\n",
      "15/07/2022 17:29:54 Physics and Astronomy (Barnard College): 7 profiles completed\n",
      "15/07/2022 17:30:18 Physics, Department of: 44 profiles completed\n",
      "15/07/2022 17:30:18 Political Science (Barnard College): 4 profiles completed\n",
      "15/07/2022 17:30:18 Political Science, Department of: 24 profiles completed\n",
      "15/07/2022 17:30:44 Population & Family Health, Heilbrunn Department of: 84 profiles completed\n",
      "15/07/2022 17:31:03 Psychology (Barnard College): 28 profiles completed\n",
      "15/07/2022 17:31:26 Psychology, Department of: 42 profiles completed\n",
      "15/07/2022 17:31:26 Religion (Barnard College): 7 profiles completed\n",
      "15/07/2022 17:31:50 Religion, Department of: 33 profiles completed\n",
      "15/07/2022 17:31:50 Slavic (Barnard College): 0 profiles completed\n",
      "15/07/2022 17:31:50 Slavic Languages, Department of: 0 profiles completed\n",
      "15/07/2022 17:31:56 Sociology (Barnard College): 10 profiles completed\n",
      "15/07/2022 17:32:15 Sociology, Department of: 34 profiles completed\n",
      "15/07/2022 17:32:54 Sociomedical Sciences, Department of: 67 profiles completed\n",
      "15/07/2022 17:32:54 Spanish and Latin American Cultures (Barnard College): 0 profiles completed\n",
      "15/07/2022 17:33:23 Statistics, Department of: 58 profiles completed\n",
      "15/07/2022 17:33:23 Theatre (Barnard College): 24 profiles completed\n",
      "15/07/2022 17:34:04 Theatre (School of the Arts): 60 profiles completed\n",
      "15/07/2022 17:34:30 Visual Arts (School of the Arts): 46 profiles completed\n",
      "15/07/2022 17:35:16 Writing (School of the Arts): 79 profiles completed\n"
     ]
    }
   ],
   "source": [
    "columbia = recognition.detect_gender_race(in_path, out_path)"
   ]
  },
  {
   "cell_type": "markdown",
   "id": "28f31e39",
   "metadata": {
    "pycharm": {
     "name": "#%% md\n"
    }
   },
   "source": [
    "# Dartmouth"
   ]
  },
  {
   "cell_type": "code",
   "execution_count": 4,
   "id": "9a113315",
   "metadata": {
    "pycharm": {
     "name": "#%%\n"
    }
   },
   "outputs": [],
   "source": [
    "in_path, out_path = get_paths('dartmouth')"
   ]
  },
  {
   "cell_type": "code",
   "execution_count": 5,
   "id": "e80eeb33",
   "metadata": {
    "scrolled": true,
    "pycharm": {
     "name": "#%%\n"
    }
   },
   "outputs": [
    {
     "name": "stdout",
     "output_type": "stream",
     "text": [
      "15/07/2022 17:47:49 African and African American Studies Program: 18 profiles completed\n",
      "15/07/2022 17:47:58 Anthropology: 14 profiles completed\n",
      "15/07/2022 17:48:03 Art History: 8 profiles completed\n",
      "15/07/2022 17:48:06 Asian Societies, Cultures, and Languages Program: 5 profiles completed\n",
      "15/07/2022 17:48:20 Biological Sciences: 25 profiles completed\n",
      "15/07/2022 17:48:29 Chemistry: 16 profiles completed\n",
      "15/07/2022 17:48:32 Classics: 6 profiles completed\n",
      "15/07/2022 17:48:38 Cognitive Science Program: 11 profiles completed\n",
      "15/07/2022 17:48:45 Comparative Literature Program: 11 profiles completed\n",
      "15/07/2022 17:49:00 Computer Science: 28 profiles completed\n",
      "15/07/2022 17:49:08 Earth Sciences: 13 profiles completed\n",
      "15/07/2022 17:49:32 Economics: 39 profiles completed\n",
      "15/07/2022 17:49:32 Education: 0 profiles completed\n",
      "15/07/2022 17:51:24 Engineering Sciences—Thayer School of Engineering: 122 profiles completed\n",
      "15/07/2022 17:51:39 English and Creative Writing: 28 profiles completed\n",
      "15/07/2022 17:51:51 Environmental Studies: 19 profiles completed\n",
      "15/07/2022 17:51:55 Film and Media Studies: 6 profiles completed\n",
      "15/07/2022 17:52:09 French and Italian: 23 profiles completed\n",
      "15/07/2022 17:52:15 Geography: 12 profiles completed\n",
      "15/07/2022 17:52:20 German Studies: 8 profiles completed\n",
      "15/07/2022 17:52:38 Government: 29 profiles completed\n",
      "15/07/2022 17:52:55 History: 28 profiles completed\n",
      "15/07/2022 17:53:11 Institute for Writing and Rhetoric: 25 profiles completed\n",
      "15/07/2022 17:53:15 Jewish Studies Program: 8 profiles completed\n",
      "15/07/2022 17:53:28 Latin American, Latino, and Caribbean Studies Program: 20 profiles completed\n",
      "15/07/2022 17:53:33 Linguistics: 8 profiles completed\n",
      "15/07/2022 17:53:47 Mathematics: 23 profiles completed\n",
      "15/07/2022 17:53:53 Middle Eastern Studies Program: 10 profiles completed\n",
      "15/07/2022 17:54:15 Music: 39 profiles completed\n",
      "15/07/2022 17:54:18 Native American and Indigenous Studies: 5 profiles completed\n",
      "15/07/2022 17:54:23 Philosophy: 10 profiles completed\n",
      "15/07/2022 17:54:37 Psychological and Brain Sciences: 22 profiles completed\n",
      "15/07/2022 17:54:52 Physics and Astronomy: 25 profiles completed\n",
      "15/07/2022 17:55:10 Quantitative Social Science Program: 28 profiles completed\n",
      "15/07/2022 17:55:17 Religion: 11 profiles completed\n",
      "15/07/2022 17:55:17 Russian: 0 profiles completed\n",
      "15/07/2022 17:55:24 Sociology: 12 profiles completed\n",
      "15/07/2022 17:55:37 Spanish and Portuguese: 21 profiles completed\n",
      "15/07/2022 17:55:41 Studio Art: 7 profiles completed\n",
      "15/07/2022 17:55:41 Theater: 0 profiles completed\n",
      "15/07/2022 17:55:53 Women’s, Gender, and Sexuality Studies Program: 19 profiles completed\n"
     ]
    }
   ],
   "source": [
    "dartmouth = recognition.detect_gender_race(in_path, out_path)"
   ]
  },
  {
   "cell_type": "markdown",
   "id": "0fe91bf3",
   "metadata": {
    "pycharm": {
     "name": "#%% md\n"
    }
   },
   "source": [
    "# Yale"
   ]
  },
  {
   "cell_type": "code",
   "execution_count": 4,
   "id": "75740af4",
   "metadata": {
    "pycharm": {
     "name": "#%%\n"
    }
   },
   "outputs": [],
   "source": [
    "in_path, out_path = get_paths('yale')"
   ]
  },
  {
   "cell_type": "code",
   "execution_count": 5,
   "id": "719a7ab0",
   "metadata": {
    "scrolled": true,
    "pycharm": {
     "name": "#%%\n"
    }
   },
   "outputs": [
    {
     "name": "stdout",
     "output_type": "stream",
     "text": [
      "15/07/2022 18:00:50 African American Studies: 23 profiles completed\n",
      "15/07/2022 18:01:09 African Studies: 44 profiles completed\n",
      "15/07/2022 18:01:25 American Studies: 35 profiles completed\n",
      "15/07/2022 18:01:35 Anthropology: 25 profiles completed\n",
      "15/07/2022 18:01:45 Applied Mathematics: 23 profiles completed\n",
      "15/07/2022 18:01:58 Applied Physics: 27 profiles completed\n",
      "15/07/2022 18:02:04 Archaeological Studies: 26 profiles completed\n",
      "15/07/2022 18:02:11 Architecture: 16 profiles completed\n",
      "15/07/2022 18:02:20 Astronomy: 18 profiles completed\n",
      "15/07/2022 18:02:40 Biomedical Engineering: 46 profiles completed\n",
      "15/07/2022 18:02:52 Chemical & Environmental Engineering: 29 profiles completed\n",
      "15/07/2022 18:02:52 Chemistry: 0 profiles completed\n",
      "15/07/2022 18:02:59 Classics: 16 profiles completed\n",
      "15/07/2022 18:03:08 Cognitive Science: 20 profiles completed\n",
      "15/07/2022 18:03:08 Comparative Literature: 0 profiles completed\n",
      "15/07/2022 18:03:08 Computational Biology & Bioinformatics: 50 profiles completed\n",
      "15/07/2022 18:03:21 Computer Science: 28 profiles completed\n",
      "15/07/2022 18:03:32 Earth & Planetary Sciences: 26 profiles completed\n",
      "15/07/2022 18:03:35 East Asian Languages & Literatures: 6 profiles completed\n",
      "15/07/2022 18:03:52 East Asian Studies : 45 profiles completed\n",
      "15/07/2022 18:04:07 Ecology & Evolutionary Biology: 38 profiles completed\n",
      "15/07/2022 18:04:33 Economics: 51 profiles completed\n",
      "15/07/2022 18:04:43 Electrical Engineering: 24 profiles completed\n",
      "15/07/2022 18:04:59 Engineering & Applied Science: 43 profiles completed\n",
      "15/07/2022 18:05:43 English Language & Literature: 106 profiles completed\n",
      "15/07/2022 18:05:54 Ethnicity, Race, & Migration : 22 profiles completed\n",
      "15/07/2022 18:06:30 European & Russian Studies: 76 profiles completed\n",
      "15/07/2022 18:06:40 Film & Media Studies: 23 profiles completed\n",
      "15/07/2022 18:07:03 Forestry & Environmental Studies: 50 profiles completed\n",
      "15/07/2022 18:07:08 French: 10 profiles completed\n",
      "15/07/2022 18:07:14 German: 15 profiles completed\n",
      "15/07/2022 18:07:22 Global Affairs: 12 profiles completed\n",
      "15/07/2022 18:07:52 History: 64 profiles completed\n",
      "15/07/2022 18:08:02 History of Art: 17 profiles completed\n",
      "15/07/2022 18:08:08 History of Science & Medicine: 12 profiles completed\n",
      "15/07/2022 18:09:02 Humanities: 119 profiles completed\n",
      "15/07/2022 18:09:02 International & Development Economics: 0 profiles completed\n",
      "15/07/2022 18:09:05 Italian Studies: 8 profiles completed\n",
      "15/07/2022 18:09:05 Judaic Studies: 0 profiles completed\n",
      "15/07/2022 18:09:05 Latin American Studies: 0 profiles completed\n",
      "15/07/2022 18:09:05 Law: 121 profiles completed\n",
      "15/07/2022 18:09:13 Linguistics: 13 profiles completed\n",
      "15/07/2022 18:09:13 Management: 222 profiles completed\n",
      "15/07/2022 18:09:49 Mathematics: 105 profiles completed\n",
      "15/07/2022 18:09:56 Mechanical Engineering & Materials Science: 20 profiles completed\n",
      "15/07/2022 18:10:04 Medieval Studies: 29 profiles completed\n",
      "15/07/2022 18:10:24 Modern Middle East Studies: 43 profiles completed\n",
      "15/07/2022 18:10:24 Molecular Biophysics & Biochemistry: 0 profiles completed\n",
      "15/07/2022 18:10:42 Molecular, Cellular & Developmental Biology: 32 profiles completed\n",
      "15/07/2022 18:10:44 Music: 5 profiles completed\n",
      "15/07/2022 18:11:05 Near Eastern Languages & Civilizations: 40 profiles completed\n",
      "15/07/2022 18:11:16 Philosophy: 22 profiles completed\n",
      "15/07/2022 18:11:35 Physics: 38 profiles completed\n",
      "15/07/2022 18:12:17 Political Science: 86 profiles completed\n",
      "15/07/2022 18:12:35 Psychology: 27 profiles completed\n",
      "15/07/2022 18:12:45 Religious Studies: 18 profiles completed\n",
      "15/07/2022 18:12:45 Renaissance Studies: 36 profiles completed\n",
      "15/07/2022 18:12:49 Slavic Languages & Literatures: 8 profiles completed\n",
      "15/07/2022 18:12:55 Sociology: 14 profiles completed\n",
      "15/07/2022 18:12:55 South Asian Studies: 0 profiles completed\n",
      "15/07/2022 18:13:07 Spanish & Portuguese: 25 profiles completed\n",
      "15/07/2022 18:13:18 Statistics & Data Science: 22 profiles completed\n",
      "15/07/2022 18:13:27 Theater & Performance Studies: 27 profiles completed\n",
      "15/07/2022 18:13:50 Women’s, Gender, & Sexuality Studies: 52 profiles completed\n"
     ]
    }
   ],
   "source": [
    "yale = recognition.detect_gender_race(in_path, out_path)"
   ]
  },
  {
   "cell_type": "markdown",
   "id": "851ca3ed",
   "metadata": {
    "pycharm": {
     "name": "#%% md\n"
    }
   },
   "source": [
    "# Princeton"
   ]
  },
  {
   "cell_type": "code",
   "execution_count": 4,
   "id": "7af3a329",
   "metadata": {
    "pycharm": {
     "name": "#%%\n"
    }
   },
   "outputs": [],
   "source": [
    "in_path, out_path = get_paths('princeton')"
   ]
  },
  {
   "cell_type": "code",
   "execution_count": 5,
   "id": "429889e0",
   "metadata": {
    "scrolled": true,
    "pycharm": {
     "name": "#%%\n"
    }
   },
   "outputs": [
    {
     "name": "stdout",
     "output_type": "stream",
     "text": [
      "15/07/2022 18:20:23 African American Studies: 13 profiles completed\n",
      "15/07/2022 18:26:45 Anthropology: 18 profiles completed\n",
      "15/07/2022 18:26:45 Architecture: 0 profiles completed\n",
      "15/07/2022 18:27:01 Art and Archaeology: 20 profiles completed\n",
      "15/07/2022 18:27:07 Astrophysical Sciences: 8 profiles completed\n",
      "15/07/2022 18:27:07 Chemistry: 0 profiles completed\n",
      "15/07/2022 18:27:17 Classics : 18 profiles completed\n",
      "15/07/2022 18:27:17 Comparative Literature: 0 profiles completed\n",
      "15/07/2022 18:27:46 Computer Science: 55 profiles completed\n",
      "15/07/2022 18:27:47 East Asian Studies: 55 profiles completed\n",
      "15/07/2022 18:27:59 Ecology and Evolutionary Biology: 22 profiles completed\n",
      "15/07/2022 18:28:46 Economics: 76 profiles completed\n",
      "15/07/2022 18:28:52 English: 13 profiles completed\n",
      "15/07/2022 18:29:02 French and Italian: 16 profiles completed\n",
      "15/07/2022 18:35:45 Geosciences: 19 profiles completed\n",
      "15/07/2022 18:35:58 German: 23 profiles completed\n",
      "15/07/2022 18:36:22 History: 55 profiles completed\n",
      "15/07/2022 18:37:03 Mathematics: 79 profiles completed\n",
      "15/07/2022 18:37:03 Molecular Biology: 0 profiles completed\n",
      "15/07/2022 18:37:12 Music: 19 profiles completed\n",
      "15/07/2022 18:40:44 Near Eastern Studies: 15 profiles completed\n",
      "15/07/2022 18:40:58 Neuroscience: 33 profiles completed\n",
      "15/07/2022 18:41:16 Philosophy: 23 profiles completed\n",
      "15/07/2022 18:42:11 Physics: 71 profiles completed\n",
      "15/07/2022 18:42:18 Politics: 18 profiles completed\n",
      "15/07/2022 18:42:18 Psychology: 0 profiles completed\n",
      "15/07/2022 18:42:19 Public Policy (Princeton School of Public and International Affairs): 9 profiles completed\n",
      "15/07/2022 18:42:35 Religion: 32 profiles completed\n",
      "15/07/2022 18:42:46 Slavic Languages and Literatures: 15 profiles completed\n",
      "15/07/2022 18:43:06 Sociology: 28 profiles completed\n",
      "15/07/2022 18:43:15 Spanish and Portuguese: 12 profiles completed\n",
      "15/07/2022 18:57:04 Chemical and Biological Engineering: 39 profiles completed\n",
      "15/07/2022 19:06:58 Civil and Environmental Engineering: 28 profiles completed\n",
      "15/07/2022 19:07:26 Computer Science: 55 profiles completed\n",
      "15/07/2022 19:07:53 Electrical and Computer Engineering: 38 profiles completed\n",
      "15/07/2022 19:08:21 Mechanical and Aerospace Engineering: 51 profiles completed\n",
      "15/07/2022 19:08:32 Operations Research and Financial Engineering: 19 profiles completed\n"
     ]
    }
   ],
   "source": [
    "princeton = recognition.detect_gender_race(in_path, out_path)"
   ]
  },
  {
   "cell_type": "markdown",
   "id": "5019051f",
   "metadata": {
    "pycharm": {
     "name": "#%% md\n"
    }
   },
   "source": [
    "# Brown"
   ]
  },
  {
   "cell_type": "code",
   "execution_count": 4,
   "id": "14e86467",
   "metadata": {
    "pycharm": {
     "name": "#%%\n"
    }
   },
   "outputs": [],
   "source": [
    "in_path, out_path = get_paths('brown')"
   ]
  },
  {
   "cell_type": "code",
   "execution_count": 5,
   "id": "d101e663",
   "metadata": {
    "scrolled": true,
    "pycharm": {
     "name": "#%%\n"
    }
   },
   "outputs": [
    {
     "name": "stdout",
     "output_type": "stream",
     "text": [
      "18/07/2022 14:20:06 Department of Africana Studies: 14 profiles completed\n",
      "18/07/2022 14:20:06 Department of American Studies: 69 profiles completed\n",
      "18/07/2022 14:20:14 Department of Anthropology: 38 profiles completed\n",
      "18/07/2022 14:20:38 Division of Applied Mathematics: 37 profiles completed\n",
      "18/07/2022 14:23:28 Department of Behavioral and Social Sciences: 112 profiles completed\n",
      "18/07/2022 14:32:04 Department of Biostatistics: 371 profiles completed\n",
      "18/07/2022 14:32:29 Department of Chemistry: 30 profiles completed\n",
      "18/07/2022 14:32:29 Department of Classics: 0 profiles completed\n",
      "18/07/2022 14:33:02 Department of Cognitive, Linguistic, and Psychological Sciences: 27 profiles completed\n",
      "18/07/2022 14:33:15 Department of Comparative Literature: 30 profiles completed\n",
      "18/07/2022 14:33:43 Department of Computer Science: 72 profiles completed\n",
      "18/07/2022 14:33:53 Department of Earth, Environmental and Planetary Sciences: 19 profiles completed\n",
      "18/07/2022 14:33:53 Department of East Asian Studies: 19 profiles completed\n",
      "18/07/2022 14:34:10 Department of Ecology and Evolutionary Biology: 21 profiles completed\n",
      "18/07/2022 14:34:40 Department of Economics: 44 profiles completed\n",
      "18/07/2022 14:34:40 Department of Egyptology and Assyriology: 7 profiles completed\n",
      "18/07/2022 14:35:04 Department of English: 42 profiles completed\n",
      "18/07/2022 14:35:30 Department of Epidemiology: 61 profiles completed\n",
      "18/07/2022 14:35:39 Department of French Studies: 9 profiles completed\n",
      "18/07/2022 14:35:39 Department of German Studies: 24 profiles completed\n",
      "18/07/2022 14:35:39 Department of Health Services, Policy & Practice: 125 profiles completed\n",
      "18/07/2022 14:35:39 Department of Hispanic Studies: 21 profiles completed\n",
      "18/07/2022 14:35:49 Department of History of Art and Architecture: 11 profiles completed\n",
      "18/07/2022 14:35:49 Department of History: 0 profiles completed\n",
      "18/07/2022 14:36:04 Department of Italian Studies: 9 profiles completed\n",
      "18/07/2022 14:36:04 Program in Judaic Studies: 12 profiles completed\n",
      "18/07/2022 14:36:04 Literary Arts Program: 0 profiles completed\n",
      "18/07/2022 14:36:41 Department of Mathematics: 33 profiles completed\n",
      "18/07/2022 14:36:42 Department of Modern Culture and Media: 6 profiles completed\n",
      "18/07/2022 14:37:07 Department of Molecular Biology, Cell Biology, and Biochemistry: 58 profiles completed\n",
      "18/07/2022 14:37:07 Department of Molecular Microbiology and Immunology: 10 profiles completed\n",
      "18/07/2022 14:37:07 Department of Music: 29 profiles completed\n",
      "18/07/2022 14:37:23 Department of Neuroscience: 30 profiles completed\n",
      "18/07/2022 14:37:23 Department of Philosophy: 0 profiles completed\n",
      "18/07/2022 14:37:44 Department of Physics: 25 profiles completed\n",
      "18/07/2022 14:37:44 Department of Political Science: 0 profiles completed\n",
      "18/07/2022 14:37:44 Department of Portuguese & Brazilian Studies: 7 profiles completed\n",
      "18/07/2022 14:37:44 Department of Religious Studies: 0 profiles completed\n",
      "18/07/2022 14:37:44 Program in Science, Technology, and Society: 4 profiles completed\n",
      "18/07/2022 14:37:44 Department of Slavic Languages: 0 profiles completed\n",
      "18/07/2022 14:38:18 Department of Sociology: 42 profiles completed\n",
      "18/07/2022 14:38:18 Department of Theatre Arts and Performance Studies: 7 profiles completed\n",
      "18/07/2022 14:38:24 Department of Visual Art: 10 profiles completed\n"
     ]
    }
   ],
   "source": [
    "brown = recognition.detect_gender_race(in_path, out_path)"
   ]
  },
  {
   "cell_type": "markdown",
   "id": "e0f2f267",
   "metadata": {
    "pycharm": {
     "name": "#%% md\n"
    }
   },
   "source": [
    "# Cornell"
   ]
  },
  {
   "cell_type": "code",
   "execution_count": 4,
   "id": "14307272",
   "metadata": {
    "pycharm": {
     "name": "#%%\n"
    }
   },
   "outputs": [],
   "source": [
    "in_path, out_path = get_paths('cornell')"
   ]
  },
  {
   "cell_type": "code",
   "execution_count": 5,
   "id": "80fc18a0",
   "metadata": {
    "scrolled": true,
    "pycharm": {
     "name": "#%%\n"
    }
   },
   "outputs": [
    {
     "name": "stdout",
     "output_type": "stream",
     "text": [
      "18/07/2022 14:41:47 Animal Science: 45 profiles completed\n",
      "18/07/2022 14:41:47 Charles H. Dyson School of Applied Economics and Management: 0 profiles completed\n",
      "18/07/2022 14:41:53 Biological and Environmental Engineering: 19 profiles completed\n",
      "18/07/2022 14:41:59 Computational Biology: 13 profiles completed\n",
      "18/07/2022 14:42:16 Communication: 36 profiles completed\n",
      "18/07/2022 14:42:30 Earth and Atmospheric Sciences: 25 profiles completed\n",
      "18/07/2022 14:42:49 Ecology and Evolutionary Biology: 31 profiles completed\n",
      "18/07/2022 14:43:03 Entomology: 27 profiles completed\n",
      "18/07/2022 14:43:23 Food Science: 58 profiles completed\n",
      "18/07/2022 14:44:09 Global Development: 83 profiles completed\n",
      "18/07/2022 14:45:28 School of Integrative Plant Science: 139 profiles completed\n",
      "18/07/2022 14:45:38 Landscape Architecture: 19 profiles completed\n",
      "18/07/2022 14:45:46 Microbiology: 19 profiles completed\n",
      "18/07/2022 14:46:04 Molecular Biology and Genetics: 40 profiles completed\n",
      "18/07/2022 14:46:20 Natural Resources: 49 profiles completed\n",
      "18/07/2022 14:46:29 Neurobiology and Behavior: 13 profiles completed\n",
      "18/07/2022 14:46:29 Nutritional Sciences: 0 profiles completed\n",
      "18/07/2022 14:46:43 Statistics and Data Science: 29 profiles completed\n",
      "18/07/2022 14:47:08 Architecture: 55 profiles completed\n",
      "18/07/2022 14:47:22 Art: 31 profiles completed\n",
      "18/07/2022 14:47:38 City and Regional Planning: 33 profiles completed\n",
      "18/07/2022 14:47:43  Africana Studies: 11 profiles completed\n",
      "18/07/2022 14:47:56 Anthropology: 21 profiles completed\n",
      "18/07/2022 14:48:16 Asian Studies: 34 profiles completed\n",
      "18/07/2022 14:48:28 Astronomy: 20 profiles completed\n",
      "18/07/2022 14:48:44 Chemistry and Chemical Biology: 27 profiles completed\n",
      "18/07/2022 14:49:02 Classics: 31 profiles completed\n",
      "18/07/2022 14:49:11 Comparative Literature: 14 profiles completed\n",
      "18/07/2022 14:49:33 Ecology & Evolutionary Biology: 31 profiles completed\n",
      "18/07/2022 14:50:09 Economics: 54 profiles completed\n",
      "18/07/2022 14:50:33 English: 41 profiles completed\n",
      "18/07/2022 14:50:39 German Studies: 10 profiles completed\n",
      "18/07/2022 14:51:03  Government: 41 profiles completed\n",
      "18/07/2022 14:51:33 History: 50 profiles completed\n",
      "18/07/2022 14:51:43 History of Art and Visual Studies: 17 profiles completed\n",
      "18/07/2022 14:51:54 Linguistics: 18 profiles completed\n",
      "18/07/2022 14:52:22 Mathematics: 41 profiles completed\n",
      "18/07/2022 14:52:38 Music: 26 profiles completed\n",
      "18/07/2022 14:52:51 Near Eastern Studies: 21 profiles completed\n",
      "18/07/2022 14:53:03 Performing and Media Arts: 23 profiles completed\n",
      "18/07/2022 14:53:15 Sage School of Philosophy: 26 profiles completed\n",
      "18/07/2022 14:53:45 Physics: 48 profiles completed\n",
      "18/07/2022 14:54:12 Psychology: 45 profiles completed\n",
      "18/07/2022 14:54:35 Romance Studies: 43 profiles completed\n",
      "18/07/2022 14:54:49 Science and Technology Studies: 24 profiles completed\n",
      "18/07/2022 14:55:07 Sociology: 29 profiles completed\n",
      "18/07/2022 14:55:07 Peter and Stephanie Nolan School of Hotel Administration: 0 profiles completed\n",
      "18/07/2022 14:55:07 Samuel Curtis Johnson Graduate School of Management: 0 profiles completed\n",
      "18/07/2022 14:56:15 Computer Science: 109 profiles completed\n",
      "18/07/2022 14:56:55 Information Science: 74 profiles completed\n",
      "18/07/2022 14:57:04 School of Applied and Engineering Physics: 17 profiles completed\n",
      "18/07/2022 14:57:18 Meinig School of Biomedical Engineering: 24 profiles completed\n",
      "18/07/2022 14:57:31 Smith School of Chemical and Biomolecular Engineering: 23 profiles completed\n",
      "18/07/2022 14:57:44 School of Civil and Environmental Engineering: 23 profiles completed\n",
      "18/07/2022 14:58:52 Computer Science: 109 profiles completed\n",
      "18/07/2022 14:59:19 School of Electrical and Computer Engineering: 45 profiles completed\n",
      "18/07/2022 14:59:33 Materials Science and Engineering: 23 profiles completed\n",
      "18/07/2022 15:00:08 Sibley School of Mechanical and Aerospace Engineering : 61 profiles completed\n",
      "18/07/2022 15:00:28 School of Operations Research and Information Engineering: 36 profiles completed\n",
      "18/07/2022 15:01:05 College of Human Ecology: 90 profiles completed\n",
      "18/07/2022 15:03:09 School of Industrial and Labor Relations: 268 profiles completed\n"
     ]
    }
   ],
   "source": [
    "cornell = recognition.detect_gender_race(in_path, out_path)"
   ]
  },
  {
   "cell_type": "markdown",
   "id": "cf88c17e",
   "metadata": {
    "pycharm": {
     "name": "#%% md\n"
    }
   },
   "source": [
    "# UPenn"
   ]
  },
  {
   "cell_type": "code",
   "execution_count": 4,
   "id": "6949b3b9",
   "metadata": {
    "pycharm": {
     "name": "#%%\n"
    }
   },
   "outputs": [],
   "source": [
    "in_path, out_path = get_paths('upenn')"
   ]
  },
  {
   "cell_type": "code",
   "execution_count": 5,
   "id": "921bb35b",
   "metadata": {
    "scrolled": true,
    "pycharm": {
     "name": "#%%\n"
    }
   },
   "outputs": [
    {
     "name": "stdout",
     "output_type": "stream",
     "text": [
      "18/07/2022 15:20:23 Africana Studies: 13 profiles completed\n",
      "18/07/2022 15:20:29 Anthropology: 15 profiles completed\n",
      "18/07/2022 15:21:07 Biology: 35 profiles completed\n",
      "18/07/2022 15:21:52 Chemistry: 40 profiles completed\n",
      "18/07/2022 15:21:57 Classical Studies: 14 profiles completed\n",
      "18/07/2022 15:22:02 Criminology: 8 profiles completed\n",
      "18/07/2022 15:22:15 Earth and Environmental Science: 10 profiles completed\n",
      "18/07/2022 15:22:26 East Asian Languages & Civilizations: 8 profiles completed\n",
      "18/07/2022 15:22:36 Economics: 21 profiles completed\n",
      "18/07/2022 15:23:09 English: 72 profiles completed\n",
      "18/07/2022 15:23:43 History: 33 profiles completed\n",
      "18/07/2022 15:23:49 History and Sociology of Science: 13 profiles completed\n",
      "18/07/2022 15:23:55 History of Art: 17 profiles completed\n",
      "18/07/2022 15:24:33 Linguistics: 34 profiles completed\n",
      "18/07/2022 15:24:53 Mathematics: 36 profiles completed\n",
      "18/07/2022 15:25:07 Music: 10 profiles completed\n",
      "18/07/2022 15:25:21 Near Eastern Languages & Civilizations: 10 profiles completed\n",
      "18/07/2022 15:25:24 Philosophy: 13 profiles completed\n",
      "18/07/2022 15:26:19 Physics and Astronomy: 48 profiles completed\n",
      "18/07/2022 15:27:02 Political Science: 33 profiles completed\n",
      "18/07/2022 15:27:20 Psychology: 34 profiles completed\n",
      "18/07/2022 15:27:30 Religious Studies: 8 profiles completed\n",
      "18/07/2022 15:27:56 Russian and East European Studies: 46 profiles completed\n",
      "18/07/2022 15:28:12 Sociology: 23 profiles completed\n",
      "18/07/2022 15:28:15 South Asia Studies: 5 profiles completed\n",
      "18/07/2022 15:28:18 Spanish and Portuguese: 7 profiles completed\n",
      "18/07/2022 15:28:18 Accounting: 0 profiles completed\n",
      "18/07/2022 15:28:18 Legal Studies and Business Ethics: 0 profiles completed\n",
      "18/07/2022 15:28:18 Real Estate: 0 profiles completed\n",
      "18/07/2022 15:28:18 Business Economics and Public Policy: 0 profiles completed\n",
      "18/07/2022 15:28:18 Finance: 0 profiles completed\n",
      "18/07/2022 15:28:18 Health Care Management: 0 profiles completed\n",
      "18/07/2022 15:28:18 Management: 0 profiles completed\n",
      "18/07/2022 15:28:18 Marketing: 0 profiles completed\n",
      "18/07/2022 15:28:18 Operations, Information and Decisions: 0 profiles completed\n",
      "18/07/2022 15:29:01 Statistics and Data Science: 56 profiles completed\n",
      "18/07/2022 15:29:46 Bioengineering: 57 profiles completed\n",
      "18/07/2022 15:30:22 Chemical and Biomolecular Engineering: 40 profiles completed\n",
      "18/07/2022 15:31:27 Computer and Information Science: 86 profiles completed\n",
      "18/07/2022 15:31:58 Electrical and Systems Engineering: 49 profiles completed\n",
      "18/07/2022 15:32:17 Materials Science and Engineering: 30 profiles completed\n",
      "18/07/2022 15:32:55 Mechanical Engineering and Applied Mechanics: 51 profiles completed\n",
      "18/07/2022 15:33:04 Annenberg School for Communication: 14 profiles completed\n",
      "18/07/2022 15:33:04 Stuart Weitzman School of Design: 0 profiles completed\n",
      "18/07/2022 15:33:04 Graduate School of Education: 153 profiles completed\n",
      "18/07/2022 15:36:30 Penn Carey Law: 338 profiles completed\n",
      "18/07/2022 15:36:36 School of Social Policy & Practice: 11 profiles completed\n",
      "18/07/2022 15:36:37 French and Francophone Studies: 6 profiles completed\n",
      "18/07/2022 15:36:40 Italian Studies: 6 profiles completed\n",
      "18/07/2022 15:36:48 Germanic Studies: 35 profiles completed\n"
     ]
    }
   ],
   "source": [
    "upenn = recognition.detect_gender_race(in_path, out_path)"
   ]
  },
  {
   "cell_type": "markdown",
   "id": "9dacdd76",
   "metadata": {
    "pycharm": {
     "name": "#%% md\n"
    }
   },
   "source": [
    "# Harvard"
   ]
  },
  {
   "cell_type": "code",
   "execution_count": 4,
   "id": "748219a3",
   "metadata": {
    "pycharm": {
     "name": "#%%\n"
    }
   },
   "outputs": [],
   "source": [
    "in_path, out_path = get_paths('harvard')"
   ]
  },
  {
   "cell_type": "code",
   "execution_count": 5,
   "id": "d5dbcdeb",
   "metadata": {
    "pycharm": {
     "name": "#%%\n"
    }
   },
   "outputs": [
    {
     "name": "stdout",
     "output_type": "stream",
     "text": [
      "18/07/2022 15:45:29 African and African American Studies: 0 profiles completed\n",
      "18/07/2022 15:45:36 Anthropology: 15 profiles completed\n",
      "18/07/2022 15:45:40 Applied Mathematics: 14 profiles completed\n",
      "18/07/2022 15:45:52 Applied Physics: 29 profiles completed\n",
      "18/07/2022 15:45:57 Art, Film, and Visual Studies: 15 profiles completed\n",
      "18/07/2022 15:46:03 Astronomy: 14 profiles completed\n",
      "18/07/2022 15:46:08 Bioengineering: 11 profiles completed\n",
      "18/07/2022 15:46:08 Celtic Languages and Literatures: 0 profiles completed\n",
      "18/07/2022 15:46:27 Chemistry and Chemical Biology: 47 profiles completed\n",
      "18/07/2022 15:46:47 Computer Science: 46 profiles completed\n",
      "18/07/2022 15:46:53 The Classics: 18 profiles completed\n",
      "18/07/2022 15:46:53 Comparative Literature: 0 profiles completed\n",
      "18/07/2022 15:47:01 Earth and Planetary Sciences: 15 profiles completed\n",
      "18/07/2022 15:47:07 East Asian Languages and Civilizations: 12 profiles completed\n",
      "18/07/2022 15:47:36 Economics: 53 profiles completed\n",
      "18/07/2022 15:47:43 Electrical Engineering: 14 profiles completed\n",
      "18/07/2022 15:48:23 English: 81 profiles completed\n",
      "18/07/2022 15:48:35 Environmental Science & Engineering: 27 profiles completed\n",
      "18/07/2022 15:48:48 Germanic Languages and Literatures: 23 profiles completed\n",
      "18/07/2022 15:48:55 Government: 14 profiles completed\n",
      "18/07/2022 15:49:00 History: 13 profiles completed\n",
      "18/07/2022 15:49:08 History of Art and Architecture: 18 profiles completed\n",
      "18/07/2022 15:49:14 History of Science: 14 profiles completed\n",
      "18/07/2022 15:49:17 Human Evolutionary Biology: 6 profiles completed\n",
      "18/07/2022 15:49:21 Linguistics: 11 profiles completed\n",
      "18/07/2022 15:49:30 Materials Science & Mechanical Engineering: 22 profiles completed\n",
      "18/07/2022 15:50:39 Mathematics: 150 profiles completed\n",
      "18/07/2022 15:50:39 Molecular and Cellular Biology: 0 profiles completed\n",
      "18/07/2022 15:50:53 Music: 23 profiles completed\n",
      "18/07/2022 15:50:53 Near Eastern Languages and Civilizations: 0 profiles completed\n",
      "18/07/2022 15:50:57 Organismic and Evolutionary Biology: 12 profiles completed\n",
      "18/07/2022 15:50:57 Philosophy: 0 profiles completed\n",
      "18/07/2022 15:51:03 Physics: 15 profiles completed\n",
      "18/07/2022 15:51:14 Psychology: 26 profiles completed\n",
      "18/07/2022 15:51:18 Romance Languages and Literatures: 13 profiles completed\n",
      "18/07/2022 15:51:22 Slavic Languages and Literatures: 11 profiles completed\n",
      "18/07/2022 15:51:29 Sociology: 15 profiles completed\n",
      "18/07/2022 15:51:34 South Asian Studies: 13 profiles completed\n",
      "18/07/2022 15:51:47 Statistics: 27 profiles completed\n",
      "18/07/2022 15:52:23 Architecture: 74 profiles completed\n",
      "18/07/2022 15:52:41 Landscape Architecture: 34 profiles completed\n",
      "18/07/2022 15:53:06 Urban Planning and Design: 49 profiles completed\n",
      "18/07/2022 15:53:06 Biostatistics: 0 profiles completed\n",
      "18/07/2022 15:53:36 Environmental Health: 59 profiles completed\n",
      "18/07/2022 15:53:36 Epidemiology: 0 profiles completed\n",
      "18/07/2022 15:53:36 Global Health and Population: 0 profiles completed\n",
      "18/07/2022 15:53:36 Health Policy and Management: 0 profiles completed\n",
      "18/07/2022 15:53:46 Immunology and Infectious Diseases: 16 profiles completed\n",
      "18/07/2022 15:53:52 Molecular Metabolism: 11 profiles completed\n",
      "18/07/2022 15:53:52 Nutrition: 0 profiles completed\n",
      "18/07/2022 15:53:52 Social and Behavioral Sciences: 0 profiles completed\n",
      "18/07/2022 15:53:52 Harvard Business School: 0 profiles completed\n",
      "18/07/2022 15:54:25 Harvard Divinity School: 113 profiles completed\n",
      "18/07/2022 15:54:25 Harvard Graduate School of Education: 0 profiles completed\n",
      "18/07/2022 15:54:25 Harvard Kennedy School: 0 profiles completed\n",
      "18/07/2022 15:56:44 Harvard Law School: 129 profiles completed\n"
     ]
    }
   ],
   "source": [
    "harvard = recognition.detect_gender_race(in_path, out_path)"
   ]
  }
 ],
 "metadata": {
  "kernelspec": {
   "display_name": "Python 3 (ipykernel)",
   "language": "python",
   "name": "python3"
  },
  "language_info": {
   "codemirror_mode": {
    "name": "ipython",
    "version": 3
   },
   "file_extension": ".py",
   "mimetype": "text/x-python",
   "name": "python",
   "nbconvert_exporter": "python",
   "pygments_lexer": "ipython3",
   "version": "3.9.7"
  }
 },
 "nbformat": 4,
 "nbformat_minor": 5
}