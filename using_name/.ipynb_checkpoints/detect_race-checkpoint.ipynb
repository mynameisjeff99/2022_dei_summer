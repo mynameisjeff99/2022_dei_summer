{
 "cells": [
  {
   "cell_type": "code",
   "execution_count": 14,
   "id": "c9d96549",
   "metadata": {},
   "outputs": [],
   "source": [
    "import sys\n",
    "import json\n",
    "import pandas as pd\n",
    "from ethnicolr import census_ln, pred_census_ln, pred_wiki_ln"
   ]
  },
  {
   "cell_type": "code",
   "execution_count": 30,
   "id": "731fbb8f",
   "metadata": {},
   "outputs": [],
   "source": [
    "with open(sys.path[0] + '/../data/columbia_test_sans_processing_w_name_gender.json') as f:\n",
    "    columbia = json.load(f)"
   ]
  },
  {
   "cell_type": "code",
   "execution_count": 31,
   "id": "d592eef6",
   "metadata": {},
   "outputs": [],
   "source": [
    "def guess_race(lst):\n",
    "    df = pd.DataFrame(lst)\n",
    "    odf = pred_census_ln(df, 'last_name')\n",
    "    odf = odf[[\"name\", \"title\", \"img\", \"first_name\", \"middle_name\", \"last_name\", \"gender\", \"race\"]]\n",
    "    res = odf.to_dict(orient='records')\n",
    "    return res"
   ]
  },
  {
   "cell_type": "code",
   "execution_count": 33,
   "id": "ceb919c7",
   "metadata": {},
   "outputs": [
    {
     "name": "stdout",
     "output_type": "stream",
     "text": [
      "['api', 'black', 'hispanic', 'white']\n",
      "['api', 'black', 'hispanic', 'white']\n",
      "['api', 'black', 'hispanic', 'white']\n",
      "['api', 'black', 'hispanic', 'white']\n",
      "['api', 'black', 'hispanic', 'white']\n",
      "['api', 'black', 'hispanic', 'white']\n",
      "['api', 'black', 'hispanic', 'white']\n",
      "['api', 'black', 'hispanic', 'white']\n",
      "['api', 'black', 'hispanic', 'white']\n",
      "['api', 'black', 'hispanic', 'white']\n",
      "['api', 'black', 'hispanic', 'white']\n",
      "['api', 'black', 'hispanic', 'white']\n",
      "['api', 'black', 'hispanic', 'white']\n",
      "['api', 'black', 'hispanic', 'white']\n",
      "['api', 'black', 'hispanic', 'white']\n",
      "['api', 'black', 'hispanic', 'white']\n",
      "['api', 'black', 'hispanic', 'white']\n",
      "['api', 'black', 'hispanic', 'white']\n",
      "['api', 'black', 'hispanic', 'white']\n",
      "['api', 'black', 'hispanic', 'white']\n",
      "['api', 'black', 'hispanic', 'white']\n",
      "['api', 'black', 'hispanic', 'white']\n",
      "['api', 'black', 'hispanic', 'white']\n",
      "['api', 'black', 'hispanic', 'white']\n",
      "['api', 'black', 'hispanic', 'white']\n",
      "['api', 'black', 'hispanic', 'white']\n",
      "['api', 'black', 'hispanic', 'white']\n",
      "['api', 'black', 'hispanic', 'white']\n",
      "['api', 'black', 'hispanic', 'white']\n",
      "['api', 'black', 'hispanic', 'white']\n",
      "['api', 'black', 'hispanic', 'white']\n",
      "['api', 'black', 'hispanic', 'white']\n",
      "['api', 'black', 'hispanic', 'white']\n",
      "['api', 'black', 'hispanic', 'white']\n",
      "['api', 'black', 'hispanic', 'white']\n",
      "['api', 'black', 'hispanic', 'white']\n",
      "['api', 'black', 'hispanic', 'white']\n",
      "['api', 'black', 'hispanic', 'white']\n",
      "['api', 'black', 'hispanic', 'white']\n",
      "['api', 'black', 'hispanic', 'white']\n",
      "['api', 'black', 'hispanic', 'white']\n",
      "['api', 'black', 'hispanic', 'white']\n",
      "['api', 'black', 'hispanic', 'white']\n",
      "['api', 'black', 'hispanic', 'white']\n",
      "['api', 'black', 'hispanic', 'white']\n",
      "['api', 'black', 'hispanic', 'white']\n",
      "['api', 'black', 'hispanic', 'white']\n",
      "['api', 'black', 'hispanic', 'white']\n",
      "['api', 'black', 'hispanic', 'white']\n",
      "['api', 'black', 'hispanic', 'white']\n",
      "['api', 'black', 'hispanic', 'white']\n",
      "['api', 'black', 'hispanic', 'white']\n"
     ]
    }
   ],
   "source": [
    "for department in columbia:\n",
    "    if department.get('profiles') is not None:\n",
    "        profiles = department.get('profiles')\n",
    "        profiles_w_race = guess_race(profiles)\n",
    "        department.update({'profiles': profiles_w_race})"
   ]
  },
  {
   "cell_type": "code",
   "execution_count": 36,
   "id": "06a3649e",
   "metadata": {},
   "outputs": [],
   "source": [
    "with open(sys.path[0] + '/../data/columbia_test_sans_processing_w_name_gender_race.json', 'w') as f:\n",
    "    json.dump(columbia, f)"
   ]
  }
 ],
 "metadata": {
  "kernelspec": {
   "display_name": "Python 3 (ipykernel)",
   "language": "python",
   "name": "python3"
  },
  "language_info": {
   "codemirror_mode": {
    "name": "ipython",
    "version": 3
   },
   "file_extension": ".py",
   "mimetype": "text/x-python",
   "name": "python",
   "nbconvert_exporter": "python",
   "pygments_lexer": "ipython3",
   "version": "3.9.7"
  }
 },
 "nbformat": 4,
 "nbformat_minor": 5
}
