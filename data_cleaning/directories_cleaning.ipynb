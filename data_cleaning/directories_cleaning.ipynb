{
 "cells": [
  {
   "cell_type": "code",
   "execution_count": 32,
   "id": "14c972a9",
   "metadata": {},
   "outputs": [],
   "source": [
    "import sys\n",
    "import json\n",
    "import pandas as pd"
   ]
  },
  {
   "cell_type": "markdown",
   "id": "4ff1a6bc",
   "metadata": {},
   "source": [
    "# Columbia"
   ]
  },
  {
   "cell_type": "code",
   "execution_count": 33,
   "id": "4f352ba1",
   "metadata": {},
   "outputs": [],
   "source": [
    "columbia = pd.read_json(sys.path[0] + '/../data/columbia_directories_initial.json')"
   ]
  },
  {
   "cell_type": "code",
   "execution_count": 42,
   "id": "2d0caf1f",
   "metadata": {},
   "outputs": [
    {
     "name": "stdout",
     "output_type": "stream",
     "text": [
      "0 https://www8.gsb.columbia.edu/faculty-research/divisions/accounting  |  https://www8.gsb.columbia.edu/faculty-research/divisions/accounting/faculty-research\n",
      "1 https://afamstudies.columbia.edu/  |  https://afamstudies.columbia.edu/content/people\n",
      "2 https://africana.barnard.edu/africana-studies  |  https://africana.barnard.edu/faculty-6\n",
      "3 http://www.cumc.columbia.edu/dept/anesthesiology/  |  https://www.anesthesiology.cuimc.columbia.edu/about-us/our-people/our-faculty\n",
      "4 https://anthropology.barnard.edu/  |  https://anthropology.barnard.edu/anthropology-faculty-staff\n",
      "5 http://anthropology.columbia.edu/  |  https://anthropology.columbia.edu/content/faculty-directory\n",
      "6 http://apam.columbia.edu/  |  https://www.apam.columbia.edu/directory?gsarqfields%5Bbiotypetid%5D=30\n",
      "7 https://architecture.barnard.edu/  |  https://architecture.barnard.edu/faculty-profiles\n",
      "8 https://arthistory.barnard.edu/department-art-history  |  https://arthistory.barnard.edu/full-time-faculty\n",
      "9 http://www.columbia.edu/cu/arthistory/  |  https://arthistory.columbia.edu/content/full-time-faculty\n",
      "10 https://amec.barnard.edu/node/705  |  https://amec.barnard.edu/faculty-8\n",
      "11 http://www.astro.columbia.edu/  |  https://www.astro.columbia.edu/content/faculty\n",
      "12 http://www.cumc.columbia.edu/dept/gsas/biochem/  |  https://www.biochem.cuimc.columbia.edu/research/research-faculty\n",
      "13 http://biology.columbia.edu/  |  https://www.biology.columbia.edu/people/faculty-department\n",
      "14 https://biology.barnard.edu/biology  |  https://biology.barnard.edu/faculty-staff\n",
      "15 http://bme.columbia.edu/  |  https://www.bme.columbia.edu/directory?gsarqfields%5Bbiotypetid%5D=30\n",
      "16 https://www.dbmi.columbia.edu/  |  https://www.dbmi.columbia.edu/faculty/\n",
      "17 https://www.mailman.columbia.edu/become-student/departments/biostatistics  |  https://www.publichealth.columbia.edu/information-for/faculty-staff\n",
      "18 http://www.columbiacardiology.org/  |  https://www.columbiacardiology.org/about-us/our-faculty\n",
      "19 http://cheme.columbia.edu/  |  https://www.cheme.columbia.edu/directory?gsarqfields%5Bbiotypetid%5D=30\n",
      "20 https://chemistry.barnard.edu/department-chemistry  |  https://chemistry.barnard.edu/faculty-staff-0\n",
      "21 https://chem.columbia.edu/  |  https://chem.columbia.edu/content/faculty\n",
      "22 http://civil.columbia.edu/  |  https://www.civil.columbia.edu/directory/faculty\n",
      "23 https://classics.barnard.edu/classics  |  https://classics.barnard.edu/faculty-5\n",
      "24 http://classics.columbia.edu/  |  http://classics.columbia.edu/profiles\n",
      "25 http://www.cs.columbia.edu/  |  https://www.cs.columbia.edu/people/faculty/\n",
      "26 https://dance.barnard.edu/  |  https://dance.barnard.edu/dance-faculty\n",
      "27 https://www8.gsb.columbia.edu/faculty-research/divisions/decision-risk-operations  |  https://www8.gsb.columbia.edu/faculty-research/faculty\n",
      "28 https://www.dermatology.columbia.edu/  |  https://www.dermatology.columbia.edu/our-faculty\n",
      "29 http://columbiagi.org/  |  https://www.columbiagi.org/our-providers\n",
      "30 http://eee.columbia.edu/  |  https://www.eee.columbia.edu/directory\n",
      "31 http://eesc.columbia.edu/  |  https://eesc.columbia.edu/content/faculty\n",
      "32 http://ealac.columbia.edu/  |  http://ealac.columbia.edu/people/professors/\n",
      "33 http://e3b.columbia.edu/  |  https://e3b.columbia.edu/faculty/\n",
      "34 https://economics.barnard.edu/department-economics  |  https://economics.barnard.edu/faculty-and-staff-0\n",
      "35 http://econ.columbia.edu/  |  https://econ.columbia.edu/faculty/\n",
      "36 http://www.ee.columbia.edu/  |  https://www.ee.columbia.edu/people-by-type/faculty\n",
      "37 http://www.columbiaendocrinology.com/  |  http://www.columbiaendocrinology.com/people\n",
      "38 http://english.columbia.edu/  |  https://english.columbia.edu/content/faculty\n",
      "39 https://www.mailman.columbia.edu/become-student/departments/environmental-health-sciences-ehs  |  https://www.publichealth.columbia.edu/people/our-faculty/search/?filter_department=Environmental%20Health%20Sciences\n",
      "40 https://envsci.barnard.edu/department-environmental-science  |  https://envsci.barnard.edu/faculty-and-staff-1\n",
      "41 https://www.mailman.columbia.edu/become-student/departments/epidemiology  |  https://www.publichealth.columbia.edu/people/our-faculty/search/?filter_department=Epidemiology\n",
      "42 https://arts.columbia.edu/film/  |  https://arts.columbia.edu/faculty\n",
      "43 https://www8.gsb.columbia.edu/faculty-research/divisions/finance-economics  |  https://www8.gsb.columbia.edu/faculty-research/divisions/finance/faculty\n",
      "44 https://french.barnard.edu/  |  https://french.barnard.edu/dept\n",
      "45 https://french.columbia.edu/  |  https://french.columbia.edu/faculty\n",
      "46 http://www.cumc.columbia.edu/dept/medicine/generalmed/  |  None\n",
      "47 http://www.cumc.columbia.edu/dept/genetics/  |  https://www.genetics.cuimc.columbia.edu/about-us/our-faculty\n",
      "48 https://germanic.columbia.edu/  |  https://germanic.columbia.edu/people\n",
      "49 http://finance.columbia.edu/departments/global-support  |  None\n"
     ]
    }
   ],
   "source": [
    "for i in range(50):\n",
    "    print(i, columbia.iloc[i,1], \" | \", columbia.iloc[i,2])"
   ]
  },
  {
   "cell_type": "code",
   "execution_count": 43,
   "id": "05c72f1d",
   "metadata": {},
   "outputs": [],
   "source": [
    "update = []\n",
    "update.append([0, \"https://www8.gsb.columbia.edu/faculty-research/divisions/accounting/faculty-research\"])\n",
    "update.append([3, \"https://www.anesthesiology.cuimc.columbia.edu/about-us/our-people/our-faculty\"])\n",
    "update.append([6, \"https://www.apam.columbia.edu/directory?gsarqfields%5Bbiotypetid%5D=30\"])\n",
    "update.append([15, \"https://www.bme.columbia.edu/directory?gsarqfields%5Bbiotypetid%5D=30\"])\n",
    "update.append([17, \"https://www.publichealth.columbia.edu/people/our-faculty/search/?filter_department=Biostatistics\"])\n",
    "update.append([19, \"https://www.cheme.columbia.edu/directory?gsarqfields%5Bbiotypetid%5D=30\"])\n",
    "update.append([27, \"https://www8.gsb.columbia.edu/faculty-research/divisions/decision-risk-operations/people/faculty\"])\n",
    "update.append([24, \"http://classics.columbia.edu/profiles\"])\n",
    "update.append([29, \"https://www.columbiagi.org/our-providers\"])\n",
    "update.append([30, \"https://www.eee.columbia.edu/directory\"])\n",
    "update.append([31, \"https://eesc.columbia.edu/content/faculty\"])\n",
    "update.append([32, \"http://ealac.columbia.edu/people/professors/\"])\n",
    "update.append([33, \"https://e3b.columbia.edu/faculty/\"])\n",
    "update.append([36, \"https://www.ee.columbia.edu/people-by-type/faculty\"])\n",
    "update.append([37, \"http://www.columbiaendocrinology.com/people\"])\n",
    "update.append([39, \"https://www.publichealth.columbia.edu/people/our-faculty/search/?filter_department=Environmental%20Health%20Sciences\"])\n",
    "update.append([41, \"https://www.publichealth.columbia.edu/people/our-faculty/search/?filter_department=Epidemiology\"])\n",
    "update.append([43, \"https://www8.gsb.columbia.edu/faculty-research/divisions/finance/faculty\"])\n",
    "update.append([44, \"https://french.barnard.edu/dept\"])\n",
    "update.append([47, \"https://www.genetics.cuimc.columbia.edu/about-us/our-faculty\"])\n",
    "update.append([48, \"https://germanic.columbia.edu/people\"])"
   ]
  },
  {
   "cell_type": "code",
   "execution_count": 44,
   "id": "d78a82b2",
   "metadata": {},
   "outputs": [],
   "source": [
    "columbia_first_50 = columbia.iloc[:50,:]"
   ]
  },
  {
   "cell_type": "code",
   "execution_count": 45,
   "id": "f2f252ba",
   "metadata": {},
   "outputs": [],
   "source": [
    "for u in update:\n",
    "    row = u[0]\n",
    "    new = u[1]\n",
    "    columbia_first_50.loc[row,'faculty_page'] = new"
   ]
  },
  {
   "cell_type": "code",
   "execution_count": 49,
   "id": "6268a0fd",
   "metadata": {},
   "outputs": [],
   "source": [
    "# med school departments\n",
    "to_drop = []\n",
    "for i in columbia_first_50.index:\n",
    "    if 'cumc' in columbia_first_50.iloc[i, 1] or columbia_first_50.iloc[i, 2] is None:\n",
    "        to_drop.append(i)\n",
    "        pass\n",
    "    if '.barnard.' not in columbia_first_50.iloc[i, 1] and '.columbia.' not in columbia_first_50.iloc[i, 1]:\n",
    "        to_drop.append(i)"
   ]
  },
  {
   "cell_type": "code",
   "execution_count": 54,
   "id": "0263707a",
   "metadata": {},
   "outputs": [],
   "source": [
    "# med school departments\n",
    "to_drop.append(16)\n",
    "to_drop.append(28)"
   ]
  },
  {
   "cell_type": "code",
   "execution_count": 55,
   "id": "9fb113e8",
   "metadata": {},
   "outputs": [
    {
     "data": {
      "text/plain": [
       "[3, 12, 18, 29, 37, 46, 47, 49, 16, 16, 28]"
      ]
     },
     "execution_count": 55,
     "metadata": {},
     "output_type": "execute_result"
    }
   ],
   "source": [
    "to_drop"
   ]
  },
  {
   "cell_type": "code",
   "execution_count": 56,
   "id": "7631449e",
   "metadata": {},
   "outputs": [],
   "source": [
    "columbia_first_50_sans_med = columbia_first_50.drop(to_drop)"
   ]
  },
  {
   "cell_type": "code",
   "execution_count": 57,
   "id": "9da78502",
   "metadata": {},
   "outputs": [],
   "source": [
    "columbia_first_50_sans_med.to_json(sys.path[0] + '/../data/columbia_directories_first_50_sans_med.json', orient=\"records\")"
   ]
  }
 ],
 "metadata": {
  "kernelspec": {
   "display_name": "Python 3 (ipykernel)",
   "language": "python",
   "name": "python3"
  },
  "language_info": {
   "codemirror_mode": {
    "name": "ipython",
    "version": 3
   },
   "file_extension": ".py",
   "mimetype": "text/x-python",
   "name": "python",
   "nbconvert_exporter": "python",
   "pygments_lexer": "ipython3",
   "version": "3.9.7"
  }
 },
 "nbformat": 4,
 "nbformat_minor": 5
}
