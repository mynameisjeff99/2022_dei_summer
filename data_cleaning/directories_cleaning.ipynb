{
 "cells": [
  {
   "cell_type": "code",
   "execution_count": 2,
   "id": "14c972a9",
   "metadata": {},
   "outputs": [],
   "source": [
    "import sys\n",
    "import json\n",
    "import pandas as pd\n",
    "import time \n",
    "from selenium import webdriver\n",
    "from selenium.webdriver.chrome.service import Service\n",
    "from webdriver_manager.chrome import ChromeDriverManager"
   ]
  },
  {
   "cell_type": "code",
   "execution_count": 23,
   "id": "6dc312e5",
   "metadata": {},
   "outputs": [
    {
     "name": "stdout",
     "output_type": "stream",
     "text": [
      "\n"
     ]
    },
    {
     "name": "stderr",
     "output_type": "stream",
     "text": [
      "[WDM] - ====== WebDriver manager ======\n",
      "[WDM] - Current google-chrome version is 100.0.4896\n",
      "[WDM] - Get LATEST chromedriver version for 100.0.4896 google-chrome\n",
      "[WDM] - Driver [C:\\Users\\GuoshengCai\\.wdm\\drivers\\chromedriver\\win32\\100.0.4896.60\\chromedriver.exe] found in cache\n"
     ]
    }
   ],
   "source": [
    "driver = webdriver.Chrome(service=Service(ChromeDriverManager().install()))"
   ]
  },
  {
   "cell_type": "code",
   "execution_count": 4,
   "id": "add19204",
   "metadata": {},
   "outputs": [],
   "source": [
    "def check_page(url, driver):\n",
    "    driver.get(url)\n",
    "    time.sleep(5)"
   ]
  },
  {
   "cell_type": "markdown",
   "id": "4ff1a6bc",
   "metadata": {},
   "source": [
    "# Columbia"
   ]
  },
  {
   "cell_type": "code",
   "execution_count": 5,
   "id": "4f352ba1",
   "metadata": {},
   "outputs": [],
   "source": [
    "columbia = pd.read_json(sys.path[0] + '/../data/columbia/columbia_directories_updated.json')"
   ]
  },
  {
   "cell_type": "code",
   "execution_count": 20,
   "id": "453b05dc",
   "metadata": {},
   "outputs": [],
   "source": [
    "to_check = []"
   ]
  },
  {
   "cell_type": "code",
   "execution_count": 19,
   "id": "2d0caf1f",
   "metadata": {},
   "outputs": [
    {
     "name": "stdout",
     "output_type": "stream",
     "text": [
      "__________\n",
      "100 Slavic (Barnard College)\n"
     ]
    },
    {
     "ename": "NameError",
     "evalue": "name 'check_page' is not defined",
     "output_type": "error",
     "traceback": [
      "\u001b[1;31m---------------------------------------------------------------------------\u001b[0m",
      "\u001b[1;31mNameError\u001b[0m                                 Traceback (most recent call last)",
      "\u001b[1;32mC:\\Users\\GUOSHE~1\\AppData\\Local\\Temp/ipykernel_6640/1928811709.py\u001b[0m in \u001b[0;36m<module>\u001b[1;34m\u001b[0m\n\u001b[0;32m      6\u001b[0m         \u001b[0mto_check\u001b[0m\u001b[1;33m.\u001b[0m\u001b[0mappend\u001b[0m\u001b[1;33m(\u001b[0m\u001b[0mi\u001b[0m\u001b[1;33m)\u001b[0m\u001b[1;33m\u001b[0m\u001b[1;33m\u001b[0m\u001b[0m\n\u001b[0;32m      7\u001b[0m     \u001b[1;32melse\u001b[0m\u001b[1;33m:\u001b[0m\u001b[1;33m\u001b[0m\u001b[1;33m\u001b[0m\u001b[0m\n\u001b[1;32m----> 8\u001b[1;33m         \u001b[0mcheck_page\u001b[0m\u001b[1;33m(\u001b[0m\u001b[0murl\u001b[0m\u001b[1;33m,\u001b[0m \u001b[0mdriver\u001b[0m\u001b[1;33m)\u001b[0m\u001b[1;33m\u001b[0m\u001b[1;33m\u001b[0m\u001b[0m\n\u001b[0m",
      "\u001b[1;31mNameError\u001b[0m: name 'check_page' is not defined"
     ]
    }
   ],
   "source": [
    "for i in range(100, columbia.shape[0]):\n",
    "    print(\"__________\")\n",
    "    print(i, columbia.loc[i, 'department'])\n",
    "    url = columbia.loc[i, 'faculty_page']\n",
    "    if url is None:\n",
    "        to_check.append(i)\n",
    "    else:\n",
    "        check_page(url, driver)"
   ]
  },
  {
   "cell_type": "code",
   "execution_count": 18,
   "id": "23d74954",
   "metadata": {},
   "outputs": [
    {
     "ename": "NameError",
     "evalue": "name 'to_check' is not defined",
     "output_type": "error",
     "traceback": [
      "\u001b[1;31m---------------------------------------------------------------------------\u001b[0m",
      "\u001b[1;31mNameError\u001b[0m                                 Traceback (most recent call last)",
      "\u001b[1;32mC:\\Users\\GUOSHE~1\\AppData\\Local\\Temp/ipykernel_6640/890167081.py\u001b[0m in \u001b[0;36m<module>\u001b[1;34m\u001b[0m\n\u001b[0;32m      1\u001b[0m \u001b[1;31m# 0-19\u001b[0m\u001b[1;33m\u001b[0m\u001b[1;33m\u001b[0m\u001b[0m\n\u001b[1;32m----> 2\u001b[1;33m \u001b[0mto_check\u001b[0m\u001b[1;33m.\u001b[0m\u001b[0mextend\u001b[0m\u001b[1;33m(\u001b[0m\u001b[1;33m[\u001b[0m\u001b[1;36m0\u001b[0m\u001b[1;33m,\u001b[0m\u001b[1;36m3\u001b[0m\u001b[1;33m,\u001b[0m\u001b[1;36m6\u001b[0m\u001b[1;33m]\u001b[0m\u001b[1;33m)\u001b[0m\u001b[1;33m\u001b[0m\u001b[1;33m\u001b[0m\u001b[0m\n\u001b[0m\u001b[0;32m      3\u001b[0m \u001b[1;31m# 20-39\u001b[0m\u001b[1;33m\u001b[0m\u001b[1;33m\u001b[0m\u001b[0m\n\u001b[0;32m      4\u001b[0m \u001b[0mto_check\u001b[0m\u001b[1;33m.\u001b[0m\u001b[0mextend\u001b[0m\u001b[1;33m(\u001b[0m\u001b[1;33m[\u001b[0m\u001b[1;36m22\u001b[0m\u001b[1;33m,\u001b[0m \u001b[1;36m24\u001b[0m\u001b[1;33m,\u001b[0m \u001b[1;36m27\u001b[0m\u001b[1;33m,\u001b[0m \u001b[1;36m33\u001b[0m\u001b[1;33m]\u001b[0m\u001b[1;33m)\u001b[0m\u001b[1;33m\u001b[0m\u001b[1;33m\u001b[0m\u001b[0m\n\u001b[0;32m      5\u001b[0m \u001b[1;31m# 40-59\u001b[0m\u001b[1;33m\u001b[0m\u001b[1;33m\u001b[0m\u001b[0m\n",
      "\u001b[1;31mNameError\u001b[0m: name 'to_check' is not defined"
     ]
    }
   ],
   "source": [
    "# 0-19\n",
    "to_check.extend([0,3,6])\n",
    "# 20-39\n",
    "to_check.extend([22, 24, 27, 32, 33])\n",
    "# 40-59\n",
    "to_check.extend([43, 58, 59])\n",
    "# 60-79\n",
    "to_check.extend([71,79])\n",
    "# 80-99\n",
    "to_check.extend([81, 82, 90, 95, 99])\n",
    "# 100-\n",
    "to_check.extend([113, 114])"
   ]
  },
  {
   "cell_type": "code",
   "execution_count": 77,
   "id": "2be6b828",
   "metadata": {},
   "outputs": [],
   "source": [
    "to_check = list(set(to_check))"
   ]
  },
  {
   "cell_type": "code",
   "execution_count": 78,
   "id": "05136bcf",
   "metadata": {},
   "outputs": [
    {
     "name": "stdout",
     "output_type": "stream",
     "text": [
      "success rate = 0.78\n"
     ]
    }
   ],
   "source": [
    "success_rate = len(to_check)/columbia.shape[0]\n",
    "print(f\"success rate = {1-success_rate:.2f}\")"
   ]
  },
  {
   "cell_type": "code",
   "execution_count": 5,
   "id": "dde67fa3",
   "metadata": {},
   "outputs": [],
   "source": [
    "#to_check.sort()\n",
    "#for i in to_check:\n",
    "#    print(\"____________________\")\n",
    "#    print(i, columbia.loc[i,'url'])"
   ]
  },
  {
   "cell_type": "code",
   "execution_count": 7,
   "id": "05c72f1d",
   "metadata": {},
   "outputs": [],
   "source": [
    "update = []\n",
    "update.append([0, \"https://www8.gsb.columbia.edu/faculty-research/divisions/accounting/faculty-research\"])\n",
    "update.append([3, \"https://www.anesthesiology.cuimc.columbia.edu/about-us/our-people/our-faculty\"])\n",
    "update.append([6, \"https://www.apam.columbia.edu/directory?gsarqfields%5Bbiotypetid%5D=30\"])\n",
    "update.append([22, \"https://www.civil.columbia.edu/directory?gsarqfields%5Bbiotypetid%5D=30\"])\n",
    "update.append([17, \"https://www.publichealth.columbia.edu/people/our-faculty/search/?filter_department=Biostatistics\"])\n",
    "update.append([19, \"https://www.cheme.columbia.edu/directory?gsarqfields%5Bbiotypetid%5D=30\"])\n",
    "update.append([24, \"http://classics.columbia.edu/profiles\"])\n",
    "update.append([27, \"https://www8.gsb.columbia.edu/faculty-research/divisions/decision-risk-operations/people/faculty\"])\n",
    "update.append([32, \"http://ealac.columbia.edu/people/faculty/\"])\n",
    "update.append([33, \"https://e3b.columbia.edu/faculty/\"])\n",
    "update.append([43, \"https://www8.gsb.columbia.edu/faculty-research/divisions/finance/faculty\"])\n",
    "update.append([44, \"https://french.barnard.edu/dept\"])\n",
    "update.append([46, None])\n",
    "update.append([49, None])\n",
    "update.append([58, \"https://www8.gsb.columbia.edu/faculty-research/divisions/marketing/faculty-research\"])\n",
    "update.append([59, \"https://www8.gsb.columbia.edu/faculty-research/divisions/marketing/faculty-research\"])\n",
    "update.append([63, None])\n",
    "update.append([71, \"https://neuroscience.columbia.edu/researcher/listing\"])\n",
    "update.append([75, None])\n",
    "update.append([79, \"https://www.pharmacology.cuimc.columbia.edu/about-us/our-faculty\"])\n",
    "update.append([81, \"https://philosophy.columbia.edu/node/265\"])\n",
    "update.append([90, None])\n",
    "update.append([95, \"https://www.columbiaradiology.org/our-faculty\"])\n",
    "update.append([99, \"https://www.rheumatologyatcolumbia.org/about-us/our-faculty/full-time-faculty\"])\n",
    "update.append([107, None])\n",
    "update.append([113, None])\n",
    "update.append([114, \"https://arts.columbia.edu/writing/faculty\"])"
   ]
  },
  {
   "cell_type": "code",
   "execution_count": 8,
   "id": "f2f252ba",
   "metadata": {},
   "outputs": [],
   "source": [
    "for u in update:\n",
    "    row = u[0]\n",
    "    new = u[1]\n",
    "    columbia.loc[row,'faculty_page'] = new"
   ]
  },
  {
   "cell_type": "code",
   "execution_count": 9,
   "id": "6268a0fd",
   "metadata": {},
   "outputs": [],
   "source": [
    "# med school departments\n",
    "to_drop = []\n",
    "for i in columbia.index:\n",
    "    if 'cumc' in columbia.iloc[i, 1] or columbia.iloc[i, 2] is None:\n",
    "        to_drop.append(i)\n",
    "        pass\n",
    "    if '.barnard.' not in columbia.iloc[i, 1] and '.columbia.' not in columbia.iloc[i, 1]:\n",
    "        to_drop.append(i)"
   ]
  },
  {
   "cell_type": "code",
   "execution_count": 10,
   "id": "0263707a",
   "metadata": {},
   "outputs": [],
   "source": [
    "# med school departments\n",
    "to_drop.append(16)\n",
    "to_drop.append(28)\n",
    "to_drop.append(28)\n",
    "to_drop.append(51)\n",
    "to_drop.append(56)\n",
    "to_drop.append(59)\n",
    "to_drop.append(71)\n",
    "to_drop.append(73)\n",
    "to_drop.append(77)\n",
    "to_drop.append(86)\n",
    "to_drop.append(94)\n",
    "to_drop.append(108)"
   ]
  },
  {
   "cell_type": "code",
   "execution_count": 11,
   "id": "7631449e",
   "metadata": {},
   "outputs": [],
   "source": [
    "columbia_directories_sans_med = columbia.drop(to_drop)"
   ]
  },
  {
   "cell_type": "code",
   "execution_count": 12,
   "id": "9da78502",
   "metadata": {},
   "outputs": [],
   "source": [
    "columbia_directories_sans_med.to_json(sys.path[0] + '/../data/columbia/columbia_directories_sans_med.json', orient=\"records\")"
   ]
  },
  {
   "cell_type": "markdown",
   "id": "568dfc81",
   "metadata": {},
   "source": [
    "# Dartmouth"
   ]
  },
  {
   "cell_type": "code",
   "execution_count": 7,
   "id": "039878a4",
   "metadata": {},
   "outputs": [],
   "source": [
    "dartmouth = pd.read_json(sys.path[0] + '/../data/dartmouth/dartmouth_directories.json')"
   ]
  },
  {
   "cell_type": "code",
   "execution_count": 9,
   "id": "7244f343",
   "metadata": {
    "scrolled": true
   },
   "outputs": [
    {
     "name": "stdout",
     "output_type": "stream",
     "text": [
      "__________\n",
      "0 African and African American Studies Program\n",
      "__________\n",
      "1 Anthropology\n",
      "__________\n",
      "2 Art History\n",
      "__________\n",
      "3 Asian Societies, Cultures, and Languages Program\n",
      "__________\n",
      "4 Biological Sciences\n",
      "__________\n",
      "5 Chemistry\n",
      "__________\n",
      "6 Classics\n",
      "__________\n",
      "7 Cognitive Science Program\n",
      "__________\n",
      "8 Comparative Literature Program\n",
      "__________\n",
      "9 Computer Science\n",
      "__________\n",
      "10 Earth Sciences\n",
      "__________\n",
      "11 Economics\n",
      "__________\n",
      "12 Education\n",
      "__________\n",
      "13 Engineering Sciences—Thayer School of Engineering\n",
      "__________\n",
      "14 English and Creative Writing\n",
      "__________\n",
      "15 Environmental Studies\n",
      "__________\n",
      "16 Film and Media Studies\n",
      "__________\n",
      "17 French and Italian\n",
      "__________\n",
      "18 Geography\n",
      "__________\n",
      "19 German Studies\n",
      "__________\n",
      "20 Government\n",
      "__________\n",
      "21 History\n",
      "__________\n",
      "22 Institute for Writing and Rhetoric\n",
      "__________\n",
      "23 Jewish Studies Program\n",
      "__________\n",
      "24 Latin American, Latino, and Caribbean Studies Program\n",
      "__________\n",
      "25 Linguistics\n",
      "__________\n",
      "26 Mathematics\n",
      "__________\n",
      "27 Middle Eastern Studies Program\n",
      "__________\n",
      "28 Music\n",
      "__________\n",
      "29 Native American and Indigenous Studies\n",
      "__________\n",
      "30 Philosophy\n",
      "__________\n",
      "31 Psychological and Brain Sciences\n",
      "__________\n",
      "32 Physics and Astronomy\n",
      "__________\n",
      "33 Quantitative Social Science Program\n",
      "__________\n",
      "34 Religion\n",
      "__________\n",
      "35 Russian\n",
      "__________\n",
      "36 Sociology\n",
      "__________\n",
      "37 Spanish and Portuguese\n",
      "__________\n",
      "38 Studio Art\n",
      "__________\n",
      "39 Theater\n",
      "__________\n",
      "40 Women’s, Gender, and Sexuality Studies Program\n"
     ]
    }
   ],
   "source": [
    "to_check = []\n",
    "for i in range(dartmouth.shape[0]):\n",
    "    print(\"__________\")\n",
    "    print(i, dartmouth.loc[i, 'department'])\n",
    "    url = dartmouth.loc[i, 'faculty_page']\n",
    "    if url is None:\n",
    "        to_check.append(i)\n",
    "    else:\n",
    "        check_page(url, driver)"
   ]
  },
  {
   "cell_type": "code",
   "execution_count": 10,
   "id": "ebf36022",
   "metadata": {},
   "outputs": [],
   "source": [
    "to_check.extend([7, 15, 17, 31])"
   ]
  },
  {
   "cell_type": "code",
   "execution_count": 11,
   "id": "faa3eace",
   "metadata": {
    "scrolled": true
   },
   "outputs": [
    {
     "name": "stdout",
     "output_type": "stream",
     "text": [
      "____________________\n",
      "7 https://cognitive-science.dartmouth.edu/\n",
      "____________________\n",
      "13 https://engineering.dartmouth.edu/academics/undergraduate/\n",
      "____________________\n",
      "15 https://envs.dartmouth.edu/\n",
      "____________________\n",
      "17 https://frandit.dartmouth.edu/\n",
      "____________________\n",
      "26 https://math.dartmouth.edu/\n",
      "____________________\n",
      "28 https://music.dartmouth.edu/\n",
      "____________________\n",
      "31 https://pbs.dartmouth.edu/\n",
      "____________________\n",
      "33 https://qss.dartmouth.edu/\n"
     ]
    }
   ],
   "source": [
    "to_check.sort()\n",
    "for i in to_check:\n",
    "    print(\"____________________\")\n",
    "    print(i, dartmouth.loc[i,'url'])"
   ]
  },
  {
   "cell_type": "code",
   "execution_count": 13,
   "id": "d3626854",
   "metadata": {},
   "outputs": [],
   "source": [
    "update = []\n",
    "update.append([7, \"https://cognitive-science.dartmouth.edu/people?field_people_local_tags_tid=836\"])\n",
    "update.append([13, \"https://engineering.dartmouth.edu/community/faculty\"])\n",
    "update.append([15, \"https://envs.dartmouth.edu/people\"])\n",
    "update.append([17, \"https://frandit.dartmouth.edu/people\"])\n",
    "update.append([26, \"https://math.dartmouth.edu/people/people-select.php?list=permanent\"])\n",
    "update.append([28, \"https://music.dartmouth.edu/people/people?field_people_local_tags_tid=All\"])\n",
    "update.append([31, \"https://pbs.dartmouth.edu/people?field_people_local_tags_tid=1896\"])\n",
    "update.append([33, \"https://qss.dartmouth.edu/people\"])"
   ]
  },
  {
   "cell_type": "code",
   "execution_count": 14,
   "id": "d88f5e52",
   "metadata": {},
   "outputs": [],
   "source": [
    "for u in update:\n",
    "    row = u[0]\n",
    "    new = u[1]\n",
    "    dartmouth.loc[row,'faculty_page'] = new"
   ]
  },
  {
   "cell_type": "code",
   "execution_count": 17,
   "id": "247bd1f4",
   "metadata": {},
   "outputs": [],
   "source": [
    "dartmouth.to_json(sys.path[0] + '/../data/dartmouth/dartmouth_directories_sans_med.json', orient=\"records\")"
   ]
  },
  {
   "cell_type": "markdown",
   "id": "c3dcc1ab",
   "metadata": {},
   "source": [
    "# Yale"
   ]
  },
  {
   "cell_type": "code",
   "execution_count": 22,
   "id": "1024ae1c",
   "metadata": {},
   "outputs": [],
   "source": [
    "yale = pd.read_json(sys.path[0] + '/../data/yale/yale_directories.json')"
   ]
  },
  {
   "cell_type": "code",
   "execution_count": 23,
   "id": "b4948290",
   "metadata": {},
   "outputs": [],
   "source": [
    "# exclude med school\n",
    "yale = yale[yale['url'].str.contains(\"medicine.yale.edu\")==False].reset_index(drop=True)"
   ]
  },
  {
   "cell_type": "code",
   "execution_count": 25,
   "id": "81f224c9",
   "metadata": {},
   "outputs": [],
   "source": [
    "to_check = []"
   ]
  },
  {
   "cell_type": "code",
   "execution_count": 29,
   "id": "48a180ed",
   "metadata": {},
   "outputs": [],
   "source": [
    "to_drop = []"
   ]
  },
  {
   "cell_type": "code",
   "execution_count": 32,
   "id": "50cfb8af",
   "metadata": {
    "scrolled": true
   },
   "outputs": [
    {
     "name": "stdout",
     "output_type": "stream",
     "text": [
      "__________\n",
      "40 History of Science & Medicine\n",
      "__________\n",
      "41 Humanities\n",
      "__________\n",
      "42 International & Development Economics\n",
      "__________\n",
      "43 Italian Studies\n",
      "__________\n",
      "44 Judaic Studies\n",
      "__________\n",
      "45 Latin American Studies\n",
      "__________\n",
      "46 Law\n",
      "__________\n",
      "47 Linguistics\n",
      "__________\n",
      "48 Management\n",
      "__________\n",
      "49 Mathematics\n",
      "__________\n",
      "50 Mechanical Engineering & Materials Science\n",
      "__________\n",
      "51 Medieval Studies\n",
      "__________\n",
      "52 Modern Middle East Studies\n",
      "__________\n",
      "53 Molecular Biophysics & Biochemistry\n",
      "__________\n",
      "54 Molecular, Cellular & Developmental Biology\n",
      "__________\n",
      "55 Music\n",
      "__________\n",
      "56 Near Eastern Languages & Civilizations\n",
      "__________\n",
      "57 Nursing\n",
      "__________\n",
      "58 Philosophy\n",
      "__________\n",
      "59 Physics\n",
      "__________\n",
      "60 Political Science\n",
      "__________\n",
      "61 Psychology\n",
      "__________\n",
      "62 Public Health\n",
      "__________\n",
      "63 Religious Studies\n",
      "__________\n",
      "64 Renaissance Studies\n",
      "__________\n",
      "65 Slavic Languages & Literatures\n",
      "__________\n",
      "66 Sociology\n",
      "__________\n",
      "67 South Asian Studies\n",
      "__________\n",
      "68 Spanish & Portuguese\n",
      "__________\n",
      "69 Statistics & Data Science\n",
      "__________\n",
      "70 Theater & Performance Studies\n",
      "__________\n",
      "71 Women’s, Gender, & Sexuality Studies\n"
     ]
    }
   ],
   "source": [
    "for i in range(40, yale.shape[0]):\n",
    "    print(\"__________\")\n",
    "    print(i, yale.loc[i, 'department'])\n",
    "    url = yale.loc[i, 'faculty_page']\n",
    "    if url is None:\n",
    "        to_check.append(i)\n",
    "    else:\n",
    "        check_page(url, driver)"
   ]
  },
  {
   "cell_type": "code",
   "execution_count": 33,
   "id": "5a2452da",
   "metadata": {},
   "outputs": [],
   "source": [
    "to_check.extend([2, 6, 20, 25, 30, 33, 35])\n",
    "to_check.extend([41, 43, 44, 46, 48, 55, 66])\n",
    "to_drop.extend([10, 13, 27, 28, 36, 37, 42, 57, 62])"
   ]
  },
  {
   "cell_type": "code",
   "execution_count": 35,
   "id": "d9d27d2b",
   "metadata": {
    "scrolled": true
   },
   "outputs": [
    {
     "name": "stdout",
     "output_type": "stream",
     "text": [
      "____________________\n",
      "2 https://americanstudies.yale.edu/\n",
      "____________________\n",
      "6 https://archaeology.yale.edu/\n",
      "____________________\n",
      "20 https://eall.yale.edu/\n",
      "____________________\n",
      "25 https://seas.yale.edu/\n",
      "____________________\n",
      "30 https://europeanstudies.macmillan.yale.edu/\n",
      "____________________\n",
      "33 https://french.yale.edu/\n",
      "____________________\n",
      "35 https://jackson.yale.edu/\n",
      "____________________\n",
      "41 https://humanities.yale.edu/\n",
      "____________________\n",
      "42 https://ide.yale.edu/\n",
      "____________________\n",
      "43 https://italian.yale.edu/\n",
      "____________________\n",
      "44 https://judaicstudies.yale.edu/\n",
      "____________________\n",
      "46 https://law.yale.edu/\n",
      "____________________\n",
      "48 https://som.yale.edu/\n",
      "____________________\n",
      "55 https://yalemusic.yale.edu/\n",
      "____________________\n",
      "66 https://sociology.yale.edu/\n"
     ]
    }
   ],
   "source": [
    "to_check.sort()\n",
    "for i in to_check:\n",
    "    print(\"____________________\")\n",
    "    print(i, yale.loc[i,'url'])"
   ]
  },
  {
   "cell_type": "code",
   "execution_count": 36,
   "id": "bbe4b273",
   "metadata": {},
   "outputs": [],
   "source": [
    "update = []\n",
    "update.append([2, \"https://americanstudies.yale.edu/people/faculty\"])\n",
    "update.append([20, \"https://eall.yale.edu/people/professors\"])\n",
    "update.append([25, \"https://seas.yale.edu/faculty-research/faculty-directory\"])\n",
    "update.append([30, \"https://europeanstudies.macmillan.yale.edu/people/faculty\"])\n",
    "update.append([33, \"https://french.yale.edu/people/professors\"])\n",
    "update.append([35, \"https://jackson.yale.edu/about/meet-us/faculty/professors-of-global-affairs/\"])\n",
    "update.append([41, \"https://humanities.yale.edu/people/associated-faculty\"])\n",
    "update.append([43, \"https://italian.yale.edu/people\"])\n",
    "update.append([44, \"https://judaicstudies.yale.edu/people/core-faculty\"])\n",
    "update.append([46, \"https://law.yale.edu/faculty?combine=&field_type_value=Faculty\"])\n",
    "update.append([48, \"https://som.yale.edu/faculty-research/faculty-directory\"])\n",
    "update.append([55, \"https://yalemusic.yale.edu/people/faculty\"])\n",
    "update.append([66, \"https://sociology.yale.edu/people/faculty\"])"
   ]
  },
  {
   "cell_type": "code",
   "execution_count": 37,
   "id": "8cc324ca",
   "metadata": {},
   "outputs": [],
   "source": [
    "for u in update:\n",
    "    row = u[0]\n",
    "    new = u[1]\n",
    "    yale.loc[row,'faculty_page'] = new"
   ]
  },
  {
   "cell_type": "code",
   "execution_count": 38,
   "id": "cd2b8993",
   "metadata": {},
   "outputs": [
    {
     "data": {
      "text/html": [
       "<div>\n",
       "<style scoped>\n",
       "    .dataframe tbody tr th:only-of-type {\n",
       "        vertical-align: middle;\n",
       "    }\n",
       "\n",
       "    .dataframe tbody tr th {\n",
       "        vertical-align: top;\n",
       "    }\n",
       "\n",
       "    .dataframe thead th {\n",
       "        text-align: right;\n",
       "    }\n",
       "</style>\n",
       "<table border=\"1\" class=\"dataframe\">\n",
       "  <thead>\n",
       "    <tr style=\"text-align: right;\">\n",
       "      <th></th>\n",
       "      <th>department</th>\n",
       "      <th>url</th>\n",
       "      <th>faculty_page</th>\n",
       "    </tr>\n",
       "  </thead>\n",
       "  <tbody>\n",
       "    <tr>\n",
       "      <th>0</th>\n",
       "      <td>African American Studies</td>\n",
       "      <td>https://afamstudies.yale.edu/</td>\n",
       "      <td>https://afamstudies.yale.edu/people</td>\n",
       "    </tr>\n",
       "    <tr>\n",
       "      <th>1</th>\n",
       "      <td>African Studies</td>\n",
       "      <td>https://african.macmillan.yale.edu/</td>\n",
       "      <td>https://african.macmillan.yale.edu/people/faculty</td>\n",
       "    </tr>\n",
       "    <tr>\n",
       "      <th>2</th>\n",
       "      <td>American Studies</td>\n",
       "      <td>https://americanstudies.yale.edu/</td>\n",
       "      <td>https://americanstudies.yale.edu/people/faculty</td>\n",
       "    </tr>\n",
       "    <tr>\n",
       "      <th>3</th>\n",
       "      <td>Anthropology</td>\n",
       "      <td>https://anthropology.yale.edu/</td>\n",
       "      <td>https://anthropology.yale.edu/people/faculty</td>\n",
       "    </tr>\n",
       "    <tr>\n",
       "      <th>4</th>\n",
       "      <td>Applied Mathematics</td>\n",
       "      <td>https://applied.math.yale.edu/</td>\n",
       "      <td>https://applied.math.yale.edu/people/faculty</td>\n",
       "    </tr>\n",
       "    <tr>\n",
       "      <th>...</th>\n",
       "      <td>...</td>\n",
       "      <td>...</td>\n",
       "      <td>...</td>\n",
       "    </tr>\n",
       "    <tr>\n",
       "      <th>67</th>\n",
       "      <td>South Asian Studies</td>\n",
       "      <td>https://southasia.macmillan.yale.edu/</td>\n",
       "      <td>https://southasia.macmillan.yale.edu/grants-fe...</td>\n",
       "    </tr>\n",
       "    <tr>\n",
       "      <th>68</th>\n",
       "      <td>Spanish &amp; Portuguese</td>\n",
       "      <td>https://span-port.yale.edu/</td>\n",
       "      <td>https://span-port.yale.edu/people</td>\n",
       "    </tr>\n",
       "    <tr>\n",
       "      <th>69</th>\n",
       "      <td>Statistics &amp; Data Science</td>\n",
       "      <td>https://statistics.yale.edu/</td>\n",
       "      <td>https://statistics.yale.edu/people/faculty</td>\n",
       "    </tr>\n",
       "    <tr>\n",
       "      <th>70</th>\n",
       "      <td>Theater &amp; Performance Studies</td>\n",
       "      <td>https://theaterstudies.yale.edu/</td>\n",
       "      <td>https://theaterstudies.yale.edu/people/faculty</td>\n",
       "    </tr>\n",
       "    <tr>\n",
       "      <th>71</th>\n",
       "      <td>Women’s, Gender, &amp; Sexuality Studies</td>\n",
       "      <td>https://wgss.yale.edu/</td>\n",
       "      <td>https://wgss.yale.edu/people</td>\n",
       "    </tr>\n",
       "  </tbody>\n",
       "</table>\n",
       "<p>72 rows × 3 columns</p>\n",
       "</div>"
      ],
      "text/plain": [
       "                              department  \\\n",
       "0               African American Studies   \n",
       "1                        African Studies   \n",
       "2                       American Studies   \n",
       "3                           Anthropology   \n",
       "4                    Applied Mathematics   \n",
       "..                                   ...   \n",
       "67                   South Asian Studies   \n",
       "68                  Spanish & Portuguese   \n",
       "69             Statistics & Data Science   \n",
       "70         Theater & Performance Studies   \n",
       "71  Women’s, Gender, & Sexuality Studies   \n",
       "\n",
       "                                      url  \\\n",
       "0           https://afamstudies.yale.edu/   \n",
       "1     https://african.macmillan.yale.edu/   \n",
       "2       https://americanstudies.yale.edu/   \n",
       "3          https://anthropology.yale.edu/   \n",
       "4          https://applied.math.yale.edu/   \n",
       "..                                    ...   \n",
       "67  https://southasia.macmillan.yale.edu/   \n",
       "68            https://span-port.yale.edu/   \n",
       "69           https://statistics.yale.edu/   \n",
       "70       https://theaterstudies.yale.edu/   \n",
       "71                 https://wgss.yale.edu/   \n",
       "\n",
       "                                         faculty_page  \n",
       "0                 https://afamstudies.yale.edu/people  \n",
       "1   https://african.macmillan.yale.edu/people/faculty  \n",
       "2     https://americanstudies.yale.edu/people/faculty  \n",
       "3        https://anthropology.yale.edu/people/faculty  \n",
       "4        https://applied.math.yale.edu/people/faculty  \n",
       "..                                                ...  \n",
       "67  https://southasia.macmillan.yale.edu/grants-fe...  \n",
       "68                  https://span-port.yale.edu/people  \n",
       "69         https://statistics.yale.edu/people/faculty  \n",
       "70     https://theaterstudies.yale.edu/people/faculty  \n",
       "71                       https://wgss.yale.edu/people  \n",
       "\n",
       "[72 rows x 3 columns]"
      ]
     },
     "execution_count": 38,
     "metadata": {},
     "output_type": "execute_result"
    }
   ],
   "source": [
    "yale"
   ]
  },
  {
   "cell_type": "code",
   "execution_count": 40,
   "id": "9cb01829",
   "metadata": {},
   "outputs": [],
   "source": [
    "yale = yale.drop(index=to_drop)"
   ]
  },
  {
   "cell_type": "code",
   "execution_count": 41,
   "id": "c8e01853",
   "metadata": {},
   "outputs": [],
   "source": [
    "yale.to_json(sys.path[0] + '/../data/yale/yale_directories_sans_med.json', orient=\"records\")"
   ]
  },
  {
   "cell_type": "markdown",
   "id": "7c5e88d0",
   "metadata": {},
   "source": [
    "# Princeton"
   ]
  },
  {
   "cell_type": "code",
   "execution_count": 17,
   "id": "4e0b0d2e",
   "metadata": {},
   "outputs": [],
   "source": [
    "princeton = pd.read_json(sys.path[0] + '/../data/princeton/princeton_directories.json')"
   ]
  },
  {
   "cell_type": "code",
   "execution_count": 18,
   "id": "ab53df90",
   "metadata": {},
   "outputs": [],
   "source": [
    "to_check = []"
   ]
  },
  {
   "cell_type": "code",
   "execution_count": 19,
   "id": "6882b45b",
   "metadata": {},
   "outputs": [],
   "source": [
    "to_drop = []"
   ]
  },
  {
   "cell_type": "code",
   "execution_count": 20,
   "id": "0d605ac1",
   "metadata": {},
   "outputs": [
    {
     "data": {
      "text/plain": [
       "(38, 3)"
      ]
     },
     "execution_count": 20,
     "metadata": {},
     "output_type": "execute_result"
    }
   ],
   "source": [
    "princeton.shape"
   ]
  },
  {
   "cell_type": "code",
   "execution_count": 21,
   "id": "4fb14ccc",
   "metadata": {
    "scrolled": true
   },
   "outputs": [
    {
     "name": "stdout",
     "output_type": "stream",
     "text": [
      "__________\n",
      "0 African American Studies\n",
      "__________\n",
      "1 Anthropology\n",
      "__________\n",
      "2 Architecture\n",
      "__________\n",
      "3 Art and Archaeology\n",
      "__________\n",
      "4 Astrophysical Sciences\n",
      "__________\n",
      "5 Chemistry\n",
      "__________\n",
      "6 Classics \n",
      "__________\n",
      "7 Comparative Literature\n",
      "__________\n",
      "8 Computer Science\n",
      "__________\n",
      "9 East Asian Studies\n",
      "__________\n",
      "10 Ecology and Evolutionary Biology\n",
      "__________\n",
      "11 Economics\n",
      "__________\n",
      "12 English\n",
      "__________\n",
      "13 French and Italian\n",
      "__________\n",
      "14 Geosciences\n",
      "__________\n",
      "15 German\n",
      "__________\n",
      "16 History\n",
      "__________\n",
      "17 Mathematics\n",
      "__________\n",
      "18 Molecular Biology\n",
      "__________\n",
      "19 Music\n",
      "__________\n",
      "20 Near Eastern Studies\n",
      "__________\n",
      "21 Neuroscience\n",
      "__________\n",
      "22 Philosophy\n",
      "__________\n",
      "23 Physics\n",
      "__________\n",
      "24 Politics\n",
      "__________\n",
      "25 Psychology\n",
      "__________\n",
      "26 Public Policy (Princeton School of Public and International Affairs)\n",
      "__________\n",
      "27 Religion\n",
      "__________\n",
      "28 Slavic Languages and Literatures\n",
      "__________\n",
      "29 Sociology\n",
      "__________\n",
      "30 Spanish and Portuguese\n",
      "__________\n",
      "31 Chemical and Biological Engineering\n",
      "__________\n",
      "32 Civil and Environmental Engineering\n",
      "__________\n",
      "33 Computer Science\n",
      "__________\n",
      "34 Electrical and Computer Engineering\n",
      "__________\n",
      "35 Mechanical and Aerospace Engineering\n",
      "__________\n",
      "36 Operations Research and Financial Engineering\n",
      "__________\n",
      "37 Dean of the College\n"
     ]
    }
   ],
   "source": [
    "for i in range(princeton.shape[0]):\n",
    "    print(\"__________\")\n",
    "    print(i, princeton.loc[i, 'department'])\n",
    "    url = princeton.loc[i, 'faculty_page']\n",
    "    if url is None:\n",
    "        to_check.append(i)\n",
    "    else:\n",
    "        check_page(url, driver)"
   ]
  },
  {
   "cell_type": "code",
   "execution_count": 24,
   "id": "f4225c4e",
   "metadata": {},
   "outputs": [],
   "source": [
    "to_check.extend([2, 3, 5, 25])\n",
    "to_drop.append(37)"
   ]
  },
  {
   "cell_type": "code",
   "execution_count": 25,
   "id": "36e05bfd",
   "metadata": {},
   "outputs": [
    {
     "name": "stdout",
     "output_type": "stream",
     "text": [
      "____________________\n",
      "2 http://soa.princeton.edu/\n",
      "____________________\n",
      "3 https://artandarchaeology.princeton.edu/\n",
      "____________________\n",
      "5 http://chemistry.princeton.edu/\n",
      "____________________\n",
      "9 http://eastasia.princeton.edu/\n",
      "____________________\n",
      "25 http://psych.princeton.edu/\n"
     ]
    }
   ],
   "source": [
    "to_check.sort()\n",
    "for i in to_check:\n",
    "    print(\"____________________\")\n",
    "    print(i, princeton.loc[i,'url'])"
   ]
  },
  {
   "cell_type": "code",
   "execution_count": 26,
   "id": "cbcf403a",
   "metadata": {},
   "outputs": [],
   "source": [
    "update = []\n",
    "update.append([2, \"https://soa.princeton.edu/zone/people-faculty#3090\"])\n",
    "update.append([3, \"https://artandarchaeology.princeton.edu/people/faculty\"])\n",
    "update.append([5, \"https://chemistry.princeton.edu/faculty\"])\n",
    "update.append([9, \"https://eas.princeton.edu/people\"])\n",
    "to_drop.append(37)"
   ]
  },
  {
   "cell_type": "code",
   "execution_count": 28,
   "id": "b110ca23",
   "metadata": {},
   "outputs": [],
   "source": [
    "for u in update:\n",
    "    row = u[0]\n",
    "    new = u[1]\n",
    "    princeton.loc[row,'faculty_page'] = new"
   ]
  },
  {
   "cell_type": "code",
   "execution_count": 29,
   "id": "90088897",
   "metadata": {},
   "outputs": [],
   "source": [
    "princeton = princeton.drop(index=to_drop)"
   ]
  },
  {
   "cell_type": "code",
   "execution_count": 30,
   "id": "3a2eb10e",
   "metadata": {},
   "outputs": [],
   "source": [
    "princeton.to_json(sys.path[0] + '/../data/princeton/princeton_directories_sans_med.json', orient=\"records\")"
   ]
  },
  {
   "cell_type": "markdown",
   "id": "c509bd0d",
   "metadata": {},
   "source": [
    "# Brown"
   ]
  },
  {
   "cell_type": "code",
   "execution_count": 18,
   "id": "b1a6e781",
   "metadata": {},
   "outputs": [],
   "source": [
    "brown = pd.read_json(sys.path[0] + '/../data/brown/brown_directories.json')"
   ]
  },
  {
   "cell_type": "code",
   "execution_count": 19,
   "id": "767aacb9",
   "metadata": {},
   "outputs": [],
   "source": [
    "to_check = []"
   ]
  },
  {
   "cell_type": "code",
   "execution_count": 20,
   "id": "41069d15",
   "metadata": {},
   "outputs": [],
   "source": [
    "to_drop = []"
   ]
  },
  {
   "cell_type": "code",
   "execution_count": 21,
   "id": "c5be3cef",
   "metadata": {},
   "outputs": [
    {
     "data": {
      "text/plain": [
       "(47, 3)"
      ]
     },
     "execution_count": 21,
     "metadata": {},
     "output_type": "execute_result"
    }
   ],
   "source": [
    "brown.shape"
   ]
  },
  {
   "cell_type": "code",
   "execution_count": 24,
   "id": "bd66bfd3",
   "metadata": {
    "scrolled": true
   },
   "outputs": [
    {
     "name": "stdout",
     "output_type": "stream",
     "text": [
      "__________\n",
      "0 Department of Africana Studies\n",
      "__________\n",
      "1 Department of American Studies\n",
      "__________\n",
      "2 Department of Anthropology\n",
      "__________\n",
      "3 Division of Applied Mathematics\n",
      "__________\n",
      "4 Department of Behavioral and Social Sciences\n",
      "__________\n",
      "5 Program in Biology\n",
      "__________\n",
      "6 Department of Biostatistics\n",
      "__________\n",
      "7 Department of Chemistry\n",
      "__________\n",
      "8 Department of Classics\n",
      "__________\n",
      "9 Department of Cognitive, Linguistic, and Psychological Sciences\n",
      "__________\n",
      "10 Department of Comparative Literature\n",
      "__________\n",
      "11 Department of Computer Science\n",
      "__________\n",
      "12 Department of Earth, Environmental and Planetary Sciences\n",
      "__________\n",
      "13 Department of East Asian Studies\n",
      "__________\n",
      "14 Department of Ecology and Evolutionary Biology\n",
      "__________\n",
      "15 Department of Economics\n",
      "__________\n",
      "16 Department of Education\n",
      "__________\n",
      "17 Department of Egyptology and Assyriology\n",
      "__________\n",
      "18 Department of English\n",
      "__________\n",
      "19 Department of Epidemiology\n",
      "__________\n",
      "20 Department of French Studies\n",
      "__________\n",
      "21 Department of German Studies\n",
      "__________\n",
      "22 Department of Health Services, Policy & Practice\n",
      "__________\n",
      "23 Department of Hispanic Studies\n",
      "__________\n",
      "24 Department of History of Art and Architecture\n",
      "__________\n",
      "25 Department of History\n",
      "__________\n",
      "26 Department of Italian Studies\n",
      "__________\n",
      "27 Program in Judaic Studies\n",
      "__________\n",
      "28 Literary Arts Program\n",
      "__________\n",
      "29 Department of Mathematics\n",
      "__________\n",
      "30 Department of Modern Culture and Media\n",
      "__________\n",
      "31 Department of Molecular Biology, Cell Biology, and Biochemistry\n",
      "__________\n",
      "32 Department of Molecular Microbiology and Immunology\n",
      "__________\n",
      "33 Department of Molecular Pharmacology, Physiology and Biotechnology\n",
      "__________\n",
      "34 Department of Music\n",
      "__________\n",
      "35 Department of Neuroscience\n",
      "__________\n",
      "36 Department of Pathology and Laboratory Medicine\n",
      "__________\n",
      "37 Department of Philosophy\n",
      "__________\n",
      "38 Department of Physics\n",
      "__________\n",
      "39 Department of Political Science\n",
      "__________\n",
      "40 Department of Portuguese & Brazilian Studies\n",
      "__________\n",
      "41 Department of Religious Studies\n",
      "__________\n",
      "42 Program in Science, Technology, and Society\n",
      "__________\n",
      "43 Department of Slavic Languages\n",
      "__________\n",
      "44 Department of Sociology\n",
      "__________\n",
      "45 Department of Theatre Arts and Performance Studies\n",
      "__________\n",
      "46 Department of Visual Art\n"
     ]
    }
   ],
   "source": [
    "for i in range(brown.shape[0]):\n",
    "    print(\"__________\")\n",
    "    print(i, brown.loc[i, 'department'])\n",
    "    url = brown.loc[i, 'faculty_page']\n",
    "    if url is None:\n",
    "        to_check.append(i)\n",
    "    else:\n",
    "        check_page(url, driver)"
   ]
  },
  {
   "cell_type": "code",
   "execution_count": 25,
   "id": "db61195b",
   "metadata": {},
   "outputs": [],
   "source": [
    "to_check.extend([0,3,4,5,6,12,16,17,20,22,28,33,34,35,36,38,45])"
   ]
  },
  {
   "cell_type": "code",
   "execution_count": 27,
   "id": "a6f80eff",
   "metadata": {
    "scrolled": true
   },
   "outputs": [
    {
     "name": "stdout",
     "output_type": "stream",
     "text": [
      "____________________\n",
      "0 https://www.brown.edu/a-z/department-africana-studies\n",
      "____________________\n",
      "3 https://www.brown.edu/a-z/division-applied-mathematics\n",
      "____________________\n",
      "4 https://www.brown.edu/a-z/department-behavioral-and-social-sciences\n",
      "____________________\n",
      "5 https://www.brown.edu/a-z/program-biology\n",
      "____________________\n",
      "6 https://www.brown.edu/a-z/department-biostatistics\n",
      "____________________\n",
      "12 https://www.brown.edu/a-z/department-earth-environmental-and-planetary-sciences\n",
      "____________________\n",
      "16 https://www.brown.edu/a-z/department-education\n",
      "____________________\n",
      "17 https://www.brown.edu/a-z/department-egyptology-and-assyriology\n",
      "____________________\n",
      "20 https://www.brown.edu/a-z/department-french-studies\n",
      "____________________\n",
      "22 https://www.brown.edu/a-z/department-health-services-policy-practice\n",
      "____________________\n",
      "28 https://www.brown.edu/a-z/literary-arts-program\n",
      "____________________\n",
      "33 https://www.brown.edu/a-z/department-molecular-pharmacology-physiology-and-biotechnology\n",
      "____________________\n",
      "34 https://www.brown.edu/a-z/department-music\n",
      "____________________\n",
      "35 https://www.brown.edu/a-z/department-neuroscience\n",
      "____________________\n",
      "36 https://www.brown.edu/a-z/department-pathology-and-laboratory-medicine\n",
      "____________________\n",
      "38 https://www.brown.edu/a-z/department-physics\n",
      "____________________\n",
      "45 https://www.brown.edu/a-z/department-theatre-arts-and-performance-studies\n"
     ]
    }
   ],
   "source": [
    "to_check.sort()\n",
    "for i in to_check:\n",
    "    print(\"____________________\")\n",
    "    print(i, brown.loc[i,'url'])"
   ]
  },
  {
   "cell_type": "code",
   "execution_count": 28,
   "id": "fe6f11fb",
   "metadata": {},
   "outputs": [],
   "source": [
    "update = []\n",
    "update.append([0, \"https://africana.brown.edu/faculty/our-faculty\"])\n",
    "update.append([3, \"https://appliedmath.brown.edu/people/faculty\"])\n",
    "update.append([4, \"https://www.brown.edu/academics/public-health/bss/about/people/faculty\"])\n",
    "update.append([6, \"https://www.brown.edu/academics/public-health/biostats/people/faculty\"])\n",
    "update.append([12, \"https://www.brown.edu/academics/earth-environmental-planetary-sciences/faculty\"])\n",
    "update.append([17, \"https://e-a.brown.edu/people/faculty-staff\"])\n",
    "update.append([20, \"https://www.brown.edu/academics/french-studies/faculty\"])\n",
    "update.append([22, \"https://www.brown.edu/academics/public-health/hspp/people/faculty\"])\n",
    "update.append([28, \"https://www.brown.edu/academics/literary-arts/faculty/faculty\"])\n",
    "update.append([34, \"https://music.brown.edu/people/faculty\"])\n",
    "update.append([35, \"https://neuroscience.brown.edu/people/faculty\"])\n",
    "update.append([38, \"https://www.brown.edu/academics/physics/professors-physics\"])\n",
    "update.append([45, \"https://www.brown.edu/academics/theatre-arts-performance-studies/faculty\"])\n",
    "\n",
    "to_drop.extend([5,16,33,36])"
   ]
  },
  {
   "cell_type": "code",
   "execution_count": 29,
   "id": "b5990288",
   "metadata": {},
   "outputs": [],
   "source": [
    "for u in update:\n",
    "    row = u[0]\n",
    "    new = u[1]\n",
    "    brown.loc[row,'faculty_page'] = new"
   ]
  },
  {
   "cell_type": "code",
   "execution_count": 30,
   "id": "836e3833",
   "metadata": {},
   "outputs": [],
   "source": [
    "brown = brown.drop(index=to_drop)"
   ]
  },
  {
   "cell_type": "code",
   "execution_count": 31,
   "id": "36106659",
   "metadata": {},
   "outputs": [],
   "source": [
    "brown.to_json(sys.path[0] + '/../data/brown/brown_directories_sans_med.json', orient=\"records\")"
   ]
  }
 ],
 "metadata": {
  "kernelspec": {
   "display_name": "Python 3 (ipykernel)",
   "language": "python",
   "name": "python3"
  },
  "language_info": {
   "codemirror_mode": {
    "name": "ipython",
    "version": 3
   },
   "file_extension": ".py",
   "mimetype": "text/x-python",
   "name": "python",
   "nbconvert_exporter": "python",
   "pygments_lexer": "ipython3",
   "version": "3.9.7"
  }
 },
 "nbformat": 4,
 "nbformat_minor": 5
}
