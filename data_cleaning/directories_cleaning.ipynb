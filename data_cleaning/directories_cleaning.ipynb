{
 "cells": [
  {
   "cell_type": "code",
   "execution_count": 1,
   "id": "14c972a9",
   "metadata": {},
   "outputs": [],
   "source": [
    "import sys\n",
    "import json\n",
    "import pandas as pd\n",
    "import time \n",
    "from selenium import webdriver\n",
    "from selenium.webdriver.chrome.service import Service\n",
    "from webdriver_manager.chrome import ChromeDriverManager"
   ]
  },
  {
   "cell_type": "code",
   "execution_count": 2,
   "id": "6dc312e5",
   "metadata": {},
   "outputs": [
    {
     "name": "stdout",
     "output_type": "stream",
     "text": [
      "\n"
     ]
    },
    {
     "name": "stderr",
     "output_type": "stream",
     "text": [
      "[WDM] - ====== WebDriver manager ======\n",
      "[WDM] - Current google-chrome version is 100.0.4896\n",
      "[WDM] - Get LATEST chromedriver version for 100.0.4896 google-chrome\n",
      "[WDM] - Driver [C:\\Users\\GuoshengCai\\.wdm\\drivers\\chromedriver\\win32\\100.0.4896.60\\chromedriver.exe] found in cache\n"
     ]
    }
   ],
   "source": [
    "driver = webdriver.Chrome(service=Service(ChromeDriverManager().install()))"
   ]
  },
  {
   "cell_type": "code",
   "execution_count": 4,
   "id": "add19204",
   "metadata": {},
   "outputs": [],
   "source": [
    "def check_page(url, driver):\n",
    "    driver.get(url)\n",
    "    time.sleep(2)"
   ]
  },
  {
   "cell_type": "markdown",
   "id": "4ff1a6bc",
   "metadata": {},
   "source": [
    "# Columbia"
   ]
  },
  {
   "cell_type": "code",
   "execution_count": 5,
   "id": "4f352ba1",
   "metadata": {},
   "outputs": [],
   "source": [
    "columbia = pd.read_json(sys.path[0] + '/../data/columbia/columbia_directories_updated.json')"
   ]
  },
  {
   "cell_type": "code",
   "execution_count": 20,
   "id": "453b05dc",
   "metadata": {},
   "outputs": [],
   "source": [
    "to_check = []"
   ]
  },
  {
   "cell_type": "code",
   "execution_count": 19,
   "id": "2d0caf1f",
   "metadata": {},
   "outputs": [
    {
     "name": "stdout",
     "output_type": "stream",
     "text": [
      "__________\n",
      "100 Slavic (Barnard College)\n"
     ]
    },
    {
     "ename": "NameError",
     "evalue": "name 'check_page' is not defined",
     "output_type": "error",
     "traceback": [
      "\u001b[1;31m---------------------------------------------------------------------------\u001b[0m",
      "\u001b[1;31mNameError\u001b[0m                                 Traceback (most recent call last)",
      "\u001b[1;32mC:\\Users\\GUOSHE~1\\AppData\\Local\\Temp/ipykernel_6640/1928811709.py\u001b[0m in \u001b[0;36m<module>\u001b[1;34m\u001b[0m\n\u001b[0;32m      6\u001b[0m         \u001b[0mto_check\u001b[0m\u001b[1;33m.\u001b[0m\u001b[0mappend\u001b[0m\u001b[1;33m(\u001b[0m\u001b[0mi\u001b[0m\u001b[1;33m)\u001b[0m\u001b[1;33m\u001b[0m\u001b[1;33m\u001b[0m\u001b[0m\n\u001b[0;32m      7\u001b[0m     \u001b[1;32melse\u001b[0m\u001b[1;33m:\u001b[0m\u001b[1;33m\u001b[0m\u001b[1;33m\u001b[0m\u001b[0m\n\u001b[1;32m----> 8\u001b[1;33m         \u001b[0mcheck_page\u001b[0m\u001b[1;33m(\u001b[0m\u001b[0murl\u001b[0m\u001b[1;33m,\u001b[0m \u001b[0mdriver\u001b[0m\u001b[1;33m)\u001b[0m\u001b[1;33m\u001b[0m\u001b[1;33m\u001b[0m\u001b[0m\n\u001b[0m",
      "\u001b[1;31mNameError\u001b[0m: name 'check_page' is not defined"
     ]
    }
   ],
   "source": [
    "for i in range(100, columbia.shape[0]):\n",
    "    print(\"__________\")\n",
    "    print(i, columbia.loc[i, 'department'])\n",
    "    url = columbia.loc[i, 'faculty_page']\n",
    "    if url is None:\n",
    "        to_check.append(i)\n",
    "    else:\n",
    "        check_page(url, driver)"
   ]
  },
  {
   "cell_type": "code",
   "execution_count": 18,
   "id": "23d74954",
   "metadata": {},
   "outputs": [
    {
     "ename": "NameError",
     "evalue": "name 'to_check' is not defined",
     "output_type": "error",
     "traceback": [
      "\u001b[1;31m---------------------------------------------------------------------------\u001b[0m",
      "\u001b[1;31mNameError\u001b[0m                                 Traceback (most recent call last)",
      "\u001b[1;32mC:\\Users\\GUOSHE~1\\AppData\\Local\\Temp/ipykernel_6640/890167081.py\u001b[0m in \u001b[0;36m<module>\u001b[1;34m\u001b[0m\n\u001b[0;32m      1\u001b[0m \u001b[1;31m# 0-19\u001b[0m\u001b[1;33m\u001b[0m\u001b[1;33m\u001b[0m\u001b[0m\n\u001b[1;32m----> 2\u001b[1;33m \u001b[0mto_check\u001b[0m\u001b[1;33m.\u001b[0m\u001b[0mextend\u001b[0m\u001b[1;33m(\u001b[0m\u001b[1;33m[\u001b[0m\u001b[1;36m0\u001b[0m\u001b[1;33m,\u001b[0m\u001b[1;36m3\u001b[0m\u001b[1;33m,\u001b[0m\u001b[1;36m6\u001b[0m\u001b[1;33m]\u001b[0m\u001b[1;33m)\u001b[0m\u001b[1;33m\u001b[0m\u001b[1;33m\u001b[0m\u001b[0m\n\u001b[0m\u001b[0;32m      3\u001b[0m \u001b[1;31m# 20-39\u001b[0m\u001b[1;33m\u001b[0m\u001b[1;33m\u001b[0m\u001b[0m\n\u001b[0;32m      4\u001b[0m \u001b[0mto_check\u001b[0m\u001b[1;33m.\u001b[0m\u001b[0mextend\u001b[0m\u001b[1;33m(\u001b[0m\u001b[1;33m[\u001b[0m\u001b[1;36m22\u001b[0m\u001b[1;33m,\u001b[0m \u001b[1;36m24\u001b[0m\u001b[1;33m,\u001b[0m \u001b[1;36m27\u001b[0m\u001b[1;33m,\u001b[0m \u001b[1;36m33\u001b[0m\u001b[1;33m]\u001b[0m\u001b[1;33m)\u001b[0m\u001b[1;33m\u001b[0m\u001b[1;33m\u001b[0m\u001b[0m\n\u001b[0;32m      5\u001b[0m \u001b[1;31m# 40-59\u001b[0m\u001b[1;33m\u001b[0m\u001b[1;33m\u001b[0m\u001b[0m\n",
      "\u001b[1;31mNameError\u001b[0m: name 'to_check' is not defined"
     ]
    }
   ],
   "source": [
    "# 0-19\n",
    "to_check.extend([0,3,6])\n",
    "# 20-39\n",
    "to_check.extend([22, 24, 27, 32, 33])\n",
    "# 40-59\n",
    "to_check.extend([43, 58, 59])\n",
    "# 60-79\n",
    "to_check.extend([71,79])\n",
    "# 80-99\n",
    "to_check.extend([81, 82, 90, 95, 99])\n",
    "# 100-\n",
    "to_check.extend([113, 114])"
   ]
  },
  {
   "cell_type": "code",
   "execution_count": 77,
   "id": "2be6b828",
   "metadata": {},
   "outputs": [],
   "source": [
    "to_check = list(set(to_check))"
   ]
  },
  {
   "cell_type": "code",
   "execution_count": 78,
   "id": "05136bcf",
   "metadata": {},
   "outputs": [
    {
     "name": "stdout",
     "output_type": "stream",
     "text": [
      "success rate = 0.78\n"
     ]
    }
   ],
   "source": [
    "success_rate = len(to_check)/columbia.shape[0]\n",
    "print(f\"success rate = {1-success_rate:.2f}\")"
   ]
  },
  {
   "cell_type": "code",
   "execution_count": 5,
   "id": "dde67fa3",
   "metadata": {},
   "outputs": [],
   "source": [
    "#to_check.sort()\n",
    "#for i in to_check:\n",
    "#    print(\"____________________\")\n",
    "#    print(i, columbia.loc[i,'url'])"
   ]
  },
  {
   "cell_type": "code",
   "execution_count": 7,
   "id": "05c72f1d",
   "metadata": {},
   "outputs": [],
   "source": [
    "update = []\n",
    "update.append([0, \"https://www8.gsb.columbia.edu/faculty-research/divisions/accounting/faculty-research\"])\n",
    "update.append([3, \"https://www.anesthesiology.cuimc.columbia.edu/about-us/our-people/our-faculty\"])\n",
    "update.append([6, \"https://www.apam.columbia.edu/directory?gsarqfields%5Bbiotypetid%5D=30\"])\n",
    "update.append([22, \"https://www.civil.columbia.edu/directory?gsarqfields%5Bbiotypetid%5D=30\"])\n",
    "update.append([17, \"https://www.publichealth.columbia.edu/people/our-faculty/search/?filter_department=Biostatistics\"])\n",
    "update.append([19, \"https://www.cheme.columbia.edu/directory?gsarqfields%5Bbiotypetid%5D=30\"])\n",
    "update.append([24, \"http://classics.columbia.edu/profiles\"])\n",
    "update.append([27, \"https://www8.gsb.columbia.edu/faculty-research/divisions/decision-risk-operations/people/faculty\"])\n",
    "update.append([32, \"http://ealac.columbia.edu/people/faculty/\"])\n",
    "update.append([33, \"https://e3b.columbia.edu/faculty/\"])\n",
    "update.append([43, \"https://www8.gsb.columbia.edu/faculty-research/divisions/finance/faculty\"])\n",
    "update.append([44, \"https://french.barnard.edu/dept\"])\n",
    "update.append([46, None])\n",
    "update.append([49, None])\n",
    "update.append([58, \"https://www8.gsb.columbia.edu/faculty-research/divisions/marketing/faculty-research\"])\n",
    "update.append([59, \"https://www8.gsb.columbia.edu/faculty-research/divisions/marketing/faculty-research\"])\n",
    "update.append([63, None])\n",
    "update.append([71, \"https://neuroscience.columbia.edu/researcher/listing\"])\n",
    "update.append([75, None])\n",
    "update.append([79, \"https://www.pharmacology.cuimc.columbia.edu/about-us/our-faculty\"])\n",
    "update.append([81, \"https://philosophy.columbia.edu/node/265\"])\n",
    "update.append([90, None])\n",
    "update.append([95, \"https://www.columbiaradiology.org/our-faculty\"])\n",
    "update.append([99, \"https://www.rheumatologyatcolumbia.org/about-us/our-faculty/full-time-faculty\"])\n",
    "update.append([107, None])\n",
    "update.append([113, None])\n",
    "update.append([114, \"https://arts.columbia.edu/writing/faculty\"])"
   ]
  },
  {
   "cell_type": "code",
   "execution_count": 8,
   "id": "f2f252ba",
   "metadata": {},
   "outputs": [],
   "source": [
    "for u in update:\n",
    "    row = u[0]\n",
    "    new = u[1]\n",
    "    columbia.loc[row,'faculty_page'] = new"
   ]
  },
  {
   "cell_type": "code",
   "execution_count": 9,
   "id": "6268a0fd",
   "metadata": {},
   "outputs": [],
   "source": [
    "# med school departments\n",
    "to_drop = []\n",
    "for i in columbia.index:\n",
    "    if 'cumc' in columbia.iloc[i, 1] or columbia.iloc[i, 2] is None:\n",
    "        to_drop.append(i)\n",
    "        pass\n",
    "    if '.barnard.' not in columbia.iloc[i, 1] and '.columbia.' not in columbia.iloc[i, 1]:\n",
    "        to_drop.append(i)"
   ]
  },
  {
   "cell_type": "code",
   "execution_count": 10,
   "id": "0263707a",
   "metadata": {},
   "outputs": [],
   "source": [
    "# med school departments\n",
    "to_drop.append(16)\n",
    "to_drop.append(28)\n",
    "to_drop.append(28)\n",
    "to_drop.append(51)\n",
    "to_drop.append(56)\n",
    "to_drop.append(59)\n",
    "to_drop.append(71)\n",
    "to_drop.append(73)\n",
    "to_drop.append(77)\n",
    "to_drop.append(86)\n",
    "to_drop.append(94)\n",
    "to_drop.append(108)"
   ]
  },
  {
   "cell_type": "code",
   "execution_count": 11,
   "id": "7631449e",
   "metadata": {},
   "outputs": [],
   "source": [
    "columbia_directories_sans_med = columbia.drop(to_drop)"
   ]
  },
  {
   "cell_type": "code",
   "execution_count": 12,
   "id": "9da78502",
   "metadata": {},
   "outputs": [],
   "source": [
    "columbia_directories_sans_med.to_json(sys.path[0] + '/../data/columbia/columbia_directories_sans_med.json', orient=\"records\")"
   ]
  },
  {
   "cell_type": "markdown",
   "id": "568dfc81",
   "metadata": {},
   "source": [
    "# Dartmouth"
   ]
  },
  {
   "cell_type": "code",
   "execution_count": 7,
   "id": "039878a4",
   "metadata": {},
   "outputs": [],
   "source": [
    "dartmouth = pd.read_json(sys.path[0] + '/../data/dartmouth/dartmouth_directories.json')"
   ]
  },
  {
   "cell_type": "code",
   "execution_count": 9,
   "id": "7244f343",
   "metadata": {},
   "outputs": [
    {
     "name": "stdout",
     "output_type": "stream",
     "text": [
      "__________\n",
      "0 African and African American Studies Program\n",
      "__________\n",
      "1 Anthropology\n",
      "__________\n",
      "2 Art History\n",
      "__________\n",
      "3 Asian Societies, Cultures, and Languages Program\n",
      "__________\n",
      "4 Biological Sciences\n",
      "__________\n",
      "5 Chemistry\n",
      "__________\n",
      "6 Classics\n",
      "__________\n",
      "7 Cognitive Science Program\n",
      "__________\n",
      "8 Comparative Literature Program\n",
      "__________\n",
      "9 Computer Science\n",
      "__________\n",
      "10 Earth Sciences\n",
      "__________\n",
      "11 Economics\n",
      "__________\n",
      "12 Education\n",
      "__________\n",
      "13 Engineering Sciences—Thayer School of Engineering\n",
      "__________\n",
      "14 English and Creative Writing\n",
      "__________\n",
      "15 Environmental Studies\n",
      "__________\n",
      "16 Film and Media Studies\n",
      "__________\n",
      "17 French and Italian\n",
      "__________\n",
      "18 Geography\n",
      "__________\n",
      "19 German Studies\n",
      "__________\n",
      "20 Government\n",
      "__________\n",
      "21 History\n",
      "__________\n",
      "22 Institute for Writing and Rhetoric\n",
      "__________\n",
      "23 Jewish Studies Program\n",
      "__________\n",
      "24 Latin American, Latino, and Caribbean Studies Program\n",
      "__________\n",
      "25 Linguistics\n",
      "__________\n",
      "26 Mathematics\n",
      "__________\n",
      "27 Middle Eastern Studies Program\n",
      "__________\n",
      "28 Music\n",
      "__________\n",
      "29 Native American and Indigenous Studies\n",
      "__________\n",
      "30 Philosophy\n",
      "__________\n",
      "31 Psychological and Brain Sciences\n",
      "__________\n",
      "32 Physics and Astronomy\n",
      "__________\n",
      "33 Quantitative Social Science Program\n",
      "__________\n",
      "34 Religion\n",
      "__________\n",
      "35 Russian\n",
      "__________\n",
      "36 Sociology\n",
      "__________\n",
      "37 Spanish and Portuguese\n",
      "__________\n",
      "38 Studio Art\n",
      "__________\n",
      "39 Theater\n",
      "__________\n",
      "40 Women’s, Gender, and Sexuality Studies Program\n"
     ]
    }
   ],
   "source": [
    "to_check = []\n",
    "for i in range(dartmouth.shape[0]):\n",
    "    print(\"__________\")\n",
    "    print(i, dartmouth.loc[i, 'department'])\n",
    "    url = dartmouth.loc[i, 'faculty_page']\n",
    "    if url is None:\n",
    "        to_check.append(i)\n",
    "    else:\n",
    "        check_page(url, driver)"
   ]
  },
  {
   "cell_type": "code",
   "execution_count": 10,
   "id": "ebf36022",
   "metadata": {},
   "outputs": [],
   "source": [
    "to_check.extend([7, 15, 17, 31])"
   ]
  },
  {
   "cell_type": "code",
   "execution_count": 11,
   "id": "faa3eace",
   "metadata": {},
   "outputs": [
    {
     "name": "stdout",
     "output_type": "stream",
     "text": [
      "____________________\n",
      "7 https://cognitive-science.dartmouth.edu/\n",
      "____________________\n",
      "13 https://engineering.dartmouth.edu/academics/undergraduate/\n",
      "____________________\n",
      "15 https://envs.dartmouth.edu/\n",
      "____________________\n",
      "17 https://frandit.dartmouth.edu/\n",
      "____________________\n",
      "26 https://math.dartmouth.edu/\n",
      "____________________\n",
      "28 https://music.dartmouth.edu/\n",
      "____________________\n",
      "31 https://pbs.dartmouth.edu/\n",
      "____________________\n",
      "33 https://qss.dartmouth.edu/\n"
     ]
    }
   ],
   "source": [
    "to_check.sort()\n",
    "for i in to_check:\n",
    "    print(\"____________________\")\n",
    "    print(i, dartmouth.loc[i,'url'])"
   ]
  },
  {
   "cell_type": "code",
   "execution_count": 13,
   "id": "d3626854",
   "metadata": {},
   "outputs": [],
   "source": [
    "update = []\n",
    "update.append([7, \"https://cognitive-science.dartmouth.edu/people?field_people_local_tags_tid=836\"])\n",
    "update.append([13, \"https://engineering.dartmouth.edu/community/faculty\"])\n",
    "update.append([15, \"https://envs.dartmouth.edu/people\"])\n",
    "update.append([17, \"https://frandit.dartmouth.edu/people\"])\n",
    "update.append([26, \"https://math.dartmouth.edu/people/people-select.php?list=permanent\"])\n",
    "update.append([28, \"https://music.dartmouth.edu/people/people?field_people_local_tags_tid=All\"])\n",
    "update.append([31, \"https://pbs.dartmouth.edu/people?field_people_local_tags_tid=1896\"])\n",
    "update.append([33, \"https://qss.dartmouth.edu/people\"])"
   ]
  },
  {
   "cell_type": "code",
   "execution_count": 14,
   "id": "d88f5e52",
   "metadata": {},
   "outputs": [],
   "source": [
    "for u in update:\n",
    "    row = u[0]\n",
    "    new = u[1]\n",
    "    dartmouth.loc[row,'faculty_page'] = new"
   ]
  },
  {
   "cell_type": "code",
   "execution_count": 17,
   "id": "247bd1f4",
   "metadata": {},
   "outputs": [],
   "source": [
    "dartmouth.to_json(sys.path[0] + '/../data/dartmouth/dartmouth_directories_sans_med.json', orient=\"records\")"
   ]
  }
 ],
 "metadata": {
  "kernelspec": {
   "display_name": "Python 3 (ipykernel)",
   "language": "python",
   "name": "python3"
  },
  "language_info": {
   "codemirror_mode": {
    "name": "ipython",
    "version": 3
   },
   "file_extension": ".py",
   "mimetype": "text/x-python",
   "name": "python",
   "nbconvert_exporter": "python",
   "pygments_lexer": "ipython3",
   "version": "3.9.7"
  }
 },
 "nbformat": 4,
 "nbformat_minor": 5
}
