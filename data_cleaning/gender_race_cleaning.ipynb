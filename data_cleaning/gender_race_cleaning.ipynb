{
 "cells": [
  {
   "cell_type": "code",
   "execution_count": 1,
   "id": "4e77f1a0",
   "metadata": {},
   "outputs": [],
   "source": [
    "import sys\n",
    "import json\n",
    "import numpy as np"
   ]
  },
  {
   "cell_type": "code",
   "execution_count": 2,
   "id": "aac618ff",
   "metadata": {},
   "outputs": [],
   "source": [
    "with open(sys.path[0] + '/../data/columbia/columbia_test_processed_deteched.json', 'r') as f:\n",
    "    tmp = json.load(f)"
   ]
  },
  {
   "cell_type": "code",
   "execution_count": 3,
   "id": "3e65b72a",
   "metadata": {},
   "outputs": [],
   "source": [
    "def check_categories(school):\n",
    "    gender_name = set()\n",
    "    race_name = set()\n",
    "    gender_img = set()\n",
    "    race_img = set()\n",
    "    for department in school:\n",
    "        profiles = department.get('profiles') \n",
    "        if profiles is not None:\n",
    "            for p in profiles:\n",
    "                gender_name.add(p.get('gender'))\n",
    "                race_name.add(p.get('race'))\n",
    "                gender_img.add(p.get('gender_img'))\n",
    "                race_img.add(p.get('race_img'))\n",
    "\n",
    "    gender_name = list(gender_name)\n",
    "    race_name = list(race_name)\n",
    "    gender_img = list(gender_img)\n",
    "    race_img = list(race_img)\n",
    "    print(\"________NAME________\")\n",
    "    print(gender_name)\n",
    "    print(race_name)\n",
    "    print(\"________IMG________\")\n",
    "    print(gender_img)\n",
    "    print(race_img)"
   ]
  },
  {
   "cell_type": "code",
   "execution_count": 4,
   "id": "ba21de91",
   "metadata": {},
   "outputs": [
    {
     "name": "stdout",
     "output_type": "stream",
     "text": [
      "________NAME________\n",
      "['male', 'unknown', 'mostly_female', 'female', 'andy', 'mostly_male']\n",
      "['api', 'white', 'hispanic', 'black']\n",
      "________IMG________\n",
      "['Man', None, 'Woman']\n",
      "['asian', 'latino hispanic', 'middle eastern', 'indian', None, 'black', 'white']\n"
     ]
    }
   ],
   "source": [
    "check_categories(tmp)"
   ]
  },
  {
   "cell_type": "code",
   "execution_count": 5,
   "id": "9af404c5",
   "metadata": {},
   "outputs": [],
   "source": [
    "gender_name_conversion = {'male':'male', 'mostly_male':'male', 'female':'female', \n",
    "                          'mostly_female':'female', 'andy':'unknown', 'unknown':'unknown'}\n",
    "gender_img_conversion = {'Man':'male', 'Woman':'female', None:'unknown'}\n",
    "race_img_conversion = {'latino hispanic': 'hispanic', 'black':'black', \n",
    "                       'middle eastern':'white', 'asian':'api', 'indian':'api', 'white':'white', None:'unknown'}\n",
    "def clean_gender_race(profile):\n",
    "    if profile.get('gender') in gender_name_conversion.keys():\n",
    "        profile.update({'gender':gender_name_conversion.get(profile.get('gender'))})\n",
    "    if profile.get('gender_img') in gender_img_conversion.keys():\n",
    "        profile.update({'gender_img':gender_img_conversion.get(profile.get('gender_img'))})\n",
    "    if profile.get('race_img') in race_img_conversion.keys():\n",
    "        profile.update({'race_img': race_img_conversion.get(profile.get('race_img'))})"
   ]
  },
  {
   "cell_type": "markdown",
   "id": "a048d180",
   "metadata": {},
   "source": [
    "# Columbia"
   ]
  },
  {
   "cell_type": "code",
   "execution_count": 6,
   "id": "3e49990d",
   "metadata": {},
   "outputs": [],
   "source": [
    "with open(sys.path[0] + '/../data/columbia/columbia_test_processed_deteched.json', 'r') as f:\n",
    "    columbia = json.load(f)"
   ]
  },
  {
   "cell_type": "code",
   "execution_count": 7,
   "id": "1c06962e",
   "metadata": {},
   "outputs": [],
   "source": [
    "for department in columbia:\n",
    "    profiles = department.get('profiles') \n",
    "    if profiles is not None:\n",
    "        for p in profiles:\n",
    "            clean_gender_race(p)"
   ]
  },
  {
   "cell_type": "code",
   "execution_count": 8,
   "id": "982e9b71",
   "metadata": {},
   "outputs": [
    {
     "name": "stdout",
     "output_type": "stream",
     "text": [
      "________NAME________\n",
      "['female', 'male', 'unknown']\n",
      "['api', 'white', 'hispanic', 'black']\n",
      "________IMG________\n",
      "['female', 'male', 'unknown']\n",
      "['unknown', 'black', 'api', 'hispanic', 'white']\n"
     ]
    }
   ],
   "source": [
    "check_categories(columbia)"
   ]
  },
  {
   "cell_type": "code",
   "execution_count": 9,
   "id": "374f8b51",
   "metadata": {},
   "outputs": [],
   "source": [
    "with open(sys.path[0] + '/../data/columbia/columbia_test_processed_deteched_converted.json', 'w') as f:\n",
    "    json.dump(columbia, f)"
   ]
  },
  {
   "cell_type": "markdown",
   "id": "2d18a70a",
   "metadata": {},
   "source": [
    "# Dartmouth"
   ]
  },
  {
   "cell_type": "code",
   "execution_count": 10,
   "id": "813f8e15",
   "metadata": {},
   "outputs": [],
   "source": [
    "with open(sys.path[0] + '/../data/dartmouth/dartmouth_test_processed_deteched.json', 'r') as f:\n",
    "    dartmouth = json.load(f)"
   ]
  },
  {
   "cell_type": "code",
   "execution_count": 11,
   "id": "903b3bdb",
   "metadata": {},
   "outputs": [],
   "source": [
    "for department in dartmouth:\n",
    "    profiles = department.get('profiles') \n",
    "    if profiles is not None:\n",
    "        for p in profiles:\n",
    "            clean_gender_race(p)"
   ]
  },
  {
   "cell_type": "code",
   "execution_count": 12,
   "id": "cb1908bf",
   "metadata": {},
   "outputs": [
    {
     "name": "stdout",
     "output_type": "stream",
     "text": [
      "________NAME________\n",
      "['female', 'male', 'unknown']\n",
      "['api', 'white', 'hispanic', 'black']\n",
      "________IMG________\n",
      "['female', 'male', 'unknown']\n",
      "['unknown', 'black', 'api', 'hispanic', 'white']\n"
     ]
    }
   ],
   "source": [
    "check_categories(dartmouth)"
   ]
  },
  {
   "cell_type": "code",
   "execution_count": 13,
   "id": "4f64e7c5",
   "metadata": {},
   "outputs": [],
   "source": [
    "with open(sys.path[0] + '/../data/dartmouth/dartmouth_test_processed_deteched_converted.json', 'w') as f:\n",
    "    json.dump(dartmouth, f)"
   ]
  }
 ],
 "metadata": {
  "kernelspec": {
   "display_name": "Python 3 (ipykernel)",
   "language": "python",
   "name": "python3"
  },
  "language_info": {
   "codemirror_mode": {
    "name": "ipython",
    "version": 3
   },
   "file_extension": ".py",
   "mimetype": "text/x-python",
   "name": "python",
   "nbconvert_exporter": "python",
   "pygments_lexer": "ipython3",
   "version": "3.9.7"
  }
 },
 "nbformat": 4,
 "nbformat_minor": 5
}
