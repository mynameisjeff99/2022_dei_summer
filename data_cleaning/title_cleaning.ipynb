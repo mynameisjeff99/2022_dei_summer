{
 "cells": [
  {
   "cell_type": "code",
   "execution_count": 1,
   "id": "3ecff185",
   "metadata": {},
   "outputs": [],
   "source": [
    "import sys\n",
    "import json\n",
    "import re"
   ]
  },
  {
   "cell_type": "code",
   "execution_count": 6,
   "id": "31962134",
   "metadata": {},
   "outputs": [],
   "source": [
    "with open(sys.path[0] + '/../data/columbia/columbia_test_sans_processing.json', 'r') as f:\n",
    "    columbia = json.load(f)"
   ]
  },
  {
   "cell_type": "markdown",
   "id": "947deda0",
   "metadata": {},
   "source": [
    "https://en.wikipedia.org/wiki/Academic_ranks_in_the_United_States  \n",
    "- Professor (\"Full Professor\", i.e., the destination of the \"tenure track,\" upon exhausting all promotions other than those of special distinction)\n",
    "- Associate Professor (A mid-level, usually tenured, faculty member)\n",
    "- Assistant Professor (typically entry-level for \"tenure track\" positions which lead to Associate Professor)\n",
    "- Research Associate, Lecturer, Instructor, Visiting Professor (usually non-tenure-track positions, sometimes with their own respective ranking hierarchies)\n",
    "\n",
    "https://www.colorado.edu/facultyaffairs/faculty-career-milestones/faculty-titles-and-ranks\n"
   ]
  },
  {
   "cell_type": "code",
   "execution_count": 27,
   "id": "fe0f1a1b",
   "metadata": {},
   "outputs": [],
   "source": [
    "title_categories = {'assistant professor': ['assistant professor'], \n",
    "                    'associate professor': ['associate professor'], \n",
    "                    'professor': ['professor'],\n",
    "                    'teaching staff': ['instructor', 'lecturer'],\n",
    "                    'other': ['adjunct', 'fellow', 'postdoctoral']}"
   ]
  },
  {
   "cell_type": "code",
   "execution_count": 33,
   "id": "ca85dbe9",
   "metadata": {},
   "outputs": [],
   "source": [
    "tmp = [] \n",
    "for title in titles[:10]:\n",
    "    found = None\n",
    "    for k, v in title_categories.items():\n",
    "        if re.match(f\"(?i).*({'|'.join(v)}).*\", title):\n",
    "            found = k\n",
    "            tmp.append(k)\n",
    "            break"
   ]
  },
  {
   "cell_type": "code",
   "execution_count": 34,
   "id": "a73d4180",
   "metadata": {},
   "outputs": [
    {
     "data": {
      "text/plain": [
       "['Mellon Project Director and Curator, African American and Afircan Diaspora Studies',\n",
       " 'Hans Hofmann Professor of Modern Art, Department of Art History and Archaeology; Chair African American and African Diaspora Studies',\n",
       " 'Professor of Sociology, Barnard College; Chair, Department of Sociology, Barnard',\n",
       " 'Professor of Professional Practice',\n",
       " 'Ruth and William Lubic Professor of Anthropology; Chair, Department of Anthropology',\n",
       " 'Professor of Psychology & Africana Studies, Barnard College, Columbia University',\n",
       " '[Mellon Arts\\xa0Fellow-21/22]',\n",
       " 'Associate Professor of Film in the Faculty of the Arts',\n",
       " 'Adjunct Assistant Professor',\n",
       " 'Dirk Ziff Professor of Psychology (in Psychiatry); Chair, Department of Psychology']"
      ]
     },
     "execution_count": 34,
     "metadata": {},
     "output_type": "execute_result"
    }
   ],
   "source": [
    "titles[:10]"
   ]
  },
  {
   "cell_type": "code",
   "execution_count": 35,
   "id": "729d5b3b",
   "metadata": {},
   "outputs": [
    {
     "data": {
      "text/plain": [
       "['professor',\n",
       " 'professor',\n",
       " 'professor',\n",
       " 'professor',\n",
       " 'professor',\n",
       " 'other',\n",
       " 'associate professor',\n",
       " 'assistant professor',\n",
       " 'professor']"
      ]
     },
     "execution_count": 35,
     "metadata": {},
     "output_type": "execute_result"
    }
   ],
   "source": [
    "tmp"
   ]
  }
 ],
 "metadata": {
  "kernelspec": {
   "display_name": "Python 3 (ipykernel)",
   "language": "python",
   "name": "python3"
  },
  "language_info": {
   "codemirror_mode": {
    "name": "ipython",
    "version": 3
   },
   "file_extension": ".py",
   "mimetype": "text/x-python",
   "name": "python",
   "nbconvert_exporter": "python",
   "pygments_lexer": "ipython3",
   "version": "3.9.7"
  }
 },
 "nbformat": 4,
 "nbformat_minor": 5
}
