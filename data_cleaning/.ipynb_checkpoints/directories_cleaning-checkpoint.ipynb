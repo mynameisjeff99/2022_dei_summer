{
 "cells": [
  {
   "cell_type": "code",
   "execution_count": 1,
   "id": "14c972a9",
   "metadata": {},
   "outputs": [],
   "source": [
    "import sys\n",
    "import json\n",
    "import pandas as pd"
   ]
  },
  {
   "cell_type": "markdown",
   "id": "4ff1a6bc",
   "metadata": {},
   "source": [
    "# Columbia"
   ]
  },
  {
   "cell_type": "code",
   "execution_count": 2,
   "id": "4f352ba1",
   "metadata": {},
   "outputs": [],
   "source": [
    "columbia = pd.read_json(sys.path[0] + '/../data/columbia_directories_initial.json')"
   ]
  },
  {
   "cell_type": "code",
   "execution_count": 16,
   "id": "2d0caf1f",
   "metadata": {},
   "outputs": [
    {
     "name": "stdout",
     "output_type": "stream",
     "text": [
      "30 http://eee.columbia.edu/  |  https://www.eee.columbia.edu/audience/eee-faculty-staff\n",
      "31 http://eesc.columbia.edu/  |  https://eesc.columbia.edu/content/faculty\n",
      "32 http://ealac.columbia.edu/  |  http://ealac.columbia.edu/faculty-publication-social-networking-approach-to-japanese-language-teaching-the-intersection-of-language-and-culture-in-the-digital-age-2-2/\n",
      "33 http://e3b.columbia.edu/  |  https://e3b.columbia.edu/faculty-documents/\n",
      "34 https://economics.barnard.edu/department-economics  |  https://economics.barnard.edu/faculty-and-staff-0\n",
      "35 http://econ.columbia.edu/  |  https://econ.columbia.edu/faculty/\n",
      "36 http://www.ee.columbia.edu/  |  https://www.ee.columbia.edu/content/faculty-awards\n",
      "37 http://www.columbiaendocrinology.com/  |  http://www.columbiaendocrinology.com/people\n",
      "38 http://english.columbia.edu/  |  https://english.columbia.edu/content/faculty\n",
      "39 https://www.mailman.columbia.edu/become-student/departments/environmental-health-sciences-ehs  |  https://www.publichealth.columbia.edu/information-for/faculty-staff\n",
      "40 https://envsci.barnard.edu/department-environmental-science  |  https://envsci.barnard.edu/faculty-and-staff-1\n",
      "41 https://www.mailman.columbia.edu/become-student/departments/epidemiology  |  https://www.publichealth.columbia.edu/information-for/faculty-staff\n",
      "42 https://arts.columbia.edu/film/  |  https://arts.columbia.edu/faculty\n",
      "43 https://www8.gsb.columbia.edu/faculty-research/divisions/finance-economics  |  https://www8.gsb.columbia.edu/faculty-research/faculty\n",
      "44 https://french.barnard.edu/  |  None\n",
      "45 https://french.columbia.edu/  |  https://french.columbia.edu/faculty\n",
      "46 http://www.cumc.columbia.edu/dept/medicine/generalmed/  |  None\n",
      "47 http://www.cumc.columbia.edu/dept/genetics/  |  https://www.genetics.cuimc.columbia.edu/about-us/our-faculty\n",
      "48 https://germanic.columbia.edu/  |  https://germanic.columbia.edu/people/affiliated-faculty\n",
      "49 http://finance.columbia.edu/departments/global-support  |  None\n"
     ]
    }
   ],
   "source": [
    "for i in range(30,50):\n",
    "    print(i, columbia.iloc[i,1], \" | \", columbia.iloc[i,2])"
   ]
  },
  {
   "cell_type": "code",
   "execution_count": 5,
   "id": "05c72f1d",
   "metadata": {},
   "outputs": [],
   "source": [
    "update = []\n",
    "update.append([0, \"https://www8.gsb.columbia.edu/faculty-research/divisions/accounting/faculty-research\"])\n",
    "update.append([3, \"https://www.anesthesiology.cuimc.columbia.edu/about-us/our-people/our-faculty\"])\n",
    "update.append([6, \"https://www.apam.columbia.edu/directory?gsarqfields%5Bbiotypetid%5D=30\"])\n",
    "update.append([15, \"https://www.bme.columbia.edu/directory?gsarqfields%5Bbiotypetid%5D=30\"])\n",
    "update.append([19, \"https://www.cheme.columbia.edu/directory?gsarqfields%5Bbiotypetid%5D=30\"])\n",
    "update.append([24, \"http://classics.columbia.edu/profiles\"])\n",
    "update.append([29, \"https://www.columbiagi.org/our-providers\"])\n",
    "update.append([30, \"https://www.eee.columbia.edu/directory\"])\n",
    "update.append([31, \"https://eesc.columbia.edu/content/faculty\"])\n",
    "update.append([32, \"http://ealac.columbia.edu/people/professors/\"])\n",
    "update.append([36, \"https://e3b.columbia.edu/faculty/\"])\n",
    "update.append([37, \"http://www.columbiaendocrinology.com/people\"])\n",
    "update.append([39, \"https://www.publichealth.columbia.edu/people/our-faculty/search/?filter_department=Environmental%20Health%20Sciences\"])\n",
    "update.append([41, \"https://www.publichealth.columbia.edu/people/our-faculty/search/?filter_department=Epidemiology\"])\n",
    "update.append([43, \"https://www8.gsb.columbia.edu/faculty-research/divisions/finance/faculty\"])\n",
    "update.append([44, \"https://french.barnard.edu/dept\"])\n",
    "update.append([47, \"https://www.genetics.cuimc.columbia.edu/about-us/our-faculty\"])\n",
    "update.append([48, \"https://germanic.columbia.edu/people\"])"
   ]
  },
  {
   "cell_type": "code",
   "execution_count": 6,
   "id": "d78a82b2",
   "metadata": {},
   "outputs": [],
   "source": [
    "columbia_first_50 = columbia.iloc[:50,:]"
   ]
  },
  {
   "cell_type": "code",
   "execution_count": 8,
   "id": "f2f252ba",
   "metadata": {},
   "outputs": [
    {
     "name": "stderr",
     "output_type": "stream",
     "text": [
      "C:\\Users\\GuoshengCai\\anaconda3\\lib\\site-packages\\pandas\\core\\indexing.py:1732: SettingWithCopyWarning: \n",
      "A value is trying to be set on a copy of a slice from a DataFrame\n",
      "\n",
      "See the caveats in the documentation: https://pandas.pydata.org/pandas-docs/stable/user_guide/indexing.html#returning-a-view-versus-a-copy\n",
      "  self._setitem_single_block(indexer, value, name)\n",
      "C:\\Users\\GuoshengCai\\anaconda3\\lib\\site-packages\\pandas\\core\\indexing.py:723: SettingWithCopyWarning: \n",
      "A value is trying to be set on a copy of a slice from a DataFrame\n",
      "\n",
      "See the caveats in the documentation: https://pandas.pydata.org/pandas-docs/stable/user_guide/indexing.html#returning-a-view-versus-a-copy\n",
      "  iloc._setitem_with_indexer(indexer, value, self.name)\n"
     ]
    }
   ],
   "source": [
    "for u in update:\n",
    "    row = u[0]\n",
    "    new = u[1]\n",
    "    columbia_first_50.loc[row,'faculty_page'] = new"
   ]
  },
  {
   "cell_type": "code",
   "execution_count": 23,
   "id": "6268a0fd",
   "metadata": {},
   "outputs": [],
   "source": [
    "to_drop = []\n",
    "for i in columbia_first_50.index:\n",
    "    if 'cumc' in columbia_first_50.iloc[i, 1] or columbia_first_50.iloc[i, 2] is None:\n",
    "        to_drop.append(i)\n",
    "        pass\n",
    "    if '.barnard.' not in columbia_first_50.iloc[i, 1] and '.columbia.' not in columbia_first_50.iloc[i, 1]:\n",
    "        to_drop.append(i)"
   ]
  },
  {
   "cell_type": "code",
   "execution_count": 24,
   "id": "0263707a",
   "metadata": {},
   "outputs": [
    {
     "data": {
      "text/plain": [
       "[3, 12, 18, 29, 37, 46, 47, 49]"
      ]
     },
     "execution_count": 24,
     "metadata": {},
     "output_type": "execute_result"
    }
   ],
   "source": [
    "to_drop"
   ]
  },
  {
   "cell_type": "code",
   "execution_count": 28,
   "id": "7631449e",
   "metadata": {},
   "outputs": [],
   "source": [
    "columbia_first_50_sans_med = columbia_first_50.drop(to_drop)"
   ]
  },
  {
   "cell_type": "code",
   "execution_count": 30,
   "id": "9da78502",
   "metadata": {},
   "outputs": [],
   "source": [
    "columbia_first_50_sans_med.to_json(sys.path[0] + '/../data/columbia_directories_first_50_sans_med.json', orient=\"records\")"
   ]
  }
 ],
 "metadata": {
  "kernelspec": {
   "display_name": "Python 3 (ipykernel)",
   "language": "python",
   "name": "python3"
  },
  "language_info": {
   "codemirror_mode": {
    "name": "ipython",
    "version": 3
   },
   "file_extension": ".py",
   "mimetype": "text/x-python",
   "name": "python",
   "nbconvert_exporter": "python",
   "pygments_lexer": "ipython3",
   "version": "3.9.7"
  }
 },
 "nbformat": 4,
 "nbformat_minor": 5
}
