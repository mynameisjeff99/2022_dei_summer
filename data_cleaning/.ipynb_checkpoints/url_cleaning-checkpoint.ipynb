{
 "cells": [
  {
   "cell_type": "code",
   "execution_count": 16,
   "id": "e667a037",
   "metadata": {},
   "outputs": [],
   "source": [
    "import sys\n",
    "import json\n",
    "import pandas as pd\n",
    "import re"
   ]
  },
  {
   "cell_type": "code",
   "execution_count": 17,
   "id": "3ab17323",
   "metadata": {},
   "outputs": [],
   "source": [
    "with open(sys.path[0] + '/../data/columbia_test_sans_processing.json') as f:\n",
    "    columbia = json.load(f)"
   ]
  },
  {
   "cell_type": "code",
   "execution_count": 19,
   "id": "50e7f46c",
   "metadata": {},
   "outputs": [],
   "source": [
    "def get_department_lk(url):\n",
    "    return re.match(\"^(https|http)://[a-zA-Z0-9.-]*/\", url).group(0)[:-1]"
   ]
  },
  {
   "cell_type": "code",
   "execution_count": 20,
   "id": "1849455a",
   "metadata": {},
   "outputs": [],
   "source": [
    "def to_full_url(p, department_lk):\n",
    "    lk = p.get('img')\n",
    "    if lk is not None:\n",
    "        if lk[0] == '/' and lk[:2] != '//':\n",
    "            lk = department_lk + lk\n",
    "            p.update({'img': lk})"
   ]
  },
  {
   "cell_type": "code",
   "execution_count": 21,
   "id": "92743f1d",
   "metadata": {},
   "outputs": [],
   "source": [
    "for department in columbia:\n",
    "    if department.get('profiles') is not None:\n",
    "        department_lk = get_department_lk(department.get('url'))\n",
    "        for p in department.get('profiles'):\n",
    "            to_full_url(p, department_lk)"
   ]
  },
  {
   "cell_type": "code",
   "execution_count": 23,
   "id": "2c83cccb",
   "metadata": {},
   "outputs": [],
   "source": [
    "with open(sys.path[0] + '/../data/columbia_test_sans_processing_url', 'w') as f:\n",
    "    json.dump(columbia, f)"
   ]
  }
 ],
 "metadata": {
  "kernelspec": {
   "display_name": "Python 3 (ipykernel)",
   "language": "python",
   "name": "python3"
  },
  "language_info": {
   "codemirror_mode": {
    "name": "ipython",
    "version": 3
   },
   "file_extension": ".py",
   "mimetype": "text/x-python",
   "name": "python",
   "nbconvert_exporter": "python",
   "pygments_lexer": "ipython3",
   "version": "3.9.7"
  }
 },
 "nbformat": 4,
 "nbformat_minor": 5
}
