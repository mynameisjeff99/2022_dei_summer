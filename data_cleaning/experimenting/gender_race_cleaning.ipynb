{
 "cells": [
  {
   "cell_type": "code",
   "execution_count": 4,
   "id": "4e77f1a0",
   "metadata": {
    "pycharm": {
     "name": "#%%\n"
    }
   },
   "outputs": [],
   "source": [
    "import sys\n",
    "import json\n",
    "import numpy as np"
   ]
  },
  {
   "cell_type": "code",
   "execution_count": 2,
   "id": "aac618ff",
   "metadata": {
    "pycharm": {
     "name": "#%%\n"
    }
   },
   "outputs": [],
   "source": [
    "with open(sys.path[0] + '/../data/columbia/columbia_test_processed_detected.json', 'r') as f:\n",
    "    tmp = json.load(f)"
   ]
  },
  {
   "cell_type": "code",
   "execution_count": 5,
   "id": "3e65b72a",
   "metadata": {
    "pycharm": {
     "name": "#%%\n"
    }
   },
   "outputs": [],
   "source": [
    "def check_categories(school):\n",
    "    gender_name = set()\n",
    "    race_name = set()\n",
    "    gender_img = set()\n",
    "    race_img = set()\n",
    "    for department in school:\n",
    "        profiles = department.get('profiles') \n",
    "        if profiles is not None:\n",
    "            for p in profiles:\n",
    "                gender_name.add(p.get('gender'))\n",
    "                race_name.add(p.get('race'))\n",
    "                gender_img.add(p.get('gender_img'))\n",
    "                race_img.add(p.get('race_img'))\n",
    "\n",
    "    gender_name = list(gender_name)\n",
    "    race_name = list(race_name)\n",
    "    gender_img = list(gender_img)\n",
    "    race_img = list(race_img)\n",
    "    print(\"________NAME________\")\n",
    "    print(gender_name)\n",
    "    print(race_name)\n",
    "    print(\"________IMG________\")\n",
    "    print(gender_img)\n",
    "    print(race_img)"
   ]
  },
  {
   "cell_type": "code",
   "execution_count": 4,
   "id": "ba21de91",
   "metadata": {
    "pycharm": {
     "name": "#%%\n"
    }
   },
   "outputs": [
    {
     "name": "stdout",
     "output_type": "stream",
     "text": [
      "________NAME________\n",
      "['male', 'unknown', 'mostly_female', 'female', 'andy', 'mostly_male']\n",
      "['api', 'white', 'hispanic', 'black']\n",
      "________IMG________\n",
      "['Man', None, 'Woman']\n",
      "['asian', 'latino hispanic', 'middle eastern', 'indian', None, 'black', 'white']\n"
     ]
    }
   ],
   "source": [
    "check_categories(tmp)"
   ]
  },
  {
   "cell_type": "code",
   "execution_count": 6,
   "id": "9af404c5",
   "metadata": {
    "pycharm": {
     "name": "#%%\n"
    }
   },
   "outputs": [],
   "source": [
    "gender_name_conversion = {'male':'male', 'mostly_male':'male', 'female':'female', \n",
    "                          'mostly_female':'female', 'andy':'unknown', 'unknown':'unknown'}\n",
    "gender_img_conversion = {'Man':'male', 'Woman':'female', None:'unknown'}\n",
    "race_img_conversion = {'latino hispanic': 'hispanic', 'black':'black', \n",
    "                       'middle eastern':'white', 'asian':'api', 'indian':'api', 'white':'white', None:'unknown'}\n",
    "def clean_gender_race(profile):\n",
    "    if profile.get('gender') in gender_name_conversion.keys():\n",
    "        profile.update({'gender':gender_name_conversion.get(profile.get('gender'))})\n",
    "    if profile.get('gender_img') in gender_img_conversion.keys():\n",
    "        profile.update({'gender_img':gender_img_conversion.get(profile.get('gender_img'))})\n",
    "    if profile.get('race_img') in race_img_conversion.keys():\n",
    "        profile.update({'race_img': race_img_conversion.get(profile.get('race_img'))})"
   ]
  },
  {
   "cell_type": "markdown",
   "id": "a048d180",
   "metadata": {
    "pycharm": {
     "name": "#%% md\n"
    }
   },
   "source": [
    "# Columbia"
   ]
  },
  {
   "cell_type": "code",
   "execution_count": 7,
   "id": "3e49990d",
   "metadata": {
    "pycharm": {
     "name": "#%%\n"
    }
   },
   "outputs": [],
   "source": [
    "with open(sys.path[0] + '/../data/columbia/columbia_test_processed_detected.json', 'r') as f:\n",
    "    columbia = json.load(f)"
   ]
  },
  {
   "cell_type": "code",
   "execution_count": 8,
   "id": "1c06962e",
   "metadata": {
    "pycharm": {
     "name": "#%%\n"
    }
   },
   "outputs": [],
   "source": [
    "for department in columbia:\n",
    "    profiles = department.get('profiles') \n",
    "    if profiles is not None:\n",
    "        for p in profiles:\n",
    "            clean_gender_race(p)"
   ]
  },
  {
   "cell_type": "code",
   "execution_count": 9,
   "id": "982e9b71",
   "metadata": {
    "pycharm": {
     "name": "#%%\n"
    }
   },
   "outputs": [
    {
     "name": "stdout",
     "output_type": "stream",
     "text": [
      "________NAME________\n",
      "['male', 'female', 'unknown']\n",
      "['hispanic', 'api', 'black', 'white']\n",
      "________IMG________\n",
      "['male', 'female', 'unknown']\n",
      "['unknown', 'hispanic', 'api', 'white', 'black']\n"
     ]
    }
   ],
   "source": [
    "check_categories(columbia)"
   ]
  },
  {
   "cell_type": "code",
   "execution_count": 10,
   "id": "374f8b51",
   "metadata": {
    "pycharm": {
     "name": "#%%\n"
    }
   },
   "outputs": [],
   "source": [
    "with open(sys.path[0] + '/../data/columbia/columbia_detected_converted.json', 'w') as f:\n",
    "    json.dump(columbia, f)"
   ]
  },
  {
   "cell_type": "markdown",
   "id": "2d18a70a",
   "metadata": {
    "pycharm": {
     "name": "#%% md\n"
    }
   },
   "source": [
    "# Dartmouth"
   ]
  },
  {
   "cell_type": "code",
   "execution_count": 11,
   "id": "813f8e15",
   "metadata": {
    "pycharm": {
     "name": "#%%\n"
    }
   },
   "outputs": [],
   "source": [
    "with open(sys.path[0] + '/../data/dartmouth/dartmouth_test_processed_detected.json', 'r') as f:\n",
    "    dartmouth = json.load(f)"
   ]
  },
  {
   "cell_type": "code",
   "execution_count": 12,
   "id": "903b3bdb",
   "metadata": {
    "pycharm": {
     "name": "#%%\n"
    }
   },
   "outputs": [],
   "source": [
    "for department in dartmouth:\n",
    "    profiles = department.get('profiles') \n",
    "    if profiles is not None:\n",
    "        for p in profiles:\n",
    "            clean_gender_race(p)"
   ]
  },
  {
   "cell_type": "code",
   "execution_count": 13,
   "id": "cb1908bf",
   "metadata": {
    "pycharm": {
     "name": "#%%\n"
    }
   },
   "outputs": [
    {
     "name": "stdout",
     "output_type": "stream",
     "text": [
      "________NAME________\n",
      "['male', 'female', 'unknown']\n",
      "['hispanic', 'api', 'black', 'white']\n",
      "________IMG________\n",
      "['male', 'female', 'unknown']\n",
      "['unknown', 'hispanic', 'api', 'white', 'black']\n"
     ]
    }
   ],
   "source": [
    "check_categories(dartmouth)"
   ]
  },
  {
   "cell_type": "code",
   "execution_count": 14,
   "id": "4f64e7c5",
   "metadata": {
    "pycharm": {
     "name": "#%%\n"
    }
   },
   "outputs": [],
   "source": [
    "with open(sys.path[0] + '/../data/dartmouth/dartmouth_detected_converted.json', 'w') as f:\n",
    "    json.dump(dartmouth, f)"
   ]
  },
  {
   "cell_type": "markdown",
   "id": "ceea328e",
   "metadata": {
    "pycharm": {
     "name": "#%% md\n"
    }
   },
   "source": [
    "# Yale"
   ]
  },
  {
   "cell_type": "code",
   "execution_count": 15,
   "id": "2a16ab03",
   "metadata": {
    "pycharm": {
     "name": "#%%\n"
    }
   },
   "outputs": [],
   "source": [
    "with open(sys.path[0] + '/../data/yale/yale_w_profiles_processed_detected.json', 'r') as f:\n",
    "    yale = json.load(f)"
   ]
  },
  {
   "cell_type": "code",
   "execution_count": 16,
   "id": "659c95b6",
   "metadata": {
    "pycharm": {
     "name": "#%%\n"
    }
   },
   "outputs": [],
   "source": [
    "for department in yale:\n",
    "    profiles = department.get('profiles') \n",
    "    if profiles is not None:\n",
    "        for p in profiles:\n",
    "            clean_gender_race(p)"
   ]
  },
  {
   "cell_type": "code",
   "execution_count": 17,
   "id": "7e6b707c",
   "metadata": {
    "pycharm": {
     "name": "#%%\n"
    }
   },
   "outputs": [
    {
     "name": "stdout",
     "output_type": "stream",
     "text": [
      "________NAME________\n",
      "['male', 'female', 'unknown']\n",
      "['hispanic', 'api', 'black', 'white']\n",
      "________IMG________\n",
      "['male', 'female', 'unknown']\n",
      "['unknown', 'hispanic', 'api', 'white', 'black']\n"
     ]
    }
   ],
   "source": [
    "check_categories(yale)"
   ]
  },
  {
   "cell_type": "code",
   "execution_count": 18,
   "id": "d8971888",
   "metadata": {
    "pycharm": {
     "name": "#%%\n"
    }
   },
   "outputs": [],
   "source": [
    "with open(sys.path[0] + '/../data/yale/yale_detected_converted.json', 'w') as f:\n",
    "    json.dump(yale, f)"
   ]
  },
  {
   "cell_type": "markdown",
   "id": "2fef437a",
   "metadata": {
    "pycharm": {
     "name": "#%% md\n"
    }
   },
   "source": [
    "# Princeton"
   ]
  },
  {
   "cell_type": "code",
   "execution_count": 19,
   "id": "e5b893fd",
   "metadata": {
    "pycharm": {
     "name": "#%%\n"
    }
   },
   "outputs": [],
   "source": [
    "with open(sys.path[0] + '/../data/princeton/princeton_w_profiles_processed_detected.json', 'r') as f:\n",
    "    princeton = json.load(f)"
   ]
  },
  {
   "cell_type": "code",
   "execution_count": 20,
   "id": "f5f579d4",
   "metadata": {
    "pycharm": {
     "name": "#%%\n"
    }
   },
   "outputs": [],
   "source": [
    "for department in princeton:\n",
    "    profiles = department.get('profiles') \n",
    "    if profiles is not None:\n",
    "        for p in profiles:\n",
    "            clean_gender_race(p)"
   ]
  },
  {
   "cell_type": "code",
   "execution_count": 21,
   "id": "899377b7",
   "metadata": {
    "pycharm": {
     "name": "#%%\n"
    }
   },
   "outputs": [
    {
     "name": "stdout",
     "output_type": "stream",
     "text": [
      "________NAME________\n",
      "['male', 'female', 'unknown']\n",
      "['hispanic', 'api', 'black', 'white']\n",
      "________IMG________\n",
      "['male', 'female', 'unknown']\n",
      "['unknown', 'hispanic', 'api', 'white', 'black']\n"
     ]
    }
   ],
   "source": [
    "check_categories(princeton)"
   ]
  },
  {
   "cell_type": "code",
   "execution_count": 22,
   "id": "bd1b1778",
   "metadata": {
    "pycharm": {
     "name": "#%%\n"
    }
   },
   "outputs": [],
   "source": [
    "with open(sys.path[0] + '/../data/princeton/princeton_detected_converted.json', 'w') as f:\n",
    "    json.dump(princeton, f)"
   ]
  },
  {
   "cell_type": "markdown",
   "id": "4c6e5534",
   "metadata": {
    "pycharm": {
     "name": "#%% md\n"
    }
   },
   "source": [
    "# Brown"
   ]
  },
  {
   "cell_type": "code",
   "execution_count": 24,
   "id": "7fa42ad6",
   "metadata": {
    "pycharm": {
     "name": "#%%\n"
    }
   },
   "outputs": [],
   "source": [
    "with open(sys.path[0] + '/../data/brown/brown_w_profiles_processed_detected.json', 'r') as f:\n",
    "    brown = json.load(f)"
   ]
  },
  {
   "cell_type": "code",
   "execution_count": 25,
   "id": "1825c5ca",
   "metadata": {
    "pycharm": {
     "name": "#%%\n"
    }
   },
   "outputs": [],
   "source": [
    "for department in brown:\n",
    "    profiles = department.get('profiles') \n",
    "    if profiles is not None:\n",
    "        for p in profiles:\n",
    "            clean_gender_race(p)"
   ]
  },
  {
   "cell_type": "code",
   "execution_count": 26,
   "id": "97292efb",
   "metadata": {
    "pycharm": {
     "name": "#%%\n"
    }
   },
   "outputs": [
    {
     "name": "stdout",
     "output_type": "stream",
     "text": [
      "________NAME________\n",
      "['male', 'female', 'unknown']\n",
      "['hispanic', 'api', 'black', 'white']\n",
      "________IMG________\n",
      "['male', 'female', 'unknown']\n",
      "['unknown', 'hispanic', 'api', 'white', 'black']\n"
     ]
    }
   ],
   "source": [
    "check_categories(brown)"
   ]
  },
  {
   "cell_type": "code",
   "execution_count": 27,
   "id": "20d46d0d",
   "metadata": {
    "pycharm": {
     "name": "#%%\n"
    }
   },
   "outputs": [],
   "source": [
    "with open(sys.path[0] + '/../data/brown/brown_detected_converted.json', 'w') as f:\n",
    "    json.dump(brown, f)"
   ]
  },
  {
   "cell_type": "markdown",
   "id": "686b5620",
   "metadata": {
    "pycharm": {
     "name": "#%% md\n"
    }
   },
   "source": [
    "# Cornell"
   ]
  },
  {
   "cell_type": "code",
   "execution_count": 28,
   "id": "70df96d4",
   "metadata": {
    "pycharm": {
     "name": "#%%\n"
    }
   },
   "outputs": [],
   "source": [
    "with open(sys.path[0] + '/../data/cornell/cornell_w_profiles_processed_detected.json', 'r') as f:\n",
    "    cornell = json.load(f)"
   ]
  },
  {
   "cell_type": "code",
   "execution_count": 29,
   "id": "0d5c83d8",
   "metadata": {
    "pycharm": {
     "name": "#%%\n"
    }
   },
   "outputs": [],
   "source": [
    "for department in cornell:\n",
    "    profiles = department.get('profiles') \n",
    "    if profiles is not None:\n",
    "        for p in profiles:\n",
    "            clean_gender_race(p)"
   ]
  },
  {
   "cell_type": "code",
   "execution_count": 30,
   "id": "2f8f30b1",
   "metadata": {
    "pycharm": {
     "name": "#%%\n"
    }
   },
   "outputs": [
    {
     "name": "stdout",
     "output_type": "stream",
     "text": [
      "________NAME________\n",
      "['male', 'female', 'unknown']\n",
      "['hispanic', 'api', 'black', 'white']\n",
      "________IMG________\n",
      "['male', 'female', 'unknown']\n",
      "['unknown', 'hispanic', 'api', 'white', 'black']\n"
     ]
    }
   ],
   "source": [
    "check_categories(cornell)"
   ]
  },
  {
   "cell_type": "code",
   "execution_count": 31,
   "id": "0a797b28",
   "metadata": {
    "pycharm": {
     "name": "#%%\n"
    }
   },
   "outputs": [],
   "source": [
    "with open(sys.path[0] + '/../data/cornell/cornell_detected_converted.json', 'w') as f:\n",
    "    json.dump(cornell, f)"
   ]
  },
  {
   "cell_type": "markdown",
   "id": "b8b53b2c",
   "metadata": {
    "pycharm": {
     "name": "#%% md\n"
    }
   },
   "source": [
    "# UPenn"
   ]
  },
  {
   "cell_type": "code",
   "execution_count": 32,
   "id": "a10028cf",
   "metadata": {
    "pycharm": {
     "name": "#%%\n"
    }
   },
   "outputs": [],
   "source": [
    "with open(sys.path[0] + '/../data/upenn/upenn_w_profiles_processed_detected.json', 'r') as f:\n",
    "    upenn = json.load(f)"
   ]
  },
  {
   "cell_type": "code",
   "execution_count": 33,
   "id": "7fba010d",
   "metadata": {
    "pycharm": {
     "name": "#%%\n"
    }
   },
   "outputs": [],
   "source": [
    "for department in upenn:\n",
    "    profiles = department.get('profiles') \n",
    "    if profiles is not None:\n",
    "        for p in profiles:\n",
    "            clean_gender_race(p)"
   ]
  },
  {
   "cell_type": "code",
   "execution_count": 34,
   "id": "e03def8f",
   "metadata": {
    "pycharm": {
     "name": "#%%\n"
    }
   },
   "outputs": [
    {
     "name": "stdout",
     "output_type": "stream",
     "text": [
      "________NAME________\n",
      "['male', 'female', 'unknown']\n",
      "['hispanic', 'api', 'black', 'white']\n",
      "________IMG________\n",
      "['male', 'female', 'unknown']\n",
      "['unknown', 'hispanic', 'api', 'white', 'black']\n"
     ]
    }
   ],
   "source": [
    "check_categories(upenn)"
   ]
  },
  {
   "cell_type": "code",
   "execution_count": 35,
   "id": "090bab70",
   "metadata": {
    "pycharm": {
     "name": "#%%\n"
    }
   },
   "outputs": [],
   "source": [
    "with open(sys.path[0] + '/../data/upenn/upenn_detected_converted.json', 'w') as f:\n",
    "    json.dump(upenn, f)"
   ]
  },
  {
   "cell_type": "markdown",
   "id": "ac31a5c7",
   "metadata": {
    "pycharm": {
     "name": "#%% md\n"
    }
   },
   "source": [
    "# Harvard"
   ]
  },
  {
   "cell_type": "code",
   "execution_count": 36,
   "id": "fdc909ff",
   "metadata": {
    "pycharm": {
     "name": "#%%\n"
    }
   },
   "outputs": [],
   "source": [
    "with open(sys.path[0] + '/../data/harvard/harvard_w_profiles_processed_detected.json', 'r') as f:\n",
    "    harvard = json.load(f)"
   ]
  },
  {
   "cell_type": "code",
   "execution_count": 37,
   "id": "e37a18dc",
   "metadata": {
    "pycharm": {
     "name": "#%%\n"
    }
   },
   "outputs": [],
   "source": [
    "for department in harvard:\n",
    "    profiles = department.get('profiles') \n",
    "    if profiles is not None:\n",
    "        for p in profiles:\n",
    "            clean_gender_race(p)"
   ]
  },
  {
   "cell_type": "code",
   "execution_count": 38,
   "id": "d36355a8",
   "metadata": {
    "pycharm": {
     "name": "#%%\n"
    }
   },
   "outputs": [
    {
     "name": "stdout",
     "output_type": "stream",
     "text": [
      "________NAME________\n",
      "['male', 'female', 'unknown']\n",
      "['hispanic', 'api', 'black', 'white']\n",
      "________IMG________\n",
      "['male', 'female', 'unknown']\n",
      "['unknown', 'hispanic', 'api', 'white', 'black']\n"
     ]
    }
   ],
   "source": [
    "check_categories(harvard)"
   ]
  },
  {
   "cell_type": "code",
   "execution_count": 39,
   "id": "9476a085",
   "metadata": {
    "pycharm": {
     "name": "#%%\n"
    }
   },
   "outputs": [],
   "source": [
    "with open(sys.path[0] + '/../data/harvard/harvard_detected_converted.json', 'w') as f:\n",
    "    json.dump(harvard, f)"
   ]
  },
  {
   "cell_type": "markdown",
   "id": "818c158b",
   "metadata": {
    "pycharm": {
     "name": "#%% md\n"
    }
   },
   "source": [
    "# "
   ]
  }
 ],
 "metadata": {
  "kernelspec": {
   "display_name": "Python 3 (ipykernel)",
   "language": "python",
   "name": "python3"
  },
  "language_info": {
   "codemirror_mode": {
    "name": "ipython",
    "version": 3
   },
   "file_extension": ".py",
   "mimetype": "text/x-python",
   "name": "python",
   "nbconvert_exporter": "python",
   "pygments_lexer": "ipython3",
   "version": "3.9.7"
  }
 },
 "nbformat": 4,
 "nbformat_minor": 5
}