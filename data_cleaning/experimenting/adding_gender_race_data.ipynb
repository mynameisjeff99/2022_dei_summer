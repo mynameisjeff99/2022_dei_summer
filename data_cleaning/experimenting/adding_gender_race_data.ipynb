{
 "cells": [
  {
   "cell_type": "code",
   "execution_count": 2,
   "id": "833bfb8d",
   "metadata": {},
   "outputs": [],
   "source": [
    "import sys\n",
    "import json\n",
    "import numpy as np\n",
    "from adding_gender_race_data import AddGenderRaceData"
   ]
  },
  {
   "cell_type": "code",
   "execution_count": 3,
   "id": "3ef7025a",
   "metadata": {},
   "outputs": [],
   "source": [
    "a = AddGenderRaceData()"
   ]
  },
  {
   "cell_type": "code",
   "execution_count": 4,
   "id": "c57f22ab",
   "metadata": {},
   "outputs": [],
   "source": [
    "schools = [\"columbia\", \"dartmouth\", \"yale\", \"princeton\", \"brown\", \"cornell\", \"upenn\", \"harvard\"]"
   ]
  },
  {
   "cell_type": "code",
   "execution_count": 25,
   "id": "f4af9db7",
   "metadata": {},
   "outputs": [
    {
     "name": "stdout",
     "output_type": "stream",
     "text": [
      "columbia\n",
      "dartmouth\n",
      "yale\n",
      "princeton\n",
      "brown\n",
      "cornell\n",
      "upenn\n",
      "harvard\n"
     ]
    }
   ],
   "source": [
    "for school in schools:\n",
    "    print(school)\n",
    "    with open(sys.path[0] + f'/../data/{school}/{school}_detected_converted.json', 'r') as f:\n",
    "        the_school = json.load(f)\n",
    "    a.add_gender_race_data(the_school)\n",
    "    with open(sys.path[0] + f'/../data/{school}/{school}_v1_finalized.json', 'w') as f:\n",
    "        json.dump(the_school, f)"
   ]
  }
 ],
 "metadata": {
  "kernelspec": {
   "display_name": "Python 3 (ipykernel)",
   "language": "python",
   "name": "python3"
  },
  "language_info": {
   "codemirror_mode": {
    "name": "ipython",
    "version": 3
   },
   "file_extension": ".py",
   "mimetype": "text/x-python",
   "name": "python",
   "nbconvert_exporter": "python",
   "pygments_lexer": "ipython3",
   "version": "3.9.12"
  }
 },
 "nbformat": 4,
 "nbformat_minor": 5
}
