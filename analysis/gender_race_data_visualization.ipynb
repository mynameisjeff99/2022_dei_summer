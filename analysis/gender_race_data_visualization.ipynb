{
 "cells": [
  {
   "cell_type": "code",
   "execution_count": 2,
   "id": "f33cb44c",
   "metadata": {
    "pycharm": {
     "is_executing": true,
     "name": "#%%\n"
    }
   },
   "outputs": [],
   "source": [
    "import numpy as np\n",
    "import pandas as pd\n",
    "import sys\n",
    "import json\n",
    "import matplotlib.pyplot as plt\n",
    "import warnings\n",
    "warnings.filterwarnings('ignore')"
   ]
  },
  {
   "cell_type": "markdown",
   "id": "82a05890",
   "metadata": {
    "pycharm": {
     "name": "#%% md\n"
    }
   },
   "source": [
    "# Methods"
   ]
  },
  {
   "cell_type": "code",
   "execution_count": 3,
   "id": "3a9a1274",
   "metadata": {
    "pycharm": {
     "name": "#%%\n"
    }
   },
   "outputs": [],
   "source": [
    "# excluding data of teaching staff and other\n",
    "ranks = ['professor', 'associate professor', 'assistant professor']\n",
    "def get_departmental_df(school):\n",
    "    all_dict = []\n",
    "    for department in school:\n",
    "        department_name = department.get('department')\n",
    "        if department.get('gender_race_data') is not None:\n",
    "            all_row = {\"department\": department_name, \"rank\":\"all\", \n",
    "                       \"gender_female\":0, \"gender_male\":0, \"race_white\":0, \n",
    "                       \"race_api\":0, \"race_black\":0, \"race_hispanic\":0, \n",
    "                       \"gender_unknown\":0, \"race_unknown\":0}\n",
    "            for k,v in department.get('gender_race_data').items():\n",
    "                if k not in ranks:\n",
    "                    continue\n",
    "                dictionary = {'department': department_name}\n",
    "                dictionary.update({'rank': k})\n",
    "                gender_race_data = v\n",
    "                # gender\n",
    "                no_genders = gender_race_data.get('no_genders')\n",
    "                for k1, v1 in no_genders.items():\n",
    "                    dictionary.update({'gender_'+k1: v1})\n",
    "                    all_row.update({'gender_'+k1: all_row['gender_'+k1] + v1})\n",
    "\n",
    "                # race\n",
    "                no_races = gender_race_data.get('no_races')\n",
    "                for k2, v2 in no_races.items():\n",
    "                    dictionary.update({'race_'+k2: v2})\n",
    "                    all_row.update({'race_'+k2: all_row['race_'+k2] + v2})\n",
    "\n",
    "                all_dict.append(dictionary)\n",
    "            all_dict.append(all_row)\n",
    "    df = pd.DataFrame(all_dict)\n",
    "\n",
    "    return df"
   ]
  },
  {
   "cell_type": "code",
   "execution_count": 4,
   "id": "c2909a12",
   "metadata": {
    "pycharm": {
     "name": "#%%\n"
    }
   },
   "outputs": [],
   "source": [
    "def get_pct_df(df):\n",
    "    pct_df = pd.DataFrame()\n",
    "    if 'department' in df.columns:\n",
    "        pct_df['department'] = df['department']\n",
    "    pct_df['rank'] = df['rank']\n",
    "    # pecentages excludes unknown\n",
    "    pct_df['female_pct'] = df['gender_female']/(df['gender_female'] + df['gender_male'])\n",
    "    pct_df['white_pct'] = df['race_white']/(df['race_white'] + df['race_api'] + df['race_black'] + df['race_hispanic'])\n",
    "    pct_df['api_pct'] = df['race_api']/(df['race_white'] + df['race_api'] + df['race_black'] + df['race_hispanic'])\n",
    "    pct_df['black_pct'] = df['race_black']/(df['race_white'] + df['race_api'] + df['race_black'] + df['race_hispanic'])\n",
    "    pct_df['hispanic_pct'] = df['race_hispanic']/(df['race_white'] + df['race_api'] + df['race_black'] + df['race_hispanic'])\n",
    "    pct_df['gender_unknown_pct'] = df['gender_unknown']/(df['gender_female']+ df['gender_male']+ df['gender_unknown'])\n",
    "    pct_df['race_unknown_pct'] = df['race_unknown']/(df['race_unknown'] + df['race_white'] + df['race_api'] + df['race_black'] + df['race_hispanic'])\n",
    "    return pct_df"
   ]
  },
  {
   "cell_type": "code",
   "execution_count": 5,
   "id": "91b9e049",
   "metadata": {},
   "outputs": [],
   "source": [
    "def get_whole_school_pct_df(the_departmental_df):\n",
    "    the_whole_school_df = the_departmental_df.groupby('rank').sum(0).drop(columns='department').reset_index()\n",
    "    the_whole_school_pct_df = get_pct_df(the_whole_school_df)\n",
    "    return the_whole_school_pct_df"
   ]
  },
  {
   "cell_type": "code",
   "execution_count": 6,
   "id": "22a286a1",
   "metadata": {
    "pycharm": {
     "name": "#%%\n"
    }
   },
   "outputs": [],
   "source": [
    "def get_pct(df, rank, feature):\n",
    "    return float(df.loc[df['rank'] == rank, f'{feature}_pct']) * 100"
   ]
  },
  {
   "cell_type": "markdown",
   "id": "6c82a0ec",
   "metadata": {
    "pycharm": {
     "name": "#%% md\n"
    }
   },
   "source": [
    "# Data Visualization"
   ]
  },
  {
   "cell_type": "code",
   "execution_count": 7,
   "id": "f39bb5c5",
   "metadata": {
    "pycharm": {
     "name": "#%%\n"
    }
   },
   "outputs": [],
   "source": [
    "schools = [\"columbia\", \"dartmouth\", \"yale\", \"princeton\", \"brown\", \"cornell\", \"upenn\", \"harvard\"]"
   ]
  },
  {
   "cell_type": "code",
   "execution_count": 8,
   "id": "d32a5d55",
   "metadata": {
    "pycharm": {
     "name": "#%%\n"
    }
   },
   "outputs": [],
   "source": [
    "the_schools = {}\n",
    "for school in schools:\n",
    "    with open(sys.path[0] + f'/../data/{school}/{school}_v2_finalized.json', 'r') as f:\n",
    "        the_school = json.load(f)\n",
    "    the_schools.update({school: the_school})"
   ]
  },
  {
   "cell_type": "code",
   "execution_count": 9,
   "id": "1751e876",
   "metadata": {
    "pycharm": {
     "name": "#%%\n"
    }
   },
   "outputs": [],
   "source": [
    "departmental_dfs = {}\n",
    "departmental_pct_dfs = {}\n",
    "whole_school_pct_dfs = {}\n",
    "\n",
    "for school in schools:\n",
    "    the_school = the_schools.get(school)\n",
    "    \n",
    "    # departmental\n",
    "    the_departmental_df = get_departmental_df(the_school)\n",
    "    departmental_dfs.update({school: the_departmental_df})\n",
    "    \n",
    "    # departmental pct\n",
    "    the_departmental_pct_df = get_pct_df(the_departmental_df)\n",
    "    the_departmental_pct_df.to_json(sys.path[0] + f'/../output/{school}_departmental_pct_v2.json', orient='records')\n",
    "    departmental_pct_dfs.update({school: the_departmental_pct_df})\n",
    "    \n",
    "    # whole school pct\n",
    "    the_whole_school_pct_df = get_whole_school_pct_df(the_departmental_df)\n",
    "    the_whole_school_pct_df.to_json(sys.path[0] + f'/../output/{school}_whole_school_pct_v2.json', orient='records')\n",
    "    whole_school_pct_dfs.update({school:the_whole_school_pct_df})"
   ]
  },
  {
   "cell_type": "code",
   "execution_count": 10,
   "id": "05abbcd2",
   "metadata": {
    "pycharm": {
     "name": "#%%\n"
    }
   },
   "outputs": [
    {
     "data": {
      "text/html": [
       "<div>\n",
       "<style scoped>\n",
       "    .dataframe tbody tr th:only-of-type {\n",
       "        vertical-align: middle;\n",
       "    }\n",
       "\n",
       "    .dataframe tbody tr th {\n",
       "        vertical-align: top;\n",
       "    }\n",
       "\n",
       "    .dataframe thead th {\n",
       "        text-align: right;\n",
       "    }\n",
       "</style>\n",
       "<table border=\"1\" class=\"dataframe\">\n",
       "  <thead>\n",
       "    <tr style=\"text-align: right;\">\n",
       "      <th></th>\n",
       "      <th>department</th>\n",
       "      <th>rank</th>\n",
       "      <th>gender_female</th>\n",
       "      <th>gender_male</th>\n",
       "      <th>gender_unknown</th>\n",
       "      <th>race_white</th>\n",
       "      <th>race_black</th>\n",
       "      <th>race_api</th>\n",
       "      <th>race_hispanic</th>\n",
       "      <th>race_unknown</th>\n",
       "    </tr>\n",
       "  </thead>\n",
       "  <tbody>\n",
       "    <tr>\n",
       "      <th>0</th>\n",
       "      <td>Accounting Division</td>\n",
       "      <td>professor</td>\n",
       "      <td>0</td>\n",
       "      <td>9</td>\n",
       "      <td>0</td>\n",
       "      <td>8</td>\n",
       "      <td>0</td>\n",
       "      <td>0</td>\n",
       "      <td>1</td>\n",
       "      <td>0</td>\n",
       "    </tr>\n",
       "    <tr>\n",
       "      <th>1</th>\n",
       "      <td>Accounting Division</td>\n",
       "      <td>associate professor</td>\n",
       "      <td>1</td>\n",
       "      <td>2</td>\n",
       "      <td>0</td>\n",
       "      <td>2</td>\n",
       "      <td>0</td>\n",
       "      <td>1</td>\n",
       "      <td>0</td>\n",
       "      <td>0</td>\n",
       "    </tr>\n",
       "    <tr>\n",
       "      <th>2</th>\n",
       "      <td>Accounting Division</td>\n",
       "      <td>assistant professor</td>\n",
       "      <td>3</td>\n",
       "      <td>7</td>\n",
       "      <td>0</td>\n",
       "      <td>5</td>\n",
       "      <td>0</td>\n",
       "      <td>4</td>\n",
       "      <td>0</td>\n",
       "      <td>1</td>\n",
       "    </tr>\n",
       "    <tr>\n",
       "      <th>3</th>\n",
       "      <td>Accounting Division</td>\n",
       "      <td>all</td>\n",
       "      <td>4</td>\n",
       "      <td>18</td>\n",
       "      <td>0</td>\n",
       "      <td>15</td>\n",
       "      <td>0</td>\n",
       "      <td>5</td>\n",
       "      <td>1</td>\n",
       "      <td>1</td>\n",
       "    </tr>\n",
       "    <tr>\n",
       "      <th>4</th>\n",
       "      <td>African American and African Diaspora Studies ...</td>\n",
       "      <td>professor</td>\n",
       "      <td>5</td>\n",
       "      <td>8</td>\n",
       "      <td>0</td>\n",
       "      <td>0</td>\n",
       "      <td>13</td>\n",
       "      <td>0</td>\n",
       "      <td>0</td>\n",
       "      <td>0</td>\n",
       "    </tr>\n",
       "  </tbody>\n",
       "</table>\n",
       "</div>"
      ],
      "text/plain": [
       "                                          department                 rank  \\\n",
       "0                                Accounting Division            professor   \n",
       "1                                Accounting Division  associate professor   \n",
       "2                                Accounting Division  assistant professor   \n",
       "3                                Accounting Division                  all   \n",
       "4  African American and African Diaspora Studies ...            professor   \n",
       "\n",
       "   gender_female  gender_male  gender_unknown  race_white  race_black  \\\n",
       "0              0            9               0           8           0   \n",
       "1              1            2               0           2           0   \n",
       "2              3            7               0           5           0   \n",
       "3              4           18               0          15           0   \n",
       "4              5            8               0           0          13   \n",
       "\n",
       "   race_api  race_hispanic  race_unknown  \n",
       "0         0              1             0  \n",
       "1         1              0             0  \n",
       "2         4              0             1  \n",
       "3         5              1             1  \n",
       "4         0              0             0  "
      ]
     },
     "execution_count": 10,
     "metadata": {},
     "output_type": "execute_result"
    }
   ],
   "source": [
    "departmental_dfs.get('columbia').head()"
   ]
  },
  {
   "cell_type": "code",
   "execution_count": 11,
   "id": "1a3fa759",
   "metadata": {
    "pycharm": {
     "name": "#%%\n"
    }
   },
   "outputs": [
    {
     "data": {
      "text/html": [
       "<div>\n",
       "<style scoped>\n",
       "    .dataframe tbody tr th:only-of-type {\n",
       "        vertical-align: middle;\n",
       "    }\n",
       "\n",
       "    .dataframe tbody tr th {\n",
       "        vertical-align: top;\n",
       "    }\n",
       "\n",
       "    .dataframe thead th {\n",
       "        text-align: right;\n",
       "    }\n",
       "</style>\n",
       "<table border=\"1\" class=\"dataframe\">\n",
       "  <thead>\n",
       "    <tr style=\"text-align: right;\">\n",
       "      <th></th>\n",
       "      <th>department</th>\n",
       "      <th>rank</th>\n",
       "      <th>female_pct</th>\n",
       "      <th>white_pct</th>\n",
       "      <th>api_pct</th>\n",
       "      <th>black_pct</th>\n",
       "      <th>hispanic_pct</th>\n",
       "      <th>gender_unknown_pct</th>\n",
       "      <th>race_unknown_pct</th>\n",
       "    </tr>\n",
       "  </thead>\n",
       "  <tbody>\n",
       "    <tr>\n",
       "      <th>0</th>\n",
       "      <td>Accounting Division</td>\n",
       "      <td>professor</td>\n",
       "      <td>0.000000</td>\n",
       "      <td>0.888889</td>\n",
       "      <td>0.000000</td>\n",
       "      <td>0.0</td>\n",
       "      <td>0.111111</td>\n",
       "      <td>0.0</td>\n",
       "      <td>0.000000</td>\n",
       "    </tr>\n",
       "    <tr>\n",
       "      <th>1</th>\n",
       "      <td>Accounting Division</td>\n",
       "      <td>associate professor</td>\n",
       "      <td>0.333333</td>\n",
       "      <td>0.666667</td>\n",
       "      <td>0.333333</td>\n",
       "      <td>0.0</td>\n",
       "      <td>0.000000</td>\n",
       "      <td>0.0</td>\n",
       "      <td>0.000000</td>\n",
       "    </tr>\n",
       "    <tr>\n",
       "      <th>2</th>\n",
       "      <td>Accounting Division</td>\n",
       "      <td>assistant professor</td>\n",
       "      <td>0.300000</td>\n",
       "      <td>0.555556</td>\n",
       "      <td>0.444444</td>\n",
       "      <td>0.0</td>\n",
       "      <td>0.000000</td>\n",
       "      <td>0.0</td>\n",
       "      <td>0.100000</td>\n",
       "    </tr>\n",
       "    <tr>\n",
       "      <th>3</th>\n",
       "      <td>Accounting Division</td>\n",
       "      <td>all</td>\n",
       "      <td>0.181818</td>\n",
       "      <td>0.714286</td>\n",
       "      <td>0.238095</td>\n",
       "      <td>0.0</td>\n",
       "      <td>0.047619</td>\n",
       "      <td>0.0</td>\n",
       "      <td>0.045455</td>\n",
       "    </tr>\n",
       "    <tr>\n",
       "      <th>4</th>\n",
       "      <td>African American and African Diaspora Studies ...</td>\n",
       "      <td>professor</td>\n",
       "      <td>0.384615</td>\n",
       "      <td>0.000000</td>\n",
       "      <td>0.000000</td>\n",
       "      <td>1.0</td>\n",
       "      <td>0.000000</td>\n",
       "      <td>0.0</td>\n",
       "      <td>0.000000</td>\n",
       "    </tr>\n",
       "  </tbody>\n",
       "</table>\n",
       "</div>"
      ],
      "text/plain": [
       "                                          department                 rank  \\\n",
       "0                                Accounting Division            professor   \n",
       "1                                Accounting Division  associate professor   \n",
       "2                                Accounting Division  assistant professor   \n",
       "3                                Accounting Division                  all   \n",
       "4  African American and African Diaspora Studies ...            professor   \n",
       "\n",
       "   female_pct  white_pct   api_pct  black_pct  hispanic_pct  \\\n",
       "0    0.000000   0.888889  0.000000        0.0      0.111111   \n",
       "1    0.333333   0.666667  0.333333        0.0      0.000000   \n",
       "2    0.300000   0.555556  0.444444        0.0      0.000000   \n",
       "3    0.181818   0.714286  0.238095        0.0      0.047619   \n",
       "4    0.384615   0.000000  0.000000        1.0      0.000000   \n",
       "\n",
       "   gender_unknown_pct  race_unknown_pct  \n",
       "0                 0.0          0.000000  \n",
       "1                 0.0          0.000000  \n",
       "2                 0.0          0.100000  \n",
       "3                 0.0          0.045455  \n",
       "4                 0.0          0.000000  "
      ]
     },
     "execution_count": 11,
     "metadata": {},
     "output_type": "execute_result"
    }
   ],
   "source": [
    "departmental_pct_dfs.get('columbia').head()"
   ]
  },
  {
   "cell_type": "code",
   "execution_count": 12,
   "id": "01eec976",
   "metadata": {
    "pycharm": {
     "name": "#%%\n"
    }
   },
   "outputs": [
    {
     "data": {
      "text/html": [
       "<div>\n",
       "<style scoped>\n",
       "    .dataframe tbody tr th:only-of-type {\n",
       "        vertical-align: middle;\n",
       "    }\n",
       "\n",
       "    .dataframe tbody tr th {\n",
       "        vertical-align: top;\n",
       "    }\n",
       "\n",
       "    .dataframe thead th {\n",
       "        text-align: right;\n",
       "    }\n",
       "</style>\n",
       "<table border=\"1\" class=\"dataframe\">\n",
       "  <thead>\n",
       "    <tr style=\"text-align: right;\">\n",
       "      <th></th>\n",
       "      <th>rank</th>\n",
       "      <th>female_pct</th>\n",
       "      <th>white_pct</th>\n",
       "      <th>api_pct</th>\n",
       "      <th>black_pct</th>\n",
       "      <th>hispanic_pct</th>\n",
       "      <th>gender_unknown_pct</th>\n",
       "      <th>race_unknown_pct</th>\n",
       "    </tr>\n",
       "  </thead>\n",
       "  <tbody>\n",
       "    <tr>\n",
       "      <th>0</th>\n",
       "      <td>all</td>\n",
       "      <td>0.382034</td>\n",
       "      <td>0.700965</td>\n",
       "      <td>0.152733</td>\n",
       "      <td>0.073955</td>\n",
       "      <td>0.072347</td>\n",
       "      <td>0.026144</td>\n",
       "      <td>0.061840</td>\n",
       "    </tr>\n",
       "    <tr>\n",
       "      <th>1</th>\n",
       "      <td>assistant professor</td>\n",
       "      <td>0.489691</td>\n",
       "      <td>0.668421</td>\n",
       "      <td>0.178947</td>\n",
       "      <td>0.073684</td>\n",
       "      <td>0.078947</td>\n",
       "      <td>0.031614</td>\n",
       "      <td>0.051581</td>\n",
       "    </tr>\n",
       "    <tr>\n",
       "      <th>2</th>\n",
       "      <td>associate professor</td>\n",
       "      <td>0.419940</td>\n",
       "      <td>0.705329</td>\n",
       "      <td>0.131661</td>\n",
       "      <td>0.094044</td>\n",
       "      <td>0.068966</td>\n",
       "      <td>0.014881</td>\n",
       "      <td>0.050595</td>\n",
       "    </tr>\n",
       "    <tr>\n",
       "      <th>3</th>\n",
       "      <td>professor</td>\n",
       "      <td>0.308594</td>\n",
       "      <td>0.718526</td>\n",
       "      <td>0.144319</td>\n",
       "      <td>0.067554</td>\n",
       "      <td>0.069601</td>\n",
       "      <td>0.026616</td>\n",
       "      <td>0.071293</td>\n",
       "    </tr>\n",
       "  </tbody>\n",
       "</table>\n",
       "</div>"
      ],
      "text/plain": [
       "                  rank  female_pct  white_pct   api_pct  black_pct  \\\n",
       "0                  all    0.382034   0.700965  0.152733   0.073955   \n",
       "1  assistant professor    0.489691   0.668421  0.178947   0.073684   \n",
       "2  associate professor    0.419940   0.705329  0.131661   0.094044   \n",
       "3            professor    0.308594   0.718526  0.144319   0.067554   \n",
       "\n",
       "   hispanic_pct  gender_unknown_pct  race_unknown_pct  \n",
       "0      0.072347            0.026144          0.061840  \n",
       "1      0.078947            0.031614          0.051581  \n",
       "2      0.068966            0.014881          0.050595  \n",
       "3      0.069601            0.026616          0.071293  "
      ]
     },
     "execution_count": 12,
     "metadata": {},
     "output_type": "execute_result"
    }
   ],
   "source": [
    "whole_school_pct_dfs.get('columbia')"
   ]
  },
  {
   "cell_type": "code",
   "execution_count": 12,
   "id": "0742dd85",
   "metadata": {
    "pycharm": {
     "name": "#%%\n"
    }
   },
   "outputs": [],
   "source": [
    "bins = [5*i/100 for i in range(21)]"
   ]
  },
  {
   "cell_type": "code",
   "execution_count": 13,
   "id": "33e37403",
   "metadata": {
    "pycharm": {
     "name": "#%%\n"
    }
   },
   "outputs": [
    {
     "name": "stdout",
     "output_type": "stream",
     "text": [
      "[0.0, 0.05, 0.1, 0.15, 0.2, 0.25, 0.3, 0.35, 0.4, 0.45, 0.5, 0.55, 0.6, 0.65, 0.7, 0.75, 0.8, 0.85, 0.9, 0.95, 1.0]\n"
     ]
    }
   ],
   "source": [
    "print(bins)"
   ]
  },
  {
   "cell_type": "markdown",
   "id": "e8e7556e",
   "metadata": {
    "pycharm": {
     "name": "#%% md\n"
    }
   },
   "source": [
    "## Unknown data"
   ]
  },
  {
   "cell_type": "code",
   "execution_count": 14,
   "id": "1010efa7",
   "metadata": {
    "pycharm": {
     "name": "#%%\n"
    },
    "scrolled": false
   },
   "outputs": [
    {
     "data": {
      "image/png": "[encoded data removed]",
      "text/plain": [
       "<Figure size 5760x1440 with 16 Axes>"
      ]
     },
     "metadata": {
      "needs_background": "light"
     },
     "output_type": "display_data"
    }
   ],
   "source": [
    "fig, axs = plt.subplots(2, 8, figsize=(80,20))\n",
    "curr_ind = 0\n",
    "for school in schools:\n",
    "    the_departmental_pct_df = departmental_pct_dfs.get(school)\n",
    "    titles = ['gender', 'race']\n",
    "    features = ['gender_unknown_pct', 'race_unknown_pct']\n",
    "    for i in range(2):\n",
    "        values = the_departmental_pct_df.loc[the_departmental_pct_df['rank']=='all', features[i]]\n",
    "        axs[i, curr_ind].hist(the_departmental_pct_df.loc[the_departmental_pct_df['rank']=='all', features[i]], bins=bins)\n",
    "        axs[i, curr_ind].set_title(school+ \" \"+ titles[i])\n",
    "        axs[i, curr_ind].set_ylim(0,40)\n",
    "        axs[i, curr_ind].set_xlabel('% missing')\n",
    "    curr_ind += 1\n",
    "\n",
    "plt.show()"
   ]
  },
  {
   "cell_type": "markdown",
   "id": "e7b6aa55",
   "metadata": {
    "pycharm": {
     "name": "#%% md\n"
    }
   },
   "source": [
    "## Whole school pct (female and non-white)"
   ]
  },
  {
   "cell_type": "code",
   "execution_count": 18,
   "id": "130140fd",
   "metadata": {
    "pycharm": {
     "name": "#%%\n"
    }
   },
   "outputs": [],
   "source": [
    "female_pcts = []\n",
    "non_white_pcts = []\n",
    "\n",
    "for school in schools:\n",
    "    the_school_df = whole_school_pct_dfs.get(school)\n",
    "    female_pct = get_pct(the_school_df, 'all', 'female')\n",
    "    female_pcts.append(female_pct)\n",
    "    \n",
    "    non_white_pct = 100 - get_pct(the_school_df, 'all', 'white')\n",
    "    non_white_pcts.append(non_white_pct)"
   ]
  },
  {
   "cell_type": "code",
   "execution_count": 19,
   "id": "1079be66",
   "metadata": {
    "pycharm": {
     "name": "#%%\n"
    }
   },
   "outputs": [
    {
     "data": {
      "image/png": "[encoded data removed]",
      "text/plain": [
       "<Figure size 864x648 with 2 Axes>"
      ]
     },
     "metadata": {
      "needs_background": "light"
     },
     "output_type": "display_data"
    }
   ],
   "source": [
    "fig, (ax1, ax2) = plt.subplots(2, figsize=(12,9))\n",
    "fig.suptitle('Whole school comparison (female and non-white)')\n",
    "\n",
    "# Number of bars\n",
    "N = 8\n",
    "# Position of bars on x-axis\n",
    "ind = np.arange(N)\n",
    "width = 0.2\n",
    "features = ['female pct', 'non-white pct']\n",
    "\n",
    "ax1.set_title('Female pct')\n",
    "ax1.bar(ind, female_pcts, width, label='Female')\n",
    "\n",
    "ax2.set_title('Non-white pct')\n",
    "ax2.bar(ind, non_white_pcts, width, label='Non-white', color='orange')\n",
    "\n",
    "for ax in (ax1, ax2):\n",
    "    ax.set_ylim(0,50)\n",
    "    ax.set_ylabel('%')\n",
    "    ax.set_xticks(ind + width / 2)\n",
    "    ax.legend(loc='best')\n",
    "    ax.set_xticklabels(schools)\n",
    "\n",
    "plt.show()"
   ]
  },
  {
   "cell_type": "markdown",
   "id": "916556db",
   "metadata": {
    "pycharm": {
     "name": "#%% md\n"
    }
   },
   "source": [
    "## Whole school comparison between ranks"
   ]
  },
  {
   "cell_type": "code",
   "execution_count": 20,
   "id": "353d622d",
   "metadata": {
    "pycharm": {
     "name": "#%%\n"
    }
   },
   "outputs": [],
   "source": [
    "female_pcts = {}\n",
    "non_white_pcts = {}\n",
    "\n",
    "for school in schools:\n",
    "    the_school_df = whole_school_pct_dfs.get(school)\n",
    "    \n",
    "    for rank in ranks:\n",
    "        female_pct = get_pct(the_school_df, rank, 'female')\n",
    "        non_white_pct = 100 - get_pct(the_school_df, rank, 'white')\n",
    "        \n",
    "        if school not in female_pcts.keys():\n",
    "            female_pcts.update({school:[female_pct]})\n",
    "            non_white_pcts.update({school:[non_white_pct]})\n",
    "        else:\n",
    "            female_pcts.get(school).append(female_pct)\n",
    "            non_white_pcts.get(school).append(non_white_pct)"
   ]
  },
  {
   "cell_type": "code",
   "execution_count": 21,
   "id": "21917fd9",
   "metadata": {
    "pycharm": {
     "name": "#%%\n"
    }
   },
   "outputs": [
    {
     "data": {
      "image/png": "[encoded data removed]",
      "text/plain": [
       "<Figure size 864x648 with 2 Axes>"
      ]
     },
     "metadata": {
      "needs_background": "light"
     },
     "output_type": "display_data"
    }
   ],
   "source": [
    "fig, (ax1, ax2) = plt.subplots(2, figsize=(12,9))\n",
    "fig.suptitle('Whole school comparison between ranks')\n",
    "\n",
    "# Number of bars\n",
    "N = 3\n",
    "# Position of bars on x-axis\n",
    "ind = np.arange(N)\n",
    "# Width of a bar \n",
    "width = 0.1\n",
    "\n",
    "# female pct\n",
    "ax1.set_title('Female pct')\n",
    "curr_ind = ind\n",
    "for school in schools:\n",
    "    values = female_pcts.get(school)\n",
    "    ax1.bar(curr_ind, values, width, label=school)\n",
    "    curr_ind = curr_ind + width\n",
    "\n",
    "# non-white pct\n",
    "ax2.set_title('Non-white pct')\n",
    "curr_ind = ind\n",
    "for school in schools:\n",
    "    values = non_white_pcts.get(school)\n",
    "    ax2.bar(curr_ind, values, width, label=school)\n",
    "    curr_ind = curr_ind + width\n",
    "\n",
    "for ax in (ax1, ax2):\n",
    "    ax.set_ylim(0,60)\n",
    "    ax.set_ylabel('%')\n",
    "    ax.set_xticks(ind + width / 2)\n",
    "    ax.legend(loc='best')\n",
    "    ax.set_xticklabels(ranks)\n",
    "\n",
    "plt.show()"
   ]
  },
  {
   "cell_type": "markdown",
   "id": "721a75b9",
   "metadata": {
    "pycharm": {
     "name": "#%% md\n"
    }
   },
   "source": [
    "# Comparison with NCES data"
   ]
  },
  {
   "cell_type": "code",
   "execution_count": 25,
   "id": "e28a55c2",
   "metadata": {
    "pycharm": {
     "name": "#%%\n"
    }
   },
   "outputs": [],
   "source": [
    "NCES_data = {}\n",
    "for school in schools:\n",
    "    with open(sys.path[0] + f'/../data/{school}/data_during_process/{school}_NCES.json', 'r') as f:\n",
    "        the_school_NCES = json.load(f)\n",
    "        NCES_data[school] = the_school_NCES"
   ]
  },
  {
   "cell_type": "code",
   "execution_count": 26,
   "id": "013f952e",
   "metadata": {
    "pycharm": {
     "name": "#%%\n"
    }
   },
   "outputs": [],
   "source": [
    "ranks = [\"professors\", \"associate professors\", \"assistant professors\"]\n",
    "NCES_dfs = {}\n",
    "for school in schools:\n",
    "    school_dict = NCES_data[school]\n",
    "    school_NCES = []\n",
    "    for rank in ranks:\n",
    "        row = {}\n",
    "        row[\"rank\"] = rank[:-1]\n",
    "        row[\"female\"] = 0\n",
    "        row[\"total\"] = 0\n",
    "        row[\"white\"] = 0\n",
    "        row[\"api\"] = 0\n",
    "        row[\"black\"] = 0\n",
    "        row[\"hispanic\"] = 0\n",
    "        row[\"aian\"] = 0\n",
    "        # total\n",
    "        for gender, gender_dict in school_dict.items():\n",
    "            for race, race_dict in gender_dict.items():\n",
    "                val = race_dict[rank]\n",
    "                row.update({\"total\": row[\"total\"] + val})\n",
    "                row.update({race: row[race] + val})\n",
    "                if gender == \"female\":\n",
    "                    row.update({'female': row['female'] + val})\n",
    "\n",
    "        school_NCES.append(row)\n",
    "\n",
    "    df = pd.DataFrame(school_NCES)\n",
    "    all_row = {\"rank\":\"all\"}\n",
    "    for col in df.columns[1:]:\n",
    "        all_row.update({col: df[col].sum()})\n",
    "    df.append(all_row, ignore_index=True)\n",
    "    NCES_dfs.update({school: df})"
   ]
  },
  {
   "cell_type": "code",
   "execution_count": 27,
   "id": "f9e911e2",
   "metadata": {
    "pycharm": {
     "name": "#%%\n"
    }
   },
   "outputs": [],
   "source": [
    "NCES_pct_dfs = {}\n",
    "for school, df in NCES_dfs.items():\n",
    "    categories = [\"female\", \"white\", \"api\", \"black\", \"hispanic\"]\n",
    "    df_pct = df.copy()\n",
    "    for category in categories:\n",
    "        df_pct[category + \"_pct\"] = df[category]/df[\"total\"]\n",
    "    df_pct = df_pct.iloc[:, [0,8,9,10,11,12]]\n",
    "    NCES_pct_dfs.update({school: df_pct})"
   ]
  },
  {
   "cell_type": "code",
   "execution_count": 28,
   "id": "5a99f608",
   "metadata": {
    "pycharm": {
     "name": "#%%\n"
    }
   },
   "outputs": [
    {
     "data": {
      "text/html": [
       "<div>\n",
       "<style scoped>\n",
       "    .dataframe tbody tr th:only-of-type {\n",
       "        vertical-align: middle;\n",
       "    }\n",
       "\n",
       "    .dataframe tbody tr th {\n",
       "        vertical-align: top;\n",
       "    }\n",
       "\n",
       "    .dataframe thead th {\n",
       "        text-align: right;\n",
       "    }\n",
       "</style>\n",
       "<table border=\"1\" class=\"dataframe\">\n",
       "  <thead>\n",
       "    <tr style=\"text-align: right;\">\n",
       "      <th></th>\n",
       "      <th>rank</th>\n",
       "      <th>female_pct</th>\n",
       "      <th>white_pct</th>\n",
       "      <th>api_pct</th>\n",
       "      <th>black_pct</th>\n",
       "      <th>hispanic_pct</th>\n",
       "    </tr>\n",
       "  </thead>\n",
       "  <tbody>\n",
       "    <tr>\n",
       "      <th>0</th>\n",
       "      <td>professor</td>\n",
       "      <td>0.253731</td>\n",
       "      <td>0.827292</td>\n",
       "      <td>0.104478</td>\n",
       "      <td>0.042644</td>\n",
       "      <td>0.025586</td>\n",
       "    </tr>\n",
       "    <tr>\n",
       "      <th>1</th>\n",
       "      <td>associate professor</td>\n",
       "      <td>0.410256</td>\n",
       "      <td>0.794872</td>\n",
       "      <td>0.111111</td>\n",
       "      <td>0.025641</td>\n",
       "      <td>0.068376</td>\n",
       "    </tr>\n",
       "    <tr>\n",
       "      <th>2</th>\n",
       "      <td>assistant professor</td>\n",
       "      <td>0.404959</td>\n",
       "      <td>0.685950</td>\n",
       "      <td>0.173554</td>\n",
       "      <td>0.057851</td>\n",
       "      <td>0.082645</td>\n",
       "    </tr>\n",
       "  </tbody>\n",
       "</table>\n",
       "</div>"
      ],
      "text/plain": [
       "                  rank  female_pct  white_pct   api_pct  black_pct  \\\n",
       "0            professor    0.253731   0.827292  0.104478   0.042644   \n",
       "1  associate professor    0.410256   0.794872  0.111111   0.025641   \n",
       "2  assistant professor    0.404959   0.685950  0.173554   0.057851   \n",
       "\n",
       "   hispanic_pct  \n",
       "0      0.025586  \n",
       "1      0.068376  \n",
       "2      0.082645  "
      ]
     },
     "execution_count": 28,
     "metadata": {},
     "output_type": "execute_result"
    }
   ],
   "source": [
    "NCES_pct_dfs[\"princeton\"]"
   ]
  },
  {
   "cell_type": "code",
   "execution_count": 29,
   "id": "2544c0c1",
   "metadata": {
    "pycharm": {
     "name": "#%%\n"
    }
   },
   "outputs": [],
   "source": [
    "for school, data in NCES_pct_dfs.items():\n",
    "    data.to_json(sys.path[0] + f'/../data/{school}/{school}_NCES_pct.json', orient='records')"
   ]
  },
  {
   "cell_type": "code",
   "execution_count": 30,
   "id": "dad3ed21",
   "metadata": {
    "pycharm": {
     "name": "#%%\n"
    }
   },
   "outputs": [],
   "source": [
    "ranks = ['professor', 'associate professor', 'assistant professor']\n",
    "female_pcts_NCES = {}\n",
    "non_white_pcts_NCES = {}\n",
    "\n",
    "for school in schools:\n",
    "    the_school_NCES_df = NCES_pct_dfs.get(school)\n",
    "    \n",
    "    for rank in ranks:\n",
    "        female_pct_NCES = get_pct(the_school_NCES_df, rank, 'female')\n",
    "        non_white_pct_NCES = 100 - get_pct(the_school_NCES_df, rank, 'white')\n",
    "        \n",
    "        if school not in female_pcts_NCES.keys():\n",
    "            female_pcts_NCES.update({school:[female_pct_NCES]})\n",
    "            non_white_pcts_NCES.update({school:[non_white_pct_NCES]})\n",
    "        else:\n",
    "            female_pcts_NCES.get(school).append(female_pct_NCES)\n",
    "            non_white_pcts_NCES.get(school).append(non_white_pct_NCES)"
   ]
  },
  {
   "cell_type": "code",
   "execution_count": 31,
   "id": "25ae5fe5",
   "metadata": {
    "pycharm": {
     "name": "#%%\n"
    }
   },
   "outputs": [
    {
     "data": {
      "image/png": "[encoded data removed]",
      "text/plain": [
       "<Figure size 864x648 with 2 Axes>"
      ]
     },
     "metadata": {
      "needs_background": "light"
     },
     "output_type": "display_data"
    }
   ],
   "source": [
    "fig, (ax1, ax2) = plt.subplots(2, figsize=(12,9))\n",
    "fig.suptitle('Whole school comparison between ranks (black line = NCES data)')\n",
    "\n",
    "# Number of bars\n",
    "N = 3\n",
    "# Position of bars on x-axis\n",
    "ind = np.arange(N)\n",
    "# Width of a bar \n",
    "width = 0.1\n",
    "\n",
    "# female pct\n",
    "ax1.set_title('Female pct')\n",
    "curr_ind = ind\n",
    "for school in schools:\n",
    "    values = female_pcts.get(school)\n",
    "    values_NCES = female_pcts_NCES.get(school)\n",
    "    ax1.bar(curr_ind, values, width, label=school)\n",
    "    ax1.scatter(curr_ind, values_NCES, marker=\"_\", s=400,linewidths=3, color=\"black\")\n",
    "    curr_ind = curr_ind + width\n",
    "\n",
    "# non-white pct\n",
    "ax2.set_title('Non-white pct')\n",
    "curr_ind = ind\n",
    "for school in schools:\n",
    "    values = non_white_pcts.get(school)\n",
    "    values_NCES = non_white_pcts_NCES.get(school)\n",
    "    ax2.bar(curr_ind, values, width, label=school)\n",
    "    ax2.scatter(curr_ind, values_NCES, marker=\"_\", s=400,linewidths=3, color=\"black\")\n",
    "    curr_ind = curr_ind + width\n",
    "\n",
    "for ax in (ax1, ax2):\n",
    "    ax.set_ylim(0,60)\n",
    "    ax.set_ylabel('%')\n",
    "    ax.set_xticks(ind + width / 2)\n",
    "    ax.set_xticklabels(ranks)\n",
    "ax1.legend(loc='best')\n",
    "    \n",
    "plt.show()"
   ]
  }
 ],
 "metadata": {
  "kernelspec": {
   "display_name": "Python 3 (ipykernel)",
   "language": "python",
   "name": "python3"
  },
  "language_info": {
   "codemirror_mode": {
    "name": "ipython",
    "version": 3
   },
   "file_extension": ".py",
   "mimetype": "text/x-python",
   "name": "python",
   "nbconvert_exporter": "python",
   "pygments_lexer": "ipython3",
   "version": "3.9.12"
  }
 },
 "nbformat": 4,
 "nbformat_minor": 5
}