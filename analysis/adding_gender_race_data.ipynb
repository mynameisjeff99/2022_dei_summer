{
 "cells": [
  {
   "cell_type": "code",
   "execution_count": 41,
   "id": "833bfb8d",
   "metadata": {},
   "outputs": [],
   "source": [
    "import sys\n",
    "import json\n",
    "import numpy as np"
   ]
  },
  {
   "cell_type": "code",
   "execution_count": 55,
   "id": "f239e293",
   "metadata": {},
   "outputs": [],
   "source": [
    "def add_gender_race_data(school):\n",
    "    for department in school:\n",
    "        profiles = department.get('profiles')\n",
    "        if profiles is not None:\n",
    "            no_genders_name = {'female':0, 'male':0, 'unknown':0}\n",
    "            no_races_name = {'white':0, 'black':0, 'api':0, 'hispanic':0, 'unknown':0}\n",
    "            no_genders_img = {'female':0, 'male':0, 'unknown':0}\n",
    "            no_races_img = {'white':0, 'black':0, 'api':0, 'hispanic':0, 'unknown':0}\n",
    "            \n",
    "            for p in profiles:\n",
    "                gender_name = p.get('gender')\n",
    "                no_genders_name.update({gender_name:no_genders_name.get(gender_name)+1})\n",
    "                race_name = p.get('race')\n",
    "                no_races_name.update({race_name:no_races_name.get(race_name)+1})\n",
    "                gender_img = p.get('gender_img')\n",
    "                no_genders_img.update({gender_img:no_genders_img.get(gender_img)+1})\n",
    "                race_img = p.get('race_img')\n",
    "                no_races_img.update({race_img:no_races_img.get(race_img)+1})\n",
    "            department.update({'gender_race_data': {'no_genders_name':no_genders_name, \n",
    "                               'no_races_name':no_races_name,\n",
    "                               'no_genders_img':no_genders_img,\n",
    "                               'no_races_img':no_races_img}})\n",
    "        else:\n",
    "            department.update({'gender_race_data': None})"
   ]
  },
  {
   "cell_type": "markdown",
   "id": "8fd81a8e",
   "metadata": {},
   "source": [
    "# Columbia"
   ]
  },
  {
   "cell_type": "code",
   "execution_count": 56,
   "id": "dbd4d648",
   "metadata": {},
   "outputs": [],
   "source": [
    "with open(sys.path[0] + '/../data/columbia/columbia_test_processed_deteched_converted.json', 'r') as f:\n",
    "    columbia = json.load(f)"
   ]
  },
  {
   "cell_type": "code",
   "execution_count": 57,
   "id": "c05da36b",
   "metadata": {},
   "outputs": [],
   "source": [
    "add_gender_race_data(columbia)"
   ]
  },
  {
   "cell_type": "code",
   "execution_count": 62,
   "id": "0b922899",
   "metadata": {},
   "outputs": [],
   "source": [
    "with open(sys.path[0] + '/../data/columbia/columbia_w_gender_race_data.json', 'w') as f:\n",
    "    json.dump(columbia, f)"
   ]
  },
  {
   "cell_type": "markdown",
   "id": "54931d63",
   "metadata": {},
   "source": [
    "# Dartmouth"
   ]
  },
  {
   "cell_type": "code",
   "execution_count": 65,
   "id": "b0183fd0",
   "metadata": {},
   "outputs": [],
   "source": [
    "with open(sys.path[0] + '/../data/dartmouth/dartmouth_test_processed_deteched_converted.json', 'r') as f:\n",
    "    dartmouth = json.load(f)"
   ]
  },
  {
   "cell_type": "code",
   "execution_count": 66,
   "id": "31ab906b",
   "metadata": {},
   "outputs": [],
   "source": [
    "add_gender_race_data(dartmouth)"
   ]
  },
  {
   "cell_type": "code",
   "execution_count": 67,
   "id": "f2f29f08",
   "metadata": {},
   "outputs": [],
   "source": [
    "with open(sys.path[0] + '/../data/dartmouth/dartmouth_w_gender_race_data.json', 'w') as f:\n",
    "    json.dump(dartmouth, f)"
   ]
  }
 ],
 "metadata": {
  "kernelspec": {
   "display_name": "Python 3 (ipykernel)",
   "language": "python",
   "name": "python3"
  },
  "language_info": {
   "codemirror_mode": {
    "name": "ipython",
    "version": 3
   },
   "file_extension": ".py",
   "mimetype": "text/x-python",
   "name": "python",
   "nbconvert_exporter": "python",
   "pygments_lexer": "ipython3",
   "version": "3.9.7"
  }
 },
 "nbformat": 4,
 "nbformat_minor": 5
}
