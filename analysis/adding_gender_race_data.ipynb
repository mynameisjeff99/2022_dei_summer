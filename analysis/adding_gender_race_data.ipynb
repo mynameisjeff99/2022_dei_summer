{
 "cells": [
  {
   "cell_type": "code",
   "execution_count": 1,
   "id": "833bfb8d",
   "metadata": {},
   "outputs": [],
   "source": [
    "import sys\n",
    "import json\n",
    "import numpy as np\n",
    "from adding_gender_race_data import AddGenderRaceData"
   ]
  },
  {
   "cell_type": "code",
   "execution_count": 2,
   "id": "3ef7025a",
   "metadata": {},
   "outputs": [],
   "source": [
    "a = AddGenderRaceData()"
   ]
  },
  {
   "cell_type": "code",
   "execution_count": 3,
   "id": "16a0f544",
   "metadata": {},
   "outputs": [],
   "source": [
    "schools = [\"columbia\", \"dartmouth\", \"yale\", \"princeton\", \"brown\", \"cornell\", \"upenn\", \"harvard\"]"
   ]
  },
  {
   "cell_type": "code",
   "execution_count": null,
   "id": "0b330cb4",
   "metadata": {},
   "outputs": [],
   "source": []
  },
  {
   "cell_type": "code",
   "execution_count": 21,
   "id": "a80e3e31",
   "metadata": {},
   "outputs": [
    {
     "name": "stdout",
     "output_type": "stream",
     "text": [
      "columbia\n",
      "dartmouth\n",
      "yale\n",
      "princeton\n"
     ]
    },
    {
     "ename": "AttributeError",
     "evalue": "'NoneType' object has no attribute 'get'",
     "output_type": "error",
     "traceback": [
      "\u001b[1;31m---------------------------------------------------------------------------\u001b[0m",
      "\u001b[1;31mAttributeError\u001b[0m                            Traceback (most recent call last)",
      "\u001b[1;32mC:\\Users\\GUOSHE~1\\AppData\\Local\\Temp/ipykernel_26588/653038622.py\u001b[0m in \u001b[0;36m<module>\u001b[1;34m\u001b[0m\n\u001b[0;32m      3\u001b[0m     \u001b[1;32mwith\u001b[0m \u001b[0mopen\u001b[0m\u001b[1;33m(\u001b[0m\u001b[0msys\u001b[0m\u001b[1;33m.\u001b[0m\u001b[0mpath\u001b[0m\u001b[1;33m[\u001b[0m\u001b[1;36m0\u001b[0m\u001b[1;33m]\u001b[0m \u001b[1;33m+\u001b[0m \u001b[1;34mf'/../data/{school}/{school}_detected_converted.json'\u001b[0m\u001b[1;33m,\u001b[0m \u001b[1;34m'r'\u001b[0m\u001b[1;33m)\u001b[0m \u001b[1;32mas\u001b[0m \u001b[0mf\u001b[0m\u001b[1;33m:\u001b[0m\u001b[1;33m\u001b[0m\u001b[1;33m\u001b[0m\u001b[0m\n\u001b[0;32m      4\u001b[0m         \u001b[0mthe_school\u001b[0m \u001b[1;33m=\u001b[0m \u001b[0mjson\u001b[0m\u001b[1;33m.\u001b[0m\u001b[0mload\u001b[0m\u001b[1;33m(\u001b[0m\u001b[0mf\u001b[0m\u001b[1;33m)\u001b[0m\u001b[1;33m\u001b[0m\u001b[1;33m\u001b[0m\u001b[0m\n\u001b[1;32m----> 5\u001b[1;33m     \u001b[0ma\u001b[0m\u001b[1;33m.\u001b[0m\u001b[0madd_gender_race_data\u001b[0m\u001b[1;33m(\u001b[0m\u001b[0mthe_school\u001b[0m\u001b[1;33m)\u001b[0m\u001b[1;33m\u001b[0m\u001b[1;33m\u001b[0m\u001b[0m\n\u001b[0m\u001b[0;32m      6\u001b[0m     \u001b[1;32mwith\u001b[0m \u001b[0mopen\u001b[0m\u001b[1;33m(\u001b[0m\u001b[0msys\u001b[0m\u001b[1;33m.\u001b[0m\u001b[0mpath\u001b[0m\u001b[1;33m[\u001b[0m\u001b[1;36m0\u001b[0m\u001b[1;33m]\u001b[0m \u001b[1;33m+\u001b[0m \u001b[1;34mf'/../data/{school}/{school}_v1_finalized.json'\u001b[0m\u001b[1;33m,\u001b[0m \u001b[1;34m'w'\u001b[0m\u001b[1;33m)\u001b[0m \u001b[1;32mas\u001b[0m \u001b[0mf\u001b[0m\u001b[1;33m:\u001b[0m\u001b[1;33m\u001b[0m\u001b[1;33m\u001b[0m\u001b[0m\n\u001b[0;32m      7\u001b[0m         \u001b[0mjson\u001b[0m\u001b[1;33m.\u001b[0m\u001b[0mdump\u001b[0m\u001b[1;33m(\u001b[0m\u001b[0mthe_school\u001b[0m\u001b[1;33m,\u001b[0m \u001b[0mf\u001b[0m\u001b[1;33m)\u001b[0m\u001b[1;33m\u001b[0m\u001b[1;33m\u001b[0m\u001b[0m\n",
      "\u001b[1;32m~\\Documents\\2022_dei_summer\\analysis\\adding_gender_race_data.py\u001b[0m in \u001b[0;36madd_gender_race_data\u001b[1;34m(self, school)\u001b[0m\n\u001b[0;32m     49\u001b[0m                     \u001b[1;31m# gender name\u001b[0m\u001b[1;33m\u001b[0m\u001b[1;33m\u001b[0m\u001b[0m\n\u001b[0;32m     50\u001b[0m                     \u001b[0mgender_name\u001b[0m \u001b[1;33m=\u001b[0m \u001b[0mp\u001b[0m\u001b[1;33m.\u001b[0m\u001b[0mget\u001b[0m\u001b[1;33m(\u001b[0m\u001b[1;34m'gender'\u001b[0m\u001b[1;33m)\u001b[0m\u001b[1;33m\u001b[0m\u001b[1;33m\u001b[0m\u001b[0m\n\u001b[1;32m---> 51\u001b[1;33m                     \u001b[0mgender_race_data\u001b[0m\u001b[1;33m.\u001b[0m\u001b[0mget\u001b[0m\u001b[1;33m(\u001b[0m\u001b[0mrank\u001b[0m\u001b[1;33m)\u001b[0m\u001b[1;33m.\u001b[0m\u001b[0mget\u001b[0m\u001b[1;33m(\u001b[0m\u001b[1;34m'no_genders_name'\u001b[0m\u001b[1;33m)\u001b[0m\u001b[1;33m.\u001b[0m\u001b[0;31m\\\u001b[0m\u001b[1;33m\u001b[0m\u001b[1;33m\u001b[0m\u001b[0m\n\u001b[0m\u001b[0;32m     52\u001b[0m                         update({gender_name: gender_race_data.get(rank).\n\u001b[0;32m     53\u001b[0m                                get('no_genders_name').get(gender_name) + 1})\n",
      "\u001b[1;31mAttributeError\u001b[0m: 'NoneType' object has no attribute 'get'"
     ]
    }
   ],
   "source": [
    "for school in schools:\n",
    "    print(school)\n",
    "    with open(sys.path[0] + f'/../data/{school}/{school}_detected_converted.json', 'r') as f:\n",
    "        the_school = json.load(f)\n",
    "    a.add_gender_race_data(the_school)\n",
    "    with open(sys.path[0] + f'/../data/{school}/{school}_v1_finalized.json', 'w') as f:\n",
    "        json.dump(the_school, f)"
   ]
  },
  {
   "cell_type": "code",
   "execution_count": 4,
   "id": "dbd4d648",
   "metadata": {},
   "outputs": [],
   "source": [
    "with open(sys.path[0] + '/../data/columbia/columbia_test_processed_deteched_converted.json', 'r') as f:\n",
    "    columbia = json.load(f)"
   ]
  },
  {
   "cell_type": "code",
   "execution_count": 5,
   "id": "0490d761",
   "metadata": {},
   "outputs": [],
   "source": [
    "a.add_gender_race_data(columbia)"
   ]
  },
  {
   "cell_type": "code",
   "execution_count": 19,
   "id": "0b922899",
   "metadata": {},
   "outputs": [],
   "source": [
    "with open(sys.path[0] + '/../data/columbia/columbia_w_gender_race_data.json', 'w') as f:\n",
    "    json.dump(columbia, f)"
   ]
  },
  {
   "cell_type": "markdown",
   "id": "54931d63",
   "metadata": {},
   "source": [
    "# Dartmouth"
   ]
  },
  {
   "cell_type": "code",
   "execution_count": 20,
   "id": "b0183fd0",
   "metadata": {},
   "outputs": [],
   "source": [
    "with open(sys.path[0] + '/../data/dartmouth/dartmouth_test_processed_deteched_converted.json', 'r') as f:\n",
    "    dartmouth = json.load(f)"
   ]
  },
  {
   "cell_type": "code",
   "execution_count": 21,
   "id": "31ab906b",
   "metadata": {},
   "outputs": [],
   "source": [
    "a.add_gender_race_data(dartmouth)"
   ]
  },
  {
   "cell_type": "code",
   "execution_count": 22,
   "id": "f2f29f08",
   "metadata": {},
   "outputs": [],
   "source": [
    "with open(sys.path[0] + '/../data/dartmouth/dartmouth_w_gender_race_data.json', 'w') as f:\n",
    "    json.dump(dartmouth, f)"
   ]
  }
 ],
 "metadata": {
  "kernelspec": {
   "display_name": "Python 3 (ipykernel)",
   "language": "python",
   "name": "python3"
  },
  "language_info": {
   "codemirror_mode": {
    "name": "ipython",
    "version": 3
   },
   "file_extension": ".py",
   "mimetype": "text/x-python",
   "name": "python",
   "nbconvert_exporter": "python",
   "pygments_lexer": "ipython3",
   "version": "3.9.7"
  }
 },
 "nbformat": 4,
 "nbformat_minor": 5
}
