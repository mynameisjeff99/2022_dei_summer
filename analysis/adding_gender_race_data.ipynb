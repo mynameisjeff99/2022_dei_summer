{
 "cells": [
  {
   "cell_type": "code",
   "execution_count": 1,
   "id": "833bfb8d",
   "metadata": {},
   "outputs": [],
   "source": [
    "import sys\n",
    "import json\n",
    "import numpy as np\n",
    "from adding_gender_race_data import AddGenderRaceData"
   ]
  },
  {
   "cell_type": "code",
   "execution_count": 2,
   "id": "3ef7025a",
   "metadata": {},
   "outputs": [],
   "source": [
    "a = AddGenderRaceData()"
   ]
  },
  {
   "cell_type": "code",
   "execution_count": 3,
   "id": "f239e293",
   "metadata": {},
   "outputs": [],
   "source": [
    "def add_gender_race_data(school):\n",
    "    for department in school:\n",
    "        profiles = department.get('profiles')\n",
    "        if profiles is not None:\n",
    "            no_genders_name = {'female':0, 'male':0, 'unknown':0}\n",
    "            no_races_name = {'white':0, 'black':0, 'api':0, 'hispanic':0, 'unknown':0}\n",
    "            no_genders_img = {'female':0, 'male':0, 'unknown':0}\n",
    "            no_races_img = {'white':0, 'black':0, 'api':0, 'hispanic':0, 'unknown':0}\n",
    "            \n",
    "            for p in profiles:\n",
    "                gender_name = p.get('gender')\n",
    "                no_genders_name.update({gender_name:no_genders_name.get(gender_name)+1})\n",
    "                race_name = p.get('race')\n",
    "                no_races_name.update({race_name:no_races_name.get(race_name)+1})\n",
    "                gender_img = p.get('gender_img')\n",
    "                no_genders_img.update({gender_img:no_genders_img.get(gender_img)+1})\n",
    "                race_img = p.get('race_img')\n",
    "                no_races_img.update({race_img:no_races_img.get(race_img)+1})\n",
    "            department.update({'gender_race_data': {'no_genders_name':no_genders_name, \n",
    "                               'no_races_name':no_races_name,\n",
    "                               'no_genders_img':no_genders_img,\n",
    "                               'no_races_img':no_races_img}})\n",
    "        else:\n",
    "            department.update({'gender_race_data': None})"
   ]
  },
  {
   "cell_type": "markdown",
   "id": "8fd81a8e",
   "metadata": {},
   "source": [
    "# Columbia"
   ]
  },
  {
   "cell_type": "code",
   "execution_count": 4,
   "id": "dbd4d648",
   "metadata": {},
   "outputs": [],
   "source": [
    "with open(sys.path[0] + '/../data/columbia/columbia_test_processed_deteched_converted.json', 'r') as f:\n",
    "    columbia = json.load(f)"
   ]
  },
  {
   "cell_type": "code",
   "execution_count": 5,
   "id": "0490d761",
   "metadata": {},
   "outputs": [],
   "source": [
    "a.add_gender_race_data(columbia)"
   ]
  },
  {
   "cell_type": "code",
   "execution_count": 18,
   "id": "ad5da91c",
   "metadata": {},
   "outputs": [
    {
     "data": {
      "text/plain": [
       "{'all': {'no_genders_name': {'female': 8, 'male': 12, 'unknown': 7},\n",
       "  'no_races_name': {'white': 25,\n",
       "   'black': 0,\n",
       "   'api': 1,\n",
       "   'hispanic': 1,\n",
       "   'unknown': 0},\n",
       "  'no_genders_img': {'female': 5, 'male': 21, 'unknown': 1},\n",
       "  'no_races_img': {'white': 1,\n",
       "   'black': 21,\n",
       "   'api': 3,\n",
       "   'hispanic': 1,\n",
       "   'unknown': 1}},\n",
       " 'professor': {'no_genders_name': {'female': 4, 'male': 7, 'unknown': 2},\n",
       "  'no_races_name': {'white': 13,\n",
       "   'black': 0,\n",
       "   'api': 0,\n",
       "   'hispanic': 0,\n",
       "   'unknown': 0},\n",
       "  'no_genders_img': {'female': 3, 'male': 10, 'unknown': 0},\n",
       "  'no_races_img': {'white': 1,\n",
       "   'black': 10,\n",
       "   'api': 1,\n",
       "   'hispanic': 1,\n",
       "   'unknown': 0}},\n",
       " 'associate professor': {'no_genders_name': {'female': 2,\n",
       "   'male': 3,\n",
       "   'unknown': 2},\n",
       "  'no_races_name': {'white': 7,\n",
       "   'black': 0,\n",
       "   'api': 0,\n",
       "   'hispanic': 0,\n",
       "   'unknown': 0},\n",
       "  'no_genders_img': {'female': 1, 'male': 6, 'unknown': 0},\n",
       "  'no_races_img': {'white': 0,\n",
       "   'black': 5,\n",
       "   'api': 2,\n",
       "   'hispanic': 0,\n",
       "   'unknown': 0}},\n",
       " 'assistant professor': {'no_genders_name': {'female': 1,\n",
       "   'male': 0,\n",
       "   'unknown': 0},\n",
       "  'no_races_name': {'white': 1,\n",
       "   'black': 0,\n",
       "   'api': 0,\n",
       "   'hispanic': 0,\n",
       "   'unknown': 0},\n",
       "  'no_genders_img': {'female': 1, 'male': 0, 'unknown': 0},\n",
       "  'no_races_img': {'white': 0,\n",
       "   'black': 1,\n",
       "   'api': 0,\n",
       "   'hispanic': 0,\n",
       "   'unknown': 0}},\n",
       " 'teaching staff': {'no_genders_name': {'female': 0, 'male': 0, 'unknown': 1},\n",
       "  'no_races_name': {'white': 1,\n",
       "   'black': 0,\n",
       "   'api': 0,\n",
       "   'hispanic': 0,\n",
       "   'unknown': 0},\n",
       "  'no_genders_img': {'female': 0, 'male': 1, 'unknown': 0},\n",
       "  'no_races_img': {'white': 0,\n",
       "   'black': 1,\n",
       "   'api': 0,\n",
       "   'hispanic': 0,\n",
       "   'unknown': 0}},\n",
       " 'other': {'no_genders_name': {'female': 1, 'male': 2, 'unknown': 2},\n",
       "  'no_races_name': {'white': 3,\n",
       "   'black': 0,\n",
       "   'api': 1,\n",
       "   'hispanic': 1,\n",
       "   'unknown': 0},\n",
       "  'no_genders_img': {'female': 0, 'male': 4, 'unknown': 1},\n",
       "  'no_races_img': {'white': 0,\n",
       "   'black': 4,\n",
       "   'api': 0,\n",
       "   'hispanic': 0,\n",
       "   'unknown': 1}}}"
      ]
     },
     "execution_count": 18,
     "metadata": {},
     "output_type": "execute_result"
    }
   ],
   "source": [
    "columbia[1].get('gender_race_data')"
   ]
  },
  {
   "cell_type": "code",
   "execution_count": 19,
   "id": "0b922899",
   "metadata": {},
   "outputs": [],
   "source": [
    "with open(sys.path[0] + '/../data/columbia/columbia_w_gender_race_data.json', 'w') as f:\n",
    "    json.dump(columbia, f)"
   ]
  },
  {
   "cell_type": "markdown",
   "id": "54931d63",
   "metadata": {},
   "source": [
    "# Dartmouth"
   ]
  },
  {
   "cell_type": "code",
   "execution_count": 20,
   "id": "b0183fd0",
   "metadata": {},
   "outputs": [],
   "source": [
    "with open(sys.path[0] + '/../data/dartmouth/dartmouth_test_processed_deteched_converted.json', 'r') as f:\n",
    "    dartmouth = json.load(f)"
   ]
  },
  {
   "cell_type": "code",
   "execution_count": 21,
   "id": "31ab906b",
   "metadata": {},
   "outputs": [],
   "source": [
    "a.add_gender_race_data(dartmouth)"
   ]
  },
  {
   "cell_type": "code",
   "execution_count": 22,
   "id": "f2f29f08",
   "metadata": {},
   "outputs": [],
   "source": [
    "with open(sys.path[0] + '/../data/dartmouth/dartmouth_w_gender_race_data.json', 'w') as f:\n",
    "    json.dump(dartmouth, f)"
   ]
  }
 ],
 "metadata": {
  "kernelspec": {
   "display_name": "Python 3 (ipykernel)",
   "language": "python",
   "name": "python3"
  },
  "language_info": {
   "codemirror_mode": {
    "name": "ipython",
    "version": 3
   },
   "file_extension": ".py",
   "mimetype": "text/x-python",
   "name": "python",
   "nbconvert_exporter": "python",
   "pygments_lexer": "ipython3",
   "version": "3.9.7"
  }
 },
 "nbformat": 4,
 "nbformat_minor": 5
}
