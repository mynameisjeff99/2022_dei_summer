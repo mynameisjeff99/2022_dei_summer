{
 "cells": [
  {
   "cell_type": "code",
   "execution_count": 158,
   "id": "f33cb44c",
   "metadata": {},
   "outputs": [],
   "source": [
    "import numpy as np\n",
    "import pandas as pd\n",
    "import sys\n",
    "import json\n",
    "import matplotlib.pyplot as plt"
   ]
  },
  {
   "cell_type": "code",
   "execution_count": 159,
   "id": "3a9a1274",
   "metadata": {},
   "outputs": [],
   "source": [
    "def get_gender_race_df(school):\n",
    "    all_dict = []\n",
    "    for department in school:\n",
    "        department_name = department.get('department')\n",
    "        gender_race_data = department.get('gender_race_data')\n",
    "        dictionary = {'department': department_name}\n",
    "        if gender_race_data is not None:\n",
    "            # gender\n",
    "            no_genders_name = gender_race_data.get('no_genders_name')\n",
    "            for k, v in no_genders_name.items():\n",
    "                dictionary.update({'gender_name_'+k: v})\n",
    "            no_genders_img = gender_race_data.get('no_genders_img')\n",
    "            for k, v in no_genders_img.items():\n",
    "                dictionary.update({'gender_img_'+k: v})\n",
    "\n",
    "            # race\n",
    "            no_races_name = gender_race_data.get('no_races_name')\n",
    "            for k, v in no_races_name.items():\n",
    "                dictionary.update({'race_name_'+k: v})\n",
    "            no_races_img = gender_race_data.get('no_races_img')\n",
    "            for k, v in no_races_img.items():\n",
    "                dictionary.update({'race_img_'+k: v})\n",
    "\n",
    "        all_dict.append(dictionary)\n",
    "    df = pd.DataFrame(all_dict)\n",
    "    return df"
   ]
  },
  {
   "cell_type": "code",
   "execution_count": 174,
   "id": "c2909a12",
   "metadata": {},
   "outputs": [],
   "source": [
    "def get_pct_df(df:pd.DataFrame):\n",
    "    pct_df = pd.DataFrame()\n",
    "    # pecentages excludes unknown\n",
    "    pct_df['department'] = df['department']\n",
    "    pct_df['female_pct_name'] = df['gender_name_female']/(df['gender_name_female'] + df['gender_name_male'])\n",
    "    pct_df['female_pct_img'] = df['gender_img_female']/(df['gender_img_female'] + df['gender_img_male'])\n",
    "    pct_df['white_pct_name'] = df['race_name_white']/(df['race_name_white'] + df['race_name_api'] + df['race_name_black'] + df['race_name_hispanic'])\n",
    "    pct_df['white_pct_img'] = df['race_img_white']/(df['race_img_white'] + df['race_img_api'] + df['race_img_black'] + df['race_img_hispanic'])\n",
    "    pct_df['api_pct_name'] = df['race_name_api']/(df['race_name_white'] + df['race_name_api'] + df['race_name_black'] + df['race_name_hispanic'])\n",
    "    pct_df['api_pct_img'] = df['race_img_api']/(df['race_img_white'] + df['race_img_api'] + df['race_img_black'] + df['race_img_hispanic'])\n",
    "    pct_df['black_pct_name'] = df['race_name_black']/(df['race_name_white'] + df['race_name_api'] + df['race_name_black'] + df['race_name_hispanic'])\n",
    "    pct_df['black_pct_img'] = df['race_img_black']/(df['race_img_white'] + df['race_img_api'] + df['race_img_black'] + df['race_img_hispanic'])\n",
    "    pct_df['hispanic_pct_name'] = df['race_name_hispanic']/(df['race_name_white'] + df['race_name_api'] + df['race_name_black'] + df['race_name_hispanic'])\n",
    "    pct_df['hispanic_pct_img'] = df['race_img_hispanic']/(df['race_img_white'] + df['race_img_api'] + df['race_img_black'] + df['race_img_hispanic'])\n",
    "    pct_df['gender_unknown_pct_name'] = df['gender_name_unknown']/(df['gender_name_female']+ df['gender_name_male']+ df['gender_name_unknown'])\n",
    "    pct_df['gender_unknown_pct_img'] = df['gender_img_unknown']/(df['gender_img_female']+ df['gender_img_male']+ df['gender_img_unknown'])\n",
    "    pct_df['race_unknown_pct_name'] = df['race_name_unknown']/(df['race_name_unknown'] + df['race_name_white'] + df['race_name_api'] + df['race_name_black'] + df['race_name_hispanic'])\n",
    "    pct_df['race_unknown_pct_img'] = df['race_img_unknown']/(df['race_img_unknown'] + df['race_img_white'] + df['race_img_api'] + df['race_img_black'] + df['race_img_hispanic'])\n",
    "    return pct_df"
   ]
  },
  {
   "cell_type": "markdown",
   "id": "26b065b0",
   "metadata": {},
   "source": [
    "# Columbia"
   ]
  },
  {
   "cell_type": "code",
   "execution_count": 169,
   "id": "741fd0b0",
   "metadata": {},
   "outputs": [],
   "source": [
    "with open(sys.path[0] + '/../data/columbia/columbia_w_gender_race_data.json', 'r') as f:\n",
    "    columbia = json.load(f)"
   ]
  },
  {
   "cell_type": "code",
   "execution_count": 170,
   "id": "43d160ec",
   "metadata": {},
   "outputs": [],
   "source": [
    "columbia_df = get_gender_race_df(columbia)"
   ]
  },
  {
   "cell_type": "code",
   "execution_count": 175,
   "id": "b94afaf7",
   "metadata": {},
   "outputs": [],
   "source": [
    "columbia_pct_df = get_pct_df(columbia_df)"
   ]
  },
  {
   "cell_type": "code",
   "execution_count": 176,
   "id": "ac79bbaa",
   "metadata": {},
   "outputs": [
    {
     "data": {
      "text/html": [
       "<div>\n",
       "<style scoped>\n",
       "    .dataframe tbody tr th:only-of-type {\n",
       "        vertical-align: middle;\n",
       "    }\n",
       "\n",
       "    .dataframe tbody tr th {\n",
       "        vertical-align: top;\n",
       "    }\n",
       "\n",
       "    .dataframe thead th {\n",
       "        text-align: right;\n",
       "    }\n",
       "</style>\n",
       "<table border=\"1\" class=\"dataframe\">\n",
       "  <thead>\n",
       "    <tr style=\"text-align: right;\">\n",
       "      <th></th>\n",
       "      <th>department</th>\n",
       "      <th>female_pct_name</th>\n",
       "      <th>female_pct_img</th>\n",
       "      <th>white_pct_name</th>\n",
       "      <th>white_pct_img</th>\n",
       "      <th>api_pct_name</th>\n",
       "      <th>api_pct_img</th>\n",
       "      <th>black_pct_name</th>\n",
       "      <th>black_pct_img</th>\n",
       "      <th>hispanic_pct_name</th>\n",
       "      <th>hispanic_pct_img</th>\n",
       "      <th>gender_unknown_pct_name</th>\n",
       "      <th>gender_unknown_pct_img</th>\n",
       "      <th>race_unknown_pct_name</th>\n",
       "      <th>race_unknown_pct_img</th>\n",
       "    </tr>\n",
       "  </thead>\n",
       "  <tbody>\n",
       "    <tr>\n",
       "      <th>0</th>\n",
       "      <td>Accounting Division</td>\n",
       "      <td>0.250000</td>\n",
       "      <td>0.210526</td>\n",
       "      <td>0.680000</td>\n",
       "      <td>0.736842</td>\n",
       "      <td>0.320000</td>\n",
       "      <td>0.263158</td>\n",
       "      <td>0.0</td>\n",
       "      <td>0.000000</td>\n",
       "      <td>0.000000</td>\n",
       "      <td>0.000000</td>\n",
       "      <td>0.200000</td>\n",
       "      <td>0.240000</td>\n",
       "      <td>0.0</td>\n",
       "      <td>0.240000</td>\n",
       "    </tr>\n",
       "    <tr>\n",
       "      <th>1</th>\n",
       "      <td>African American and African Diaspora Studies ...</td>\n",
       "      <td>0.400000</td>\n",
       "      <td>0.192308</td>\n",
       "      <td>0.925926</td>\n",
       "      <td>0.038462</td>\n",
       "      <td>0.037037</td>\n",
       "      <td>0.115385</td>\n",
       "      <td>0.0</td>\n",
       "      <td>0.807692</td>\n",
       "      <td>0.037037</td>\n",
       "      <td>0.038462</td>\n",
       "      <td>0.259259</td>\n",
       "      <td>0.037037</td>\n",
       "      <td>0.0</td>\n",
       "      <td>0.037037</td>\n",
       "    </tr>\n",
       "    <tr>\n",
       "      <th>2</th>\n",
       "      <td>Africana Studies (Barnard College)</td>\n",
       "      <td>0.833333</td>\n",
       "      <td>0.500000</td>\n",
       "      <td>1.000000</td>\n",
       "      <td>0.250000</td>\n",
       "      <td>0.000000</td>\n",
       "      <td>0.500000</td>\n",
       "      <td>0.0</td>\n",
       "      <td>0.250000</td>\n",
       "      <td>0.000000</td>\n",
       "      <td>0.000000</td>\n",
       "      <td>0.250000</td>\n",
       "      <td>0.000000</td>\n",
       "      <td>0.0</td>\n",
       "      <td>0.000000</td>\n",
       "    </tr>\n",
       "    <tr>\n",
       "      <th>3</th>\n",
       "      <td>Anthropology (Barnard College)</td>\n",
       "      <td>0.600000</td>\n",
       "      <td>0.166667</td>\n",
       "      <td>0.888889</td>\n",
       "      <td>0.833333</td>\n",
       "      <td>0.111111</td>\n",
       "      <td>0.000000</td>\n",
       "      <td>0.0</td>\n",
       "      <td>0.000000</td>\n",
       "      <td>0.000000</td>\n",
       "      <td>0.166667</td>\n",
       "      <td>0.444444</td>\n",
       "      <td>0.333333</td>\n",
       "      <td>0.0</td>\n",
       "      <td>0.333333</td>\n",
       "    </tr>\n",
       "    <tr>\n",
       "      <th>4</th>\n",
       "      <td>Anthropology Department</td>\n",
       "      <td>0.500000</td>\n",
       "      <td>NaN</td>\n",
       "      <td>0.850000</td>\n",
       "      <td>NaN</td>\n",
       "      <td>0.100000</td>\n",
       "      <td>NaN</td>\n",
       "      <td>0.0</td>\n",
       "      <td>NaN</td>\n",
       "      <td>0.050000</td>\n",
       "      <td>NaN</td>\n",
       "      <td>0.100000</td>\n",
       "      <td>1.000000</td>\n",
       "      <td>0.0</td>\n",
       "      <td>1.000000</td>\n",
       "    </tr>\n",
       "  </tbody>\n",
       "</table>\n",
       "</div>"
      ],
      "text/plain": [
       "                                          department  female_pct_name  \\\n",
       "0                                Accounting Division         0.250000   \n",
       "1  African American and African Diaspora Studies ...         0.400000   \n",
       "2                 Africana Studies (Barnard College)         0.833333   \n",
       "3                     Anthropology (Barnard College)         0.600000   \n",
       "4                            Anthropology Department         0.500000   \n",
       "\n",
       "   female_pct_img  white_pct_name  white_pct_img  api_pct_name  api_pct_img  \\\n",
       "0        0.210526        0.680000       0.736842      0.320000     0.263158   \n",
       "1        0.192308        0.925926       0.038462      0.037037     0.115385   \n",
       "2        0.500000        1.000000       0.250000      0.000000     0.500000   \n",
       "3        0.166667        0.888889       0.833333      0.111111     0.000000   \n",
       "4             NaN        0.850000            NaN      0.100000          NaN   \n",
       "\n",
       "   black_pct_name  black_pct_img  hispanic_pct_name  hispanic_pct_img  \\\n",
       "0             0.0       0.000000           0.000000          0.000000   \n",
       "1             0.0       0.807692           0.037037          0.038462   \n",
       "2             0.0       0.250000           0.000000          0.000000   \n",
       "3             0.0       0.000000           0.000000          0.166667   \n",
       "4             0.0            NaN           0.050000               NaN   \n",
       "\n",
       "   gender_unknown_pct_name  gender_unknown_pct_img  race_unknown_pct_name  \\\n",
       "0                 0.200000                0.240000                    0.0   \n",
       "1                 0.259259                0.037037                    0.0   \n",
       "2                 0.250000                0.000000                    0.0   \n",
       "3                 0.444444                0.333333                    0.0   \n",
       "4                 0.100000                1.000000                    0.0   \n",
       "\n",
       "   race_unknown_pct_img  \n",
       "0              0.240000  \n",
       "1              0.037037  \n",
       "2              0.000000  \n",
       "3              0.333333  \n",
       "4              1.000000  "
      ]
     },
     "execution_count": 176,
     "metadata": {},
     "output_type": "execute_result"
    }
   ],
   "source": [
    "columbia_pct_df.head()"
   ]
  },
  {
   "cell_type": "code",
   "execution_count": 177,
   "id": "a5a1f64c",
   "metadata": {},
   "outputs": [],
   "source": [
    "columbia_pct_df.to_json(sys.path[0] + '/../output/columbia_pct_initial.json', orient='records')"
   ]
  },
  {
   "cell_type": "markdown",
   "id": "ed4c8e21",
   "metadata": {},
   "source": [
    "# Dartmouth"
   ]
  },
  {
   "cell_type": "code",
   "execution_count": 178,
   "id": "b5efac0f",
   "metadata": {},
   "outputs": [],
   "source": [
    "with open(sys.path[0] + '/../data/dartmouth/dartmouth_w_gender_race_data.json', 'r') as f:\n",
    "    dartmouth = json.load(f)"
   ]
  },
  {
   "cell_type": "code",
   "execution_count": 179,
   "id": "e60e4fef",
   "metadata": {},
   "outputs": [],
   "source": [
    "dartmouth_df = get_gender_race_df(dartmouth)"
   ]
  },
  {
   "cell_type": "code",
   "execution_count": 180,
   "id": "13ffb05d",
   "metadata": {},
   "outputs": [],
   "source": [
    "dartmouth_pct_df = get_pct_df(dartmouth_df)"
   ]
  },
  {
   "cell_type": "code",
   "execution_count": 181,
   "id": "abf1d945",
   "metadata": {},
   "outputs": [],
   "source": [
    "dartmouth_pct_df.to_json(sys.path[0] + '/../output/dartmouth_pct_initial.json', orient='records')"
   ]
  },
  {
   "cell_type": "markdown",
   "id": "00da4659",
   "metadata": {},
   "source": [
    "# Plots"
   ]
  },
  {
   "cell_type": "code",
   "execution_count": 182,
   "id": "0742dd85",
   "metadata": {},
   "outputs": [],
   "source": [
    "bins = [5*i/100 for i in range(21)]"
   ]
  },
  {
   "cell_type": "code",
   "execution_count": 183,
   "id": "33e37403",
   "metadata": {},
   "outputs": [
    {
     "name": "stdout",
     "output_type": "stream",
     "text": [
      "[0.0, 0.05, 0.1, 0.15, 0.2, 0.25, 0.3, 0.35, 0.4, 0.45, 0.5, 0.55, 0.6, 0.65, 0.7, 0.75, 0.8, 0.85, 0.9, 0.95, 1.0]\n"
     ]
    }
   ],
   "source": [
    "print(bins)"
   ]
  },
  {
   "cell_type": "markdown",
   "id": "e8e7556e",
   "metadata": {},
   "source": [
    "## Unknown data"
   ]
  },
  {
   "cell_type": "code",
   "execution_count": 188,
   "id": "1010efa7",
   "metadata": {},
   "outputs": [
    {
     "data": {
      "image/png": "[encoded data removed]",
      "text/plain": [
       "<Figure size 864x576 with 4 Axes>"
      ]
     },
     "metadata": {
      "needs_background": "light"
     },
     "output_type": "display_data"
    }
   ],
   "source": [
    "fig, axs = plt.subplots(2, 2, figsize=(12,8))\n",
    "fig.suptitle('% unknown at Columbia')\n",
    "axs[0,0].hist(columbia_pct_df['gender_unknown_pct_name'], facecolor='b',bins=bins)\n",
    "axs[0,0].set_title('gender(name)')\n",
    "axs[0,1].hist(columbia_pct_df['gender_unknown_pct_img'], facecolor='b',bins=bins)\n",
    "axs[0,1].set_title('gender(img)')\n",
    "axs[1,0].hist(columbia_pct_df['race_unknown_pct_name'], facecolor='b',bins=bins)\n",
    "axs[1,0].set_title('race(name)')\n",
    "axs[1,1].hist(columbia_pct_df['race_unknown_pct_img'], facecolor='b',bins=bins)\n",
    "axs[1,1].set_title('race(img)')\n",
    "\n",
    "plt.show()"
   ]
  },
  {
   "cell_type": "markdown",
   "id": "6395542e",
   "metadata": {},
   "source": [
    "## Gender"
   ]
  },
  {
   "cell_type": "code",
   "execution_count": 184,
   "id": "095eacd1",
   "metadata": {},
   "outputs": [
    {
     "data": {
      "image/png": "[encoded data removed]",
      "text/plain": [
       "<Figure size 864x288 with 2 Axes>"
      ]
     },
     "metadata": {
      "needs_background": "light"
     },
     "output_type": "display_data"
    }
   ],
   "source": [
    "fig, (ax1, ax2) = plt.subplots(1, 2, figsize=(12,4))\n",
    "fig.suptitle('% female faculty at Columbia')\n",
    "ax1.hist(columbia_pct_df['female_pct_name'], facecolor='b',bins=bins)\n",
    "ax1.set_title('using name')\n",
    "ax2.hist(columbia_pct_df['female_pct_img'], facecolor='b',bins=bins)\n",
    "ax2.set_title('using img')\n",
    "plt.show()"
   ]
  },
  {
   "cell_type": "code",
   "execution_count": 138,
   "id": "3597b5b8",
   "metadata": {},
   "outputs": [
    {
     "data": {
      "image/png": "[encoded data removed]",
      "text/plain": [
       "<Figure size 864x288 with 2 Axes>"
      ]
     },
     "metadata": {
      "needs_background": "light"
     },
     "output_type": "display_data"
    }
   ],
   "source": [
    "fig, (ax1, ax2) = plt.subplots(1, 2, figsize=(12,4))\n",
    "fig.suptitle('% female faculty at Dartmouth')\n",
    "ax1.hist(dartmouth_pct_df['female_pct_name'], facecolor='g', bins=bins)\n",
    "ax1.set_title('using name')\n",
    "ax2.hist(dartmouth_pct_df['female_pct_img'], facecolor='g', bins=bins)\n",
    "ax2.set_title('using img')\n",
    "plt.show()"
   ]
  },
  {
   "cell_type": "markdown",
   "id": "2d5e447f",
   "metadata": {},
   "source": [
    "# Race"
   ]
  },
  {
   "cell_type": "code",
   "execution_count": 141,
   "id": "11f769fe",
   "metadata": {
    "scrolled": true
   },
   "outputs": [
    {
     "data": {
      "image/png": "[encoded data removed]",
      "text/plain": [
       "<Figure size 864x288 with 2 Axes>"
      ]
     },
     "metadata": {
      "needs_background": "light"
     },
     "output_type": "display_data"
    }
   ],
   "source": [
    "fig, (ax1, ax2) = plt.subplots(1, 2, figsize=(12,4))\n",
    "fig.suptitle('% white faculty at Columbia')\n",
    "ax1.hist(columbia_pct_df['white_pct_name'], facecolor='b', bins=bins)\n",
    "ax1.set_title('using name')\n",
    "ax2.hist(columbia_pct_df['white_pct_img'], facecolor='b', bins=bins)\n",
    "ax2.set_title('using img')\n",
    "plt.show()"
   ]
  },
  {
   "cell_type": "code",
   "execution_count": 150,
   "id": "5a3121ae",
   "metadata": {
    "scrolled": true
   },
   "outputs": [
    {
     "data": {
      "image/png": "[encoded data removed]",
      "text/plain": [
       "<Figure size 864x288 with 2 Axes>"
      ]
     },
     "metadata": {
      "needs_background": "light"
     },
     "output_type": "display_data"
    }
   ],
   "source": [
    "fig, (ax1, ax2) = plt.subplots(1, 2, figsize=(12,4))\n",
    "fig.suptitle('% white faculty at Dartmouth')\n",
    "ax1.hist(dartmouth_pct_df['white_pct_name'], facecolor='g', bins=bins)\n",
    "ax1.set_title('using name')\n",
    "ax2.hist(dartmouth_pct_df['white_pct_img'], facecolor='g', bins=bins)\n",
    "ax2.set_title('using img')\n",
    "plt.show()"
   ]
  },
  {
   "cell_type": "code",
   "execution_count": 143,
   "id": "de10dd25",
   "metadata": {
    "scrolled": true
   },
   "outputs": [
    {
     "data": {
      "image/png": "[encoded data removed]",
      "text/plain": [
       "<Figure size 864x288 with 2 Axes>"
      ]
     },
     "metadata": {
      "needs_background": "light"
     },
     "output_type": "display_data"
    }
   ],
   "source": [
    "fig, (ax1, ax2) = plt.subplots(1, 2, figsize=(12,4))\n",
    "fig.suptitle('% api faculty at Columbia')\n",
    "ax1.hist(columbia_pct_df['api_pct_name'], facecolor='b', bins=bins)\n",
    "ax1.set_title('using name')\n",
    "ax2.hist(columbia_pct_df['api_pct_img'], facecolor='b', bins=bins)\n",
    "ax2.set_title('using img')\n",
    "plt.show()"
   ]
  },
  {
   "cell_type": "code",
   "execution_count": 148,
   "id": "8b5af7de",
   "metadata": {},
   "outputs": [
    {
     "data": {
      "image/png": "[encoded data removed]",
      "text/plain": [
       "<Figure size 864x288 with 2 Axes>"
      ]
     },
     "metadata": {
      "needs_background": "light"
     },
     "output_type": "display_data"
    }
   ],
   "source": [
    "fig, (ax1, ax2) = plt.subplots(1, 2, figsize=(12,4))\n",
    "fig.suptitle('% api faculty at Dartmouth')\n",
    "ax1.hist(dartmouth_pct_df['api_pct_name'], facecolor='g', bins=bins)\n",
    "ax1.set_title('using name')\n",
    "ax2.hist(dartmouth_pct_df['api_pct_img'], facecolor='g', bins=bins)\n",
    "ax2.set_title('using img')\n",
    "plt.show()"
   ]
  },
  {
   "cell_type": "code",
   "execution_count": 145,
   "id": "04235b99",
   "metadata": {
    "scrolled": false
   },
   "outputs": [
    {
     "data": {
      "image/png": "[encoded data removed]",
      "text/plain": [
       "<Figure size 864x288 with 2 Axes>"
      ]
     },
     "metadata": {
      "needs_background": "light"
     },
     "output_type": "display_data"
    }
   ],
   "source": [
    "fig, (ax1, ax2) = plt.subplots(1, 2, figsize=(12,4))\n",
    "fig.suptitle('% black faculty at Columbia')\n",
    "ax1.hist(columbia_pct_df['black_pct_name'], facecolor='b', bins=bins)\n",
    "ax1.set_title('using name')\n",
    "ax2.hist(columbia_pct_df['black_pct_img'], facecolor='b', bins=bins)\n",
    "ax2.set_title('using img')\n",
    "plt.show()"
   ]
  },
  {
   "cell_type": "code",
   "execution_count": 151,
   "id": "a33da3f1",
   "metadata": {},
   "outputs": [
    {
     "data": {
      "image/png": "[encoded data removed]",
      "text/plain": [
       "<Figure size 864x288 with 2 Axes>"
      ]
     },
     "metadata": {
      "needs_background": "light"
     },
     "output_type": "display_data"
    }
   ],
   "source": [
    "fig, (ax1, ax2) = plt.subplots(1, 2, figsize=(12,4))\n",
    "fig.suptitle('% black faculty at Dartmouth')\n",
    "ax1.hist(dartmouth_pct_df['black_pct_name'], facecolor='g', bins=bins)\n",
    "ax1.set_title('using name')\n",
    "ax2.hist(dartmouth_pct_df['black_pct_img'], facecolor='g', bins=bins)\n",
    "ax2.set_title('using img')\n",
    "plt.show()"
   ]
  },
  {
   "cell_type": "code",
   "execution_count": 152,
   "id": "aff56ab5",
   "metadata": {
    "scrolled": false
   },
   "outputs": [
    {
     "data": {
      "image/png": "[encoded data removed]",
      "text/plain": [
       "<Figure size 864x288 with 2 Axes>"
      ]
     },
     "metadata": {
      "needs_background": "light"
     },
     "output_type": "display_data"
    }
   ],
   "source": [
    "fig, (ax1, ax2) = plt.subplots(1, 2, figsize=(12,4))\n",
    "fig.suptitle('% hispanic faculty at Columbia')\n",
    "ax1.hist(columbia_pct_df['hispanic_pct_name'], facecolor='b', bins=bins)\n",
    "ax1.set_title('using name')\n",
    "ax2.hist(columbia_pct_df['hispanic_pct_img'], facecolor='b', bins=bins)\n",
    "ax2.set_title('using img')\n",
    "plt.show()"
   ]
  },
  {
   "cell_type": "code",
   "execution_count": 153,
   "id": "2f85a20e",
   "metadata": {},
   "outputs": [
    {
     "data": {
      "image/png": "[encoded data removed]",
      "text/plain": [
       "<Figure size 864x288 with 2 Axes>"
      ]
     },
     "metadata": {
      "needs_background": "light"
     },
     "output_type": "display_data"
    }
   ],
   "source": [
    "fig, (ax1, ax2) = plt.subplots(1, 2, figsize=(12,4))\n",
    "fig.suptitle('% hispanic faculty at Dartmouth')\n",
    "ax1.hist(dartmouth_pct_df['hispanic_pct_name'], facecolor='g', bins=bins)\n",
    "ax1.set_title('using name')\n",
    "ax2.hist(dartmouth_pct_df['hispanic_pct_img'], facecolor='g', bins=bins)\n",
    "ax2.set_title('using img')\n",
    "plt.show()"
   ]
  }
 ],
 "metadata": {
  "kernelspec": {
   "display_name": "Python 3 (ipykernel)",
   "language": "python",
   "name": "python3"
  },
  "language_info": {
   "codemirror_mode": {
    "name": "ipython",
    "version": 3
   },
   "file_extension": ".py",
   "mimetype": "text/x-python",
   "name": "python",
   "nbconvert_exporter": "python",
   "pygments_lexer": "ipython3",
   "version": "3.9.7"
  }
 },
 "nbformat": 4,
 "nbformat_minor": 5
}
