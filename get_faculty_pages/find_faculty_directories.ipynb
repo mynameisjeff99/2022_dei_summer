{
 "cells": [
  {
   "cell_type": "code",
   "execution_count": 14,
   "id": "3b35f84c",
   "metadata": {},
   "outputs": [],
   "source": [
    "from selenium import webdriver\n",
    "from selenium.webdriver.chrome.service import Service\n",
    "from webdriver_manager.chrome import ChromeDriverManager\n",
    "from selenium.webdriver.common.by import By\n",
    "from selenium.webdriver.support.ui import Select\n",
    "from selenium.webdriver.support.ui import WebDriverWait\n",
    "from selenium.webdriver.support import expected_conditions as EC\n",
    "import re\n",
    "import json\n",
    "import sys"
   ]
  },
  {
   "cell_type": "code",
   "execution_count": 42,
   "id": "f506f7cc",
   "metadata": {},
   "outputs": [
    {
     "name": "stdout",
     "output_type": "stream",
     "text": [
      "\n"
     ]
    },
    {
     "name": "stderr",
     "output_type": "stream",
     "text": [
      "[WDM] - ====== WebDriver manager ======\n",
      "[WDM] - Current google-chrome version is 100.0.4896\n",
      "[WDM] - Get LATEST chromedriver version for 100.0.4896 google-chrome\n",
      "[WDM] - Driver [C:\\Users\\GuoshengCai\\.wdm\\drivers\\chromedriver\\win32\\100.0.4896.60\\chromedriver.exe] found in cache\n"
     ]
    }
   ],
   "source": [
    "driver = webdriver.Chrome(service=Service(ChromeDriverManager().install()))"
   ]
  },
  {
   "cell_type": "code",
   "execution_count": 16,
   "id": "11b7c778",
   "metadata": {},
   "outputs": [],
   "source": [
    "def find_department_pages(driver, departments_url, no_pages, css_selector, nth_element=None):\n",
    "    driver.get(departments_url)\n",
    "    items = []\n",
    "    for i in range(no_pages):\n",
    "        if i != 0:\n",
    "            to_click = driver.find_element(By.LINK_TEXT, 'Next')\n",
    "            to_click.click()\n",
    "        elements = driver.find_elements(By.CSS_SELECTOR, css_selector)\n",
    "        if nth_element is not None:\n",
    "            elements = elements[nth_element].find_elements(By.CSS_SELECTOR,\"*\")\n",
    "        for element in elements:\n",
    "            try:\n",
    "                tmp = element.find_element(By.TAG_NAME, 'a')\n",
    "                item = {'department': tmp.get_attribute('textContent'), 'url': tmp.get_attribute('href')}\n",
    "                items.append(item)\n",
    "            except:\n",
    "                pass\n",
    "    return items"
   ]
  },
  {
   "cell_type": "code",
   "execution_count": 17,
   "id": "50723de0",
   "metadata": {},
   "outputs": [],
   "source": [
    "def find_faculty_page(driver, url):\n",
    "    driver.get(url)\n",
    "    elements = driver.find_elements(By.XPATH, \n",
    "    '//a[contains(@href,\"faculty\") or contains(@href,\"profile\") or contains(@href,\"people\") or contains(@href,\"directory\") or contains(@href,\"staff\")]')\n",
    "    if len(elements) == 0:\n",
    "        lk = None\n",
    "    else:\n",
    "        lk = select_lk(elements)\n",
    "    return lk"
   ]
  },
  {
   "cell_type": "code",
   "execution_count": 18,
   "id": "62c3adf0",
   "metadata": {},
   "outputs": [],
   "source": [
    "def select_lk(elements):\n",
    "    priority_dict = {'faculty directory': 7, 'faculty list': 6, 'faculty': 5, 'people': 4,'directory': 3,\n",
    "                     'profiles': 2, 'staff': 1}\n",
    "    lk = None\n",
    "    priority = -1\n",
    "    for element in elements:\n",
    "        s = element.get_attribute(\"innerText\").lower()\n",
    "        curr_priority = 0\n",
    "        for t in priority_dict:\n",
    "            if t == s:\n",
    "                curr_priority = priority_dict.get(t)\n",
    "                break\n",
    "        if curr_priority > priority:\n",
    "            priority = curr_priority\n",
    "            lk = element.get_attribute('href')\n",
    "    return lk"
   ]
  },
  {
   "cell_type": "markdown",
   "id": "a50c6083",
   "metadata": {},
   "source": [
    "# Columbia"
   ]
  },
  {
   "cell_type": "code",
   "execution_count": 24,
   "id": "3526f873",
   "metadata": {},
   "outputs": [],
   "source": [
    "departments_url = \"https://www.columbia.edu/content/academics/departments\"\n",
    "no_pages = 5\n",
    "css_selector = '.dynamic-grid-listing-item.grid-item.angular-animate.ng-trans.ng-trans-fade-down.ng-scope'\n",
    "columbia_departments = find_department_pages(driver, departments_url, no_pages, css_selector)"
   ]
  },
  {
   "cell_type": "code",
   "execution_count": 91,
   "id": "ba8adf0e",
   "metadata": {},
   "outputs": [],
   "source": [
    "for item in columbia_departments:\n",
    "    url = item.get('url')\n",
    "    item.update({'faculty_page': find_faculty_page(driver, url)})"
   ]
  },
  {
   "cell_type": "code",
   "execution_count": 93,
   "id": "86e2c5b0",
   "metadata": {},
   "outputs": [],
   "source": [
    "with open(sys.path[0] + '/../data/columbia/columbia_directories_updated.json', 'w') as f:\n",
    "    json.dump(columbia_departments, f)"
   ]
  },
  {
   "cell_type": "markdown",
   "id": "4d0d8602",
   "metadata": {},
   "source": [
    "# Dartmouth"
   ]
  },
  {
   "cell_type": "code",
   "execution_count": 123,
   "id": "281c3d47",
   "metadata": {},
   "outputs": [],
   "source": [
    "departments_url = \"https://home.dartmouth.edu/academics/departments-programs\"\n",
    "no_pages = 1\n",
    "nth_element = 2\n",
    "css_selector = '.clearfix.text-formatted.field.field--name-body.field--type-text-with-summary.field--label-hidden.field__item'\n",
    "dartmouth_departments = find_department_pages(driver, departments_url, no_pages, css_selector, nth_element)"
   ]
  },
  {
   "cell_type": "code",
   "execution_count": 131,
   "id": "2ffd20bb",
   "metadata": {},
   "outputs": [],
   "source": [
    "# https://stackoverflow.com/questions/7867537/how-to-select-a-drop-down-menu-value-with-selenium-using-python\n",
    "def find_faculty_page_dartmouth(driver, url):\n",
    "    driver.get(url)\n",
    "    try:\n",
    "        element = driver.find_element(By.XPATH, \n",
    "        '//a[contains(@href,\"people\")]') \n",
    "        lk = element.get_attribute('href')\n",
    "        driver.get(lk)\n",
    "        # https://stackoverflow.com/questions/26958193/how-to-select-any-element-from-the-web-element-with-display-none-attribute-us\n",
    "        driver.execute_script(\"document.getElementById('edit-field-people-local-tags-tid').style.display='inline-block';\")\n",
    "        element = WebDriverWait(driver, 60).until(EC.visibility_of_element_located((By.ID, 'edit-field-people-local-tags-tid')))\n",
    "        select = Select(element)\n",
    "        try:\n",
    "            select.select_by_visible_text('Faculty')\n",
    "        except:\n",
    "            pass\n",
    "\n",
    "        try:\n",
    "            select.select_by_visible_text('faculty')\n",
    "        except:\n",
    "            select.select_by_index(1)\n",
    "\n",
    "        to_click = driver.find_element(By.ID, 'edit-submit-people')\n",
    "        to_click.click()\n",
    "        currentURL = driver.current_url\n",
    "        return currentURL\n",
    "    except:\n",
    "        return None"
   ]
  },
  {
   "cell_type": "code",
   "execution_count": 132,
   "id": "eaf4f8f9",
   "metadata": {},
   "outputs": [],
   "source": [
    "for item in dartmouth_departments:\n",
    "    url = item.get('url')\n",
    "    item.update({'faculty_page': find_faculty_page_dartmouth(driver, url)})"
   ]
  },
  {
   "cell_type": "code",
   "execution_count": 134,
   "id": "b391c201",
   "metadata": {},
   "outputs": [],
   "source": [
    "with open(sys.path[0] + '/../data/dartmouth/dartmouth_directories.json', 'w') as f:\n",
    "    json.dump(dartmouth_departments, f)"
   ]
  },
  {
   "cell_type": "markdown",
   "id": "f04040a6",
   "metadata": {},
   "source": [
    "# Yale"
   ]
  },
  {
   "cell_type": "code",
   "execution_count": 26,
   "id": "3fe43ce5",
   "metadata": {},
   "outputs": [],
   "source": [
    "departments_url = \"https://www.yale.edu/academics/departments-programs\"\n",
    "no_pages = 1\n",
    "css_selector = '.department_item_heading'\n",
    "yale_departments = find_department_pages(driver, departments_url, no_pages, css_selector)"
   ]
  },
  {
   "cell_type": "code",
   "execution_count": 31,
   "id": "31ccc9da",
   "metadata": {},
   "outputs": [],
   "source": [
    "for item in yale_departments:\n",
    "    url = item.get('url')\n",
    "    item.update({'faculty_page': find_faculty_page(driver, url)})"
   ]
  },
  {
   "cell_type": "code",
   "execution_count": 34,
   "id": "3c0726b6",
   "metadata": {},
   "outputs": [],
   "source": [
    "with open(sys.path[0] + '/../data/yale/yale_directories.json', 'w') as f:\n",
    "    json.dump(yale_departments, f)"
   ]
  },
  {
   "cell_type": "markdown",
   "id": "2fdce091",
   "metadata": {},
   "source": [
    "# Princeton"
   ]
  },
  {
   "cell_type": "code",
   "execution_count": 1,
   "id": "f7326142",
   "metadata": {},
   "outputs": [],
   "source": [
    "# only undergraduate departments\n",
    "def find_department_pages_princeton_undergrad(driver):\n",
    "    driver.get('https://admission.princeton.edu/academics/degrees-departments')\n",
    "    elements = driver.find_elements(By.TAG_NAME, \"p\")\n",
    "    items = []\n",
    "    for element in elements:\n",
    "        #element = element.find_element(By.XPATH, \"..\")\n",
    "        try:\n",
    "            tmp = element.find_element(By.TAG_NAME, 'a')\n",
    "            item = {'department': tmp.get_attribute('textContent'), 'url': tmp.get_attribute('href')}\n",
    "            items.append(item)\n",
    "        except:\n",
    "            pass\n",
    "    return items"
   ]
  },
  {
   "cell_type": "code",
   "execution_count": 36,
   "id": "af977457",
   "metadata": {},
   "outputs": [],
   "source": [
    "#princeton_grad = find_department_pages_princeton_undergrad(driver)"
   ]
  },
  {
   "cell_type": "code",
   "execution_count": 4,
   "id": "0a3e42c4",
   "metadata": {},
   "outputs": [],
   "source": [
    "princeton_departments = find_department_pages_princeton_undergrad(driver)"
   ]
  },
  {
   "cell_type": "code",
   "execution_count": 6,
   "id": "5c965b53",
   "metadata": {},
   "outputs": [],
   "source": [
    "princeton_departments = princeton_departments[1:-1]"
   ]
  },
  {
   "cell_type": "code",
   "execution_count": 41,
   "id": "653eaada",
   "metadata": {},
   "outputs": [],
   "source": [
    "for item in princeton_departments:\n",
    "    url = item.get('url')\n",
    "    item.update({'faculty_page': find_faculty_page(driver, url)})"
   ]
  },
  {
   "cell_type": "code",
   "execution_count": 42,
   "id": "1ebf9f8a",
   "metadata": {},
   "outputs": [],
   "source": [
    "with open(sys.path[0] + '/../data/princeton/princeton_directories.json', 'w') as f:\n",
    "    json.dump(princeton_departments, f)"
   ]
  },
  {
   "cell_type": "markdown",
   "id": "9c4e935f",
   "metadata": {},
   "source": [
    "# Brown"
   ]
  },
  {
   "cell_type": "code",
   "execution_count": 8,
   "id": "d42ae35d",
   "metadata": {},
   "outputs": [],
   "source": [
    "departments_url = \"https://www.brown.edu/academics/departments\"\n",
    "no_pages = 1\n",
    "css_selector = '.news-items'\n",
    "brown_departments = find_department_pages(driver, departments_url, no_pages, css_selector)"
   ]
  },
  {
   "cell_type": "code",
   "execution_count": 4,
   "id": "9b8cd7db",
   "metadata": {},
   "outputs": [],
   "source": [
    "def find_faculty_page_brown(driver, url):\n",
    "    driver.get(url)\n",
    "    elements = driver.find_elements(By.XPATH, \n",
    "    '//a[contains(@href,\"faculty\") or contains(@href,\"profile\") or contains(@href,\"people\") or contains(@href,\"directory\") or contains(@href,\"staff\")]')\n",
    "    if len(elements) == 0:\n",
    "        lk = None\n",
    "    else:\n",
    "        lk = select_lk_brown(elements)\n",
    "    return lk"
   ]
  },
  {
   "cell_type": "code",
   "execution_count": 11,
   "id": "41c050ef",
   "metadata": {},
   "outputs": [],
   "source": [
    "def select_lk_brown(elements):\n",
    "    priority_dict = {'faculty directory': 7, 'faculty list': 6, 'faculty': 5, 'people': 4,'directory': 3,\n",
    "                     'profiles': 2, 'staff': 1}\n",
    "    lk = None\n",
    "    priority = -1\n",
    "    for element in elements:\n",
    "        if element.get_attribute('href') in ['https://www.brown.edu/gateway/faculty', 'http://www.brown.edu/gateway/faculty']:\n",
    "            continue\n",
    "        s = element.get_attribute(\"innerText\").lower()\n",
    "        curr_priority = 0\n",
    "        for t in priority_dict:\n",
    "            if t == s:\n",
    "                curr_priority = priority_dict.get(t)\n",
    "                break\n",
    "        if curr_priority > priority:\n",
    "            priority = curr_priority\n",
    "            lk = element.get_attribute('href')\n",
    "    return lk"
   ]
  },
  {
   "cell_type": "code",
   "execution_count": 12,
   "id": "4cf5a005",
   "metadata": {},
   "outputs": [],
   "source": [
    "for item in brown_departments:\n",
    "    url = item.get('url')\n",
    "    item.update({'faculty_page': find_faculty_page_brown(driver, url)})"
   ]
  },
  {
   "cell_type": "code",
   "execution_count": 14,
   "id": "01d0ccca",
   "metadata": {},
   "outputs": [],
   "source": [
    "with open(sys.path[0] + '/../data/brown/brown_directories.json', 'w') as f:\n",
    "    json.dump(brown_departments, f)"
   ]
  },
  {
   "cell_type": "markdown",
   "id": "d3a82191",
   "metadata": {},
   "source": [
    "# Cornell"
   ]
  },
  {
   "cell_type": "code",
   "execution_count": 6,
   "id": "87dd801e",
   "metadata": {},
   "outputs": [],
   "source": [
    "def find_department_pages_cornell(driver):\n",
    "    driver.get('https://www.cornell.edu/academics/departments.cfm')\n",
    "    items = []\n",
    "    elements = driver.find_elements(By.TAG_NAME, 'li')\n",
    "    for element in elements:\n",
    "        try:\n",
    "            tmp = element.find_element(By.TAG_NAME, 'a')\n",
    "            item = {'department': tmp.get_attribute('textContent'), 'url': tmp.get_attribute('href')}\n",
    "            items.append(item)\n",
    "        except:\n",
    "            pass\n",
    "    return items"
   ]
  },
  {
   "cell_type": "code",
   "execution_count": 7,
   "id": "d54d9ab8",
   "metadata": {},
   "outputs": [],
   "source": [
    "cornell_departments = find_department_pages_cornell(driver)"
   ]
  },
  {
   "cell_type": "code",
   "execution_count": 8,
   "id": "05d4db31",
   "metadata": {},
   "outputs": [
    {
     "name": "stdout",
     "output_type": "stream",
     "text": [
      "0 About Cornell\n",
      "1 University Facts\n",
      "2 Maps & Directions\n",
      "3 Mission & Vision\n",
      "4 Core Values\n",
      "5 Locations\n",
      "6 Ithaca\n",
      "7 New York City\n",
      "8 Diversity\n",
      "9 Indigenous Engagement\n",
      "10 Economic Impact\n",
      "11 Sustainability\n",
      "12 Global\n",
      "13 Cornell Leadership\n",
      "14 Admissions\n",
      "15 Apply\n",
      "16 Admissions\n",
      "17 Dates and Deadlines\n",
      "18 Costs and Aid \n",
      "19 Admissions\n",
      "20 Fields of Study\n",
      "21 Financial Support\n",
      "22 Summer Sessions\n",
      "23 Winter Sessions\n",
      "24 Part-time Study\n",
      "25 Academics\n",
      "26 Fields of Study\n",
      "27 Colleges & Schools\n",
      "28 Departments\n",
      "29 Library\n",
      "30 Continuing Education\n",
      "31 Office of the Provost\n",
      "32 Academic Calendar\n",
      "33 Course Catalog\n",
      "34 Global Learning\n",
      "35 Learning Goals\n",
      "36 Research\n",
      "37 \n",
      "            Extreme Talent. Radical Collaboration. Results That Matter.\n",
      "38 Vice President for Research and Innovation\n",
      "39 Centers & Institutes\n",
      "40 Technology Licensing (CTL)\n",
      "41 Graduate Research\n",
      "42 Undergraduate Research\n",
      "43 OVPRI Research Publications\n",
      "44 Public Engagement\n",
      "45 \n",
      "            \n",
      "            CCE helps Buffalo get school food truck rolling\n",
      "46 Cornell Cooperative Extension\n",
      "47 Engaged Cornell Hub\n",
      "48 Land Grant to New York State\n",
      "49 New York State Impact\n",
      "50 Life at Cornell\n",
      "51 Athletics & Recreation\n",
      "52 Arts & Culture\n",
      "53 Health & Safety\n",
      "54 Live, Work, Travel\n",
      "55 Student Life\n",
      "56 Find Your Networks\n",
      "57 Center for First-Year Students\n",
      "58 Clubs & Student Groups\n",
      "59 Apply\n",
      "60 Apply\n",
      "61 Apply\n",
      "62 Undergraduate\n",
      "63 Graduate\n",
      "64 Visit\n",
      "65 Give\n",
      "66 Students\n",
      "67 Students\n",
      "68 Families\n",
      "69 Faculty & Staff\n",
      "70 Alumni\n",
      "71 Animal Science\n",
      "72 Charles H. Dyson School of Applied Economics and Management\n",
      "73 Biological and Environmental Engineering\n",
      "74 Computational Biology\n",
      "75 Communication\n",
      "76 Earth and Atmospheric Sciences\n",
      "77 Ecology and Evolutionary Biology\n",
      "78 Entomology\n",
      "79 Food Science\n",
      "80 Global Development\n",
      "81 School of Integrative Plant Science\n",
      "82 Landscape Architecture\n",
      "83 Microbiology\n",
      "84 Molecular Biology and Genetics\n",
      "85 Natural Resources\n",
      "86 Neurobiology and Behavior\n",
      "87 Nutritional Sciences\n",
      "88 Statistics and Data Science\n",
      "89 Architecture\n",
      "90 Art\n",
      "91 City and Regional Planning\n",
      "92  Africana Studies\n",
      "93 Anthropology\n",
      "94 Asian Studies\n",
      "95 Astronomy\n",
      "96 Chemistry and Chemical Biology\n",
      "97 Classics\n",
      "98 Comparative Literature\n",
      "99 Ecology & Evolutionary Biology\n",
      "100 Economics\n",
      "101 English\n",
      "102 German Studies\n",
      "103  Government\n",
      "104 History\n",
      "105 History of Art and Visual Studies\n",
      "106 Linguistics\n",
      "107 Mathematics\n",
      "108 Molecular Biology and Genetics\n",
      "109 Music\n",
      "110 Near Eastern Studies\n",
      "111 Neurobiology and Behavior\n",
      "112 Performing and Media Arts\n",
      "113 Sage School of Philosophy\n",
      "114 Physics\n",
      "115 Psychology\n",
      "116 Romance Studies\n",
      "117 Science and Technology Studies\n",
      "118 Sociology\n",
      "119 Charles H. Dyson School of Applied Economics and Management\n",
      "120 Peter and Stephanie Nolan School of Hotel Administration\n",
      "121 Samuel Curtis Johnson Graduate School of Management\n",
      "122 Computer Science\n",
      "123 Information Science\n",
      "124 Statistics and Data Science\n",
      "125 School of Applied and Engineering Physics\n",
      "126 Biological and Environmental Engineering\n",
      "127 Meinig School of Biomedical Engineering\n",
      "128 Smith School of Chemical and Biomolecular Engineering\n",
      "129 School of Civil and Environmental Engineering\n",
      "130 Computer Science\n",
      "131 Earth and Atmospheric Sciences\n",
      "132 School of Electrical and Computer Engineering\n",
      "133 Materials Science and Engineering\n",
      "134 Sibley School of Mechanical and Aerospace Engineering \n",
      "135 School of Operations Research and Information Engineering\n",
      "136 Design and Environmental Analysis\n",
      "137 Fiber Science and Apparel Design\n",
      "138 Human Development\n",
      "139 Nutritional Sciences\n",
      "140 Policy Analysis and Management\n",
      "141 Economics\n",
      "142 Human Resource Studies\n",
      "143 International and Comparative Labor\n",
      "144 Labor Relations, Law and History\n",
      "145 Organizational Behavior\n",
      "146 ILR School Statistics and Data Science\n",
      "147 Army ROTC\n",
      "148 Navy ROTC\n",
      "149 Air Force ROTC\n",
      "150 Biomedical Sciences\n",
      "151 Clinical Sciences\n",
      "152 Microbiology and Immunology \n",
      "153 Molecular Medicine\n",
      "154 Population Medicine and Diagnostic Sciences\n",
      "155 Anesthesiology\n",
      "156 Biochemistry\n",
      "157 Feil Family Brain and Mind Research Institute\n",
      "158 Cardiothoracic Surgery\n",
      "159 Cell and Developmental Biology\n",
      "160 Dermatology\n",
      "161 Emergency Medicine\n",
      "162 Genetic Medicine\n",
      "163 Joan and Sanford I. Weill Department of Medicine\n",
      "164 Microbiology and Immunology\n",
      "165 Neurological Surgery\n",
      "166 Neurology\n",
      "167 Obstetrics and Gynecology\n",
      "168 Ophthalmology\n",
      "169 Orthopaedic Surgery\n",
      "170 Otolaryngology – Head and Neck Surgery\n",
      "171 Pathology and Laboratory Medicine\n",
      "172 Pediatrics\n",
      "173 Pharmacology\n",
      "174 Physiology and Biophysics\n",
      "175 Population Health Sciences\n",
      "176 Psychiatry\n",
      "177 Radiation Oncology\n",
      "178 Radiology\n",
      "179 Rehabilitation Medicine\n",
      "180 Ronald O. Perelman and Claudia Cohen Center for Reproductive Medicine\n",
      "181 Surgery\n",
      "182 Urology\n",
      "183 Biochemistry and Structural Biology\n",
      "184 Cell and Molecular Biology\n",
      "185 Clinical Epidemiology and Health Services Research\n",
      "186 Immunology and Microbial Pathogenesis\n",
      "187 Molecular Biology and Genetics\n",
      "188 Neuroscience\n",
      "189 Pharmacology\n",
      "190 Physiology, Biophysics, and Systems Biology\n",
      "191 Pre-Medical Program\n",
      "192 Medical Program\n",
      "193 expand menu\n",
      "194 Academic Calendar\n",
      "195 Leadership\n",
      "196 Careers\n",
      "197 Events\n",
      "198 News\n",
      "199 Title IX\n",
      "200 Emergency Preparedness\n",
      "201 expand menu\n",
      "202 Campus Tours\n",
      "203 Maps & Directions\n",
      "204 Ithaca-NYC Travel\n",
      "205 Johnson Museum\n",
      "206 Botanic Gardens\n",
      "207 Ithaca\n",
      "208 expand menu\n",
      "209 \n",
      "                Live View\n",
      "              \n",
      "210 Weather 65°F / 18°C\n",
      "\n",
      "\n",
      "              \n",
      "211 University Privacy\n",
      "212 Web Accessibility Assistance\n",
      "213 Copyright\n",
      "214 Site Information\n",
      "215 Contact\n",
      "216 \n",
      "            \n",
      "            Facebook\n",
      "          \n",
      "217 \n",
      "            \n",
      "            Twitter\n",
      "          \n",
      "218 \n",
      "            \n",
      "            Instagram\n",
      "          \n",
      "219 \n",
      "            \n",
      "            YouTube\n",
      "          \n"
     ]
    }
   ],
   "source": [
    "for i in range(len(cornell_departments)):\n",
    "    print(i, cornell_departments[i].get('department'))"
   ]
  },
  {
   "cell_type": "code",
   "execution_count": 9,
   "id": "73c955cd",
   "metadata": {},
   "outputs": [],
   "source": [
    "cornell_departments = cornell_departments[71:147]"
   ]
  },
  {
   "cell_type": "code",
   "execution_count": 11,
   "id": "357f0b8d",
   "metadata": {},
   "outputs": [],
   "source": [
    "for item in cornell_departments:\n",
    "    url = item.get('url')\n",
    "    try:\n",
    "        item.update({'faculty_page': find_faculty_page(driver, url)})\n",
    "    except WebDriverException:\n",
    "        item.update({'faculty_page': None})"
   ]
  },
  {
   "cell_type": "code",
   "execution_count": 13,
   "id": "e5d36a46",
   "metadata": {},
   "outputs": [],
   "source": [
    "with open(sys.path[0] + '/../data/cornell/cornell_directories.json', 'w') as f:\n",
    "    json.dump(cornell_departments, f)"
   ]
  },
  {
   "cell_type": "markdown",
   "id": "c1f88f40",
   "metadata": {},
   "source": [
    "# UPenn"
   ]
  },
  {
   "cell_type": "code",
   "execution_count": 21,
   "id": "dd80938e",
   "metadata": {},
   "outputs": [],
   "source": [
    "upenn_departments = []"
   ]
  },
  {
   "cell_type": "code",
   "execution_count": 22,
   "id": "05c7365c",
   "metadata": {},
   "outputs": [],
   "source": [
    "departments_url = \"https://www.sas.upenn.edu/departments/\"\n",
    "no_pages = 1\n",
    "css_selector = '.field-p-feat-links-links'\n",
    "upenn_departments_1 = find_department_pages(driver, departments_url, no_pages, css_selector)"
   ]
  },
  {
   "cell_type": "code",
   "execution_count": 24,
   "id": "56507469",
   "metadata": {},
   "outputs": [],
   "source": [
    "tmp = [[\"Accounting\", \"https://accounting.wharton.upenn.edu/?_gl=1%2Azsxz4e%2A_ga%2AMTA2Nzk1MjkxNS4xNjUzNjAwNTg2%2A_ga_2QNGY0KQFG%2AMTY1NzEyMTkxMC4yLjEuMTY1NzEyMjI0MC4yNA..%2A_ga_B5B4E387GY%2AMTY1NzEyMTkxMC4xLjEuMTY1NzEyMjI0MC4yNA..\"],\n",
    " [\"Legal Studies and Business Ethics\", \"https://lgst.wharton.upenn.edu/?_gl=1%2Aa8ns6g%2A_ga%2AMTA2Nzk1MjkxNS4xNjUzNjAwNTg2%2A_ga_2QNGY0KQFG%2AMTY1NzEyMTkxMC4yLjEuMTY1NzEyMjI0MC4yNA..%2A_ga_B5B4E387GY%2AMTY1NzEyMTkxMC4xLjEuMTY1NzEyMjI0MC4yNA..\"],\n",
    " [\"Real Estate\", \"http://real-estate.wharton.upenn.edu/?_gl=1*jwbi2y*_ga*MTA2Nzk1MjkxNS4xNjUzNjAwNTg2*_ga_2QNGY0KQFG*MTY1NzEyMTkxMC4yLjEuMTY1NzEyMjI0MC4yNA..*_ga_B5B4E387GY*MTY1NzEyMTkxMC4xLjEuMTY1NzEyMjI0MC4yNA..\"],\n",
    " [\"Business Economics and Public Policy\", \"http://bepp.wharton.upenn.edu/?_gl=1*jwbi2y*_ga*MTA2Nzk1MjkxNS4xNjUzNjAwNTg2*_ga_2QNGY0KQFG*MTY1NzEyMTkxMC4yLjEuMTY1NzEyMjI0MC4yNA..*_ga_B5B4E387GY*MTY1NzEyMTkxMC4xLjEuMTY1NzEyMjI0MC4yNA..\"],\n",
    " [\"Finance\", \"http://fnce.wharton.upenn.edu/?_gl=1*6qskmv*_ga*MTA2Nzk1MjkxNS4xNjUzNjAwNTg2*_ga_2QNGY0KQFG*MTY1NzEyMTkxMC4yLjEuMTY1NzEyMjI0MC4yNA..*_ga_B5B4E387GY*MTY1NzEyMTkxMC4xLjEuMTY1NzEyMjI0MC4yNA..\"],\n",
    " [\"Health Care Management\", \"https://hcmg.wharton.upenn.edu/?_gl=1*6qskmv*_ga*MTA2Nzk1MjkxNS4xNjUzNjAwNTg2*_ga_2QNGY0KQFG*MTY1NzEyMTkxMC4yLjEuMTY1NzEyMjI0MC4yNA..*_ga_B5B4E387GY*MTY1NzEyMTkxMC4xLjEuMTY1NzEyMjI0MC4yNA..\"],\n",
    " [\"Management\", \"http://mgmt.wharton.upenn.edu/?_gl=1*y59h05*_ga*MTA2Nzk1MjkxNS4xNjUzNjAwNTg2*_ga_2QNGY0KQFG*MTY1NzEyMTkxMC4yLjEuMTY1NzEyMjI0MC4yNA..*_ga_B5B4E387GY*MTY1NzEyMTkxMC4xLjEuMTY1NzEyMjI0MC4yNA..\"],\n",
    " [\"Marketing\", \"http://marketing.wharton.upenn.edu/?_gl=1*y59h05*_ga*MTA2Nzk1MjkxNS4xNjUzNjAwNTg2*_ga_2QNGY0KQFG*MTY1NzEyMTkxMC4yLjEuMTY1NzEyMjI0MC4yNA..*_ga_B5B4E387GY*MTY1NzEyMTkxMC4xLjEuMTY1NzEyMjI0MC4yNA..\"],\n",
    " [\"Operations, Information and Decisions\", \"https://oid.wharton.upenn.edu/?_gl=1*y59h05*_ga*MTA2Nzk1MjkxNS4xNjUzNjAwNTg2*_ga_2QNGY0KQFG*MTY1NzEyMTkxMC4yLjEuMTY1NzEyMjI0MC4yNA..*_ga_B5B4E387GY*MTY1NzEyMTkxMC4xLjEuMTY1NzEyMjI0MC4yNA..\"],\n",
    " [\"Statistics and Data Science\", \"http://statistics.wharton.upenn.edu/?_gl=1*r0lezn*_ga*MTA2Nzk1MjkxNS4xNjUzNjAwNTg2*_ga_2QNGY0KQFG*MTY1NzEyMTkxMC4yLjEuMTY1NzEyMjI0MC4yNA..*_ga_B5B4E387GY*MTY1NzEyMTkxMC4xLjEuMTY1NzEyMjI0MC4yNA..\"]]"
   ]
  },
  {
   "cell_type": "code",
   "execution_count": 27,
   "id": "3f900eed",
   "metadata": {},
   "outputs": [],
   "source": [
    "upenn_departments_2 = []\n",
    "for i in tmp:\n",
    "    upenn_departments_2.append({'department':i[0], 'url':i[1]})"
   ]
  },
  {
   "cell_type": "code",
   "execution_count": 33,
   "id": "93b8004e",
   "metadata": {},
   "outputs": [],
   "source": [
    "upenn_departments_3 = [{'department': 'Bioengineering', 'url':'https://be.seas.upenn.edu/'},\n",
    "                      {'department': 'Chemical and Biomolecular Engineering', 'url':'https://cbe.seas.upenn.edu/'},\n",
    "                      {'department': 'Computer and Information Science', 'url':'https://www.cis.upenn.edu/'},\n",
    "                      {'department': 'Electrical and Systems Engineering', 'url':'https://www.ese.upenn.edu/'},\n",
    "                      {'department': 'Materials Science and Engineering', 'url':'https://mse.seas.upenn.edu/'},\n",
    "                      {'department': 'Mechanical Engineering and Applied Mechanics', 'url':'https://www.me.upenn.edu/'}]"
   ]
  },
  {
   "cell_type": "code",
   "execution_count": 32,
   "id": "1ae0dd9a",
   "metadata": {},
   "outputs": [],
   "source": [
    "# Schools without the division of departments\n",
    "upenn_departments_4 = [{'department': 'Annenberg School for Communication', 'url':'https://www.asc.upenn.edu/'},\n",
    "                      {'department': 'Stuart Weitzman School of Design', 'url':'https://www.design.upenn.edu/'},\n",
    "                      {'department': 'Graduate School of Education', 'url':'https://www.gse.upenn.edu/'},\n",
    "                      {'department': 'Penn Carey Law', 'url': 'https://www.law.upenn.edu/'},\n",
    "                      {'department': 'School of Social Policy & Practice', 'url': 'https://www.sp2.upenn.edu/'}]"
   ]
  },
  {
   "cell_type": "code",
   "execution_count": 34,
   "id": "6a8b23d9",
   "metadata": {},
   "outputs": [],
   "source": [
    "upenn_departments = []\n",
    "for i in [upenn_departments_1, upenn_departments_2, \n",
    "          upenn_departments_3, upenn_departments_4]:\n",
    "    upenn_departments.extend(i)"
   ]
  },
  {
   "cell_type": "code",
   "execution_count": 39,
   "id": "30e46dd4",
   "metadata": {},
   "outputs": [],
   "source": [
    "for item in upenn_departments:\n",
    "    url = item.get('url')\n",
    "    try:\n",
    "        item.update({'faculty_page': find_faculty_page(driver, url)})\n",
    "    except WebDriverException:\n",
    "        item.update({'faculty_page': None})"
   ]
  },
  {
   "cell_type": "code",
   "execution_count": 40,
   "id": "be3f8a3e",
   "metadata": {},
   "outputs": [],
   "source": [
    "with open(sys.path[0] + '/../data/upenn/upenn_directories.json', 'w') as f:\n",
    "    json.dump(upenn_departments, f)"
   ]
  },
  {
   "cell_type": "markdown",
   "id": "67921c87",
   "metadata": {},
   "source": [
    "# Harvard"
   ]
  },
  {
   "cell_type": "markdown",
   "id": "46fa5505",
   "metadata": {},
   "source": [
    "https://en.wikipedia.org/wiki/Outline_of_Harvard_University  \n",
    "https://www.harvard.edu/academics/schools/"
   ]
  },
  {
   "cell_type": "code",
   "execution_count": 41,
   "id": "bd89f19f",
   "metadata": {},
   "outputs": [],
   "source": [
    "def find_department_pages_harvard(driver):\n",
    "    driver.get(\"https://www.fas.harvard.edu/pages/departments-and-areas/\")\n",
    "    items = []\n",
    "    elements = driver.find_elements(By.TAG_NAME, 'li')\n",
    "    for element in elements:\n",
    "        try:\n",
    "            tmp = element.find_element(By.TAG_NAME, 'a')\n",
    "            item = {'department': tmp.get_attribute('textContent'), 'url': tmp.get_attribute('href')}\n",
    "            items.append(item)\n",
    "        except:\n",
    "            pass\n",
    "    return items"
   ]
  },
  {
   "cell_type": "code",
   "execution_count": 43,
   "id": "4857d57a",
   "metadata": {},
   "outputs": [],
   "source": [
    "harvard_departments_1 = find_department_pages_harvard(driver)"
   ]
  },
  {
   "cell_type": "code",
   "execution_count": 47,
   "id": "63039ab8",
   "metadata": {
    "scrolled": true
   },
   "outputs": [
    {
     "name": "stdout",
     "output_type": "stream",
     "text": [
      "0 Main Menu\n",
      "1 Utility Menu\n",
      "2 Search\n",
      "3 HARVie\n",
      "4 Academic Calendar\n",
      "5 Directory\n",
      "6 HOME\n",
      "7 About\n",
      "8 What is FAS?\n",
      "9 Dean Claudine Gay\n",
      "10 Messages from the Dean\n",
      "11 FAS Leadership\n",
      "12 Advisory Committees\n",
      "13 Advancing Racial Justice\n",
      "14 Support FAS\n",
      "15 Reports\n",
      "16 FAS Strategic Planning\n",
      "17 Core Activities\n",
      "18 Teaching and Learning\n",
      "19 Research and Discovery\n",
      "20 Student Experience\n",
      "21 Academics & Research\n",
      "22 Academic Divisions & SEAS\n",
      "23 Departments and Areas\n",
      "24 Degree Programs & Courses\n",
      "25 Centers, Institutes & Societies\n",
      "26 Libraries\n",
      "27 Museums\n",
      "28 Resources\n",
      "29 Quick Contacts\n",
      "30 Sexual & Gender-Based Harassment Policy/Resources\n",
      "31 For Faculty\n",
      "32 For Staff\n",
      "33 For Postdocs\n",
      "34 News\n",
      "35 African and African American Studies\n",
      "36 Anthropology\n",
      "37 Applied Mathematics\n",
      "38 Applied Physics\n",
      "39 Art, Film, and Visual Studies\n",
      "40 Astronomy\n",
      "41 Bioengineering\n",
      "42 Celtic Languages and Literatures\n",
      "43 Chemistry and Chemical Biology\n",
      "44 Computer Science\n",
      "45 The Classics\n",
      "46 Comparative Literature\n",
      "47 Earth and Planetary Sciences\n",
      "48 East Asian Languages and Civilizations\n",
      "49 Economics\n",
      "50 Electrical Engineering\n",
      "51 English\n",
      "52 Environmental Science & Engineering\n",
      "53 Germanic Languages and Literatures\n",
      "54 Government\n",
      "55 History\n",
      "56 History of Art and Architecture\n",
      "57 History of Science\n",
      "58 Human Evolutionary Biology\n",
      "59 Linguistics\n",
      "60 Materials Science & Mechanical Engineering\n",
      "61 Mathematics\n",
      "62 Molecular and Cellular Biology\n",
      "63 Music\n",
      "64 Near Eastern Languages and Civilizations\n",
      "65 Organismic and Evolutionary Biology\n",
      "66 Philosophy\n",
      "67 Physics\n",
      "68 Psychology\n",
      "69 Romance Languages and Literatures\n",
      "70 Slavic Languages and Literatures\n",
      "71 Sociology\n",
      "72 South Asian Studies\n",
      "73 Statistics\n",
      "74 Stem Cell and Regenerative Biology\n",
      "75 Academics & Research\n",
      "76 Academic Divisions & SEAS\n",
      "77 Departments and Areas\n",
      "78 Degree Programs & Courses\n",
      "79 Centers, Institutes & Societies\n",
      "80 Libraries\n",
      "81 Museums\n"
     ]
    }
   ],
   "source": [
    "for i in range(len(harvard_departments_1)):\n",
    "    print(i, harvard_departments_1[i].get('department'))"
   ]
  },
  {
   "cell_type": "code",
   "execution_count": 48,
   "id": "224f1145",
   "metadata": {},
   "outputs": [],
   "source": [
    "harvard_departments_1 = harvard_departments_1[35:74]"
   ]
  },
  {
   "cell_type": "code",
   "execution_count": 50,
   "id": "e872a998",
   "metadata": {},
   "outputs": [],
   "source": [
    "tmp = [[\"Architecture\", \"https://www.gsd.harvard.edu/architecture/\"],\n",
    "       [\"Landscape Architecture\", \"https://www.gsd.harvard.edu/landscape-architecture/\"],\n",
    "       [\"Urban Planning and Design\", \"https://www.gsd.harvard.edu/urban-planning-design/\"]]"
   ]
  },
  {
   "cell_type": "code",
   "execution_count": 51,
   "id": "54a543fe",
   "metadata": {},
   "outputs": [],
   "source": [
    "harvard_departments_2 = []\n",
    "for i in tmp:\n",
    "    harvard_departments_2.append({'department':i[0], 'url':i[1]})"
   ]
  },
  {
   "cell_type": "code",
   "execution_count": 52,
   "id": "db065d8a",
   "metadata": {},
   "outputs": [],
   "source": [
    "departments_url = \"https://www.hsph.harvard.edu/departments/\"\n",
    "no_pages = 1\n",
    "css_selector = '.hsph-bootstrap'\n",
    "harvard_departments_3 = find_department_pages(driver, departments_url, no_pages, css_selector)"
   ]
  },
  {
   "cell_type": "code",
   "execution_count": 54,
   "id": "8e6ad674",
   "metadata": {},
   "outputs": [],
   "source": [
    "harvard_departments_3 = harvard_departments_3[:9]"
   ]
  },
  {
   "cell_type": "code",
   "execution_count": 61,
   "id": "9f59fc67",
   "metadata": {},
   "outputs": [],
   "source": [
    "for i in harvard_departments_3:\n",
    "    i.update({'department':i.get('department')[24:]})"
   ]
  },
  {
   "cell_type": "code",
   "execution_count": 63,
   "id": "3f006e58",
   "metadata": {},
   "outputs": [],
   "source": [
    "harvard_departments_4 = [{'department': 'Harvard Business School', 'url':'https://www.hbs.edu/Pages/default.aspx'},\n",
    "                         {'department': 'Harvard Divinity School', 'url':'https://hds.harvard.edu/'},\n",
    "                         {'department': 'Harvard Graduate School of Education', 'url':'https://www.gse.harvard.edu/'},\n",
    "                         {'department': 'Harvard Kennedy School', 'url':'https://www.hks.harvard.edu/'},\n",
    "                         {'department': 'Harvard Law School', 'url':'https://hls.harvard.edu/'},\n",
    "                         {'department': 'T.H. Chan School of Public Health', 'url':'https://hls.harvard.edu/'}]"
   ]
  },
  {
   "cell_type": "code",
   "execution_count": 68,
   "id": "ebf9954e",
   "metadata": {},
   "outputs": [],
   "source": [
    "harvard_departments = []\n",
    "for i in [harvard_departments_1, harvard_departments_2, \n",
    "          harvard_departments_3, harvard_departments_4]:\n",
    "    harvard_departments.extend(i)"
   ]
  },
  {
   "cell_type": "code",
   "execution_count": 70,
   "id": "3c0b8c06",
   "metadata": {},
   "outputs": [],
   "source": [
    "for item in harvard_departments:\n",
    "    url = item.get('url')\n",
    "    try:\n",
    "        item.update({'faculty_page': find_faculty_page(driver, url)})\n",
    "    except WebDriverException:\n",
    "        item.update({'faculty_page': None})"
   ]
  },
  {
   "cell_type": "code",
   "execution_count": 71,
   "id": "56945d96",
   "metadata": {},
   "outputs": [],
   "source": [
    "with open(sys.path[0] + '/../data/harvard/harvard_directories.json', 'w') as f:\n",
    "    json.dump(harvard_departments, f)"
   ]
  }
 ],
 "metadata": {
  "kernelspec": {
   "display_name": "Python 3 (ipykernel)",
   "language": "python",
   "name": "python3"
  },
  "language_info": {
   "codemirror_mode": {
    "name": "ipython",
    "version": 3
   },
   "file_extension": ".py",
   "mimetype": "text/x-python",
   "name": "python",
   "nbconvert_exporter": "python",
   "pygments_lexer": "ipython3",
   "version": "3.9.7"
  }
 },
 "nbformat": 4,
 "nbformat_minor": 5
}
