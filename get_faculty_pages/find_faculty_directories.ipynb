{
 "cells": [
  {
   "cell_type": "code",
   "execution_count": 2,
   "id": "3b35f84c",
   "metadata": {},
   "outputs": [],
   "source": [
    "from selenium import webdriver\n",
    "from selenium.webdriver.chrome.service import Service\n",
    "from webdriver_manager.chrome import ChromeDriverManager\n",
    "from selenium.webdriver.common.by import By\n",
    "from selenium.webdriver.support.ui import Select\n",
    "from selenium.webdriver.support.ui import WebDriverWait\n",
    "from selenium.webdriver.support import expected_conditions as EC\n",
    "import re\n",
    "import json\n",
    "import sys"
   ]
  },
  {
   "cell_type": "code",
   "execution_count": 51,
   "id": "f506f7cc",
   "metadata": {},
   "outputs": [
    {
     "name": "stdout",
     "output_type": "stream",
     "text": [
      "\n"
     ]
    },
    {
     "name": "stderr",
     "output_type": "stream",
     "text": [
      "[WDM] - ====== WebDriver manager ======\n",
      "[WDM] - Current google-chrome version is 100.0.4896\n",
      "[WDM] - Get LATEST chromedriver version for 100.0.4896 google-chrome\n",
      "[WDM] - Driver [C:\\Users\\GuoshengCai\\.wdm\\drivers\\chromedriver\\win32\\100.0.4896.60\\chromedriver.exe] found in cache\n"
     ]
    }
   ],
   "source": [
    "driver = webdriver.Chrome(service=Service(ChromeDriverManager().install()))"
   ]
  },
  {
   "cell_type": "code",
   "execution_count": 77,
   "id": "11b7c778",
   "metadata": {},
   "outputs": [],
   "source": [
    "def find_department_pages(driver, departments_url, no_pages, css_selector, nth_element=None):\n",
    "    driver.get(departments_url)\n",
    "    items = []\n",
    "    for i in range(no_pages):\n",
    "        if i != 0:\n",
    "            to_click = driver.find_element(By.LINK_TEXT, 'Next')\n",
    "            to_click.click()\n",
    "        elements = driver.find_elements(By.CSS_SELECTOR, css_selector)\n",
    "        if nth_element is not None:\n",
    "            elements = elements[nth_element].find_elements(By.CSS_SELECTOR,\"*\")\n",
    "        for element in elements:\n",
    "            try:\n",
    "                tmp = element.find_element(By.TAG_NAME, 'a')\n",
    "                item = {'department': tmp.get_attribute('textContent'), 'url': tmp.get_attribute('href')}\n",
    "                items.append(item)\n",
    "            except:\n",
    "                pass\n",
    "    return items"
   ]
  },
  {
   "cell_type": "code",
   "execution_count": 29,
   "id": "50723de0",
   "metadata": {},
   "outputs": [],
   "source": [
    "def find_faculty_page(driver, url):\n",
    "    driver.get(url)\n",
    "    elements = driver.find_elements(By.XPATH, \n",
    "    '//a[contains(@href,\"faculty\") or contains(@href,\"profile\") or contains(@href,\"people\") or contains(@href,\"directory\") or contains(@href,\"staff\")]')\n",
    "    if len(elements) == 0:\n",
    "        lk = None\n",
    "    else:\n",
    "        lk = select_lk(elements)\n",
    "    return lk"
   ]
  },
  {
   "cell_type": "code",
   "execution_count": 30,
   "id": "62c3adf0",
   "metadata": {},
   "outputs": [],
   "source": [
    "def select_lk(elements):\n",
    "    priority_dict = {'faculty directory': 7, 'faculty list': 6, 'faculty': 5, 'people': 4,'directory': 3,\n",
    "                     'profiles': 2, 'staff': 1}\n",
    "    lk = None\n",
    "    priority = -1\n",
    "    for element in elements:\n",
    "        s = element.get_attribute(\"innerText\").lower()\n",
    "        curr_priority = 0\n",
    "        for t in priority_dict:\n",
    "            if t == s:\n",
    "                curr_priority = priority_dict.get(t)\n",
    "                break\n",
    "        if curr_priority > priority:\n",
    "            priority = curr_priority\n",
    "            lk = element.get_attribute('href')\n",
    "    return lk"
   ]
  },
  {
   "cell_type": "markdown",
   "id": "a50c6083",
   "metadata": {},
   "source": [
    "# Columbia"
   ]
  },
  {
   "cell_type": "code",
   "execution_count": 24,
   "id": "3526f873",
   "metadata": {},
   "outputs": [],
   "source": [
    "departments_url = \"https://www.columbia.edu/content/academics/departments\"\n",
    "no_pages = 5\n",
    "css_selector = '.dynamic-grid-listing-item.grid-item.angular-animate.ng-trans.ng-trans-fade-down.ng-scope'\n",
    "columbia_departments = find_department_pages(driver, departments_url, no_pages, css_selector)"
   ]
  },
  {
   "cell_type": "code",
   "execution_count": 91,
   "id": "ba8adf0e",
   "metadata": {},
   "outputs": [],
   "source": [
    "for item in columbia_departments:\n",
    "    url = item.get('url')\n",
    "    item.update({'faculty_page': find_faculty_page(driver, url)})"
   ]
  },
  {
   "cell_type": "code",
   "execution_count": 93,
   "id": "86e2c5b0",
   "metadata": {},
   "outputs": [],
   "source": [
    "with open(sys.path[0] + '/../data/columbia/columbia_directories_updated.json', 'w') as f:\n",
    "    json.dump(columbia_departments, f)"
   ]
  },
  {
   "cell_type": "markdown",
   "id": "4d0d8602",
   "metadata": {},
   "source": [
    "# Dartmouth"
   ]
  },
  {
   "cell_type": "code",
   "execution_count": 123,
   "id": "281c3d47",
   "metadata": {},
   "outputs": [],
   "source": [
    "departments_url = \"https://home.dartmouth.edu/academics/departments-programs\"\n",
    "no_pages = 1\n",
    "nth_element = 2\n",
    "css_selector = '.clearfix.text-formatted.field.field--name-body.field--type-text-with-summary.field--label-hidden.field__item'\n",
    "dartmouth_departments = find_department_pages(driver, departments_url, no_pages, css_selector, nth_element)"
   ]
  },
  {
   "cell_type": "code",
   "execution_count": 131,
   "id": "2ffd20bb",
   "metadata": {},
   "outputs": [],
   "source": [
    "# https://stackoverflow.com/questions/7867537/how-to-select-a-drop-down-menu-value-with-selenium-using-python\n",
    "def find_faculty_page_dartmouth(driver, url):\n",
    "    driver.get(url)\n",
    "    try:\n",
    "        element = driver.find_element(By.XPATH, \n",
    "        '//a[contains(@href,\"people\")]') \n",
    "        lk = element.get_attribute('href')\n",
    "        driver.get(lk)\n",
    "        # https://stackoverflow.com/questions/26958193/how-to-select-any-element-from-the-web-element-with-display-none-attribute-us\n",
    "        driver.execute_script(\"document.getElementById('edit-field-people-local-tags-tid').style.display='inline-block';\")\n",
    "        element = WebDriverWait(driver, 60).until(EC.visibility_of_element_located((By.ID, 'edit-field-people-local-tags-tid')))\n",
    "        select = Select(element)\n",
    "        try:\n",
    "            select.select_by_visible_text('Faculty')\n",
    "        except:\n",
    "            pass\n",
    "\n",
    "        try:\n",
    "            select.select_by_visible_text('faculty')\n",
    "        except:\n",
    "            select.select_by_index(1)\n",
    "\n",
    "        to_click = driver.find_element(By.ID, 'edit-submit-people')\n",
    "        to_click.click()\n",
    "        currentURL = driver.current_url\n",
    "        return currentURL\n",
    "    except:\n",
    "        return None"
   ]
  },
  {
   "cell_type": "code",
   "execution_count": 132,
   "id": "eaf4f8f9",
   "metadata": {},
   "outputs": [],
   "source": [
    "for item in dartmouth_departments:\n",
    "    url = item.get('url')\n",
    "    item.update({'faculty_page': find_faculty_page_dartmouth(driver, url)})"
   ]
  },
  {
   "cell_type": "code",
   "execution_count": 134,
   "id": "b391c201",
   "metadata": {},
   "outputs": [],
   "source": [
    "with open(sys.path[0] + '/../data/dartmouth/dartmouth_directories.json', 'w') as f:\n",
    "    json.dump(dartmouth_departments, f)"
   ]
  },
  {
   "cell_type": "markdown",
   "id": "f04040a6",
   "metadata": {},
   "source": [
    "# Yale"
   ]
  },
  {
   "cell_type": "code",
   "execution_count": 26,
   "id": "3fe43ce5",
   "metadata": {},
   "outputs": [],
   "source": [
    "departments_url = \"https://www.yale.edu/academics/departments-programs\"\n",
    "no_pages = 1\n",
    "css_selector = '.department_item_heading'\n",
    "yale_departments = find_department_pages(driver, departments_url, no_pages, css_selector)"
   ]
  },
  {
   "cell_type": "code",
   "execution_count": 31,
   "id": "31ccc9da",
   "metadata": {},
   "outputs": [],
   "source": [
    "for item in yale_departments:\n",
    "    url = item.get('url')\n",
    "    item.update({'faculty_page': find_faculty_page(driver, url)})"
   ]
  },
  {
   "cell_type": "code",
   "execution_count": 34,
   "id": "3c0726b6",
   "metadata": {},
   "outputs": [],
   "source": [
    "with open(sys.path[0] + '/../data/yale/yale_directories.json', 'w') as f:\n",
    "    json.dump(yale_departments, f)"
   ]
  },
  {
   "cell_type": "markdown",
   "id": "2fdce091",
   "metadata": {},
   "source": [
    "# Princeton"
   ]
  },
  {
   "cell_type": "code",
   "execution_count": 69,
   "id": "f7326142",
   "metadata": {},
   "outputs": [],
   "source": [
    "def find_department_pages_princeton(driver):\n",
    "    driver.get('https://www.princeton.edu/academics/areas-of-study')\n",
    "    items = []\n",
    "    elements = driver.find_elements(By.XPATH, \"//h3[contains(text(), 'Academic Units')]\")\n",
    "    parents = []\n",
    "    for element in elements:\n",
    "        element = element.find_element(By.XPATH, \"..\")\n",
    "        try:\n",
    "            tmp = element.find_element(By.TAG_NAME, 'a')\n",
    "            item = {'department': tmp.get_attribute('textContent'), 'url': tmp.get_attribute('href')}\n",
    "            items.append(item)\n",
    "        except:\n",
    "            pass\n",
    "    return items"
   ]
  },
  {
   "cell_type": "code",
   "execution_count": 71,
   "id": "0a3e42c4",
   "metadata": {},
   "outputs": [],
   "source": [
    "princeton_departments = find_department_pages_princeton(driver)"
   ]
  },
  {
   "cell_type": "code",
   "execution_count": 72,
   "id": "653eaada",
   "metadata": {},
   "outputs": [],
   "source": [
    "for item in princeton_departments:\n",
    "    url = item.get('url')\n",
    "    item.update({'faculty_page': find_faculty_page(driver, url)})"
   ]
  },
  {
   "cell_type": "code",
   "execution_count": 73,
   "id": "1ebf9f8a",
   "metadata": {},
   "outputs": [],
   "source": [
    "with open(sys.path[0] + '/../data/princeton/princeton_directories.json', 'w') as f:\n",
    "    json.dump(princeton_departments, f)"
   ]
  },
  {
   "cell_type": "markdown",
   "id": "9c4e935f",
   "metadata": {},
   "source": [
    "# Brown"
   ]
  },
  {
   "cell_type": "code",
   "execution_count": 78,
   "id": "d42ae35d",
   "metadata": {},
   "outputs": [],
   "source": [
    "departments_url = \"https://www.brown.edu/academics/departments\"\n",
    "no_pages = 1\n",
    "css_selector = '.news-items'\n",
    "brown_departments = find_department_pages(driver, departments_url, no_pages, css_selector)"
   ]
  },
  {
   "cell_type": "code",
   "execution_count": 79,
   "id": "4cf5a005",
   "metadata": {},
   "outputs": [],
   "source": [
    "for item in brown_departments:\n",
    "    url = item.get('url')\n",
    "    item.update({'faculty_page': find_faculty_page(driver, url)})"
   ]
  },
  {
   "cell_type": "code",
   "execution_count": 80,
   "id": "01d0ccca",
   "metadata": {},
   "outputs": [],
   "source": [
    "with open(sys.path[0] + '/../data/brown/brown_directories.json', 'w') as f:\n",
    "    json.dump(brown_departments, f)"
   ]
  }
 ],
 "metadata": {
  "kernelspec": {
   "display_name": "Python 3 (ipykernel)",
   "language": "python",
   "name": "python3"
  },
  "language_info": {
   "codemirror_mode": {
    "name": "ipython",
    "version": 3
   },
   "file_extension": ".py",
   "mimetype": "text/x-python",
   "name": "python",
   "nbconvert_exporter": "python",
   "pygments_lexer": "ipython3",
   "version": "3.9.7"
  }
 },
 "nbformat": 4,
 "nbformat_minor": 5
}
