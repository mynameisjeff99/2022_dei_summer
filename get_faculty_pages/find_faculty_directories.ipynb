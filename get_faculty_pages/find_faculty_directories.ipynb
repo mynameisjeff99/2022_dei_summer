{
 "cells": [
  {
   "cell_type": "code",
   "execution_count": 2,
   "id": "3b35f84c",
   "metadata": {},
   "outputs": [],
   "source": [
    "from selenium import webdriver\n",
    "from selenium.webdriver.chrome.service import Service\n",
    "from webdriver_manager.chrome import ChromeDriverManager\n",
    "from selenium.webdriver.common.by import By\n",
    "from selenium.webdriver.support.ui import Select\n",
    "from selenium.webdriver.support.ui import WebDriverWait\n",
    "from selenium.webdriver.support import expected_conditions as EC\n",
    "import re\n",
    "import json\n",
    "import sys"
   ]
  },
  {
   "cell_type": "code",
   "execution_count": 18,
   "id": "f506f7cc",
   "metadata": {},
   "outputs": [
    {
     "name": "stdout",
     "output_type": "stream",
     "text": [
      "\n"
     ]
    },
    {
     "name": "stderr",
     "output_type": "stream",
     "text": [
      "[WDM] - ====== WebDriver manager ======\n",
      "[WDM] - Current google-chrome version is 100.0.4896\n",
      "[WDM] - Get LATEST chromedriver version for 100.0.4896 google-chrome\n",
      "[WDM] - Driver [C:\\Users\\GuoshengCai\\.wdm\\drivers\\chromedriver\\win32\\100.0.4896.60\\chromedriver.exe] found in cache\n"
     ]
    }
   ],
   "source": [
    "driver = webdriver.Chrome(service=Service(ChromeDriverManager().install()))"
   ]
  },
  {
   "cell_type": "code",
   "execution_count": 7,
   "id": "11b7c778",
   "metadata": {},
   "outputs": [],
   "source": [
    "def find_department_pages(driver, departments_url, no_pages, css_selector, nth_element=None):\n",
    "    driver.get(departments_url)\n",
    "    items = []\n",
    "    for i in range(no_pages):\n",
    "        if i != 0:\n",
    "            to_click = driver.find_element(By.LINK_TEXT, 'Next')\n",
    "            to_click.click()\n",
    "        elements = driver.find_elements(By.CSS_SELECTOR, css_selector)\n",
    "        if nth_element is not None:\n",
    "            elements = elements[nth_element].find_elements(By.CSS_SELECTOR,\"*\")\n",
    "        for element in elements:\n",
    "            try:\n",
    "                tmp = element.find_element(By.TAG_NAME, 'a')\n",
    "                item = {'department': tmp.get_attribute('textContent'), 'url': tmp.get_attribute('href')}\n",
    "                items.append(item)\n",
    "            except:\n",
    "                pass\n",
    "    return items"
   ]
  },
  {
   "cell_type": "code",
   "execution_count": 26,
   "id": "50723de0",
   "metadata": {},
   "outputs": [],
   "source": [
    "def find_faculty_page(driver, url):\n",
    "    driver.get(url)\n",
    "    elements = driver.find_elements(By.XPATH, \n",
    "    '//a[contains(@href,\"faculty\") or contains(@href,\"profile\") or contains(@href,\"people\") or contains(@href,\"directory\") or contains(@href,\"staff\")]')\n",
    "    if len(elements) == 0:\n",
    "        lk = None\n",
    "    else:\n",
    "        lk = select_lk(elements)\n",
    "    return lk"
   ]
  },
  {
   "cell_type": "code",
   "execution_count": 27,
   "id": "62c3adf0",
   "metadata": {},
   "outputs": [],
   "source": [
    "def select_lk(elements):\n",
    "    priority_dict = {'faculty directory': 7, 'faculty list': 6, 'faculty': 5, 'people': 4,'directory': 3,\n",
    "                     'profiles': 2, 'staff': 1}\n",
    "    lk = None\n",
    "    priority = -1\n",
    "    for element in elements:\n",
    "        s = element.get_attribute(\"innerText\").lower()\n",
    "        curr_priority = 0\n",
    "        for t in priority_dict:\n",
    "            if t == s:\n",
    "                curr_priority = priority_dict.get(t)\n",
    "                break\n",
    "        if curr_priority > priority:\n",
    "            priority = curr_priority\n",
    "            lk = element.get_attribute('href')\n",
    "    return lk"
   ]
  },
  {
   "cell_type": "markdown",
   "id": "a50c6083",
   "metadata": {},
   "source": [
    "# Columbia"
   ]
  },
  {
   "cell_type": "code",
   "execution_count": 24,
   "id": "3526f873",
   "metadata": {},
   "outputs": [],
   "source": [
    "departments_url = \"https://www.columbia.edu/content/academics/departments\"\n",
    "no_pages = 5\n",
    "css_selector = '.dynamic-grid-listing-item.grid-item.angular-animate.ng-trans.ng-trans-fade-down.ng-scope'\n",
    "columbia_departments = find_department_pages(driver, departments_url, no_pages, css_selector)"
   ]
  },
  {
   "cell_type": "code",
   "execution_count": 91,
   "id": "ba8adf0e",
   "metadata": {},
   "outputs": [],
   "source": [
    "for item in columbia_departments:\n",
    "    url = item.get('url')\n",
    "    item.update({'faculty_page': find_faculty_page(driver, url)})"
   ]
  },
  {
   "cell_type": "code",
   "execution_count": 93,
   "id": "86e2c5b0",
   "metadata": {},
   "outputs": [],
   "source": [
    "with open(sys.path[0] + '/../data/columbia/columbia_directories_updated.json', 'w') as f:\n",
    "    json.dump(columbia_departments, f)"
   ]
  },
  {
   "cell_type": "markdown",
   "id": "4d0d8602",
   "metadata": {},
   "source": [
    "# Dartmouth"
   ]
  },
  {
   "cell_type": "code",
   "execution_count": 123,
   "id": "281c3d47",
   "metadata": {},
   "outputs": [],
   "source": [
    "departments_url = \"https://home.dartmouth.edu/academics/departments-programs\"\n",
    "no_pages = 1\n",
    "nth_element = 2\n",
    "css_selector = '.clearfix.text-formatted.field.field--name-body.field--type-text-with-summary.field--label-hidden.field__item'\n",
    "dartmouth_departments = find_department_pages(driver, departments_url, no_pages, css_selector, nth_element)"
   ]
  },
  {
   "cell_type": "code",
   "execution_count": 131,
   "id": "2ffd20bb",
   "metadata": {},
   "outputs": [],
   "source": [
    "# https://stackoverflow.com/questions/7867537/how-to-select-a-drop-down-menu-value-with-selenium-using-python\n",
    "def find_faculty_page_dartmouth(driver, url):\n",
    "    driver.get(url)\n",
    "    try:\n",
    "        element = driver.find_element(By.XPATH, \n",
    "        '//a[contains(@href,\"people\")]') \n",
    "        lk = element.get_attribute('href')\n",
    "        driver.get(lk)\n",
    "        # https://stackoverflow.com/questions/26958193/how-to-select-any-element-from-the-web-element-with-display-none-attribute-us\n",
    "        driver.execute_script(\"document.getElementById('edit-field-people-local-tags-tid').style.display='inline-block';\")\n",
    "        element = WebDriverWait(driver, 60).until(EC.visibility_of_element_located((By.ID, 'edit-field-people-local-tags-tid')))\n",
    "        select = Select(element)\n",
    "        try:\n",
    "            select.select_by_visible_text('Faculty')\n",
    "        except:\n",
    "            pass\n",
    "\n",
    "        try:\n",
    "            select.select_by_visible_text('faculty')\n",
    "        except:\n",
    "            select.select_by_index(1)\n",
    "\n",
    "        to_click = driver.find_element(By.ID, 'edit-submit-people')\n",
    "        to_click.click()\n",
    "        currentURL = driver.current_url\n",
    "        return currentURL\n",
    "    except:\n",
    "        return None"
   ]
  },
  {
   "cell_type": "code",
   "execution_count": 132,
   "id": "eaf4f8f9",
   "metadata": {},
   "outputs": [],
   "source": [
    "for item in dartmouth_departments:\n",
    "    url = item.get('url')\n",
    "    item.update({'faculty_page': find_faculty_page_dartmouth(driver, url)})"
   ]
  },
  {
   "cell_type": "code",
   "execution_count": 134,
   "id": "b391c201",
   "metadata": {},
   "outputs": [],
   "source": [
    "with open(sys.path[0] + '/../data/dartmouth/dartmouth_directories.json', 'w') as f:\n",
    "    json.dump(dartmouth_departments, f)"
   ]
  },
  {
   "cell_type": "markdown",
   "id": "f04040a6",
   "metadata": {},
   "source": [
    "# Yale"
   ]
  },
  {
   "cell_type": "code",
   "execution_count": 26,
   "id": "3fe43ce5",
   "metadata": {},
   "outputs": [],
   "source": [
    "departments_url = \"https://www.yale.edu/academics/departments-programs\"\n",
    "no_pages = 1\n",
    "css_selector = '.department_item_heading'\n",
    "yale_departments = find_department_pages(driver, departments_url, no_pages, css_selector)"
   ]
  },
  {
   "cell_type": "code",
   "execution_count": 31,
   "id": "31ccc9da",
   "metadata": {},
   "outputs": [],
   "source": [
    "for item in yale_departments:\n",
    "    url = item.get('url')\n",
    "    item.update({'faculty_page': find_faculty_page(driver, url)})"
   ]
  },
  {
   "cell_type": "code",
   "execution_count": 34,
   "id": "3c0726b6",
   "metadata": {},
   "outputs": [],
   "source": [
    "with open(sys.path[0] + '/../data/yale/yale_directories.json', 'w') as f:\n",
    "    json.dump(yale_departments, f)"
   ]
  },
  {
   "cell_type": "markdown",
   "id": "2fdce091",
   "metadata": {},
   "source": [
    "# Princeton"
   ]
  },
  {
   "cell_type": "code",
   "execution_count": 1,
   "id": "f7326142",
   "metadata": {},
   "outputs": [],
   "source": [
    "# only undergraduate departments\n",
    "def find_department_pages_princeton_undergrad(driver):\n",
    "    driver.get('https://admission.princeton.edu/academics/degrees-departments')\n",
    "    elements = driver.find_elements(By.TAG_NAME, \"p\")\n",
    "    items = []\n",
    "    for element in elements:\n",
    "        #element = element.find_element(By.XPATH, \"..\")\n",
    "        try:\n",
    "            tmp = element.find_element(By.TAG_NAME, 'a')\n",
    "            item = {'department': tmp.get_attribute('textContent'), 'url': tmp.get_attribute('href')}\n",
    "            items.append(item)\n",
    "        except:\n",
    "            pass\n",
    "    return items"
   ]
  },
  {
   "cell_type": "code",
   "execution_count": 36,
   "id": "af977457",
   "metadata": {},
   "outputs": [],
   "source": [
    "princeton_grad = find_department_pages_princeton_grad(driver)"
   ]
  },
  {
   "cell_type": "code",
   "execution_count": 4,
   "id": "0a3e42c4",
   "metadata": {},
   "outputs": [],
   "source": [
    "princeton_departments = find_department_pages_princeton_undergrad(driver)"
   ]
  },
  {
   "cell_type": "code",
   "execution_count": 6,
   "id": "5c965b53",
   "metadata": {},
   "outputs": [],
   "source": [
    "princeton_departments = princeton_departments[1:-1]"
   ]
  },
  {
   "cell_type": "code",
   "execution_count": 41,
   "id": "653eaada",
   "metadata": {},
   "outputs": [],
   "source": [
    "for item in princeton_departments:\n",
    "    url = item.get('url')\n",
    "    item.update({'faculty_page': find_faculty_page(driver, url)})"
   ]
  },
  {
   "cell_type": "code",
   "execution_count": 42,
   "id": "1ebf9f8a",
   "metadata": {},
   "outputs": [],
   "source": [
    "with open(sys.path[0] + '/../data/princeton/princeton_directories.json', 'w') as f:\n",
    "    json.dump(princeton_departments, f)"
   ]
  },
  {
   "cell_type": "markdown",
   "id": "9c4e935f",
   "metadata": {},
   "source": [
    "# Brown"
   ]
  },
  {
   "cell_type": "code",
   "execution_count": 8,
   "id": "d42ae35d",
   "metadata": {},
   "outputs": [],
   "source": [
    "departments_url = \"https://www.brown.edu/academics/departments\"\n",
    "no_pages = 1\n",
    "css_selector = '.news-items'\n",
    "brown_departments = find_department_pages(driver, departments_url, no_pages, css_selector)"
   ]
  },
  {
   "cell_type": "code",
   "execution_count": 4,
   "id": "9b8cd7db",
   "metadata": {},
   "outputs": [],
   "source": [
    "def find_faculty_page_brown(driver, url):\n",
    "    driver.get(url)\n",
    "    elements = driver.find_elements(By.XPATH, \n",
    "    '//a[contains(@href,\"faculty\") or contains(@href,\"profile\") or contains(@href,\"people\") or contains(@href,\"directory\") or contains(@href,\"staff\")]')\n",
    "    if len(elements) == 0:\n",
    "        lk = None\n",
    "    else:\n",
    "        lk = select_lk_brown(elements)\n",
    "    return lk"
   ]
  },
  {
   "cell_type": "code",
   "execution_count": 11,
   "id": "41c050ef",
   "metadata": {},
   "outputs": [],
   "source": [
    "def select_lk_brown(elements):\n",
    "    priority_dict = {'faculty directory': 7, 'faculty list': 6, 'faculty': 5, 'people': 4,'directory': 3,\n",
    "                     'profiles': 2, 'staff': 1}\n",
    "    lk = None\n",
    "    priority = -1\n",
    "    for element in elements:\n",
    "        if element.get_attribute('href') in ['https://www.brown.edu/gateway/faculty', 'http://www.brown.edu/gateway/faculty']:\n",
    "            continue\n",
    "        s = element.get_attribute(\"innerText\").lower()\n",
    "        curr_priority = 0\n",
    "        for t in priority_dict:\n",
    "            if t == s:\n",
    "                curr_priority = priority_dict.get(t)\n",
    "                break\n",
    "        if curr_priority > priority:\n",
    "            priority = curr_priority\n",
    "            lk = element.get_attribute('href')\n",
    "    return lk"
   ]
  },
  {
   "cell_type": "code",
   "execution_count": 12,
   "id": "4cf5a005",
   "metadata": {},
   "outputs": [],
   "source": [
    "for item in brown_departments:\n",
    "    url = item.get('url')\n",
    "    item.update({'faculty_page': find_faculty_page_brown(driver, url)})"
   ]
  },
  {
   "cell_type": "code",
   "execution_count": 14,
   "id": "01d0ccca",
   "metadata": {},
   "outputs": [],
   "source": [
    "with open(sys.path[0] + '/../data/brown/brown_directories.json', 'w') as f:\n",
    "    json.dump(brown_departments, f)"
   ]
  },
  {
   "cell_type": "markdown",
   "id": "d3a82191",
   "metadata": {},
   "source": [
    "# Cornell"
   ]
  },
  {
   "cell_type": "code",
   "execution_count": 17,
   "id": "87dd801e",
   "metadata": {},
   "outputs": [],
   "source": [
    "def find_department_pages_cornell(driver):\n",
    "    driver.get('https://www.cornell.edu/academics/departments.cfm')\n",
    "    items = []\n",
    "    elements = driver.find_elements(By.TAG_NAME, 'li')\n",
    "    for element in elements:\n",
    "        try:\n",
    "            tmp = element.find_element(By.TAG_NAME, 'a')\n",
    "            item = {'department': tmp.get_attribute('textContent'), 'url': tmp.get_attribute('href')}\n",
    "            items.append(item)\n",
    "        except:\n",
    "            pass\n",
    "    return items"
   ]
  },
  {
   "cell_type": "code",
   "execution_count": 20,
   "id": "d54d9ab8",
   "metadata": {},
   "outputs": [],
   "source": [
    "cornell_departments = find_department_pages_cornell(driver)"
   ]
  },
  {
   "cell_type": "code",
   "execution_count": 23,
   "id": "05d4db31",
   "metadata": {},
   "outputs": [
    {
     "name": "stdout",
     "output_type": "stream",
     "text": [
      "0 About Cornell\n",
      "1 University Facts\n",
      "2 Maps & Directions\n",
      "3 Mission & Vision\n",
      "4 Core Values\n",
      "5 Locations\n",
      "6 Ithaca\n",
      "7 New York City\n",
      "8 Diversity\n",
      "9 Indigenous Engagement\n",
      "10 Economic Impact\n",
      "11 Sustainability\n",
      "12 Global\n",
      "13 Cornell Leadership\n",
      "14 Admissions\n",
      "15 Apply\n",
      "16 Admissions\n",
      "17 Dates and Deadlines\n",
      "18 Costs and Aid \n",
      "19 Admissions\n",
      "20 Fields of Study\n",
      "21 Financial Support\n",
      "22 Summer Sessions\n",
      "23 Winter Sessions\n",
      "24 Part-time Study\n",
      "25 Academics\n",
      "26 Fields of Study\n",
      "27 Colleges & Schools\n",
      "28 Departments\n",
      "29 Library\n",
      "30 Continuing Education\n",
      "31 Office of the Provost\n",
      "32 Academic Calendar\n",
      "33 Course Catalog\n",
      "34 Global Learning\n",
      "35 Learning Goals\n",
      "36 Research\n",
      "37 \n",
      "            Extreme Talent. Radical Collaboration. Results That Matter.\n",
      "38 Vice President for Research and Innovation\n",
      "39 Centers & Institutes\n",
      "40 Technology Licensing (CTL)\n",
      "41 Graduate Research\n",
      "42 Undergraduate Research\n",
      "43 OVPRI Research Publications\n",
      "44 Public Engagement\n",
      "45 \n",
      "            \n",
      "            CCE helps Buffalo get school food truck rolling\n",
      "46 Cornell Cooperative Extension\n",
      "47 Engaged Cornell Hub\n",
      "48 Land Grant to New York State\n",
      "49 New York State Impact\n",
      "50 Life at Cornell\n",
      "51 Athletics & Recreation\n",
      "52 Arts & Culture\n",
      "53 Health & Safety\n",
      "54 Live, Work, Travel\n",
      "55 Student Life\n",
      "56 Find Your Networks\n",
      "57 Center for First-Year Students\n",
      "58 Clubs & Student Groups\n",
      "59 Apply\n",
      "60 Apply\n",
      "61 Apply\n",
      "62 Undergraduate\n",
      "63 Graduate\n",
      "64 Visit\n",
      "65 Give\n",
      "66 Students\n",
      "67 Students\n",
      "68 Families\n",
      "69 Faculty & Staff\n",
      "70 Alumni\n",
      "71 Animal Science\n",
      "72 Charles H. Dyson School of Applied Economics and Management\n",
      "73 Biological and Environmental Engineering\n",
      "74 Computational Biology\n",
      "75 Communication\n",
      "76 Earth and Atmospheric Sciences\n",
      "77 Ecology and Evolutionary Biology\n",
      "78 Entomology\n",
      "79 Food Science\n",
      "80 Global Development\n",
      "81 School of Integrative Plant Science\n",
      "82 Landscape Architecture\n",
      "83 Microbiology\n",
      "84 Molecular Biology and Genetics\n",
      "85 Natural Resources\n",
      "86 Neurobiology and Behavior\n",
      "87 Nutritional Sciences\n",
      "88 Statistics and Data Science\n",
      "89 Architecture\n",
      "90 Art\n",
      "91 City and Regional Planning\n",
      "92  Africana Studies\n",
      "93 Anthropology\n",
      "94 Asian Studies\n",
      "95 Astronomy\n",
      "96 Chemistry and Chemical Biology\n",
      "97 Classics\n",
      "98 Comparative Literature\n",
      "99 Ecology & Evolutionary Biology\n",
      "100 Economics\n",
      "101 English\n",
      "102 German Studies\n",
      "103  Government\n",
      "104 History\n",
      "105 History of Art and Visual Studies\n",
      "106 Linguistics\n",
      "107 Mathematics\n",
      "108 Molecular Biology and Genetics\n",
      "109 Music\n",
      "110 Near Eastern Studies\n",
      "111 Neurobiology and Behavior\n",
      "112 Performing and Media Arts\n",
      "113 Sage School of Philosophy\n",
      "114 Physics\n",
      "115 Psychology\n",
      "116 Romance Studies\n",
      "117 Science and Technology Studies\n",
      "118 Sociology\n",
      "119 Charles H. Dyson School of Applied Economics and Management\n",
      "120 Peter and Stephanie Nolan School of Hotel Administration\n",
      "121 Samuel Curtis Johnson Graduate School of Management\n",
      "122 Computer Science\n",
      "123 Information Science\n",
      "124 Statistics and Data Science\n",
      "125 School of Applied and Engineering Physics\n",
      "126 Biological and Environmental Engineering\n",
      "127 Meinig School of Biomedical Engineering\n",
      "128 Smith School of Chemical and Biomolecular Engineering\n",
      "129 School of Civil and Environmental Engineering\n",
      "130 Computer Science\n",
      "131 Earth and Atmospheric Sciences\n",
      "132 School of Electrical and Computer Engineering\n",
      "133 Materials Science and Engineering\n",
      "134 Sibley School of Mechanical and Aerospace Engineering \n",
      "135 School of Operations Research and Information Engineering\n",
      "136 Design and Environmental Analysis\n",
      "137 Fiber Science and Apparel Design\n",
      "138 Human Development\n",
      "139 Nutritional Sciences\n",
      "140 Policy Analysis and Management\n",
      "141 Economics\n",
      "142 Human Resource Studies\n",
      "143 International and Comparative Labor\n",
      "144 Labor Relations, Law and History\n",
      "145 Organizational Behavior\n",
      "146 ILR School Statistics and Data Science\n",
      "147 Army ROTC\n",
      "148 Navy ROTC\n",
      "149 Air Force ROTC\n",
      "150 Biomedical Sciences\n",
      "151 Clinical Sciences\n",
      "152 Microbiology and Immunology \n",
      "153 Molecular Medicine\n",
      "154 Population Medicine and Diagnostic Sciences\n",
      "155 Anesthesiology\n",
      "156 Biochemistry\n",
      "157 Feil Family Brain and Mind Research Institute\n",
      "158 Cardiothoracic Surgery\n",
      "159 Cell and Developmental Biology\n",
      "160 Dermatology\n",
      "161 Emergency Medicine\n",
      "162 Genetic Medicine\n",
      "163 Joan and Sanford I. Weill Department of Medicine\n",
      "164 Microbiology and Immunology\n",
      "165 Neurological Surgery\n",
      "166 Neurology\n",
      "167 Obstetrics and Gynecology\n",
      "168 Ophthalmology\n",
      "169 Orthopaedic Surgery\n",
      "170 Otolaryngology – Head and Neck Surgery\n",
      "171 Pathology and Laboratory Medicine\n",
      "172 Pediatrics\n",
      "173 Pharmacology\n",
      "174 Physiology and Biophysics\n",
      "175 Population Health Sciences\n",
      "176 Psychiatry\n",
      "177 Radiation Oncology\n",
      "178 Radiology\n",
      "179 Rehabilitation Medicine\n",
      "180 Ronald O. Perelman and Claudia Cohen Center for Reproductive Medicine\n",
      "181 Surgery\n",
      "182 Urology\n",
      "183 Biochemistry and Structural Biology\n",
      "184 Cell and Molecular Biology\n",
      "185 Clinical Epidemiology and Health Services Research\n",
      "186 Immunology and Microbial Pathogenesis\n",
      "187 Molecular Biology and Genetics\n",
      "188 Neuroscience\n",
      "189 Pharmacology\n",
      "190 Physiology, Biophysics, and Systems Biology\n",
      "191 Pre-Medical Program\n",
      "192 Medical Program\n",
      "193 expand menu\n",
      "194 Academic Calendar\n",
      "195 Leadership\n",
      "196 Careers\n",
      "197 Events\n",
      "198 News\n",
      "199 Title IX\n",
      "200 Emergency Preparedness\n",
      "201 expand menu\n",
      "202 Campus Tours\n",
      "203 Maps & Directions\n",
      "204 Ithaca-NYC Travel\n",
      "205 Johnson Museum\n",
      "206 Botanic Gardens\n",
      "207 Ithaca\n",
      "208 expand menu\n",
      "209 \n",
      "                Live View\n",
      "              \n",
      "210 Weather 68°F / 20°C\n",
      "\n",
      "\n",
      "              \n",
      "211 University Privacy\n",
      "212 Web Accessibility Assistance\n",
      "213 Copyright\n",
      "214 Site Information\n",
      "215 Contact\n",
      "216 \n",
      "            \n",
      "            Facebook\n",
      "          \n",
      "217 \n",
      "            \n",
      "            Twitter\n",
      "          \n",
      "218 \n",
      "            \n",
      "            Instagram\n",
      "          \n",
      "219 \n",
      "            \n",
      "            YouTube\n",
      "          \n"
     ]
    }
   ],
   "source": [
    "for i in range(len(cornell_departments)):\n",
    "    print(i, cornell_departments[i].get('department'))"
   ]
  },
  {
   "cell_type": "code",
   "execution_count": 24,
   "id": "73c955cd",
   "metadata": {},
   "outputs": [],
   "source": [
    "cornell_departments = cornell_departments[71:192]"
   ]
  },
  {
   "cell_type": "code",
   "execution_count": 28,
   "id": "357f0b8d",
   "metadata": {},
   "outputs": [
    {
     "ename": "WebDriverException",
     "evalue": "Message: target frame detached\n  (Session info: chrome=100.0.4896.127)\nStacktrace:\nBacktrace:\n\tOrdinal0 [0x009F7413+2389011]\n\tOrdinal0 [0x00989F61+1941345]\n\tOrdinal0 [0x0087C520+836896]\n\tOrdinal0 [0x0086D957+776535]\n\tOrdinal0 [0x0086C995+772501]\n\tOrdinal0 [0x0086CF98+774040]\n\tOrdinal0 [0x0086CF28+773928]\n\tOrdinal0 [0x00873144+799044]\n\tOrdinal0 [0x0086E16D+778605]\n\tOrdinal0 [0x0086E685+779909]\n\tOrdinal0 [0x0086E46F+779375]\n\tOrdinal0 [0x0086DA86+776838]\n\tOrdinal0 [0x0086C995+772501]\n\tOrdinal0 [0x0086CF98+774040]\n\tOrdinal0 [0x0088499D+870813]\n\tOrdinal0 [0x0087EB6B+846699]\n\tOrdinal0 [0x0087E6E5+845541]\n\tOrdinal0 [0x0087EEDF+847583]\n\tOrdinal0 [0x0087F1B0+848304]\n\tOrdinal0 [0x008A8EF2+1019634]\n\tOrdinal0 [0x008A949B+1021083]\n\tOrdinal0 [0x008D606C+1204332]\n\tOrdinal0 [0x008C4194+1130900]\n\tOrdinal0 [0x008D4302+1196802]\n\tOrdinal0 [0x008C3F66+1130342]\n\tOrdinal0 [0x0089E546+976198]\n\tOrdinal0 [0x0089F456+980054]\n\tGetHandleVerifier [0x00BA9632+1727522]\n\tGetHandleVerifier [0x00C5BA4D+2457661]\n\tGetHandleVerifier [0x00A8EB81+569713]\n\tGetHandleVerifier [0x00A8DD76+566118]\n\tOrdinal0 [0x00990B2B+1968939]\n\tOrdinal0 [0x00995988+1989000]\n\tOrdinal0 [0x00995A75+1989237]\n\tOrdinal0 [0x0099ECB1+2026673]\n\tBaseThreadInitThunk [0x7675FA29+25]\n\tRtlGetAppContainerNamedObjectPath [0x77C97A9E+286]\n\tRtlGetAppContainerNamedObjectPath [0x77C97A6E+238]\n",
     "output_type": "error",
     "traceback": [
      "\u001b[1;31m---------------------------------------------------------------------------\u001b[0m",
      "\u001b[1;31mWebDriverException\u001b[0m                        Traceback (most recent call last)",
      "\u001b[1;32mC:\\Users\\GUOSHE~1\\AppData\\Local\\Temp/ipykernel_16608/259191507.py\u001b[0m in \u001b[0;36m<module>\u001b[1;34m\u001b[0m\n\u001b[0;32m      1\u001b[0m \u001b[1;32mfor\u001b[0m \u001b[0mitem\u001b[0m \u001b[1;32min\u001b[0m \u001b[0mcornell_departments\u001b[0m\u001b[1;33m:\u001b[0m\u001b[1;33m\u001b[0m\u001b[1;33m\u001b[0m\u001b[0m\n\u001b[0;32m      2\u001b[0m     \u001b[0murl\u001b[0m \u001b[1;33m=\u001b[0m \u001b[0mitem\u001b[0m\u001b[1;33m.\u001b[0m\u001b[0mget\u001b[0m\u001b[1;33m(\u001b[0m\u001b[1;34m'url'\u001b[0m\u001b[1;33m)\u001b[0m\u001b[1;33m\u001b[0m\u001b[1;33m\u001b[0m\u001b[0m\n\u001b[1;32m----> 3\u001b[1;33m     \u001b[0mitem\u001b[0m\u001b[1;33m.\u001b[0m\u001b[0mupdate\u001b[0m\u001b[1;33m(\u001b[0m\u001b[1;33m{\u001b[0m\u001b[1;34m'faculty_page'\u001b[0m\u001b[1;33m:\u001b[0m \u001b[0mfind_faculty_page\u001b[0m\u001b[1;33m(\u001b[0m\u001b[0mdriver\u001b[0m\u001b[1;33m,\u001b[0m \u001b[0murl\u001b[0m\u001b[1;33m)\u001b[0m\u001b[1;33m}\u001b[0m\u001b[1;33m)\u001b[0m\u001b[1;33m\u001b[0m\u001b[1;33m\u001b[0m\u001b[0m\n\u001b[0m",
      "\u001b[1;32mC:\\Users\\GUOSHE~1\\AppData\\Local\\Temp/ipykernel_16608/1460971968.py\u001b[0m in \u001b[0;36mfind_faculty_page\u001b[1;34m(driver, url)\u001b[0m\n\u001b[0;32m      1\u001b[0m \u001b[1;32mdef\u001b[0m \u001b[0mfind_faculty_page\u001b[0m\u001b[1;33m(\u001b[0m\u001b[0mdriver\u001b[0m\u001b[1;33m,\u001b[0m \u001b[0murl\u001b[0m\u001b[1;33m)\u001b[0m\u001b[1;33m:\u001b[0m\u001b[1;33m\u001b[0m\u001b[1;33m\u001b[0m\u001b[0m\n\u001b[0;32m      2\u001b[0m     \u001b[0mdriver\u001b[0m\u001b[1;33m.\u001b[0m\u001b[0mget\u001b[0m\u001b[1;33m(\u001b[0m\u001b[0murl\u001b[0m\u001b[1;33m)\u001b[0m\u001b[1;33m\u001b[0m\u001b[1;33m\u001b[0m\u001b[0m\n\u001b[1;32m----> 3\u001b[1;33m     elements = driver.find_elements(By.XPATH, \n\u001b[0m\u001b[0;32m      4\u001b[0m     '//a[contains(@href,\"faculty\") or contains(@href,\"profile\") or contains(@href,\"people\") or contains(@href,\"directory\") or contains(@href,\"staff\")]')\n\u001b[0;32m      5\u001b[0m     \u001b[1;32mif\u001b[0m \u001b[0mlen\u001b[0m\u001b[1;33m(\u001b[0m\u001b[0melements\u001b[0m\u001b[1;33m)\u001b[0m \u001b[1;33m==\u001b[0m \u001b[1;36m0\u001b[0m\u001b[1;33m:\u001b[0m\u001b[1;33m\u001b[0m\u001b[1;33m\u001b[0m\u001b[0m\n",
      "\u001b[1;32m~\\anaconda3\\lib\\site-packages\\selenium\\webdriver\\remote\\webdriver.py\u001b[0m in \u001b[0;36mfind_elements\u001b[1;34m(self, by, value)\u001b[0m\n\u001b[0;32m   1277\u001b[0m         \u001b[1;31m# Return empty list if driver returns null\u001b[0m\u001b[1;33m\u001b[0m\u001b[1;33m\u001b[0m\u001b[0m\n\u001b[0;32m   1278\u001b[0m         \u001b[1;31m# See https://github.com/SeleniumHQ/selenium/issues/4555\u001b[0m\u001b[1;33m\u001b[0m\u001b[1;33m\u001b[0m\u001b[0m\n\u001b[1;32m-> 1279\u001b[1;33m         return self.execute(Command.FIND_ELEMENTS, {\n\u001b[0m\u001b[0;32m   1280\u001b[0m             \u001b[1;34m'using'\u001b[0m\u001b[1;33m:\u001b[0m \u001b[0mby\u001b[0m\u001b[1;33m,\u001b[0m\u001b[1;33m\u001b[0m\u001b[1;33m\u001b[0m\u001b[0m\n\u001b[0;32m   1281\u001b[0m             'value': value})['value'] or []\n",
      "\u001b[1;32m~\\anaconda3\\lib\\site-packages\\selenium\\webdriver\\remote\\webdriver.py\u001b[0m in \u001b[0;36mexecute\u001b[1;34m(self, driver_command, params)\u001b[0m\n\u001b[0;32m    422\u001b[0m         \u001b[0mresponse\u001b[0m \u001b[1;33m=\u001b[0m \u001b[0mself\u001b[0m\u001b[1;33m.\u001b[0m\u001b[0mcommand_executor\u001b[0m\u001b[1;33m.\u001b[0m\u001b[0mexecute\u001b[0m\u001b[1;33m(\u001b[0m\u001b[0mdriver_command\u001b[0m\u001b[1;33m,\u001b[0m \u001b[0mparams\u001b[0m\u001b[1;33m)\u001b[0m\u001b[1;33m\u001b[0m\u001b[1;33m\u001b[0m\u001b[0m\n\u001b[0;32m    423\u001b[0m         \u001b[1;32mif\u001b[0m \u001b[0mresponse\u001b[0m\u001b[1;33m:\u001b[0m\u001b[1;33m\u001b[0m\u001b[1;33m\u001b[0m\u001b[0m\n\u001b[1;32m--> 424\u001b[1;33m             \u001b[0mself\u001b[0m\u001b[1;33m.\u001b[0m\u001b[0merror_handler\u001b[0m\u001b[1;33m.\u001b[0m\u001b[0mcheck_response\u001b[0m\u001b[1;33m(\u001b[0m\u001b[0mresponse\u001b[0m\u001b[1;33m)\u001b[0m\u001b[1;33m\u001b[0m\u001b[1;33m\u001b[0m\u001b[0m\n\u001b[0m\u001b[0;32m    425\u001b[0m             response['value'] = self._unwrap_value(\n\u001b[0;32m    426\u001b[0m                 response.get('value', None))\n",
      "\u001b[1;32m~\\anaconda3\\lib\\site-packages\\selenium\\webdriver\\remote\\errorhandler.py\u001b[0m in \u001b[0;36mcheck_response\u001b[1;34m(self, response)\u001b[0m\n\u001b[0;32m    245\u001b[0m                 \u001b[0malert_text\u001b[0m \u001b[1;33m=\u001b[0m \u001b[0mvalue\u001b[0m\u001b[1;33m[\u001b[0m\u001b[1;34m'alert'\u001b[0m\u001b[1;33m]\u001b[0m\u001b[1;33m.\u001b[0m\u001b[0mget\u001b[0m\u001b[1;33m(\u001b[0m\u001b[1;34m'text'\u001b[0m\u001b[1;33m)\u001b[0m\u001b[1;33m\u001b[0m\u001b[1;33m\u001b[0m\u001b[0m\n\u001b[0;32m    246\u001b[0m             \u001b[1;32mraise\u001b[0m \u001b[0mexception_class\u001b[0m\u001b[1;33m(\u001b[0m\u001b[0mmessage\u001b[0m\u001b[1;33m,\u001b[0m \u001b[0mscreen\u001b[0m\u001b[1;33m,\u001b[0m \u001b[0mstacktrace\u001b[0m\u001b[1;33m,\u001b[0m \u001b[0malert_text\u001b[0m\u001b[1;33m)\u001b[0m  \u001b[1;31m# type: ignore[call-arg]  # mypy is not smart enough here\u001b[0m\u001b[1;33m\u001b[0m\u001b[1;33m\u001b[0m\u001b[0m\n\u001b[1;32m--> 247\u001b[1;33m         \u001b[1;32mraise\u001b[0m \u001b[0mexception_class\u001b[0m\u001b[1;33m(\u001b[0m\u001b[0mmessage\u001b[0m\u001b[1;33m,\u001b[0m \u001b[0mscreen\u001b[0m\u001b[1;33m,\u001b[0m \u001b[0mstacktrace\u001b[0m\u001b[1;33m)\u001b[0m\u001b[1;33m\u001b[0m\u001b[1;33m\u001b[0m\u001b[0m\n\u001b[0m\u001b[0;32m    248\u001b[0m \u001b[1;33m\u001b[0m\u001b[0m\n\u001b[0;32m    249\u001b[0m     \u001b[1;32mdef\u001b[0m \u001b[0m_value_or_default\u001b[0m\u001b[1;33m(\u001b[0m\u001b[0mself\u001b[0m\u001b[1;33m,\u001b[0m \u001b[0mobj\u001b[0m\u001b[1;33m:\u001b[0m \u001b[0mMapping\u001b[0m\u001b[1;33m[\u001b[0m\u001b[0m_KT\u001b[0m\u001b[1;33m,\u001b[0m \u001b[0m_VT\u001b[0m\u001b[1;33m]\u001b[0m\u001b[1;33m,\u001b[0m \u001b[0mkey\u001b[0m\u001b[1;33m:\u001b[0m \u001b[0m_KT\u001b[0m\u001b[1;33m,\u001b[0m \u001b[0mdefault\u001b[0m\u001b[1;33m:\u001b[0m \u001b[0m_VT\u001b[0m\u001b[1;33m)\u001b[0m \u001b[1;33m->\u001b[0m \u001b[0m_VT\u001b[0m\u001b[1;33m:\u001b[0m\u001b[1;33m\u001b[0m\u001b[1;33m\u001b[0m\u001b[0m\n",
      "\u001b[1;31mWebDriverException\u001b[0m: Message: target frame detached\n  (Session info: chrome=100.0.4896.127)\nStacktrace:\nBacktrace:\n\tOrdinal0 [0x009F7413+2389011]\n\tOrdinal0 [0x00989F61+1941345]\n\tOrdinal0 [0x0087C520+836896]\n\tOrdinal0 [0x0086D957+776535]\n\tOrdinal0 [0x0086C995+772501]\n\tOrdinal0 [0x0086CF98+774040]\n\tOrdinal0 [0x0086CF28+773928]\n\tOrdinal0 [0x00873144+799044]\n\tOrdinal0 [0x0086E16D+778605]\n\tOrdinal0 [0x0086E685+779909]\n\tOrdinal0 [0x0086E46F+779375]\n\tOrdinal0 [0x0086DA86+776838]\n\tOrdinal0 [0x0086C995+772501]\n\tOrdinal0 [0x0086CF98+774040]\n\tOrdinal0 [0x0088499D+870813]\n\tOrdinal0 [0x0087EB6B+846699]\n\tOrdinal0 [0x0087E6E5+845541]\n\tOrdinal0 [0x0087EEDF+847583]\n\tOrdinal0 [0x0087F1B0+848304]\n\tOrdinal0 [0x008A8EF2+1019634]\n\tOrdinal0 [0x008A949B+1021083]\n\tOrdinal0 [0x008D606C+1204332]\n\tOrdinal0 [0x008C4194+1130900]\n\tOrdinal0 [0x008D4302+1196802]\n\tOrdinal0 [0x008C3F66+1130342]\n\tOrdinal0 [0x0089E546+976198]\n\tOrdinal0 [0x0089F456+980054]\n\tGetHandleVerifier [0x00BA9632+1727522]\n\tGetHandleVerifier [0x00C5BA4D+2457661]\n\tGetHandleVerifier [0x00A8EB81+569713]\n\tGetHandleVerifier [0x00A8DD76+566118]\n\tOrdinal0 [0x00990B2B+1968939]\n\tOrdinal0 [0x00995988+1989000]\n\tOrdinal0 [0x00995A75+1989237]\n\tOrdinal0 [0x0099ECB1+2026673]\n\tBaseThreadInitThunk [0x7675FA29+25]\n\tRtlGetAppContainerNamedObjectPath [0x77C97A9E+286]\n\tRtlGetAppContainerNamedObjectPath [0x77C97A6E+238]\n"
     ]
    }
   ],
   "source": [
    "for item in cornell_departments:\n",
    "    url = item.get('url')\n",
    "    item.update({'faculty_page': find_faculty_page(driver, url)})"
   ]
  }
 ],
 "metadata": {
  "kernelspec": {
   "display_name": "Python 3 (ipykernel)",
   "language": "python",
   "name": "python3"
  },
  "language_info": {
   "codemirror_mode": {
    "name": "ipython",
    "version": 3
   },
   "file_extension": ".py",
   "mimetype": "text/x-python",
   "name": "python",
   "nbconvert_exporter": "python",
   "pygments_lexer": "ipython3",
   "version": "3.9.7"
  }
 },
 "nbformat": 4,
 "nbformat_minor": 5
}
