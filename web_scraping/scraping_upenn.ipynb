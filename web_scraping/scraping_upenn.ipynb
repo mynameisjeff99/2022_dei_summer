{
 "cells": [
  {
   "cell_type": "code",
   "execution_count": 1,
   "id": "862d52f2",
   "metadata": {},
   "outputs": [],
   "source": [
    "from scraping import Scraping\n",
    "import sys\n",
    "import json"
   ]
  },
  {
   "cell_type": "markdown",
   "id": "179ba680",
   "metadata": {},
   "source": [
    "# Scraping"
   ]
  },
  {
   "cell_type": "code",
   "execution_count": 2,
   "id": "e8b2c727",
   "metadata": {},
   "outputs": [
    {
     "name": "stdout",
     "output_type": "stream",
     "text": [
      "\n"
     ]
    },
    {
     "name": "stderr",
     "output_type": "stream",
     "text": [
      "[WDM] - ====== WebDriver manager ======\n",
      "[WDM] - Current google-chrome version is 100.0.4896\n",
      "[WDM] - Get LATEST chromedriver version for 100.0.4896 google-chrome\n",
      "[WDM] - Driver [C:\\Users\\GuoshengCai\\.wdm\\drivers\\chromedriver\\win32\\100.0.4896.60\\chromedriver.exe] found in cache\n"
     ]
    }
   ],
   "source": [
    "scraping = Scraping()"
   ]
  },
  {
   "cell_type": "code",
   "execution_count": 3,
   "id": "3dda1a15",
   "metadata": {},
   "outputs": [],
   "source": [
    "in_path = sys.path[0] + '/../data/upenn/upenn_directories_sans_med.json'\n",
    "out_path = sys.path[0] + '/../data/upenn/upenn_w_profiles.json'\n",
    "upenn = scraping.scrape_faculty(in_path, out_path)"
   ]
  },
  {
   "cell_type": "markdown",
   "id": "5bb7b545",
   "metadata": {},
   "source": [
    "# Result"
   ]
  },
  {
   "cell_type": "code",
   "execution_count": 4,
   "id": "c2dee163",
   "metadata": {},
   "outputs": [
    {
     "name": "stdout",
     "output_type": "stream",
     "text": [
      "____________________________________________\n",
      "url: https://africana.sas.upenn.edu/department-africana-studies/standing-faculty\n",
      "len: 13\n",
      "{'name': 'Heather A. Williams', 'title': 'Geraldine R. Segal Professorship in American Social Thought', 'img': '/sites/default/files/styles/profile_wide/public/_MG_6001_0.jpeg?itok=4JzbZ7hD'}\n",
      "{'name': 'Tukufu  Zuberi', 'title': 'Lasry Family Professor of Race Relations', 'img': '/sites/default/files/styles/profile_wide/public/FLOzY7b4_0.jpg?itok=Ajp-x58X'}\n",
      "____________________________________________\n",
      "url: https://anthropology.sas.upenn.edu/people\n",
      "len: 15\n",
      "{'name': 'Greg Urban', 'title': 'Arthur Hobson Quinn Professor of Anthropology', 'img': 'https://anthropology.sas.upenn.edu/sites/default/files/styles/profile-thumb/public/profile/Urban-Photo%20Dept%20Website%203-9-19B.JPG?itok=uCiVqvYo'}\n",
      "{'name': 'Hadeel  Assali', 'title': 'Postdoctoral Fellow', 'img': 'https://anthropology.sas.upenn.edu/sites/default/files/styles/profile-thumb/public/profile/Hadeel%20Assali.jpg?itok=q9cJgqup'}\n",
      "____________________________________________\n",
      "url: https://www.bio.upenn.edu/people\n",
      "len: 35\n",
      "{'name': 'Katie Barott', 'title': 'Assistant Professor of Biology', 'img': '/sites/default/files/styles/profile_list/public/profile/Barott_KENDIGapril.jpg?itok=KJS9YUe2'}\n",
      "{'name': 'Corlett Wood', 'title': 'Assistant Professor of Biology', 'img': '/sites/default/files/styles/profile_list/public/profile/headshot_cropped%20-%20Corlett%20Wood.jpg?itok=vMmAYnJL'}\n",
      "____________________________________________\n",
      "url: https://www.chem.upenn.edu/people\n",
      "len: 40\n",
      "{'name': 'Tobias Baumgart', 'title': 'Professor of Chemistry', 'img': '/sites/default/files/styles/max_1300x1300/public/baumgart.jpg?itok=wczS1X7I'}\n",
      "{'name': 'Jeffrey D. Winkler', 'title': 'Merriam Professor of Chemistry', 'img': '/sites/default/files/styles/max_1300x1300/public/winkler.jpg?itok=4UzuQ5i1'}\n",
      "____________________________________________\n",
      "url: https://www.classics.upenn.edu/people\n",
      "len: 14\n",
      "{'name': 'Rita  Copeland', 'title': 'Sheli Z. and Burton X. Rosenberg Professor', 'img': 'https://www.classics.upenn.edu/sites/default/files/styles/faculty_squares/public/copeland.jpg?itok=SEfNEgim'}\n",
      "{'name': 'Emily  Wilson', 'title': 'Professor of Classical Studies', 'img': 'https://www.classics.upenn.edu/sites/default/files/styles/faculty_squares/public/New%20Emily%20Pic.jpg?itok=rT5h0w1K'}\n",
      "____________________________________________\n",
      "url: https://crim.sas.upenn.edu/people\n",
      "len: 8\n",
      "{'name': 'Aaron J. Chalfin', 'title': 'Assistant Professor of Criminology', 'img': 'https://crim.sas.upenn.edu/system/files/styles/profile-thumb/private/Chalfin%20New%20Photo_0.png?itok=RYMCCfmo'}\n",
      "{'name': 'Greg  Ridgeway', 'title': 'Professor and Chair of Criminology, Professor of Statistics and Data Science', 'img': 'https://crim.sas.upenn.edu/system/files/styles/profile-thumb/private/ridgeway%20copy.jpg?itok=Dvg-DtfW'}\n",
      "____________________________________________\n",
      "url: https://earth.sas.upenn.edu/people/faculty\n",
      "len: 10\n",
      "{'name': 'Jane E. Dmochowski', 'title': 'Senior Lecturer', 'img': '/sites/default/files/styles/profile_list/public/DSC_0290.JPG?itok=3tjsRP9G'}\n",
      "{'name': 'Ileana Pérez-Rodríguez', 'title': 'Assistant Professor and Elliman Faculty Fellow', 'img': '/sites/default/files/styles/profile_list/public/Ileana%20Perez-Rodriguez.jpg?itok=X_zjzheq'}\n",
      "____________________________________________\n",
      "url: https://ealc.sas.upenn.edu/people/faculty\n",
      "len: 8\n",
      "{'name': 'Chloe Estep', 'title': 'Assistant Professor', 'img': '/sites/default/files/styles/profile_list/public/default_images/blank-profile-picture.png?itok=ny67mFyM'}\n",
      "{'name': 'Nancy S. Steinhardt', 'title': 'Professor, East Asian Art', 'img': '/sites/default/files/styles/profile_list/public/2019-04/Steinhardt.jpg?itok=JvleQFFK'}\n",
      "____________________________________________\n",
      "url: https://economics.sas.upenn.edu/people/faculty\n",
      "len: 21\n",
      "{'name': 'Luca Bossi', 'title': 'Senior Lecturer', 'img': '/sites/default/files/styles/profile_image/public/2018-09/luca%20bossi%20%287%20of%2010%29.jpg?itok=KDl0vJX5'}\n",
      "{'name': 'Rakesh Vohra', 'title': 'George A. Weiss and Lydia Bravo Weiss University Professor', 'img': '/sites/default/files/styles/profile_image/public/2018-03/vohra1.jpg?itok=QNtJrvSr'}\n",
      "____________________________________________\n",
      "url: https://www.english.upenn.edu/people/faculty\n",
      "len: 72\n",
      "{'name': 'Abdulhamit  Arvas', 'title': 'Assistant Professor of English', 'img': 'https://www.english.upenn.edu/sites/default/files/styles/img-circle/public/people/photo/official/cropped/arvas_cropped.jpg?itok=Bo2IxMIM'}\n",
      "{'name': 'Wendy  Steiner', 'title': 'Richard L. Fisher Professor of English', 'img': 'https://www.english.upenn.edu/sites/default/files/styles/img-circle/public/people/photo/wsteiner.jpg?itok=jd5d5-ZX'}\n",
      "____________________________________________\n",
      "url: https://www.history.upenn.edu/people/standing-faculty\n",
      "len: 33\n",
      "{'name': 'Eiichiro  Azuma', 'title': 'Professor of History and Asian American Studies', 'img': '/sites/default/files/styles/profile_list/public/2019-09/Azuma%201.jpeg?itok=nwY2ySjz'}\n",
      "{'name': 'Beth S. Wenger', 'title': 'Moritz and Josephine Berg Professor of History', 'img': '/sites/default/files/styles/profile_list/public/wenger.jpg?itok=P3QwoYyd'}\n",
      "____________________________________________\n",
      "url: https://hss.sas.upenn.edu/people\n",
      "len: 13\n",
      "{'name': 'David S. Barnes', 'title': 'Associate Professor', 'img': 'https://hss.sas.upenn.edu/system/files/styles/profile-thumb/private/DSB%40LazMB%20square.jpg?itok=HzMVV6Oi'}\n",
      "{'name': 'Adelheid  Voskuhl', 'title': 'Associate Professor', 'img': 'https://hss.sas.upenn.edu/system/files/styles/profile-thumb/private/voskuhl.jpg?itok=eI-CYlDZ'}\n",
      "____________________________________________\n",
      "url: https://arth.sas.upenn.edu/people/standing-faculty\n",
      "len: 17\n",
      "{'name': 'Vance  Byrd', 'title': 'Presidential Associate Professor of German', 'img': 'https://arth.sas.upenn.edu/sites/default/files/styles/profile-thumb/public/DSC_3566%20cropped.jpeg?itok=2MXCAUAd'}\n",
      "{'name': 'Chenshu  Zhou', 'title': 'Assistant Professor of History of Art', 'img': 'https://arth.sas.upenn.edu/sites/default/files/styles/profile-thumb/public/headshot-web.jpg?itok=A0tmxZsJ'}\n",
      "____________________________________________\n",
      "url: https://www.ling.upenn.edu/people/faculty\n",
      "len: 34\n",
      "{'name': 'David Embick', 'title': 'Professor', 'img': '/sites/default/files/styles/profile_list/public/2020-10/UniversityofPennsylvania_Shield_RGB_0.jpg?itok=KcZZbRFT'}\n",
      "{'name': 'Harold Schiffman', 'title': 'Professor Emeritus of Dravidian Linguistics and Culture, South Asia Studies', 'img': '/sites/default/files/styles/profile_list/public/2019-11/Schiffman.jpg?itok=0ln8qUHa'}\n",
      "____________________________________________\n",
      "url: https://www.math.upenn.edu/people\n",
      "len: 36\n",
      "{'name': 'Ching-Li  Chai', 'title': 'Professor of Mathematics', 'img': 'https://www.math.upenn.edu/sites/default/files/styles/people-thumb/public/Chai.jpg?itok=zJRIpYEg'}\n",
      "{'name': 'Wolfgang  Ziller', 'title': 'Professor of Mathematics Emeritus', 'img': 'https://www.math.upenn.edu/sites/default/files/styles/people-thumb/public/Ziller.jpg?itok=w4PVsZXK'}\n",
      "____________________________________________\n",
      "url: https://music.sas.upenn.edu/people/standing-faculty\n",
      "len: 10\n",
      "{'name': 'Mary Channen Caldwell', 'title': 'Assistant Professor of Music', 'img': '/sites/default/files/styles/profile_list/public/2021-08/Mary%20Headshot%203%20EDIT.jpeg?itok=V0PvhSw_'}\n",
      "{'name': 'Jim Sykes', 'title': 'Associate Professor of Music', 'img': '/sites/default/files/styles/profile_list/public/IMG_1883.jpg.png?itok=l-M1F-W6'}\n",
      "____________________________________________\n",
      "url: https://nelc.sas.upenn.edu/people\n",
      "len: 10\n",
      "{'name': 'Paul M. Cobb', 'title': 'Edmund J. and Louise W. Kahn Term Professor of Near Eastern Languages & Civilizations', 'img': '/sites/default/files/styles/profile_list/public/2020-06/Cobb2.jpg?itok=lNKDI7n6'}\n",
      "{'name': 'Heather J. Sharkey', 'title': 'Professor of Modern Middle Eastern and North African History', 'img': '/sites/default/files/styles/profile_list/public/2021-07/CroppedHeather1.jpg?itok=nZXIMcso'}\n",
      "____________________________________________\n",
      "url: https://philosophy.sas.upenn.edu/people/standing-faculty\n",
      "len: 13\n",
      "{'name': 'Gary  Hatfield', 'title': 'Seybert Professor of Philosophy', 'img': 'https://philosophy.sas.upenn.edu/system/files/styles/profile-thumb/private/Hat%20field%20web.jpg?itok=nXzoBPqE'}\n",
      "{'name': 'Daniel  Wodak', 'title': 'Associate Professor of Philosophy', 'img': 'https://philosophy.sas.upenn.edu/sites/default/files/styles/profile-thumb/public/Wodak.jpeg?itok=PeUe3Gsw'}\n",
      "____________________________________________\n",
      "url: https://www.physics.upenn.edu/index.php/people\n",
      "len: 48\n",
      "{'name': 'Vijay Balasubramanian', 'title': 'Cathy and Marc Lasry Professor', 'img': '/sites/default/files/styles/profile_list/public/profile/2020/07/Vijay.jpg?itok=I8JPx5lx'}\n",
      "{'name': 'Bo Zhen', 'title': 'Assistant Professor', 'img': '/sites/default/files/styles/profile_list/public/profile/2020/09/Zhen-new.jpg?itok=TKhbaMv8'}\n",
      "____________________________________________\n",
      "url: https://www.polisci.upenn.edu/people\n",
      "len: 33\n",
      "{'name': 'John DiIulio', 'title': 'Frederic Fox Leadership Professor of Politics, Religion, and Civil Society', 'img': '/sites/default/files/styles/profile_list/public/DiIulio.JPG?itok=6gwt3Bfc'}\n",
      "{'name': 'Alex Weisiger', 'title': 'Associate Professor', 'img': '/sites/default/files/styles/profile_list/public/Weisiger_09.jpg?itok=x24uXsel'}\n",
      "____________________________________________\n",
      "url: https://psychology.sas.upenn.edu/people\n",
      "len: 34\n",
      "{'name': 'Michael  Arcaro', 'title': 'Assistant Professor', 'img': 'https://psychology.sas.upenn.edu/sites/default/files/styles/profile-thumb/public/Arcaro.jpg?itok=Wz5yyV-5'}\n",
      "{'name': 'Rebecca  Waller', 'title': 'Assistant Professor', 'img': 'https://psychology.sas.upenn.edu/sites/default/files/styles/profile-thumb/public/profile%20pic%20psychology%20-%20Waller.jpg?itok=8T5lFgX_'}\n",
      "____________________________________________\n",
      "url: https://rels.sas.upenn.edu/people\n",
      "len: 8\n",
      "{'name': 'Reyhan Durmaz', 'title': 'Assistant Professor of Religious Studies', 'img': '/sites/default/files/styles/profile_list/public/2.jpg?itok=kGbUbcFI'}\n",
      "{'name': 'Steven Weitzman', 'title': 'Abraham M. Ellis Professor of Hebrew and Semitic Languages and Literatures', 'img': '/sites/default/files/styles/profile_list/public/weitzman-crop.jpg?itok=u4Geamk9'}\n",
      "____________________________________________\n",
      "url: https://rees.sas.upenn.edu/people\n",
      "len: 47\n",
      "{'name': 'Maria  Alley', 'title': 'Senior Lecturer in Foreign Languages', 'img': 'https://rees.sas.upenn.edu/sites/default/files/styles/masonry_image/public/Alley.jpg?itok=iYC7Arse'}\n",
      "{'name': 'Alexandra  Zborovsky', 'title': 'Graduate Student in History', 'img': 'https://rees.sas.upenn.edu/sites/default/files/styles/masonry_image/public/51a609e9d315d.image_.png?itok=wowIeN1T'}\n",
      "____________________________________________\n",
      "url: https://sociology.sas.upenn.edu/people\n",
      "len: 23\n",
      "{'name': 'Camille Zubrinsky Charles, Ph.D.', 'title': 'Walter H. and Leonore C. Annenberg Professor in the Social Sciences', 'img': '/sites/default/files/styles/profile_list/public/Tanji%20Gilliam%20-%20IMG_6152.JPG?itok=btLE_ZEv'}\n",
      "{'name': 'Tukufu Zuberi, Ph.D.', 'title': 'Professor of Sociology', 'img': '/sites/default/files/styles/profile_list/public/Tukufu%20Zuberi-Web-2.jpg?itok=obTkQ4qc'}\n",
      "____________________________________________\n",
      "url: https://www.southasia.upenn.edu/people/standing-faculty\n",
      "len: 5\n",
      "{'name': 'Greg  Goulding', 'title': 'Assistant Professor', 'img': 'https://www.southasia.upenn.edu/sites/default/files/styles/profile-thumb/public/sas07.jpg?itok=co2Z10ut'}\n",
      "{'name': 'Davesh  Soneji', 'title': 'Associate Professor, Graduate Chair', 'img': 'https://www.southasia.upenn.edu/sites/default/files/styles/profile-thumb/public/sas02.jpg?itok=ezx0imLj'}\n",
      "____________________________________________\n",
      "url: https://spanish.sas.upenn.edu/people\n",
      "len: 7\n",
      "{'name': 'Ashley  Brock', 'title': 'Assistant Professor of Romance Languages', 'img': 'https://spanish.sas.upenn.edu/sites/default/files/styles/profile-thumb/public/Ashley%20Brock%207%20%28002%29.jpg?itok=335z_dWF'}\n",
      "{'name': 'Jorge  Téllez', 'title': 'Associate Professor of Romance Languages', 'img': 'https://spanish.sas.upenn.edu/sites/default/files/styles/profile-thumb/public/Tellez%20Jorge.jpeg?itok=WFi4v0Mx'}\n",
      "____________________________________________\n",
      "url: https://statistics.wharton.upenn.edu/faculty/faculty-list/\n",
      "len: 56\n",
      "{'name': 'Tony Cai', 'title': 'Daniel H. Silberberg Professor in Applied Mathematics and Statistics, Professor of Statistics and Data Science', 'img': 'https://faculty.wharton.upenn.edu/wp-content/uploads/2016/11/Tony_Cai_Crop7.jpg'}\n",
      "{'name': 'Larry A. Shepp', 'title': 'Professor of Statistics', 'img': 'https://faculty.wharton.upenn.edu/wp-content/uploads/2012/04/Larryshepp.JPG'}\n",
      "____________________________________________\n",
      "url: https://www.seas.upenn.edu/directory/departments.php?departments=Bioengineering%20(BE)\n",
      "len: 57\n",
      "{'name': 'Joel D. Boerckel', 'title': 'Assistant Professor', 'img': 'https://directory.seas.upenn.edu/wp-content/uploads/2020/06/directory-placeholder.jpg'}\n",
      "{'name': 'Beth A. Winkelstein', 'title': 'Professor', 'img': 'https://directory.seas.upenn.edu/wp-content/uploads/2020/03/winkelstein-beth.jpg'}\n",
      "____________________________________________\n",
      "url: https://cbe.seas.upenn.edu/faculty/\n",
      "len: 40\n",
      "{'name': 'John C. Crocker', 'title': 'Professor, Graduate Curriculum Chair', 'img': 'https://cbe.seas.upenn.edu/wp-content/uploads/2021/08/crocker-john.jpg'}\n",
      "{'name': 'Wen K. Shieh', 'title': 'Professor Emeritus', 'img': 'https://cbe.seas.upenn.edu/wp-content/uploads/2022/03/Wen-Shieh.jpg'}\n",
      "____________________________________________\n",
      "url: https://www.seas.upenn.edu/directory/departments.php?departments=Computer%20and%20Information%20Science%20(CIS)\n",
      "len: 86\n",
      "{'name': 'Rajeev Alur', 'title': 'Professor', 'img': 'https://directory.seas.upenn.edu/wp-content/uploads/2020/03/alur-rajeev.jpg'}\n",
      "{'name': 'Stephan A. Zdancewic', 'title': 'Professor', 'img': 'https://directory.seas.upenn.edu/wp-content/uploads/2020/06/directory-placeholder.jpg'}\n",
      "____________________________________________\n",
      "url: https://www.seas.upenn.edu/directory/departments.php?departments=Electrical%20and%20Systems%20Engineering%20(ESE)\n",
      "len: 49\n",
      "{'name': 'Mark G. Allen', 'title': 'Professor', 'img': 'https://directory.seas.upenn.edu/wp-content/uploads/2020/03/allen-mark.jpg'}\n",
      "{'name': 'Mark Yim', 'title': 'Professor', 'img': 'https://directory.seas.upenn.edu/wp-content/uploads/2020/03/yim-mark-e1631888206507.jpg'}\n",
      "____________________________________________\n",
      "url: https://mse.seas.upenn.edu/faculty/\n",
      "len: 30\n",
      "{'name': 'Dawn Bonnell', 'title': 'Professor, Vice Provost for Research', 'img': 'https://mse.seas.upenn.edu/wp-content/uploads/2018/10/full_Bonnell.jpg'}\n",
      "{'name': 'David Srolovitz', 'title': 'Professor', 'img': 'https://mse.seas.upenn.edu/wp-content/uploads/2018/10/a-full-srolovitz.jpg'}\n",
      "____________________________________________\n",
      "url: https://www.seas.upenn.edu/directory/departments.php?departments=Mechanical%20Engineering%20and%20Applied%20Mechanics%20(MEAM)\n",
      "len: 51\n",
      "{'name': 'Mark G. Allen', 'title': 'Professor', 'img': 'https://directory.seas.upenn.edu/wp-content/uploads/2020/03/allen-mark.jpg'}\n",
      "{'name': 'Mark Yim', 'title': 'Professor', 'img': 'https://directory.seas.upenn.edu/wp-content/uploads/2020/03/yim-mark-e1631888206507.jpg'}\n",
      "____________________________________________\n",
      "url: https://www.asc.upenn.edu/people/faculty\n",
      "len: 14\n",
      "{'name': 'Murali Balaji, Ph.D.', 'title': 'Lecturer, Annenberg Undergraduate Program', 'img': '/sites/default/files/styles/260x260/public/2020-09/Murali_Balaji_360.jpg?h=5273c5c2&itok=z3OgWGtI'}\n",
      "{'name': 'Wenhao Dai, Ph.D.', 'title': 'Postdoctoral Fellow, Social Action Lab', 'img': '/sites/default/files/styles/260x260/public/2022-06/WD.png?h=5273c5c2&itok=iQysMUFN'}\n",
      "____________________________________________\n",
      "url: https://www.gse.upenn.edu/academics/faculty-directory\n",
      "len: 278\n",
      "{'name': 'A. Brooks Bowden', 'title': 'Assistant Professor', 'img': None}\n",
      "{'name': 'Greg Urban', 'title': 'Arthur Hobson Quinn Professor of Anthropology', 'img': None}\n",
      "____________________________________________\n",
      "url: https://www.law.upenn.edu/faculty/directory.php\n",
      "len: 338\n",
      "{'name': 'David S. Abrams', 'title': 'Professor of Law, Business Economics, and Public Policy', 'img': '/live/image/gid/35/width/360/height/420/crop/1/src_region/268,89,1862,1681/698_david_abrams.rev.1626471474.jpg'}\n",
      "{'name': 'Brian Zuckerman', 'title': 'Lecturer in Law', 'img': '/live/image/gid/35/width/360/height/420/crop/1/src_region/20,0,303,283/40543_Brian_Zuckerman.rev.1621796351.jpg'}\n",
      "____________________________________________\n",
      "url: https://www.sp2.upenn.edu/sp2-directory/?_departments=standing-faculty\n",
      "len: 11\n",
      "{'name': 'Ram Cnaan, MSW, PhD', 'title': 'Ram Cnaan, MSW, PhD', 'img': 'https://www.sp2.upenn.edu/wp-content/uploads/2014/07/Ram_Cnaan_0050_f-150x150.jpg'}\n",
      "{'name': 'Amy Hillier, PhD', 'title': 'Amy Hillier, PhD', 'img': 'https://www.sp2.upenn.edu/wp-content/uploads/2014/07/Amy_Hillier_0028_f-150x150.jpg'}\n",
      "____________________________________________\n",
      "url: https://french.sas.upenn.edu/people\n",
      "len: 6\n",
      "{'name': 'Scott  Francis', 'title': 'Associate Professor of Romance Languages', 'img': 'https://french.sas.upenn.edu/sites/default/files/styles/profile-thumb/public/Scott%20Pic.jpg?itok=91rMZFic'}\n",
      "{'name': 'Jean-Michel   Rabaté', 'title': 'Professor of English and Comparative Literature', 'img': 'https://french.sas.upenn.edu/sites/default/files/styles/profile-thumb/public/jmrabate.jpg?itok=r6QhOYMP'}\n",
      "____________________________________________\n",
      "url: https://italian.sas.upenn.edu/people\n",
      "len: 6\n",
      "{'name': 'David Young Kim', 'title': 'Associate Professor of History of Art', 'img': '/sites/default/files/styles/profile_list/public/files/Kim2.jpg?itok=_5rJdaGT'}\n",
      "{'name': 'Julia Heim', 'title': 'Lecturer', 'img': '/sites/default/files/styles/profile_list/public/files/Heim.jpg?itok=t-65FSjy'}\n",
      "____________________________________________\n",
      "url: https://germanic.sas.upenn.edu/people\n",
      "len: 35\n",
      "{'name': 'André  Dombrowski', 'title': 'Frances Shapiro-Weitzenhoffer Associate Professor of 19th Century European Art, with secondary appointment in Germanic Languages and Literatures', 'img': 'https://germanic.sas.upenn.edu/system/files/styles/profile-thumb/private/andre%20dombrowski%20headshot01_1.jpg?itok=oFm8e3aH'}\n",
      "{'name': 'Frank  Trommler', 'title': 'Professor Emeritus of German', 'img': 'https://germanic.sas.upenn.edu/system/files/styles/profile-thumb/private/Trommler.jpg?itok=iY7L5d2n'}\n"
     ]
    }
   ],
   "source": [
    "completely_failed = []\n",
    "for department in upenn:\n",
    "    if department.get('success') == False:\n",
    "        completely_failed.append(department.get('faculty_page'))\n",
    "    else:\n",
    "        res = department.get('profiles')\n",
    "        print(\"____________________________________________\")\n",
    "        print(f\"url: {department.get('faculty_page')}\")\n",
    "        print(f\"len: {len(res)}\")\n",
    "        print(res[1])\n",
    "        print(res[-1])"
   ]
  },
  {
   "cell_type": "code",
   "execution_count": 5,
   "id": "10949c02",
   "metadata": {
    "scrolled": false
   },
   "outputs": [
    {
     "data": {
      "text/plain": [
       "['https://accounting.wharton.upenn.edu/faculty/faculty-list/',\n",
       " 'https://lgst.wharton.upenn.edu/faculty/faculty-list/',\n",
       " 'https://real-estate.wharton.upenn.edu/faculty/faculty-list/',\n",
       " 'https://bepp.wharton.upenn.edu/faculty/faculty-list/',\n",
       " 'https://fnce.wharton.upenn.edu/faculty/faculty-list/',\n",
       " 'https://hcmg.wharton.upenn.edu/faculty/faculty-list/',\n",
       " 'https://mgmt.wharton.upenn.edu/faculty/faculty-list/',\n",
       " 'https://marketing.wharton.upenn.edu/faculty/faculty-list/',\n",
       " 'https://oid.wharton.upenn.edu/faculty/faculty-list/',\n",
       " 'https://www.design.upenn.edu/people']"
      ]
     },
     "execution_count": 5,
     "metadata": {},
     "output_type": "execute_result"
    }
   ],
   "source": [
    "completely_failed"
   ]
  },
  {
   "cell_type": "code",
   "execution_count": 6,
   "id": "b853b48a",
   "metadata": {},
   "outputs": [],
   "source": [
    "failed_directories = []\n",
    "for department in upenn:\n",
    "    url = department.get('faculty_page')\n",
    "    if url in completely_failed:\n",
    "        failed_directories.append(department)"
   ]
  },
  {
   "cell_type": "code",
   "execution_count": 7,
   "id": "fc27e084",
   "metadata": {},
   "outputs": [],
   "source": [
    "with open(sys.path[0] + '/../data/upenn/failed_directories.json', 'w') as f:\n",
    "    json.dump(failed_directories, f)"
   ]
  },
  {
   "cell_type": "code",
   "execution_count": 8,
   "id": "be3d59b7",
   "metadata": {},
   "outputs": [
    {
     "name": "stdout",
     "output_type": "stream",
     "text": [
      "success rate for testing (50 departments)= 0.80\n"
     ]
    }
   ],
   "source": [
    "failed_rate = len(failed_directories) / len(upenn)\n",
    "print(f\"success rate for testing ({len(upenn)} departments)= {1 - failed_rate:.2f}\")"
   ]
  }
 ],
 "metadata": {
  "kernelspec": {
   "display_name": "Python 3 (ipykernel)",
   "language": "python",
   "name": "python3"
  },
  "language_info": {
   "codemirror_mode": {
    "name": "ipython",
    "version": 3
   },
   "file_extension": ".py",
   "mimetype": "text/x-python",
   "name": "python",
   "nbconvert_exporter": "python",
   "pygments_lexer": "ipython3",
   "version": "3.9.7"
  }
 },
 "nbformat": 4,
 "nbformat_minor": 5
}
