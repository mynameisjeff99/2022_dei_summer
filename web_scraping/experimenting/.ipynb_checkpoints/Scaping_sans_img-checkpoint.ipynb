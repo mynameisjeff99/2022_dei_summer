{
 "cells": [
  {
   "cell_type": "markdown",
   "id": "9a563722",
   "metadata": {},
   "source": [
    "https://towardsdatascience.com/superior-person-name-recognition-with-pre-built-google-bert-e6215186eae0"
   ]
  },
  {
   "cell_type": "code",
   "execution_count": 41,
   "id": "d6c826b3",
   "metadata": {},
   "outputs": [],
   "source": [
    "import requests \n",
    "from bs4 import BeautifulSoup \n",
    "import re\n",
    "import spacy"
   ]
  },
  {
   "cell_type": "code",
   "execution_count": 42,
   "id": "3334bee5",
   "metadata": {},
   "outputs": [],
   "source": [
    "nlp = spacy.load(\"en_core_web_sm\")"
   ]
  },
  {
   "cell_type": "code",
   "execution_count": 87,
   "id": "d0a25e0c",
   "metadata": {},
   "outputs": [],
   "source": [
    "names_string = \"Professor Director Hi there Jon Jones Jon Jones Jr. Jon Paul Jones John D. Jones\"\n",
    "doc = nlp(names_string)\n",
    "\n",
    "for ent in doc.ents:\n",
    "    print(ent.text, ent.start_char, ent.end_char, ent.label_)"
   ]
  },
  {
   "cell_type": "code",
   "execution_count": null,
   "id": "76461f4a",
   "metadata": {},
   "outputs": [],
   "source": []
  },
  {
   "cell_type": "code",
   "execution_count": 43,
   "id": "50b162ac",
   "metadata": {},
   "outputs": [],
   "source": [
    "def get_soup(URL):\n",
    "    r = requests.get(URL) \n",
    "    soup = BeautifulSoup(r.content, 'html5lib')\n",
    "    return soup.body"
   ]
  },
  {
   "cell_type": "code",
   "execution_count": 81,
   "id": "0c520d04",
   "metadata": {},
   "outputs": [],
   "source": [
    "def is_name(string):\n",
    "    doc = nlp(string)\n",
    "    for ent in doc.ents:\n",
    "        if ent.label_ == \"PERSON\" and ent.end_char - ent.start_char + 5 > len(string):\n",
    "            return True\n",
    "    return False"
   ]
  },
  {
   "cell_type": "code",
   "execution_count": 77,
   "id": "1fcc7367",
   "metadata": {},
   "outputs": [],
   "source": [
    "soup = get_soup(\"https://arthistory.barnard.edu/full-time-faculty\")"
   ]
  },
  {
   "cell_type": "code",
   "execution_count": 78,
   "id": "ecba17dc",
   "metadata": {},
   "outputs": [],
   "source": [
    "strings = soup.stripped_strings"
   ]
  },
  {
   "cell_type": "code",
   "execution_count": 79,
   "id": "550f374a",
   "metadata": {},
   "outputs": [
    {
     "name": "stdout",
     "output_type": "stream",
     "text": [
      "Alexander Alberro\n",
      "Rosalyn Deutsche\n",
      "Anne Higonnet.\n",
      "Elizabeth W. Hutchinson\n",
      "John Miller\n",
      "Jonathan Reynolds\n",
      "Anooradha Iyer Siddiqi\n",
      "Joan Snitzer\n"
     ]
    }
   ],
   "source": [
    "for s in strings:\n",
    "    if is_name(s):\n",
    "        print(s)"
   ]
  }
 ],
 "metadata": {
  "kernelspec": {
   "display_name": "Python 3 (ipykernel)",
   "language": "python",
   "name": "python3"
  },
  "language_info": {
   "codemirror_mode": {
    "name": "ipython",
    "version": 3
   },
   "file_extension": ".py",
   "mimetype": "text/x-python",
   "name": "python",
   "nbconvert_exporter": "python",
   "pygments_lexer": "ipython3",
   "version": "3.9.7"
  }
 },
 "nbformat": 4,
 "nbformat_minor": 5
}
