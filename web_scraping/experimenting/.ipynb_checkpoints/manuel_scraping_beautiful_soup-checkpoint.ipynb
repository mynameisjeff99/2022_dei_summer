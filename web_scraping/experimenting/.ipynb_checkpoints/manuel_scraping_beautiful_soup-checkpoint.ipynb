{
 "cells": [
  {
   "cell_type": "code",
   "execution_count": 3,
   "id": "4c0a19f8",
   "metadata": {},
   "outputs": [],
   "source": [
    "import requests \n",
    "from bs4 import BeautifulSoup \n",
    "import re"
   ]
  },
  {
   "cell_type": "markdown",
   "id": "d9d4fc73",
   "metadata": {},
   "source": [
    "## Columbia Stats"
   ]
  },
  {
   "cell_type": "code",
   "execution_count": 217,
   "id": "cedd1333",
   "metadata": {},
   "outputs": [],
   "source": [
    "URL = \"https://stat.columbia.edu/department-directory/faculty-and-lecturers/\"\n",
    "\n",
    "r = requests.get(URL) \n",
    "\n",
    "c_soup = BeautifulSoup(r.content, 'html5lib') "
   ]
  },
  {
   "cell_type": "code",
   "execution_count": 218,
   "id": "b870b31d",
   "metadata": {},
   "outputs": [],
   "source": [
    "c_profs = c_soup.findAll(attrs = {'class':'container-fluid cn-container'}) "
   ]
  },
  {
   "cell_type": "code",
   "execution_count": 219,
   "id": "40694709",
   "metadata": {},
   "outputs": [],
   "source": [
    "columbia_stats = []\n",
    "for prof in c_profs:\n",
    "    # name\n",
    "    name = prof.find(attrs = {'class':'cn-entry-name'}).text\n",
    "\n",
    "    # title\n",
    "    title = prof.findAll(attrs = {'class': 'col-md-3'})[1].text.strip('\\n').strip()\n",
    "\n",
    "    # img\n",
    "    try:\n",
    "        img = prof.find('img')\n",
    "        img = img['src']\n",
    "    except:\n",
    "        img = None\n",
    "\n",
    "    item = {'name':name, 'title':title, 'img':img}\n",
    "    columbia_stats.append(item)"
   ]
  },
  {
   "cell_type": "markdown",
   "id": "54fbf264",
   "metadata": {},
   "source": [
    "## UPenn Stats"
   ]
  },
  {
   "cell_type": "code",
   "execution_count": 221,
   "id": "39fbfea9",
   "metadata": {},
   "outputs": [],
   "source": [
    "URL = \"https://statistics.wharton.upenn.edu/faculty/faculty-list/\"\n",
    "\n",
    "r = requests.get(URL) \n",
    "\n",
    "p_soup = BeautifulSoup(r.content, 'html5lib') "
   ]
  },
  {
   "cell_type": "code",
   "execution_count": 222,
   "id": "99dfbafd",
   "metadata": {},
   "outputs": [],
   "source": [
    "p_profs = p_soup.findAll(attrs = {'class':'wdp_listing-row vc_row vc_row-fluid'}) "
   ]
  },
  {
   "cell_type": "code",
   "execution_count": 223,
   "id": "950ce89a",
   "metadata": {},
   "outputs": [],
   "source": [
    "upenn_stats = []\n",
    "for prof in p_profs:\n",
    "    # name\n",
    "    name = prof.find(attrs = {'class':'wdp_listing-name'}).text\n",
    "\n",
    "    # title\n",
    "    s = str(prof)\n",
    "    m = re.search(\"[a-zA-Z0-9 ]*(Professor|Lecturer)[a-zA-Z0-9_ ]*\", s)\n",
    "    if m:\n",
    "        title = m.group(0)\n",
    "    else:\n",
    "        title = None\n",
    "\n",
    "\n",
    "    # img\n",
    "    try:\n",
    "        img = prof.find('img')\n",
    "        img = img['src']\n",
    "    except:\n",
    "        img = None\n",
    "\n",
    "    item = {'name':name, 'title':title, 'img':img}\n",
    "    upenn_stats.append(item)"
   ]
  },
  {
   "cell_type": "code",
   "execution_count": 224,
   "id": "0cc53dd7",
   "metadata": {},
   "outputs": [
    {
     "data": {
      "text/plain": [
       "[{'name': 'David Blei',\n",
       "  'title': 'Professor',\n",
       "  'img': 'https://stat.columbia.edu/wp-content/uploads/connections-images/david-blei/Blei-David-1.jpg'},\n",
       " {'name': 'John P. Cunningham',\n",
       "  'title': 'Professor',\n",
       "  'img': 'https://stat.columbia.edu/wp-content/uploads/connections-images/john-cunningham/cunningham_original.jpg'},\n",
       " {'name': 'Richard A. Davis',\n",
       "  'title': 'Howard Levene Professor',\n",
       "  'img': 'https://stat.columbia.edu/wp-content/uploads/connections-images/richard-davis/Davis-Richard.jpg'}]"
      ]
     },
     "execution_count": 224,
     "metadata": {},
     "output_type": "execute_result"
    }
   ],
   "source": [
    "columbia_stats[:3]"
   ]
  },
  {
   "cell_type": "code",
   "execution_count": 225,
   "id": "613ddbfb",
   "metadata": {
    "scrolled": true
   },
   "outputs": [
    {
     "data": {
      "text/plain": [
       "[{'name': 'Bhaswar B. Bhattacharya',\n",
       "  'title': 'Assistant Professor of Statistics and Data Science',\n",
       "  'img': 'https://faculty.wharton.upenn.edu/wp-content/uploads/2016/09/Bhaswar_Homepage_Cropped.jpg'},\n",
       " {'name': 'Tony Cai',\n",
       "  'title': ' Silberberg Professor in Applied Mathematics and Statistics',\n",
       "  'img': 'https://faculty.wharton.upenn.edu/wp-content/uploads/2016/11/Tony_Cai_Crop7.jpg'},\n",
       " {'name': 'Yuxin Chen',\n",
       "  'title': 'Associate Professor of Statistics and Data Science',\n",
       "  'img': 'https://faculty.wharton.upenn.edu/wp-content/uploads/2016/11/Yuxin_Chen.jpeg'}]"
      ]
     },
     "execution_count": 225,
     "metadata": {},
     "output_type": "execute_result"
    }
   ],
   "source": [
    "upenn_stats[:3]"
   ]
  }
 ],
 "metadata": {
  "kernelspec": {
   "display_name": "Python 3 (ipykernel)",
   "language": "python",
   "name": "python3"
  },
  "language_info": {
   "codemirror_mode": {
    "name": "ipython",
    "version": 3
   },
   "file_extension": ".py",
   "mimetype": "text/x-python",
   "name": "python",
   "nbconvert_exporter": "python",
   "pygments_lexer": "ipython3",
   "version": "3.9.7"
  }
 },
 "nbformat": 4,
 "nbformat_minor": 5
}
