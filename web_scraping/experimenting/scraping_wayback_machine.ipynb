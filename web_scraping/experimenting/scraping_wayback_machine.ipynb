{
 "cells": [
  {
   "cell_type": "code",
   "execution_count": 1,
   "id": "33f8843d",
   "metadata": {},
   "outputs": [],
   "source": [
    "import os\n",
    "import sys\n",
    "module_path = os.path.abspath(os.path.join('..'))\n",
    "if module_path not in sys.path:\n",
    "    sys.path.append(module_path)"
   ]
  },
  {
   "cell_type": "code",
   "execution_count": 2,
   "id": "93d37d5d",
   "metadata": {},
   "outputs": [],
   "source": [
    "from scraping import Scraping"
   ]
  },
  {
   "cell_type": "code",
   "execution_count": 3,
   "id": "fd765c1f",
   "metadata": {},
   "outputs": [
    {
     "name": "stdout",
     "output_type": "stream",
     "text": [
      "\n"
     ]
    },
    {
     "name": "stderr",
     "output_type": "stream",
     "text": [
      "[WDM] - ====== WebDriver manager ======\n",
      "[WDM] - Current google-chrome version is 100.0.4896\n",
      "[WDM] - Get LATEST chromedriver version for 100.0.4896 google-chrome\n",
      "[WDM] - About to download new driver from https://chromedriver.storage.googleapis.com/100.0.4896.60/chromedriver_win32.zip\n",
      "[WDM] - Driver has been saved in cache [C:\\Users\\GuoshengCai\\.wdm\\drivers\\chromedriver\\win32\\100.0.4896.60]\n"
     ]
    }
   ],
   "source": [
    "scraping = Scraping()"
   ]
  },
  {
   "cell_type": "code",
   "execution_count": 4,
   "id": "772ed187",
   "metadata": {},
   "outputs": [],
   "source": [
    "test = scraping.get_department_info(\"https://web.archive.org/web/20160302181312/https://stat.columbia.edu/department-directory/faculty-and-lecturers/\")"
   ]
  },
  {
   "cell_type": "code",
   "execution_count": 6,
   "id": "12a0f998",
   "metadata": {},
   "outputs": [
    {
     "name": "stdout",
     "output_type": "stream",
     "text": [
      "55\n"
     ]
    },
    {
     "data": {
      "text/plain": [
       "[{'name': 'Jose Blanchet',\n",
       "  'title': 'Associate Professor',\n",
       "  'img': 'http://stat.columbia.edu/wp-content/uploads/connections-images/jose-blanchet/blanchet_original.jpg'},\n",
       " {'name': 'David Blei',\n",
       "  'title': 'Professor',\n",
       "  'img': 'http://stat.columbia.edu/wp-content/uploads/connections-images/david-blei/david_blei.jpg'},\n",
       " {'name': 'Mark Brown',\n",
       "  'title': 'Professor',\n",
       "  'img': 'http://stat.columbia.edu/wp-content/uploads/connections-images/mark-brown/brown_original.jpg'},\n",
       " {'name': 'Richard A. Davis',\n",
       "  'title': 'Howard Levene Professor and Chair',\n",
       "  'img': 'http://stat.columbia.edu/wp-content/uploads/connections-images/richard-davis/Davis_RichardA_original.jpg'},\n",
       " {'name': 'Andrew Gelman',\n",
       "  'title': 'Professor',\n",
       "  'img': 'http://stat.columbia.edu/wp-content/uploads/connections-images/andrew-gelman/gelman_original.jpg'}]"
      ]
     },
     "execution_count": 6,
     "metadata": {},
     "output_type": "execute_result"
    }
   ],
   "source": [
    "print(len(test))\n",
    "test[:5]"
   ]
  }
 ],
 "metadata": {
  "kernelspec": {
   "display_name": "Python 3 (ipykernel)",
   "language": "python",
   "name": "python3"
  },
  "language_info": {
   "codemirror_mode": {
    "name": "ipython",
    "version": 3
   },
   "file_extension": ".py",
   "mimetype": "text/x-python",
   "name": "python",
   "nbconvert_exporter": "python",
   "pygments_lexer": "ipython3",
   "version": "3.9.7"
  }
 },
 "nbformat": 4,
 "nbformat_minor": 5
}
