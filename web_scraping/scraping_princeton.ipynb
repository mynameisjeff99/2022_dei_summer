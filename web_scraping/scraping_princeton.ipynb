{
 "cells": [
  {
   "cell_type": "code",
   "execution_count": 1,
   "id": "862d52f2",
   "metadata": {},
   "outputs": [],
   "source": [
    "from scraping import Scraping\n",
    "import sys\n",
    "import json"
   ]
  },
  {
   "cell_type": "markdown",
   "id": "179ba680",
   "metadata": {},
   "source": [
    "# Scraping"
   ]
  },
  {
   "cell_type": "code",
   "execution_count": 2,
   "id": "e8b2c727",
   "metadata": {},
   "outputs": [
    {
     "name": "stdout",
     "output_type": "stream",
     "text": [
      "\n"
     ]
    },
    {
     "name": "stderr",
     "output_type": "stream",
     "text": [
      "[WDM] - ====== WebDriver manager ======\n",
      "[WDM] - Current google-chrome version is 100.0.4896\n",
      "[WDM] - Get LATEST chromedriver version for 100.0.4896 google-chrome\n",
      "[WDM] - Driver [C:\\Users\\GuoshengCai\\.wdm\\drivers\\chromedriver\\win32\\100.0.4896.60\\chromedriver.exe] found in cache\n"
     ]
    }
   ],
   "source": [
    "scraping = Scraping()"
   ]
  },
  {
   "cell_type": "code",
   "execution_count": 3,
   "id": "3dda1a15",
   "metadata": {},
   "outputs": [],
   "source": [
    "with open(sys.path[0] + '/../data/princeton/princeton_directories_sans_med.json') as f:\n",
    "    princeton = json.load(f)"
   ]
  },
  {
   "cell_type": "code",
   "execution_count": 5,
   "id": "2216bea5",
   "metadata": {},
   "outputs": [],
   "source": [
    "for department in princeton:\n",
    "    url = department.get('faculty_page')\n",
    "    try:\n",
    "        res = scraping.get_department_info(url)\n",
    "        department.update({'success': True, 'profiles': res})\n",
    "    except:\n",
    "        department.update({'success': False})"
   ]
  },
  {
   "cell_type": "code",
   "execution_count": 7,
   "id": "dd00a83d",
   "metadata": {},
   "outputs": [],
   "source": [
    "with open(sys.path[0] + '/../data/princeton/princeton_w_profiles.json', 'w') as f:\n",
    "    json.dump(princeton, f)"
   ]
  },
  {
   "cell_type": "markdown",
   "id": "5bb7b545",
   "metadata": {},
   "source": [
    "# Result"
   ]
  },
  {
   "cell_type": "code",
   "execution_count": 8,
   "id": "c2dee163",
   "metadata": {},
   "outputs": [
    {
     "name": "stdout",
     "output_type": "stream",
     "text": [
      "____________________________________________\n",
      "url: https://aas.princeton.edu/faculty\n",
      "len: 13\n",
      "{'name': 'Wendy L. Belcher', 'title': 'Professor', 'img': '/sites/g/files/toruqf396/files/styles/3x4_750w_1000h/public/2021-10/2021-Wendy-Belcher-crop2.jpg?itok=kot1zkT5'}\n",
      "{'name': 'Autumn M. Womack', 'title': 'Assistant Professor', 'img': '/sites/g/files/toruqf396/files/styles/3x4_750w_1000h/public/people/autumn-w_1.jpg?itok=RK6-J5AR'}\n",
      "____________________________________________\n",
      "url: https://anthropology.princeton.edu/people/faculty\n",
      "len: 18\n",
      "{'name': 'John Borneman', 'title': 'Professor;', 'img': '/sites/g/files/toruqf1401/files/styles/3x4_750w_1000h/public/people/john_borneman_favorite_webpage_size.jpg?itok=SAK4mlxd'}\n",
      "{'name': 'Aniruddhan  Vasudevan', 'title': 'Lecturer in the Council of the Humanities and the Department of Anthropology', 'img': '/sites/g/files/toruqf1401/files/styles/3x4_750w_1000h/public/people/aniruddhan_vasudevan.jpg?itok=qfTKtAGZ'}\n",
      "____________________________________________\n",
      "url: https://artandarchaeology.princeton.edu/people/faculty\n",
      "len: 20\n",
      "{'name': 'Anna Arabindan-Kesson', 'title': 'Assistant Professor of Art and Archaeology and African American Studies', 'img': 'https://artandarchaeology.princeton.edu/sites/artandarchaeology/files/styles/pwds_people_grid/public/people/22kessonp.jpg?itok=0RKqnn5C'}\n",
      "{'name': 'Carolyn Yerkes', 'title': 'Associate Professor of Art and Archaeology', 'img': 'https://artandarchaeology.princeton.edu/sites/artandarchaeology/files/styles/pwds_people_grid/public/people/yerkes.jpg?itok=kUCCd-6r'}\n",
      "____________________________________________\n",
      "url: https://web.astro.princeton.edu/people\n",
      "len: 8\n",
      "{'name': 'Mami Akiyama', 'title': 'Executive Assistant', 'img': '/sites/g/files/toruqf1486/files/styles/3x4_750w_1000h/public/people/akiyama_-_staff_-_mami_akiyama.jpg?h=1f12713e&itok=Qgi1XH1L'}\n",
      "{'name': 'Christopher Bambic', 'title': 'Graduate Student 2024', 'img': '/sites/g/files/toruqf1486/files/styles/3x4_750w_1000h/public/christopher_bambic_-_2019-09-10_-_lb9x4044.jpg?itok=yazw83qG'}\n",
      "____________________________________________\n",
      "url: https://chemistry.princeton.edu/faculty\n",
      "len: 50\n",
      "{'name': 'Andrew B.', 'title': 'Associated Faculty', 'img': 'https://chemistry.princeton.edu/sites/default/files/styles/bio_teaser/public/2014-10-15%20Andy%20Bocarsly.jpg?itok=5NMB3Jpy&c=789a52d30fbb9bd044a057da6b143ad8'}\n",
      "{'name': 'Andrew B.', 'title': 'Associated Faculty', 'img': 'https://chemistry.princeton.edu/sites/default/files/styles/bio_teaser/public/2014-10-15%20Andy%20Bocarsly.jpg?itok=5NMB3Jpy&c=789a52d30fbb9bd044a057da6b143ad8'}\n",
      "____________________________________________\n",
      "url: https://classics.princeton.edu/people/faculty/core\n",
      "len: 18\n",
      "{'name': 'Joshua Billings', 'title': 'Director of Undergraduate Studies, Department of Classics;\\xa0Professor of Classics', 'img': '/sites/g/files/toruqf236/files/styles/3x2_750w_500h/public/people-images/OED%2019.jpg?itok=6BY0sAgO'}\n",
      "{'name': 'Katerina Stergiopoulou', 'title': \"Assistant Professor of Classics and the Stanley J. Seeger '52 Center for Hellenic Studies\", 'img': '/sites/g/files/toruqf236/files/styles/3x2_750w_500h/public/people-images/Katerina%20Stergiopoulou.jpg?itok=gX84-S-D'}\n",
      "____________________________________________\n",
      "url: https://complit.princeton.edu/people/faculty\n",
      "len: 13\n",
      "{'name': 'Leonard Barkan', 'title': 'Daniel Heller-Roazen is the Arthur W. Marks\\xa0’19 Professor of Comparative Literature and the Council of the Humanities.\\xa0He is\\xa0the author of', 'img': '/sites/g/files/toruqf1391/files/styles/3x4_750w_1000h/public/people/2021-wendy-belcher-serious-crop.jpg?itok=XwkVT_DU'}\n",
      "{'name': 'Leonard Barkan', 'title': 'Daniel Heller-Roazen is the Arthur W. Marks\\xa0’19 Professor of Comparative Literature and the Council of the Humanities.\\xa0He is\\xa0the author of', 'img': '/sites/g/files/toruqf1391/files/styles/3x4_750w_1000h/public/people/2021-wendy-belcher-serious-crop.jpg?itok=XwkVT_DU'}\n",
      "____________________________________________\n",
      "url: https://www.cs.princeton.edu/people/faculty\n",
      "len: 55\n",
      "{'name': 'David August', 'title': 'Professor', 'img': '/sites/all/modules/custom/cs_people/generate_thumbnail.php?id=5&thumb='}\n",
      "{'name': 'Huacheng Yu', 'title': 'Assistant Professor', 'img': '/sites/all/modules/custom/cs_people/generate_thumbnail.php?id=5209&thumb='}\n",
      "____________________________________________\n",
      "url: https://eas.princeton.edu/people\n",
      "len: 55\n",
      "{'name': 'Amy Borovoy', 'title': 'Professor of East Asian Studies', 'img': '/sites/g/files/toruqf1706/files/styles/1x1_750w_750h/public/people/amy-borovoy_0.jpg?h=8bfdd096&itok=MdxprZ-L'}\n",
      "{'name': 'Xin Zou', 'title': 'Lecturer in East Asian Studies', 'img': '/sites/g/files/toruqf1706/files/styles/1x1_750w_750h/public/people/xin-zou_1.jpg?h=dea10efe&itok=QJc0DTuA'}\n",
      "____________________________________________\n",
      "url: https://eeb.princeton.edu/people/faculty\n",
      "len: 22\n",
      "{'name': 'Julien Ayroles', 'title': 'Assistant Professor, EEB and LSI', 'img': 'https://eeb.princeton.edu/sites/eeb/files/styles/pwds_people_grid/public/people/julienayroles_2003.jpg?itok=gKF8OBgB'}\n",
      "{'name': 'Henry Horn', 'title': 'Professor Emeritus, EEB', 'img': 'https://eeb.princeton.edu/sites/eeb/files/styles/pwds_people_grid/public/people/henryhorn_0004_final.jpg?itok=zCZCv_Vh'}\n",
      "____________________________________________\n",
      "url: https://economics.princeton.edu/people/\n",
      "len: 76\n",
      "{'name': 'Yacine Ait-Sahalia', 'title': \"Otto A. Hack '03 Professor of Finance\", 'img': 'https://economics.princeton.edu/wp-content/uploads/2020/09/Yacine_Ait-Sahalia_01-scaled-e1604637636196-1800x1146.jpg'}\n",
      "{'name': 'Robert D. Willig', 'title': 'Professor of Economics and Public Affairs, Emeritus', 'img': 'https://economics.princeton.edu/wp-content/uploads/2020/10/facultyWilligRobert-e1604639408240.jpg'}\n",
      "____________________________________________\n",
      "url: https://english.princeton.edu/people/faculty\n",
      "len: 13\n",
      "{'name': 'Sarah Chihaya', 'title': 'Assistant Professor', 'img': 'https://english.princeton.edu/sites/english/files/styles/faculty-photo/public/chihaya_photo.jpg?itok=D8GMptrm'}\n",
      "{'name': 'Autumn Womack', 'title': 'Assistant Professor, Department of English and African American Studies', 'img': 'https://english.princeton.edu/sites/english/files/styles/faculty-photo/public/Autumn%20Womack.jpg?itok=QbJxVuxe'}\n",
      "____________________________________________\n",
      "url: https://fit.princeton.edu/people/faculty\n",
      "len: 16\n",
      "{'name': 'André Benhaïm', 'title': 'Professor', 'img': 'https://fit.princeton.edu/sites/fit2020/files/styles/pwds_people_grid/public/people/andrebenhaimfit-1000.jpg?itok=ayQIwRPt&c=999db02f71e2ba3a45abe9153025833c'}\n",
      "{'name': 'Christy Wampole', 'title': 'Associate Professor', 'img': 'https://fit.princeton.edu/sites/fit2020/files/styles/pwds_people_grid/public/christywampole18_0004-edit.jpg?itok=bYxiAce1&c=643b9a35b56b732d4222460460dcbe99'}\n",
      "____________________________________________\n",
      "url: https://geosciences.princeton.edu/people/faculty\n",
      "len: 19\n",
      "{'name': 'Curtis A. Deutsch', 'title': 'Professor of Geosciences and the High Meadows Environmental Institute', 'img': '/sites/g/files/toruqf2391/files/styles/3x4_750w_1000h/public/people/curtis_deutsch.jpg?itok=l0ppvhVa'}\n",
      "{'name': 'Xinning Zhang', 'title': 'Assistant Professor of Geosciences and the High Meadows Environmental Institute', 'img': '/sites/g/files/toruqf2391/files/styles/3x4_750w_1000h/public/people/2018_xinning-zhang.png?itok=ZRgbIJU5'}\n",
      "____________________________________________\n",
      "url: https://german.princeton.edu/department/people/faculty\n",
      "len: 23\n",
      "{'name': 'Devin Fore', 'title': 'Professor - Department Chair', 'img': '/sites/default/files/styles/image_4_3/public/2021-08/Devin-Cropped2021.jpg?itok=PkuYUoBv'}\n",
      "{'name': 'Sigrid Weigel', 'title': 'Visiting Professor, Emerita', 'img': '/sites/default/files/styles/image_4_3/public/2019-07/Weigel_visiting_crop4x_0.jpg?itok=qmk5FtAH'}\n",
      "____________________________________________\n",
      "url: https://history.princeton.edu/people/faculty\n",
      "len: 55\n",
      "{'name': 'Edward Baring', 'title': 'Associate Professor of History and Human Values', 'img': 'https://history.princeton.edu/sites/history/files/styles/people_thumbnail/public/ebaring2021-sm.jpg?itok=Nw5EDJTd'}\n",
      "{'name': 'Julian E. Zelizer', 'title': 'Malcolm Stevenson Forbes, Class of 1941 Professor of History and Public Affairs, Princeton School of Public & International Affairs', 'img': 'https://history.princeton.edu/sites/history/files/styles/people_thumbnail/public/zelizer%202021%20492x651.jpg?itok=gzXbVM6i'}\n",
      "____________________________________________\n",
      "url: https://www.math.princeton.edu/people\n",
      "len: 79\n",
      "{'name': 'Noga Alon', 'title': 'Professor', 'img': '/sites/default/files/styles/portrait/public/2018-01/Alon%2C%20Noga%202017-cropped.jpg?itok=zsrw9DFl'}\n",
      "{'name': 'Jonathan Zhu', 'title': 'Postdoctoral Research Fellow', 'img': '/sites/default/files/styles/portrait/public/2018-10/Zhu-Jonathan.jpg?itok=ewXvo3bk'}\n",
      "____________________________________________\n",
      "url: https://molbio.princeton.edu/faculty\n",
      "len: 71\n",
      "{'name': 'Britt Adamson', 'title': 'Associated Faculty', 'img': 'https://molbio.princeton.edu/sites/molbio/files/styles/molbio_event_speaker/public/people/britt_adamson.jpg?itok=vvhg9Dlv'}\n",
      "{'name': 'Britt Adamson', 'title': 'Associated Faculty', 'img': 'https://molbio.princeton.edu/sites/molbio/files/styles/molbio_event_speaker/public/people/britt_adamson.jpg?itok=vvhg9Dlv'}\n",
      "____________________________________________\n",
      "url: https://music.princeton.edu/people-directory\n",
      "len: 19\n",
      "{'name': 'Lou Chen', 'title': 'Program Manager for Trenton Arts at Princeton; Director of the Trenton Youth Orchestra', 'img': 'https://music.princeton.edu/sites/default/files/styles/people_list_page/public/people/lou_chen_2.jpg?itok=pmCCpw_2'}\n",
      "{'name': 'Bora Yoon', 'title': 'Graduate Student: Composition', 'img': 'https://music.princeton.edu/sites/default/files/styles/people_list_page/public/people/headshot_ted_borayoon_0.jpg?itok=o5EWeirr'}\n",
      "____________________________________________\n",
      "url: https://nes.princeton.edu/people\n",
      "len: 15\n",
      "{'name': 'Ladan Ahmadian Heravi', 'title': '1st-year Ph.D. student', 'img': None}\n",
      "{'name': 'Mark Cohen', 'title': 'Khedouri A. Zilkha Professor of Jewish Civilization in the Near East, Emeritus', 'img': None}\n",
      "____________________________________________\n",
      "url: http://pni.princeton.edu/people/faculty-directory-tabular\n",
      "len: 33\n",
      "{'name': 'William Bialek', 'title': 'John Archibald Wheeler/Battelle Professor in Physics and the Lewis-Sigler Institute for Integrative Genomics. Director, Program in Biophysics.', 'img': 'http://pni.princeton.edu/sites/default/files/styles/medium/public/images/faculty-details/William_Bialek.jpg?itok=rZKgqwG0'}\n",
      "{'name': 'Ilana Witten', 'title': 'Professor of Psychology and Neuroscience.', 'img': 'http://pni.princeton.edu/sites/default/files/styles/medium/public/images/faculty-details/ilana-witten.png?itok=EYEvS07g'}\n",
      "____________________________________________\n",
      "url: https://philosophy.princeton.edu/people\n",
      "len: 23\n",
      "{'name': 'David Builes', 'title': 'Assistant Professor (LOA AY 2022-2023)', 'img': '/sites/g/files/toruqf2381/files/styles/3x4_750w_1000h/public/people/david_builes_hs.jpg?itok=w6CJ-0e5'}\n",
      "{'name': 'Una Stojnić', 'title': 'Assistant Professor', 'img': '/sites/g/files/toruqf2381/files/styles/3x4_750w_1000h/public/news/ustojnic_10.jpg?itok=D0UaMMB5'}\n",
      "____________________________________________\n",
      "url: https://phy.princeton.edu/people/faculty\n",
      "len: 71\n",
      "{'name': 'Michael Aizenman', 'title': 'Professor of Physics & Mathematics', 'img': 'https://phy.princeton.edu/sites/phy2020/files/styles/pwds_people_grid/public/people/aizenman_michael.jpg?itok=qIEEhBiO'}\n",
      "{'name': 'Ali Yazdani', 'title': 'Professor of Physics', 'img': 'https://phy.princeton.edu/sites/phy2020/files/styles/pwds_people_grid/public/people/2019_yazdania_dja_058_jacket_cropped_2.jpg?itok=o8-6DM9M'}\n",
      "____________________________________________\n",
      "url: https://politics.princeton.edu/people\n",
      "len: 18\n",
      "{'name': 'Mohamed Abufalgha', 'title': 'Senior Research Specialist, Arab Barometer', 'img': '/sites/default/files/styles/square/public/images/Abufalgha.jpg?h=8ac8e4d9&itok=M32H7hBy'}\n",
      "{'name': 'Tiffany Barron', 'title': 'Graduate Student', 'img': '/sites/default/files/styles/square/public/images/p_0.jpeg?h=28e92441&itok=MGcBlaj8'}\n",
      "____________________________________________\n",
      "url: https://spia.princeton.edu/research-faculty-centers/faculty-directory\n",
      "len: 9\n",
      "{'name': 'Bryant  Adibe', 'title': 'Visiting Fellow/Sugarman Practitioner in Residence', 'img': None}\n",
      "{'name': 'Felicia  Arriaga', 'title': 'Visiting Research Scholar', 'img': None}\n",
      "____________________________________________\n",
      "url: https://religion.princeton.edu/category/people/\n",
      "len: 32\n",
      "{'name': 'Wallace Best', 'title': 'Hughes-Rogers Professor of Religion and African American Studies', 'img': 'https://religion.princeton.edu/wp-content/uploads/Wallace-Best-351x221.jpg'}\n",
      "{'name': 'Muhammad Qasim Zaman', 'title': \"Robert H. Niehaus '77 Professor of Near Eastern Studies and Religion\", 'img': 'https://religion.princeton.edu/wp-content/uploads/Qasim-Zaman-351x221.jpg'}\n",
      "____________________________________________\n",
      "url: https://slavic.princeton.edu/people/faculty\n",
      "len: 15\n",
      "{'name': 'Ana Berdinskikh', 'title': 'Lecturer', 'img': '/sites/g/files/toruqf2211/files/styles/3x4_750w_1000h/public/people/photo.jpg?itok=_pqZVkEA'}\n",
      "{'name': 'Michael  Wachtel', 'title': 'Professor', 'img': '/sites/g/files/toruqf2211/files/styles/3x4_750w_1000h/public/people/wachtel_-_faculty_-_michael_wachtel.jpg?itok=vErqze07'}\n",
      "____________________________________________\n",
      "url: https://sociology.princeton.edu/people/faculty\n",
      "len: 28\n",
      "{'name': 'Miguel Centeno', 'title': 'Musgrave Professor of Sociology', 'img': '/sites/g/files/toruqf1236/files/styles/3x4_750w_1000h/public/people/cenmiga_4.jpg?itok=t7AwcDgK'}\n",
      "{'name': 'Viviana A. Zelizer', 'title': 'Lloyd Cotsen ‘50 Professor of Sociology', 'img': '/sites/g/files/toruqf1236/files/styles/3x4_750w_1000h/public/people/zelizer_0.jpg?itok=efkjezzv'}\n",
      "____________________________________________\n",
      "url: https://spo.princeton.edu/people-0\n",
      "len: 12\n",
      "{'name': 'Alberto Bruzos Moro', 'title': 'Director of Spanish Language Program', 'img': 'https://spo.princeton.edu/sites/spo/files/styles/pwds_people_grid/public/people/albertobruzos_web.jpg?itok=AHTflBVM'}\n",
      "{'name': 'Rachel Price', 'title': 'Associate Professor', 'img': 'https://spo.princeton.edu/sites/spo/files/styles/pwds_people_grid/public/people/rachelprice.jpg?itok=IcVadAI8'}\n",
      "____________________________________________\n",
      "url: https://cbe.princeton.edu/people/faculty\n",
      "len: 39\n",
      "{'name': 'Clifford P. Brangwynne', 'title': 'Director, Princeton Bioengineering Initiative', 'img': '/sites/g/files/toruqf1386/files/styles/3x4_750w_1000h/public/brangwynne.jpg?itok=QdZkI6-T'}\n",
      "{'name': 'James Wei', 'title': 'Pomeroy and Betty Perry Smith Professor of Chemical Engineering, Emeritus', 'img': '/sites/g/files/toruqf1386/files/styles/3x4_750w_1000h/public/people//wei.jpg?itok=TXgD8DtH'}\n",
      "____________________________________________\n",
      "url: https://cee.princeton.edu/faculty\n",
      "len: 28\n",
      "{'name': 'Elie Bou-Zeid', 'title': 'Professor of Civil and Environmental Engineering', 'img': '/sites/g/files/toruqf2216/files/styles/3x4_750w_1000h/public/people/elie_bouzeid.jpg?itok=4QrD8J8X'}\n",
      "{'name': 'Gerard Wysocki', 'title': 'Associate Professor of Electrical Engineering', 'img': '/sites/g/files/toruqf2216/files/styles/3x4_750w_1000h/public/people/photo_117.jpg?itok=1QboZPlo'}\n",
      "____________________________________________\n",
      "url: https://www.cs.princeton.edu/people/faculty\n",
      "len: 55\n",
      "{'name': 'David August', 'title': 'Professor', 'img': '/sites/all/modules/custom/cs_people/generate_thumbnail.php?id=5&thumb='}\n",
      "{'name': 'Huacheng Yu', 'title': 'Assistant Professor', 'img': '/sites/all/modules/custom/cs_people/generate_thumbnail.php?id=5209&thumb='}\n",
      "____________________________________________\n",
      "url: https://ece.princeton.edu/people-list/faculty\n",
      "len: 38\n",
      "{'name': 'Ravindra N. Bhatt', 'title': 'Professor of Electrical and Computer Engineering', 'img': '/sites/g/files/toruqf1836/files/styles/3x4_750w_1000h/public/ravindra_bhatt_8x10.jpg?itok=yFbXWapY'}\n",
      "{'name': 'Saien Xie', 'title': 'Assistant Professor of Electrical and Computer Engineering and the Princeton Institute of Materials', 'img': '/sites/g/files/toruqf1836/files/styles/3x4_750w_1000h/public/2022-06/xie_2.png?itok=qQy2UO7E'}\n",
      "____________________________________________\n",
      "url: https://mae.princeton.edu/people/faculty\n",
      "len: 51\n",
      "{'name': 'Craig Arnold', 'title': 'Susan Dod Brown Professor of Mechanical and Aerospace Engineering', 'img': '/sites/default/files/styles/person/public/arnold2.jpg?h=444730e6&itok=WzeJXKUA'}\n",
      "{'name': 'Claire White', 'title': 'Associated Faculty', 'img': '/sites/default/files/styles/person/public/clarie-white.png?h=a80fdad1&itok=B6Bo7wfs'}\n",
      "____________________________________________\n",
      "url: https://orfe.princeton.edu/people/faculty\n",
      "len: 19\n",
      "{'name': 'René Carmona', 'title': \"Paul M. Wythes '55 Professor of Engineering and Finance\", 'img': 'https://orfe.princeton.edu/sites/orfe.princeton.edu/files/styles/profile_photo/public/pictures/picture-9-1506345564.jpg?itok=U2_KcM-u'}\n",
      "{'name': 'Robert Vanderbei', 'title': 'Professor', 'img': 'https://orfe.princeton.edu/sites/orfe.princeton.edu/files/styles/profile_photo/public/pictures/picture-43-1308600999.jpg?itok=rmuPMJGs'}\n"
     ]
    }
   ],
   "source": [
    "completely_failed = []\n",
    "for department in princeton:\n",
    "    if department.get('success') == False:\n",
    "        completely_failed.append(department.get('faculty_page'))\n",
    "    else:\n",
    "        res = department.get('profiles')\n",
    "        print(\"____________________________________________\")\n",
    "        print(f\"url: {department.get('faculty_page')}\")\n",
    "        print(f\"len: {len(res)}\")\n",
    "        print(res[1])\n",
    "        print(res[-1])"
   ]
  },
  {
   "cell_type": "code",
   "execution_count": 9,
   "id": "10949c02",
   "metadata": {
    "scrolled": false
   },
   "outputs": [
    {
     "data": {
      "text/plain": [
       "['https://soa.princeton.edu/zone/people-faculty#3090',\n",
       " 'https://psych.princeton.edu/people/whom-to-see']"
      ]
     },
     "execution_count": 9,
     "metadata": {},
     "output_type": "execute_result"
    }
   ],
   "source": [
    "completely_failed"
   ]
  },
  {
   "cell_type": "code",
   "execution_count": 11,
   "id": "b853b48a",
   "metadata": {},
   "outputs": [],
   "source": [
    "failed_directories = []\n",
    "for department in princeton:\n",
    "    url = department.get('faculty_page')\n",
    "    if url in completely_failed:\n",
    "        failed_directories.append(department)"
   ]
  },
  {
   "cell_type": "code",
   "execution_count": 12,
   "id": "fc27e084",
   "metadata": {},
   "outputs": [],
   "source": [
    "with open(sys.path[0] + '/../data/yale/failed_directories.json', 'w') as f:\n",
    "    json.dump(failed_directories, f)"
   ]
  },
  {
   "cell_type": "code",
   "execution_count": 14,
   "id": "be3d59b7",
   "metadata": {},
   "outputs": [
    {
     "name": "stdout",
     "output_type": "stream",
     "text": [
      "success rate for testing (37 departments)= 0.95\n"
     ]
    }
   ],
   "source": [
    "failed_rate = len(failed_directories) / len(princeton)\n",
    "print(f\"success rate for testing ({len(princeton)} departments)= {1 - failed_rate:.2f}\")"
   ]
  }
 ],
 "metadata": {
  "kernelspec": {
   "display_name": "Python 3 (ipykernel)",
   "language": "python",
   "name": "python3"
  },
  "language_info": {
   "codemirror_mode": {
    "name": "ipython",
    "version": 3
   },
   "file_extension": ".py",
   "mimetype": "text/x-python",
   "name": "python",
   "nbconvert_exporter": "python",
   "pygments_lexer": "ipython3",
   "version": "3.9.7"
  }
 },
 "nbformat": 4,
 "nbformat_minor": 5
}
