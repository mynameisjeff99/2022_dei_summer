{
 "cells": [
  {
   "cell_type": "code",
   "execution_count": 1,
   "id": "862d52f2",
   "metadata": {},
   "outputs": [],
   "source": [
    "from scraping import Scraping\n",
    "import sys\n",
    "import json"
   ]
  },
  {
   "cell_type": "markdown",
   "id": "179ba680",
   "metadata": {},
   "source": [
    "# Scraping"
   ]
  },
  {
   "cell_type": "code",
   "execution_count": 2,
   "id": "e8b2c727",
   "metadata": {},
   "outputs": [
    {
     "name": "stdout",
     "output_type": "stream",
     "text": [
      "\n"
     ]
    },
    {
     "name": "stderr",
     "output_type": "stream",
     "text": [
      "[WDM] - ====== WebDriver manager ======\n",
      "[WDM] - Current google-chrome version is 100.0.4896\n",
      "[WDM] - Get LATEST chromedriver version for 100.0.4896 google-chrome\n",
      "[WDM] - Driver [C:\\Users\\GuoshengCai\\.wdm\\drivers\\chromedriver\\win32\\100.0.4896.60\\chromedriver.exe] found in cache\n"
     ]
    }
   ],
   "source": [
    "scraping = Scraping()"
   ]
  },
  {
   "cell_type": "code",
   "execution_count": 3,
   "id": "3dda1a15",
   "metadata": {},
   "outputs": [],
   "source": [
    "in_path = sys.path[0] + '/../data/harvard/harvard_directories_sans_med.json'\n",
    "out_path = sys.path[0] + '/../data/harvard/harvard_w_profiles.json'\n",
    "harvard = scraping.scrape_faculty(in_path, out_path)"
   ]
  },
  {
   "cell_type": "markdown",
   "id": "5bb7b545",
   "metadata": {},
   "source": [
    "# Result"
   ]
  },
  {
   "cell_type": "code",
   "execution_count": 4,
   "id": "c2dee163",
   "metadata": {},
   "outputs": [
    {
     "name": "stdout",
     "output_type": "stream",
     "text": [
      "____________________________________________\n",
      "url: https://anthropology.fas.harvard.edu/role/faculty\n",
      "len: 15\n",
      "{'name': 'Anne Becker', 'title': 'Maude and Lillian Presley Professor of Global Health and Social Medicine', 'img': '//static.projects.iq.harvard.edu/files/styles/profile_thumbnail/public/anthropology/files/anne_e._becker_hms_0.jpg?m=1623352293&itok=FuVC-amy'}\n",
      "{'name': 'Gareth Doherty', 'title': 'Associate Professor of Landscape Architecture', 'img': '//static.projects.iq.harvard.edu/files/styles/profile_thumbnail/public/anthropology/files/gareth_doherty_anthro_page_2.jpeg?m=1638824252&itok=9ohRCiy3'}\n",
      "____________________________________________\n",
      "url: https://www.seas.harvard.edu/applied-mathematics/people?role[46]=46\n",
      "len: 14\n",
      "{'name': 'Michael P. Brenner', 'title': 'Michael F. Cronin Professor of Applied Mathematics and Applied Physics and Professor of Physics', 'img': None}\n",
      "{'name': 'Fabian Wermelinger', 'title': 'Lecturer on Computational and Data Science', 'img': None}\n",
      "____________________________________________\n",
      "url: https://www.seas.harvard.edu/applied-physics/people?role[46]=46\n",
      "len: 29\n",
      "{'name': 'Markus Thomas Basan', 'title': 'Assistant Professor of Systems Biology; Affiliate in Applied Physics', 'img': None}\n",
      "{'name': 'Amir Yacoby', 'title': 'Professor of Physics and of Applied Physics', 'img': '/sites/default/files/styles/headshot_2x/public/images/Directory/Yacoby_200x300.jpg?itok=ET3SCIOK'}\n",
      "____________________________________________\n",
      "url: https://ves.fas.harvard.edu/people/people-category/faculty\n",
      "len: 15\n",
      "{'name': 'Lucien  Castaing-Taylor', 'title': 'John Cowles Professor of Art and Anthropology', 'img': None}\n",
      "{'name': 'Ross McElwee', 'title': 'Professor of the Practice of Filmmaking', 'img': '//static.hwpi.harvard.edu/files/styles/profile_thumbnail/public/ves/files/mcelwee_ross_1.jpg?m=1548445378&itok=c8vWaeOg'}\n",
      "____________________________________________\n",
      "url: https://astronomy.fas.harvard.edu/people/filter_by/faculty\n",
      "len: 14\n",
      "{'name': 'Edo Berger', 'title': 'Professor of Astronomy', 'img': '//static.projects.iq.harvard.edu/files/styles/profile_thumbnail/public/astronomy/files/berger.png?m=1561492340&itok=ZkVqxqJh'}\n",
      "{'name': 'Avi Loeb', 'title': 'Frank B. Baird Jr. Professor of Science', 'img': '//static.projects.iq.harvard.edu/files/styles/profile_thumbnail/public/astronomy/files/bst.jpg?m=1614004468&itok=yyMQeiE9'}\n",
      "____________________________________________\n",
      "url: https://www.seas.harvard.edu/bioengineering/people?role[46]=46\n",
      "len: 11\n",
      "{'name': 'Robert D. Howe', 'title': 'Abbott and James Lawrence Professor of Engineering', 'img': None}\n",
      "{'name': 'Conor J Walsh', 'title': 'Paul A. Maeder Professor of Engineering and Applied Sciences', 'img': None}\n",
      "____________________________________________\n",
      "url: https://chemistry.harvard.edu/faculty\n",
      "len: 47\n",
      "{'name': 'James G. Anderson', 'title': 'Philip S. Weld Professor of Atmospheric Chemistry', 'img': '//static.hwpi.harvard.edu/files/styles/profile_thumbnail/public/chemistry/files/james_anderson.jpg?m=1644244477&itok=FtrMOJui'}\n",
      "{'name': 'Lu Wang', 'title': 'Senior Preceptor', 'img': '//static.hwpi.harvard.edu/files/styles/profile_thumbnail/public/chemistry/files/luwang.jpg?m=1610724207&itok=EdsxAn18'}\n",
      "____________________________________________\n",
      "url: https://www.seas.harvard.edu/computer-science/people?role[46]=46\n",
      "len: 46\n",
      "{'name': 'Anurag Anshu', 'title': 'Assistant Professor of Computer Science', 'img': None}\n",
      "{'name': 'Jonathan Zittrain', 'title': 'George Bemis Professor of Law', 'img': '/sites/default/files/styles/headshot_2x/public/images/Directory/Zittrain_200x300.jpg?itok=nSEWTSca'}\n",
      "____________________________________________\n",
      "url: https://classics.fas.harvard.edu/classics-people\n",
      "len: 18\n",
      "{'name': 'Dimiter Angelov', 'title': 'Dumbarton Oaks Professor of Byzantine History', 'img': '//static.hwpi.harvard.edu/files/styles/profile_thumbnail/public/classics/files/angelov_dimiter_01.png?m=1643727414&itok=Aac10FgW'}\n",
      "{'name': 'Rachel Philbrick', 'title': 'Lecturer on Classics', 'img': '//static.hwpi.harvard.edu/files/styles/profile_thumbnail/public/classics/files/philbrick_1.jpg?m=1657047594&itok=7ZvJVkw1'}\n",
      "____________________________________________\n",
      "url: https://eps.harvard.edu/people/faculty?page=1\n",
      "len: 15\n",
      "{'name': 'Scot Martin', 'title': 'Gordon McKay Professor of Environmental Chemistry', 'img': '//static.hwpi.harvard.edu/files/styles/profile_thumbnail/public/scot_martin.jpg?m=1626962877&itok=cKJ1PUzi'}\n",
      "{'name': 'Steven Wofsy', 'title': 'Abbott Lawrence Rotch Professor of Atmospheric and Environmental Science; Area Chair for Environmental Science and Engineering', 'img': '//static.hwpi.harvard.edu/files/styles/profile_thumbnail/public/steven_wofsy.jpg?m=1638198774&itok=1ojnpOPu'}\n",
      "____________________________________________\n",
      "url: https://ealc.fas.harvard.edu/people/taxonomy/term/6536\n",
      "len: 12\n",
      "{'name': 'Naomi Asakura', 'title': 'Preceptor in Japanese', 'img': '//static.projects.iq.harvard.edu/files/styles/profile_thumbnail/public/ealc/files/naomi_asakura.jpg?m=1654723985&itok=v6QeI3C1'}\n",
      "{'name': 'Helen Hardacre', 'title': 'Reischauer Institute Professor of Japanese Religions and Society', 'img': '//static.projects.iq.harvard.edu/files/styles/profile_thumbnail/public/ealc/files/hardacre_1.jpg?m=1648566972&itok=4iRx7ZuR'}\n",
      "____________________________________________\n",
      "url: https://economics.harvard.edu/faculty\n",
      "len: 53\n",
      "{'name': 'Pol Antràs', 'title': 'Robert G. Ory Professor of Economics', 'img': '//static.hwpi.harvard.edu/files/styles/profile_full/public/econ/files/antras_pol_square_crop_resized_for_website.jpg?m=1657214775&itok=abzwSoJF'}\n",
      "{'name': 'Martin Weitzman', 'title': 'Research Professor of Economics', 'img': '//static.hwpi.harvard.edu/files/styles/profile_full/public/econ/files/weitzman_sm.png?m=1655304957&itok=ZTuJU1ic'}\n",
      "____________________________________________\n",
      "url: https://www.seas.harvard.edu/electrical-engineering/people?role[46]=46\n",
      "len: 14\n",
      "{'name': 'Roger W. Brockett', 'title': 'An Wang Professor of Electrical Engineering and Computer Science, Emeritus', 'img': None}\n",
      "{'name': 'Todd Zickler', 'title': 'William and Ami Kuan Danoff Professor of Electrical Engineering and Computer Science', 'img': None}\n",
      "____________________________________________\n",
      "url: https://english.fas.harvard.edu/english/faculty\n",
      "len: 81\n",
      "{'name': 'Michael Allen', 'title': 'PhD Candidate', 'img': '//static.hwpi.harvard.edu/files/styles/profile_full/public/english/files/allen_1.jpg?m=1626122727&itok=eVkMpXQT'}\n",
      "{'name': 'Andrew Warren', 'title': 'Associate of the Department of English', 'img': '//static.hwpi.harvard.edu/files/styles/profile_full/public/english/files/warren1-e1461168731665.jpg?m=1561987225&itok=kEHX7fzo'}\n",
      "____________________________________________\n",
      "url: https://www.seas.harvard.edu/environmental-science-engineering/people?role[46]=46\n",
      "len: 28\n",
      "{'name': 'Brian F. Farrell', 'title': 'Robert P. Burden Professor of Meteorology', 'img': None}\n",
      "{'name': 'Bryan Yoon', 'title': 'Assistant Director of Undergraduate Studies in Environmental Science and Engineering', 'img': None}\n",
      "____________________________________________\n",
      "url: https://german.fas.harvard.edu/our-people\n",
      "len: 32\n",
      "{'name': 'Aleksandra Kudriashova', 'title': 'Head Teaching Fellow', 'img': '//static.hwpi.harvard.edu/files/styles/profile_full/public/germanic/files/kudryashova.jpg?m=1634865366&itok=UA2EFJBH'}\n",
      "{'name': 'Nicole   A. Sütterlin', 'title': 'Associate Professor of Germanic Languages and Literatures', 'img': '//static.hwpi.harvard.edu/files/styles/profile_full/public/germanic/files/suetterlin_foto.jpg?m=1621274801&itok=3lrEmixU'}\n",
      "____________________________________________\n",
      "url: https://gov.harvard.edu/people/faculty\n",
      "len: 14\n",
      "{'name': 'Stephen Ansolabehere', 'title': 'Frank G. Thomson Professor of Government', 'img': '//static.hwpi.harvard.edu/files/styles/profile_thumbnail/public/gov/files/ansolabehere.preview.jpg?m=1533689170&itok=Qvd99B_N'}\n",
      "{'name': 'Jeffry Frieden', 'title': 'Stanfield Professor of International Peace', 'img': '//static.hwpi.harvard.edu/files/styles/profile_thumbnail/public/gov/files/jf_img_1018_cropped.jpg?m=1657296844&itok=_gI0Dp9_'}\n",
      "____________________________________________\n",
      "url: https://history.fas.harvard.edu/people/faculty_alpha\n",
      "len: 13\n",
      "{'name': 'Dimiter Angelov', 'title': 'Director, Graduate Studies', 'img': '//static.projects.iq.harvard.edu/files/styles/profile_thumbnail/public/history/files/angelov2.jpg?m=1656592512&itok=fClUkTH5'}\n",
      "{'name': 'Philip Deloria', 'title': 'Leverett Saltonstall Professor of History', 'img': '//static.projects.iq.harvard.edu/files/styles/profile_thumbnail/public/history/files/deloria.jpg?m=1656593026&itok=CupVjsNm'}\n",
      "____________________________________________\n",
      "url: https://haa.fas.harvard.edu/faculty\n",
      "len: 18\n",
      "{'name': 'Eurydice Georganteli', 'title': 'Lecturer', 'img': '//static.hwpi.harvard.edu/files/styles/profile_full/public/history-artsarchitecture/files/georganteli_0_bw.png?m=1625690307&itok=2QjTUX2d'}\n",
      "{'name': 'Eugene Wang', 'title': 'Abby Aldrich Rockefeller Professor of Asian Art', 'img': '//static.hwpi.harvard.edu/files/styles/profile_full/public/history-artsarchitecture/files/eugene.jpg?m=1646411899&itok=hRAZtima'}\n",
      "____________________________________________\n",
      "url: http://histsci.fas.harvard.edu/people/faculty\n",
      "len: 14\n",
      "{'name': 'Allan M. Brandt', 'title': 'Professor of the History of Science', 'img': '//static.projects.iq.harvard.edu/files/styles/profile_thumbnail/public/hos/files/brandtwebphoto.jpg?m=1643918589&itok=AU21N0ke'}\n",
      "{'name': 'Sarah S. Richardson', 'title': 'Professor of the History of Science & Studies of Women, Gender, and Sexuality', 'img': '//static.projects.iq.harvard.edu/files/styles/profile_thumbnail/public/hos/files/s_richardson_0.png?m=1657284406&itok=IF4ewUj-'}\n",
      "____________________________________________\n",
      "url: https://heb.fas.harvard.edu/people/taxonomy/term/18181\n",
      "len: 6\n",
      "{'name': 'Dr.  Erin Hecht', 'title': 'Assistant Professor', 'img': '//static.projects.iq.harvard.edu/files/styles/profile_thumbnail/public/heb.harvard.edu/files/hecht_photo.jpg?m=1547566490&itok=O1yDoGY3'}\n",
      "{'name': 'Dr.  Noreen Tuross', 'title': 'Landon T. Clay Professor of Scientific Archaeology', 'img': '//static.projects.iq.harvard.edu/files/styles/profile_thumbnail/public/heb.harvard.edu/files/tuross_noreen.jpg?m=1535643730&itok=bt7j2JSp'}\n",
      "____________________________________________\n",
      "url: https://linguistics.fas.harvard.edu/people/taxonomy/term/9431\n",
      "len: 11\n",
      "{'name': 'Tanya Bondarenko', 'title': 'Assistant Professor of Linguistics', 'img': '//static.hwpi.harvard.edu/files/styles/profile_thumbnail/public/linguistics/files/picture.jpg?m=1657212487&itok=cbNnrMzJ'}\n",
      "{'name': 'Susi Wurmbrand', 'title': 'Visiting Professor', 'img': '//static.hwpi.harvard.edu/files/styles/profile_thumbnail/public/linguistics/files/susi_wurmbrand.jpg?m=1642701039&itok=Ar15rPBc'}\n",
      "____________________________________________\n",
      "url: https://www.seas.harvard.edu/materials-science-mechanical-engineering/people?role[46]=46\n",
      "len: 25\n",
      "{'name': 'Michael J. Aziz', 'title': 'Gene and Tracy Sykes Professor of Materials and Energy Technologies', 'img': None}\n",
      "{'name': 'Douglas Woodhouse', 'title': 'Administrative Coordinator for Academic Operations', 'img': None}\n",
      "____________________________________________\n",
      "url: https://www.math.harvard.edu/people/\n",
      "len: 150\n",
      "{'name': 'Antunes, Jonier', 'title': 'Lecturer', 'img': 'https://www.math.harvard.edu/wp-content/uploads/Jonier_Amaral_Antunes.jpeg'}\n",
      "{'name': 'Yefremova, Anastasia', 'title': 'Publications Coordinator', 'img': 'https://www.math.harvard.edu/wp-content/uploads/Anastasia-Yefremova.jpg'}\n",
      "____________________________________________\n",
      "url: https://www.mcb.harvard.edu/faculty/faculty-profiles/\n",
      "len: 33\n",
      "{'name': 'Nicholas Bellono', 'title': 'Mechanisms of membrane-associated cell biological processes.', 'img': 'https://dmg5c1valy4me.cloudfront.net/wp-content/uploads/2018/04/10165711/bellono_nick_web_9774-300x300.jpg'}\n",
      "{'name': 'Nicholas Bellono', 'title': 'Mechanisms of membrane-associated cell biological processes.', 'img': 'https://dmg5c1valy4me.cloudfront.net/wp-content/uploads/2018/04/10165711/bellono_nick_web_9774-300x300.jpg'}\n",
      "____________________________________________\n",
      "url: https://music.fas.harvard.edu/people/faculty/\n",
      "len: 23\n",
      "{'name': 'Jessica Bodner', 'title': 'Preceptor, Parker Quartet', 'img': 'https://music.fas.harvard.edu/files/2022/05/bodner.jpg'}\n",
      "{'name': 'Richard K. Wolf', 'title': 'Professor of Music, Professor of of South Asian Studies', 'img': 'https://music.fas.harvard.edu/files/2022/05/RichardWolf.gif'}\n",
      "____________________________________________\n",
      "url: https://oeb.harvard.edu/people/department-faculty\n",
      "len: 12\n",
      "{'name': 'Colleen Cavanaugh', 'title': 'Edward C. Jeffrey Professor of Biology', 'img': '//static.hwpi.harvard.edu/files/styles/profile_thumbnail/public/oeb/files/colleen_cavanaugh.jpg?m=1595601156&itok=YPIw1EeK'}\n",
      "{'name': 'Daniel L. Hartl', 'title': 'Higgins Professor of Biology', 'img': '//static.hwpi.harvard.edu/files/styles/profile_thumbnail/public/oeb/files/dlhartl.jpg?m=1634742166&itok=uP2CMVRd'}\n",
      "____________________________________________\n",
      "url: https://philosophy.fas.harvard.edu/faculty-1\n",
      "len: 22\n",
      "{'name': 'Jeff Behrends', 'title': 'Senior Research Scholar in Philosophy', 'img': '//static.projects.iq.harvard.edu/files/styles/os_files_small/public/phildept/files/behrends-rlportrait-2019.jpg?m=1657216396&itok=FrCGo-hi'}\n",
      "{'name': 'Jeff Behrends', 'title': 'Senior Research Scholar in Philosophy', 'img': '//static.projects.iq.harvard.edu/files/styles/os_files_small/public/phildept/files/behrends-rlportrait-2019.jpg?m=1657216396&itok=FrCGo-hi'}\n",
      "____________________________________________\n",
      "url: https://www.physics.harvard.edu/people/faculty\n",
      "len: 15\n",
      "{'name': 'Carlos Argüelles-Delgado', 'title': 'Assistant Professor of Physics', 'img': '//static.projects.iq.harvard.edu/files/styles/profile_thumbnail/public/physics/files/arguelles-delgado.png?m=1652470814&itok=iTS_EWvd'}\n",
      "{'name': 'Howard M. Georgi', 'title': 'Mallinckrodt Professor of Physics; Harvard College Professor; Director of Undergraduate Studies', 'img': '//static.projects.iq.harvard.edu/files/styles/profile_thumbnail/public/physics/files/georgi.png?m=1637165641&itok=_2up6Xfs'}\n",
      "____________________________________________\n",
      "url: https://psychology.fas.harvard.edu/faculty\n",
      "len: 26\n",
      "{'name': 'Mahzarin R. Banaji', 'title': 'Richard Clarke Cabot Professor of Social Ethics', 'img': '//static.hwpi.harvard.edu/files/styles/profile_thumbnail/public/psych/files/banaji_1_0_0.jpg?m=1594466163&itok=tLcTN371'}\n",
      "{'name': 'John R. Weisz', 'title': 'Professor', 'img': '//static.hwpi.harvard.edu/files/styles/profile_thumbnail/public/psych/files/ap_photo_jw_012621.jpeg?m=1614817942&itok=NXZ7M6c4'}\n",
      "____________________________________________\n",
      "url: https://rll.fas.harvard.edu/people/faculty\n",
      "len: 13\n",
      "{'name': 'Janet  Beizer', 'title': 'Professor of Romance Languages and Literatures (French)', 'img': '//static.hwpi.harvard.edu/files/styles/profile_thumbnail/public/rll/files/beizer.jpg?m=1642614488&itok=TF9g5XuO'}\n",
      "{'name': 'Alice  Jardine', 'title': 'Professor of Romance Languages and Literatures (French) and of Studies of Women, Gender, and Sexuality', 'img': '//static.hwpi.harvard.edu/files/styles/profile_thumbnail/public/rll/files/jardine.jpg?m=1632327652&itok=m5x6X42A'}\n",
      "____________________________________________\n",
      "url: https://slavic.fas.harvard.edu/people/taxonomy/term/10526\n",
      "len: 11\n",
      "{'name': 'Julie  A. Buckler', 'title': 'Director of Graduate Studies', 'img': '//static.hwpi.harvard.edu/files/styles/profile_thumbnail/public/slavic/files/bukler-vertical-400w_1.jpg?m=1630424316&itok=yJUvs39J'}\n",
      "{'name': 'Dmitrii Pastushenkov', 'title': 'Preceptor in Slavic Languages and Literatures', 'img': '//static.hwpi.harvard.edu/files/styles/profile_thumbnail/public/slavic/files/dmitrii_pastushenkov_photo.jpeg?m=1656623885&itok=trgoit-5'}\n",
      "____________________________________________\n",
      "url: https://sociology.fas.harvard.edu/people/sociology-faculty\n",
      "len: 15\n",
      "{'name': 'Deirdre  Bloome', 'title': 'Professor of Public Policy and Professor of Sociology', 'img': '//static.hwpi.harvard.edu/files/styles/profile_thumbnail/public/sociology/files/bloome_deirdre_pic.png?m=1645807312&itok=EPcKOdHU'}\n",
      "{'name': 'Ellis Monk', 'title': 'Associate Professor of Sociology', 'img': '//static.hwpi.harvard.edu/files/styles/profile_thumbnail/public/sociology/files/monk_ellis.jpg?m=1643920240&itok=wRJX_8ov'}\n",
      "____________________________________________\n",
      "url: https://sas.fas.harvard.edu/people/taxonomy/term/18441\n",
      "len: 13\n",
      "{'name': 'Ali S. Asani', 'title': 'Murray A. Albertson Professor of Middle Eastern Studies', 'img': '//static.projects.iq.harvard.edu/files/styles/profile_thumbnail/public/dsas/files/aliasani.jpg?m=1629825340&itok=_OAtfAQ7'}\n",
      "{'name': 'Ajantha Subramanian', 'title': 'Professor of Anthropology', 'img': '//static.projects.iq.harvard.edu/files/styles/profile_thumbnail/public/dsas/files/ajanthasubramanian.jpg?m=1631317432&itok=PZWNDGUI'}\n",
      "____________________________________________\n",
      "url: https://statistics.fas.harvard.edu/faculty\n",
      "len: 27\n",
      "{'name': 'Joseph K. Blitzstein', 'title': 'Professor of the Practice in Statistics,', 'img': '//static.hwpi.harvard.edu/files/styles/profile_thumbnail/public/statistics-2/files/blitzstein_1_0.jpg?m=1656509820&itok=K83gCeQ4'}\n",
      "{'name': 'Julie Vu', 'title': 'Preceptor in Statistics', 'img': '//static.hwpi.harvard.edu/files/styles/profile_thumbnail/public/statistics-2/files/vu_resize.jpg?m=1564665801&itok=SEwpSYEK'}\n",
      "____________________________________________\n",
      "url: https://www.gsd.harvard.edu/people/faculty/?search=&department=architecture&research_area=\n",
      "len: 74\n",
      "{'name': 'Jennifer Bonner', 'title': 'Associate Professor of Architecture', 'img': 'https://l87r32c95dp1hz05tig4px11-wpengine.netdna-ssl.com/wp-content/uploads/2016/06/C-_Users_tdh195_Desktop_Jennifer-Bonner_Christopher-Dibble_FINAL.jpg'}\n",
      "{'name': 'Krzysztof Wodiczko', 'title': 'Professor in Residence of Art, Design and the Public Domain, Emeritus', 'img': 'https://l87r32c95dp1hz05tig4px11-wpengine.netdna-ssl.com/wp-content/uploads/2017/05/KW-Headshot-768x1024.jpg'}\n",
      "____________________________________________\n",
      "url: https://www.gsd.harvard.edu/people/faculty/?search=&department=landscape-architecture&research_area=\n",
      "len: 34\n",
      "{'name': 'Anita Berrizbeitia', 'title': 'Professor of Landscape Architecture', 'img': 'https://l87r32c95dp1hz05tig4px11-wpengine.netdna-ssl.com/wp-content/uploads/2016/06/Anita_Berrizbeitia_Portrait.jpg'}\n",
      "{'name': 'Robert Zimmerman', 'title': 'Lecturer in Landscape Architecture', 'img': 'https://l87r32c95dp1hz05tig4px11-wpengine.netdna-ssl.com/wp-content/uploads/2020/12/Robert-Zimmerman.jpg'}\n",
      "____________________________________________\n",
      "url: https://www.gsd.harvard.edu/people/faculty/?search=&department=urban-planning-and-design&research_area=\n",
      "len: 49\n",
      "{'name': 'Frank Apeseche', 'title': 'Lecturer in Urban Planning and Design', 'img': 'https://l87r32c95dp1hz05tig4px11-wpengine.netdna-ssl.com/wp-content/uploads/2016/06/Frank-Apeseche-1.jpg'}\n",
      "{'name': 'Alex Yuen', 'title': 'Lecturer in Urban Design', 'img': 'https://l87r32c95dp1hz05tig4px11-wpengine.netdna-ssl.com/wp-content/uploads/2016/08/alexyuen.jpg'}\n",
      "____________________________________________\n",
      "url: https://www.hsph.harvard.edu/environmental-health/people/faculty/\n",
      "len: 59\n",
      "{'name': 'Joseph Allen', 'title': 'Associate Professor of Exposure Assessment Science', 'img': 'https://cdn1.sph.harvard.edu/wp-content/uploads/sites/60/2016/11/Joe-Allen.jpg'}\n",
      "{'name': 'Thomas J. Smith', 'title': 'Professor of Industrial Hygiene, Emeritus', 'img': 'http://d33v4339jhl8k0.cloudfront.net/docs/assets/528e78fee4b0865bc066be5a/images/52af1e8ce4b074ab9e98f0e0/file-mxuiNezRS5.jpg'}\n",
      "____________________________________________\n",
      "url: https://www.hsph.harvard.edu/immunology-and-infectious-diseases/faculty/\n",
      "len: 16\n",
      "{'name': 'Flaminia Catteruccia', 'title': 'Professor of Immunology and Infectious Diseases Immunology and Infectious Diseases', 'img': 'https://cdn1.sph.harvard.edu/wp-content/uploads/sites/64/2021/05/PhotoHandler.ashx_.png'}\n",
      "{'name': 'Dyann F. Wirth', 'title': 'Richard Pearson Strong Professor of Infectious Diseases', 'img': 'https://cdn1.sph.harvard.edu/wp-content/uploads/sites/64/2018/05/Wirth-e1635785215239-300x300.png'}\n",
      "____________________________________________\n",
      "url: https://www.hsph.harvard.edu/molecular-metabolism/faculty/\n",
      "len: 33\n",
      "{'name': 'Gökhan S. Hotamışlıgil', 'title': 'James Stevens Simmons Professor of Genetics and Metabolism', 'img': 'https://cdn1.sph.harvard.edu/wp-content/uploads/sites/2503/2021/01/Screen-Shot-2021-01-12-at-11.32.10-AM-150x150.png'}\n",
      "{'name': 'Quan Lu', 'title': 'Professor of Environmental Genetics and Physiology', 'img': 'https://cdn1.sph.harvard.edu/wp-content/uploads/sites/2503/2021/01/Screen-Shot-2021-01-12-at-12.08.29-PM-150x150.png'}\n",
      "____________________________________________\n",
      "url: https://hds.harvard.edu/people\n",
      "len: 113\n",
      "{'name': 'Leila Ahmed', 'title': 'Victor S. Thomas Research Professor of Divinity', 'img': '//static.hwpi.harvard.edu/files/styles/profile_full/public/hds2/files/web_051211_leilaahmed_044.jpg?m=1651785067&itok=vR9hfBfp'}\n",
      "{'name': 'Mulu Yohannis', 'title': 'Staff Accountant, Finance Office', 'img': None}\n",
      "____________________________________________\n",
      "url: https://hls.harvard.edu/faculty/directory\n",
      "len: 129\n",
      "{'name': 'Sabrineh Ardalan', 'title': 'Clinical Professor of Law', 'img': 'https://www.law.harvard.edu/faculty/pictures/10026t.jpg'}\n",
      "{'name': 'Jonathan L. Zittrain', 'title': 'Professor of Law', 'img': 'https://www.law.harvard.edu/faculty/pictures/10992t.jpg'}\n"
     ]
    }
   ],
   "source": [
    "completely_failed = []\n",
    "for department in harvard:\n",
    "    if department.get('success') == False:\n",
    "        completely_failed.append(department.get('faculty_page'))\n",
    "    else:\n",
    "        res = department.get('profiles')\n",
    "        print(\"____________________________________________\")\n",
    "        print(f\"url: {department.get('faculty_page')}\")\n",
    "        print(f\"len: {len(res)}\")\n",
    "        print(res[1])\n",
    "        print(res[-1])"
   ]
  },
  {
   "cell_type": "code",
   "execution_count": 5,
   "id": "10949c02",
   "metadata": {
    "scrolled": false
   },
   "outputs": [
    {
     "data": {
      "text/plain": [
       "['https://aaas.fas.harvard.edu/aaas-people',\n",
       " 'https://celtic.fas.harvard.edu/people-0',\n",
       " 'http://complit.fas.harvard.edu/people/role/faculty',\n",
       " 'https://nelc.fas.harvard.edu/people/taxonomy/term/12641',\n",
       " 'https://www.hsph.harvard.edu/biostatistics/faculty/',\n",
       " 'https://www.hsph.harvard.edu/epidemiology/faculty/',\n",
       " 'https://www.hsph.harvard.edu/global-health-and-population/meet-our-faculty-staff-researchers/faculty/primary-faculty/',\n",
       " 'https://www.hsph.harvard.edu/health-policy-and-management/faculty/',\n",
       " 'https://www.hsph.harvard.edu/nutrition/faculty/',\n",
       " 'https://www.hsph.harvard.edu/social-and-behavioral-sciences/faculty/',\n",
       " 'https://www.hbs.edu/faculty/Pages/browse.aspx?faculty=Current',\n",
       " 'https://www.gse.harvard.edu/faculty-directory',\n",
       " 'https://www.hks.harvard.edu/directory']"
      ]
     },
     "execution_count": 5,
     "metadata": {},
     "output_type": "execute_result"
    }
   ],
   "source": [
    "completely_failed"
   ]
  },
  {
   "cell_type": "code",
   "execution_count": 6,
   "id": "b853b48a",
   "metadata": {},
   "outputs": [],
   "source": [
    "failed_directories = []\n",
    "for department in harvard:\n",
    "    url = department.get('faculty_page')\n",
    "    if url in completely_failed:\n",
    "        failed_directories.append(department)"
   ]
  },
  {
   "cell_type": "code",
   "execution_count": 7,
   "id": "fc27e084",
   "metadata": {},
   "outputs": [],
   "source": [
    "with open(sys.path[0] + '/../data/harvard/failed_directories.json', 'w') as f:\n",
    "    json.dump(failed_directories, f)"
   ]
  },
  {
   "cell_type": "code",
   "execution_count": 8,
   "id": "be3d59b7",
   "metadata": {},
   "outputs": [
    {
     "name": "stdout",
     "output_type": "stream",
     "text": [
      "success rate for testing (56 departments)= 0.77\n"
     ]
    }
   ],
   "source": [
    "failed_rate = len(failed_directories) / len(harvard)\n",
    "print(f\"success rate for testing ({len(harvard)} departments)= {1 - failed_rate:.2f}\")"
   ]
  }
 ],
 "metadata": {
  "kernelspec": {
   "display_name": "Python 3 (ipykernel)",
   "language": "python",
   "name": "python3"
  },
  "language_info": {
   "codemirror_mode": {
    "name": "ipython",
    "version": 3
   },
   "file_extension": ".py",
   "mimetype": "text/x-python",
   "name": "python",
   "nbconvert_exporter": "python",
   "pygments_lexer": "ipython3",
   "version": "3.9.7"
  }
 },
 "nbformat": 4,
 "nbformat_minor": 5
}
