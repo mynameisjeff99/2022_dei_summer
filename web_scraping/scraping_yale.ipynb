{
 "cells": [
  {
   "cell_type": "code",
   "execution_count": 1,
   "id": "862d52f2",
   "metadata": {
    "pycharm": {
     "name": "#%%\n"
    }
   },
   "outputs": [],
   "source": [
    "from scraping import Scraping\n",
    "import sys\n",
    "import json"
   ]
  },
  {
   "cell_type": "markdown",
   "id": "179ba680",
   "metadata": {
    "pycharm": {
     "name": "#%% md\n"
    }
   },
   "source": [
    "# Scraping"
   ]
  },
  {
   "cell_type": "code",
   "execution_count": 6,
   "id": "e8b2c727",
   "metadata": {
    "pycharm": {
     "name": "#%%\n"
    }
   },
   "outputs": [
    {
     "name": "stdout",
     "output_type": "stream",
     "text": [
      "\n"
     ]
    },
    {
     "name": "stderr",
     "output_type": "stream",
     "text": [
      "[WDM] - ====== WebDriver manager ======\n",
      "[WDM] - Current google-chrome version is 100.0.4896\n",
      "[WDM] - Get LATEST chromedriver version for 100.0.4896 google-chrome\n",
      "[WDM] - Driver [C:\\Users\\GuoshengCai\\.wdm\\drivers\\chromedriver\\win32\\100.0.4896.60\\chromedriver.exe] found in cache\n"
     ]
    }
   ],
   "source": [
    "scraping = Scraping()"
   ]
  },
  {
   "cell_type": "code",
   "execution_count": 3,
   "id": "3dda1a15",
   "metadata": {
    "pycharm": {
     "name": "#%%\n"
    }
   },
   "outputs": [],
   "source": [
    "with open(sys.path[0] + '/../data/yale/yale_directories_sans_med.json') as f:\n",
    "    yale = json.load(f)"
   ]
  },
  {
   "cell_type": "code",
   "execution_count": 7,
   "id": "2216bea5",
   "metadata": {
    "pycharm": {
     "name": "#%%\n"
    }
   },
   "outputs": [],
   "source": [
    "for department in yale:\n",
    "    url = department.get('faculty_page')\n",
    "    try:\n",
    "        res = scraping.get_department_info(url)\n",
    "        department.update({'success': True, 'profiles': res})\n",
    "    except:\n",
    "        department.update({'success': False})"
   ]
  },
  {
   "cell_type": "code",
   "execution_count": 14,
   "id": "dd00a83d",
   "metadata": {
    "pycharm": {
     "name": "#%%\n"
    }
   },
   "outputs": [],
   "source": [
    "with open(sys.path[0] + '/../data/yale/yale_w_profiles.json', 'w') as f:\n",
    "    json.dump(yale, f)"
   ]
  },
  {
   "cell_type": "markdown",
   "id": "5bb7b545",
   "metadata": {
    "pycharm": {
     "name": "#%% md\n"
    }
   },
   "source": [
    "# Result"
   ]
  },
  {
   "cell_type": "code",
   "execution_count": 8,
   "id": "c2dee163",
   "metadata": {
    "pycharm": {
     "name": "#%%\n"
    }
   },
   "outputs": [
    {
     "name": "stdout",
     "output_type": "stream",
     "text": [
      "____________________________________________\n",
      "url: https://afamstudies.yale.edu/people\n",
      "len: 23\n",
      "{'name': 'David Blight', 'title': 'Sterling Professor of History, African American Studies & American Stds; Dir. Gilder Lehrman Center', 'img': 'https://afamstudies.yale.edu/sites/default/files/styles/people_thumbnail/public/pictures/picture-21-1582123876.jpg?itok=pm_aT-N5'}\n",
      "{'name': 'Shane Vogel', 'title': 'Professor of English and African American Studies', 'img': 'https://afamstudies.yale.edu/sites/default/files/styles/people_thumbnail/public/pictures/picture-731-1654106368.jpg?itok=wJQxkHda'}\n",
      "____________________________________________\n",
      "url: https://african.macmillan.yale.edu/people/faculty\n",
      "len: 44\n",
      "{'name': 'Russell Barbour', 'title': 'Associate Research Scientist in Biostatistics; Associate Director for Research Methods and Analysis, Center for Interdisciplinary Research on AIDS; Lecturer for Statistics and Data Science', 'img': 'https://african.macmillan.yale.edu/sites/default/files/styles/people_thumbnail/public/pictures/picture-540-1538591077.jpg?itok=9bYR1Hnx'}\n",
      "{'name': 'Jonathan Wyrtzen', 'title': 'Associate Professor of Sociology and History; DUS, Modern Middle East Studies & Sociology', 'img': 'https://african.macmillan.yale.edu/sites/default/files/styles/people_thumbnail/public/pictures/picture-68-1495545212.jpg?itok=DiQ6fM5V'}\n",
      "____________________________________________\n",
      "url: https://americanstudies.yale.edu/people/faculty\n",
      "len: 35\n",
      "{'name': 'James Berger', 'title': 'Senior Lecturer in American Studies and English', 'img': 'https://americanstudies.yale.edu/sites/default/files/styles/people_thumbnail/public/pictures/picture-19-1571158112.jpg?itok=sbf7e3nr'}\n",
      "{'name': 'Quan Tran', 'title': 'Lecturer in Ethnicity, Race, & Migration and American Studies', 'img': 'https://americanstudies.yale.edu/sites/default/files/styles/people_thumbnail/public/pictures/picture-137-1582037697.jpg?itok=Jj545n8W'}\n",
      "____________________________________________\n",
      "url: https://anthropology.yale.edu/people/faculty\n",
      "len: 25\n",
      "{'name': 'Richard L. Burger', 'title': 'Charles J. MacCurdy Professor of Anthropology, Director of Graduate Studies in Archaeology', 'img': 'https://anthropology.yale.edu/sites/default/files/styles/people_page/public/pictures/picture-95-1399736000.jpg?itok=aFx8FACe'}\n",
      "{'name': 'David Watts', 'title': 'Professor of Anthropology', 'img': 'https://anthropology.yale.edu/sites/default/files/styles/people_page/public/pictures/picture-106-1393464751.jpg?itok=0a3sAnQ_'}\n",
      "____________________________________________\n",
      "url: https://applied.math.yale.edu/people/faculty\n",
      "len: 23\n",
      "{'name': 'Joseph Chang', 'title': 'Professor of Statistics & Data Science', 'img': 'https://applied.math.yale.edu/sites/default/files/styles/people_thumbnail/public/pictures/picture-29-1552942337.jpg?itok=R4oqcD4U'}\n",
      "{'name': 'Steven Zucker', 'title': 'David and Lucile Packard Professor of Computer Science and Biomedical Engineering', 'img': 'https://applied.math.yale.edu/sites/default/files/styles/people_thumbnail/public/pictures/picture-67-1363370574.jpg?itok=oBP0KT56'}\n",
      "____________________________________________\n",
      "url: https://appliedphysics.yale.edu/faculty\n",
      "len: 27\n",
      "{'name': 'Hui Cao', 'title': 'John C. Malone Professor of Applied Physics, Professor of Physics, Professor of Electrical Engineering', 'img': 'https://appliedphysics.yale.edu/sites/default/files/styles/faculty_heads/public/hui_cao_may2018_190x183.jpg?itok=GaavsdCU'}\n",
      "{'name': 'Werner P. Wolf', 'title': 'Raymond J. Wean Professor Emeritus of Engineering & Applied Science, Applied Physics & Physics', 'img': 'https://appliedphysics.yale.edu/sites/default/files/styles/faculty_heads/public/wolf.jpg?itok=TOPepUG9'}\n",
      "____________________________________________\n",
      "url: https://archaeology.yale.edu/people\n",
      "len: 26\n",
      "{'name': 'Oswaldo Chinchilla Mazariegos', 'title': 'Assistant Professor of Anthropology; Assistant Curator Peabody Museum', 'img': 'https://archaeology.yale.edu/sites/default/files/styles/people_thumbnail/public/pictures/picture-23-1432317353.jpg?itok=CM49xIAD'}\n",
      "{'name': 'Frank Hole', 'title': 'CJ MacCurdy Prof Emeritus; Sr Rsrch Scientist Anthropology; Sr Rsrch Sci/Scholar Anthropology', 'img': None}\n",
      "____________________________________________\n",
      "url: https://www.architecture.yale.edu/faculty\n",
      "len: 16\n",
      "{'name': 'Victor Agran', 'title': 'Lecturer', 'img': 'https://cdn.filepicker.io/api/file/723Pe8FJTPWf1KgbYBCR/convert?fit=max&format=jpg&h=&quality=95&w=306&compress=true&fit=max,'}\n",
      "{'name': 'Craig Buckley', 'title': 'Assistant Professor (History of Art)', 'img': 'https://cdn.filepicker.io/api/file/aVEtmaYCQEepZiVeXTWZ/convert?fit=max&format=jpg&h=&quality=95&w=306&compress=true&fit=max'}\n",
      "____________________________________________\n",
      "url: https://astronomy.yale.edu/people/faculty\n",
      "len: 18\n",
      "{'name': 'Charles Bailyn', 'title': 'A. Bartlett Giamatti Professor of Astronomy and Physics', 'img': 'https://astronomy.yale.edu/sites/default/files/styles/people_thumbnail/public/pictures/picture-16-1396970529.jpg?itok=X9EvcOMH'}\n",
      "{'name': 'Robert Zinn', 'title': 'Professor of Astronomy', 'img': 'https://astronomy.yale.edu/sites/default/files/styles/people_thumbnail/public/pictures/picture-38-1407951793.jpg?itok=__E9LMzH'}\n",
      "____________________________________________\n",
      "url: https://seas.yale.edu/departments/biomedical-engineering/faculty\n",
      "len: 46\n",
      "{'name': 'Richard E. Carson', 'title': 'Professor', 'img': 'https://seas.yale.edu/sites/default/files/imagecache/person_list/carson.jpg'}\n",
      "{'name': 'Jiangbing Zhou', 'title': 'Associate Professor', 'img': 'https://seas.yale.edu/sites/default/files/imagecache/person_list/zhou_0.jpg'}\n",
      "____________________________________________\n",
      "url: https://seas.yale.edu/departments/chemical-and-environmental-engineering/faculty\n",
      "len: 29\n",
      "{'name': 'Menachem Elimelech', 'title': 'Professor', 'img': 'https://seas.yale.edu/sites/default/files/imagecache/person_list/elimelech-web.jpg'}\n",
      "{'name': 'Daniel E. Rosner', 'title': 'Research Professor', 'img': 'https://seas.yale.edu/sites/default/files/imagecache/person_list/rosner.jpg'}\n",
      "____________________________________________\n",
      "url: https://chem.yale.edu/people/faculty\n",
      "len: 41\n",
      "{'name': 'Amymarie Bartholomew', 'title': 'Lecturers', 'img': 'https://chem.yale.edu/sites/default/files/styles/people_page/public/pictures/picture-3274-1654616003.jpg?itok=DWPiR8Pd'}\n",
      "{'name': 'Amymarie Bartholomew', 'title': 'Lecturers', 'img': 'https://chem.yale.edu/sites/default/files/styles/people_page/public/pictures/picture-3274-1654616003.jpg?itok=DWPiR8Pd'}\n",
      "____________________________________________\n",
      "url: https://classics.yale.edu/people/faculty\n",
      "len: 16\n",
      "{'name': 'Kirk Freudenburg', 'title': 'Brooks and Suzanne Ragen Professor of Classics; Chair of the Department', 'img': 'https://classics.yale.edu/sites/default/files/styles/medium/public/pictures/picture-30-1612456716.jpg?itok=SBU3VlC5'}\n",
      "{'name': 'Erika Valdivieso', 'title': 'Assistant Professor of Classics', 'img': 'https://classics.yale.edu/sites/default/files/styles/medium/public/pictures/picture-246-1626966164.jpg?itok=ihIH_fps'}\n",
      "____________________________________________\n",
      "url: https://cogsci.yale.edu/people\n",
      "len: 20\n",
      "{'name': 'Isaac Davis', 'title': 'Postdoctoral Associate', 'img': None}\n",
      "{'name': 'Al Powers', 'title': 'Assistant Professor of Psychiatry', 'img': 'https://cogsci.yale.edu/sites/default/files/styles/people_thumbnail/public/pictures/picture-259-1594841452.jpg?itok=yR5FbH4g'}\n",
      "____________________________________________\n",
      "url: https://complit.yale.edu/people/faculty\n",
      "len: 15\n",
      "{'name': 'Haitian Creole', 'title': 'Lecturers', 'img': 'https://complit.yale.edu/sites/default/files/styles/medium/public/pictures/picture-61-1457533663.jpg?itok=WmxUhrzo'}\n",
      "{'name': 'Haitian Creole', 'title': 'Lecturers', 'img': 'https://complit.yale.edu/sites/default/files/styles/medium/public/pictures/picture-61-1457533663.jpg?itok=WmxUhrzo'}\n",
      "____________________________________________\n",
      "url: https://cbb.yale.edu/people/faculty-labs\n",
      "len: 50\n",
      "{'name': 'Marcus Bosenberg', 'title': ', Professor', 'img': None}\n",
      "{'name': 'Steven Zucker', 'title': ', Professor', 'img': None}\n",
      "____________________________________________\n",
      "url: https://cpsc.yale.edu/people/faculty\n",
      "len: 28\n",
      "{'name': 'Abhishek Bhattacharjee', 'title': 'Associate Professor of Computer Science', 'img': 'https://cpsc.yale.edu/sites/default/files/styles/people_thumbnail/public/pictures/picture-3558-1538768051.jpg?itok=39fvgXJx'}\n",
      "{'name': 'Steven Zucker', 'title': 'David and Lucile Packard Professor of Computer Science and Biomedical Engineering', 'img': 'https://cpsc.yale.edu/sites/default/files/styles/people_thumbnail/public/pictures/picture-21-1365104886.jpg?itok=t03pptgM'}\n",
      "____________________________________________\n",
      "url: http://people.earth.yale.edu/people/faculty\n",
      "len: 26\n",
      "{'name': 'David Bercovici', 'title': 'Frederick William Beinecke Professor of Earth & Planetary Sciences', 'img': 'https://people.earth.yale.edu/sites/default/files/styles/people_thumbnail/public/pictures/picture-58-1543443798.jpg?itok=bb6t3nJD'}\n",
      "{'name': 'Elisabeth Vrba', 'title': 'Professor Emerita', 'img': 'https://people.earth.yale.edu/sites/default/files/styles/people_thumbnail/public/pictures/picture-157-1381863718.jpg?itok=q8_-6OKH'}\n",
      "____________________________________________\n",
      "url: https://eall.yale.edu/people/professors\n",
      "len: 6\n",
      "{'name': 'Aaron Gerow', 'title': 'A. Whitney Griswold Professor of East Asian Languages & Literatures and Film and Media Studies', 'img': 'https://eall.yale.edu/sites/default/files/styles/people_thumbnail/public/pictures/picture-20-1642177011.jpg?itok=lkCtWc2S'}\n",
      "{'name': 'Jing Tsu', 'title': 'John M. Schiff Professor of East Asian Languages and Literatures  & Comparative Literature. Chair, Council on East Asian Studies', 'img': 'https://eall.yale.edu/sites/default/files/styles/people_thumbnail/public/pictures/picture-16-1631894271.jpg?itok=M3wj-dJf'}\n",
      "____________________________________________\n",
      "url: https://ceas.yale.edu/people/ceas-faculty\n",
      "len: 48\n",
      "{'name': 'Yukiko Koga', 'title': 'Associate Professor of Anthropology', 'img': 'https://ceas.yale.edu/sites/default/files/styles/people_thumbnail/public/pictures/picture-3247-1596134120.jpg?itok=iYARBh9N'}\n",
      "{'name': 'Emma Zang', 'title': 'Assistant Professor of Sociology', 'img': 'https://ceas.yale.edu/sites/default/files/styles/people_thumbnail/public/pictures/picture-3249-1642708160.jpg?itok=2pUn3S9M'}\n",
      "____________________________________________\n",
      "url: https://eeb.yale.edu/people/faculty\n",
      "len: 38\n",
      "{'name': 'Jenn Coughlan', 'title': 'Assistant Professor of Ecology and Evolutionary Biology', 'img': 'https://eeb.yale.edu/sites/default/files/styles/people_thumbnail/public/pictures/picture-708-1655300408.jpg?itok=X_PpmUVA'}\n",
      "{'name': 'J Rimas Vaisnys', 'title': 'Professor of Electrical Engineering', 'img': 'https://eeb.yale.edu/sites/default/files/styles/people_thumbnail/public/pictures/picture-145-1470253636.jpg?itok=uEcVbexn'}\n",
      "____________________________________________\n",
      "url: https://economics.yale.edu/people/faculty\n",
      "len: 51\n",
      "{'name': 'Donald Andrews', 'title': 'Tjalling C. Koopmans Professor of Economics and Professor of Management', 'img': 'https://economics.yale.edu/sites/default/files/styles/grad_student_image/public/don_andrews_2019_0_0_0_0_0_0_0_0_0_0_0_0_0_0_0_0_0_0_0.jpg?itok=QWOLm8Mg'}\n",
      "{'name': 'Fabrizio Zilibotti', 'title': 'Tuntex Professor of International and Development Economics', 'img': 'https://economics.yale.edu/sites/default/files/styles/grad_student_image/public/zilibotti-news-crop_0_0_0_0_0_0_0_0_0_0_0_0_0_0_0_0_0_0_0_0_0_0_0.jpg?itok=7OYT9Kiy'}\n",
      "____________________________________________\n",
      "url: https://seas.yale.edu/departments/electrical-engineering/faculty\n",
      "len: 24\n",
      "{'name': 'Dionysis Kalogerias', 'title': 'Assistant Professor', 'img': 'https://seas.yale.edu/sites/default/files/imagecache/person_list/kalogerias-web.jpg'}\n",
      "{'name': 'Peter Schultheiss', 'title': 'Professor Emeritus', 'img': 'https://seas.yale.edu/sites/default/files/imagecache/person_list/peter.jpeg'}\n",
      "____________________________________________\n",
      "url: https://seas.yale.edu/faculty-research/faculty-directory\n",
      "len: 43\n",
      "{'name': 'Charles Ahn', 'title': 'Professor', 'img': 'https://seas.yale.edu/sites/default/files/imagecache/person_list/ahn_0.jpg'}\n",
      "{'name': 'Alessandro Gomez', 'title': 'Professor', 'img': 'https://seas.yale.edu/sites/default/files/imagecache/person_list/gomez.jpg'}\n",
      "____________________________________________\n",
      "url: https://english.yale.edu/faculty-staff\n",
      "len: 106\n",
      "{'name': 'Jim Berger', 'title': 'Senior Lecturer in English and American Studies', 'img': 'https://english.yale.edu/sites/default/files/styles/people_thumbnail/public/pictures/picture-71-1408023966.jpg?itok=vaRbETux'}\n",
      "{'name': 'Carl Zimmer', 'title': 'Professor (Adjunct) of Molecular Biophysics and Biochemistry, Lecturer in English', 'img': 'https://english.yale.edu/sites/default/files/styles/people_thumbnail/public/pictures/picture-170-1565372759.jpg?itok=1bohBa1H'}\n",
      "____________________________________________\n",
      "url: https://erm.yale.edu/people\n",
      "len: 23\n",
      "{'name': 'Ned Blackhawk', 'title': 'Professor of History and of American Studies', 'img': 'https://erm.yale.edu/sites/default/files/styles/people_thumbnail/public/pictures/picture-36-1363872966.jpg?itok=292ORiRJ'}\n",
      "{'name': 'Zareena Grewal', 'title': ', Director of Undergraduate Studies at Ethnicity, Race, and Migration', 'img': 'https://erm.yale.edu/sites/default/files/styles/people_thumbnail/public/pictures/picture-30-1378308703.jpg?itok=KKV18Svp'}\n",
      "____________________________________________\n",
      "url: https://europeanstudies.macmillan.yale.edu/people/faculty\n",
      "len: 76\n",
      "{'name': 'Julia Adams', 'title': 'Margaret H. Marshall Professor of Sociology', 'img': 'https://europeanstudies.macmillan.yale.edu/sites/default/files/styles/people_thumbnail/public/pictures/picture-121-1495566786.jpg?itok=hwxwavVi'}\n",
      "{'name': 'Fabrizio Zilibotti', 'title': 'Tuntex Professor of International and Development Economics', 'img': 'https://europeanstudies.macmillan.yale.edu/sites/default/files/styles/people_thumbnail/public/pictures/picture-1361-1532542100.jpg?itok=Ej13kGs_'}\n",
      "____________________________________________\n",
      "url: https://filmstudies.yale.edu/people/faculty\n",
      "len: 23\n",
      "{'name': 'Jonathan Andrews', 'title': 'Lecturer in Art and in Film Studies', 'img': 'https://filmstudies.yale.edu/sites/default/files/styles/people_thumbnail/public/pictures/picture-139-1449714786.jpg?itok=Ie8_GMvg'}\n",
      "{'name': 'R. John Williams', 'title': 'Associate Professor of English and of Film Studies', 'img': 'https://filmstudies.yale.edu/sites/default/files/styles/people_thumbnail/public/pictures/picture-156-1461253841.jpg?itok=BJ-I7CL3'}\n",
      "____________________________________________\n",
      "url: https://environment.yale.edu/directory/faculty\n",
      "len: 50\n",
      "{'name': 'Shimon C. Anisfeld', 'title': 'Senior Lecturer and Research Scientist in Water Resources and Environmental Chemistry', 'img': '/sites/default/files/styles/204x255/public/content/images/4694/anisfeld_shimon.jpg?itok=3SI0Rui9'}\n",
      "{'name': 'Giuseppe Amatulli', 'title': 'Research Scientist in GeoComputation and Spatial Science', 'img': None}\n",
      "____________________________________________\n",
      "url: https://french.yale.edu/people/professors\n",
      "len: 10\n",
      "{'name': 'Morgane Cadieu', 'title': 'Associate Professor', 'img': 'https://french.yale.edu/sites/default/files/styles/large/public/pictures/picture-81-1635523063.jpg?itok=TF2hE1JZ'}\n",
      "{'name': 'Christophe Schuwey', 'title': 'Assistant Professor', 'img': 'https://french.yale.edu/sites/default/files/styles/large/public/pictures/picture-521-1567104476.jpg?itok=nmCBOFFB'}\n",
      "____________________________________________\n",
      "url: https://german.yale.edu/people/faculty\n",
      "len: 15\n",
      "{'name': 'Marion Gehlker', 'title': 'Senior Lector II of Germanic Languages & Literatures', 'img': 'https://german.yale.edu/sites/default/files/styles/people_thumbnail/public/pictures/picture-18-1366723389.jpg?itok=8TbJt4yD'}\n",
      "{'name': 'Kirk Wetters', 'title': 'Professor of Germanic Languages & Literatures and Department Chair', 'img': 'https://german.yale.edu/sites/default/files/styles/people_thumbnail/public/pictures/picture-32-1436459228.jpg?itok=MoSJ4cOG'}\n",
      "____________________________________________\n",
      "url: https://jackson.yale.edu/about/meet-us/faculty/professors-of-global-affairs/\n",
      "len: 12\n",
      "{'name': 'David C. Engerman', 'title': 'Leitner International Interdisciplinary Professor of History and Global Affairs', 'img': 'https://jackson.yale.edu/wp-content/uploads/2015/07/xDavid_Engerman-Faculty.jpg.pagespeed.ic.T7GLoKdus7.webp'}\n",
      "{'name': 'Arne Westad', 'title': 'Elihu Professor of History and Global Affairs', 'img': 'https://jackson.yale.edu/wp-content/uploads/2015/07/Arne_Westad-Faculty.jpg'}\n",
      "____________________________________________\n",
      "url: https://history.yale.edu/people/faculty\n",
      "len: 64\n",
      "{'name': 'Jennifer Allen', 'title': 'Associate Professor of History', 'img': 'https://history.yale.edu/sites/default/files/styles/people_thumbnail/public/pictures/picture-481-1549031856.jpg?itok=HpoJ0MiH'}\n",
      "{'name': 'Taisu Zhang', 'title': 'Professor of Law and History', 'img': 'https://history.yale.edu/sites/default/files/styles/people_thumbnail/public/pictures/picture-1347-1562081691.jpg?itok=Ekt_VZ3y'}\n",
      "____________________________________________\n",
      "url: https://arthistory.yale.edu/people/faculty\n",
      "len: 17\n",
      "{'name': 'Tim Barringer', 'title': 'Paul Mellon Professor in the History of Art', 'img': 'https://arthistory.yale.edu/sites/default/files/styles/228x269/public/pictures/picture-20-1475515186.jpg?itok=Pyj9IBY2'}\n",
      "{'name': 'Mimi Yiengpruksawan', 'title': 'Professor in the History of Art', 'img': 'https://arthistory.yale.edu/sites/default/files/styles/228x269/public/pictures/picture-72-1654094288.jpg?itok=IBDbBFtA'}\n",
      "____________________________________________\n",
      "url: https://hshm.yale.edu/people\n",
      "len: 12\n",
      "{'name': 'Paola Bertucci', 'title': 'Associate Professor of History and History of Medicine; Curator-in-charge, History of Science and Technology Division, Peabody Museum', 'img': 'https://hshm.yale.edu/sites/default/files/styles/people_thumbnail/public/pictures/picture-15-1502803457.jpg?itok=hYoNkD0H'}\n",
      "{'name': 'John Harley Warner', 'title': 'Avalon Professor of the History of Medicine; Professor of History and of American Studies; Chair of the Section of the History of Medicine (School of Medicine), Chair of the History of Science & Medicine Program (Spring 2021)', 'img': 'https://hshm.yale.edu/sites/default/files/styles/people_thumbnail/public/pictures/picture-40-1439210439.jpg?itok=knY-uRIz'}\n",
      "____________________________________________\n",
      "url: https://humanities.yale.edu/people/associated-faculty\n",
      "len: 119\n",
      "{'name': 'Dudley Andrew', 'title': 'R. Selden Rose Professor of Comparative Literature and Professor of Film Studies', 'img': 'https://humanities.yale.edu/sites/default/files/styles/people_thumbnail/public/pictures/picture-933-1565638764.jpg?itok=2IyMDBX4'}\n",
      "{'name': 'Yongtao Zhang', 'title': 'Senior Lector of East Asian Languages and Literatures', 'img': 'https://humanities.yale.edu/sites/default/files/styles/people_thumbnail/public/pictures/picture-944-1565641197.png?itok=5D9cTr5Y'}\n",
      "____________________________________________\n",
      "url: https://italian.yale.edu/people\n",
      "len: 8\n",
      "{'name': 'Serena Bassi', 'title': 'Assistant Professor', 'img': 'https://italian.yale.edu/sites/default/files/styles/people_thumbnail/public/pictures/picture-261-1654269947.jpg?itok=sxxu1uEa'}\n",
      "{'name': 'Jane Tylus', 'title': 'Andrew Downey Orrick Professor of Italian and Professor of Comparative Literature', 'img': 'https://italian.yale.edu/sites/default/files/styles/people_thumbnail/public/pictures/picture-201-1540318627.jpg?itok=4sQKiXcb'}\n",
      "____________________________________________\n",
      "url: https://law.yale.edu/faculty?combine=&field_type_value=Faculty\n",
      "len: 121\n",
      "{'name': 'Muneer I. Ahmad', 'title': 'Deputy Dean for Experiential Education, Sol Goldman Clinical Professor of Law', 'img': None}\n",
      "{'name': 'Taisu Zhang', 'title': 'Professor of Law', 'img': None}\n",
      "____________________________________________\n",
      "url: https://ling.yale.edu/people/faculty\n",
      "len: 13\n",
      "{'name': 'Roslyn Burns', 'title': 'Lecturer', 'img': 'https://ling.yale.edu/sites/default/files/styles/portrait_thumbnail_large/public/pictures/picture-354-1638978604.jpg?itok=O_W4v7B8'}\n",
      "{'name': 'Raffaella Zanuttini', 'title': 'Professor & Chair', 'img': 'https://ling.yale.edu/sites/default/files/styles/portrait_thumbnail_large/public/pictures/picture-21-1640212259.jpg?itok=gKq6w4XY'}\n",
      "____________________________________________\n",
      "url: https://som.yale.edu/faculty-research/faculty-directory\n",
      "len: 222\n",
      "{'name': 'Saed Alizamir', 'title': 'Associate Professor of Operations Management', 'img': None}\n",
      "{'name': 'Victor H. Vroom', 'title': 'BearingPoint Professor Emeritus of Management & Professor of Psychology', 'img': None}\n",
      "____________________________________________\n",
      "url: https://math.yale.edu/people\n",
      "len: 147\n",
      "{'name': 'Yariv Aizenbud', 'title': 'Gibbs Assistant Professor, Applied Mathematics', 'img': 'https://math.yale.edu/sites/default/files/styles/people_thumbnail/public/pictures/picture-1420-1565728087.png?itok=2cc6vinF'}\n",
      "{'name': 'Erin McAvoy', 'title': 'Director, Finance and Administration  Chemistry, Mathematics, Statistics and Data Science Departments  and Applied Mathematics Program', 'img': 'https://math.yale.edu/sites/default/files/styles/people_thumbnail/public/pictures/picture-896-1535548193.jpg?itok=JJN5Txzl'}\n",
      "____________________________________________\n",
      "url: https://seas.yale.edu/departments/mechanical-engineering-and-materials-science/faculty\n",
      "len: 20\n",
      "{'name': 'Charles Ahn', 'title': 'Professor', 'img': 'https://seas.yale.edu/sites/default/files/imagecache/person_list/ahn_0.jpg'}\n",
      "{'name': 'Joran Booth', 'title': 'Lecturer', 'img': 'https://seas.yale.edu/sites/default/files/imagecache/person_list/booth-web.jpg'}\n",
      "____________________________________________\n",
      "url: https://medieval.yale.edu/people/faculty\n",
      "len: 29\n",
      "{'name': 'Lucas Bender', 'title': 'Assistant Professor, East Asian Languages & Literatures', 'img': 'https://medieval.yale.edu/sites/default/files/styles/people_thumbnail/public/pictures/picture-176-1590703294.jpg?itok=l4SVPsPd'}\n",
      "{'name': 'James Patterson', 'title': 'Senior Lector I', 'img': None}\n",
      "____________________________________________\n",
      "url: https://cmes.macmillan.yale.edu/people/core-faculty\n",
      "len: 43\n",
      "{'name': 'Muhammad Aziz', 'title': 'Senior Lector in Arabic, Department of Near Eastern Languages and Civilizations, Appointed 2005', 'img': 'https://cmes.macmillan.yale.edu/sites/default/files/styles/people_thumbnail/public/muhammad_aziz.jpg?itok=zgw8_KsQ'}\n",
      "{'name': 'Travis Zadeh', 'title': 'Associate Professor of Religious Studies', 'img': 'https://cmes.macmillan.yale.edu/sites/default/files/styles/people_thumbnail/public/picture-333-1470340353.jpg?itok=NNSYPm06'}\n",
      "____________________________________________\n",
      "url: https://mcdb.yale.edu/people/faculty\n",
      "len: 32\n",
      "{'name': 'Ronald Breaker', 'title': 'Sterling Professor of Molecular, Cellular & Developmental Biology and Professor of Molecular Biophysics & Biochemistry; Investigator, Howard Hughes Medical Institute', 'img': 'https://mcdb.yale.edu/sites/default/files/styles/people_thumbnail/public/pictures/picture-136-1560952738.jpg?itok=ukz19W-h'}\n",
      "{'name': 'Weimin Zhong', 'title': 'Associate Professor of Molecular, Cellular & Developmental Biology', 'img': 'https://mcdb.yale.edu/sites/default/files/styles/people_thumbnail/public/pictures/picture-661-1503588816.jpg?itok=-wuFAij2'}\n",
      "____________________________________________\n",
      "url: https://yalemusic.yale.edu/people/faculty\n",
      "len: 5\n",
      "{'name': 'Jessica Peritz', 'title': 'Assistant Professor', 'img': 'https://yalemusic.yale.edu/sites/default/files/styles/people_thumbnail/public/pictures/picture-400-1564498056.jpg?itok=CeHA-UZE'}\n",
      "{'name': 'Lindsay Wright', 'title': 'Associate Research Scholar (2021-2022); Assistant Professor (effective 2022)', 'img': 'https://yalemusic.yale.edu/sites/default/files/styles/people_thumbnail/public/pictures/picture-435-1626358486.jpg?itok=MpxrzD89'}\n",
      "____________________________________________\n",
      "url: https://nelc.yale.edu/people/all\n",
      "len: 42\n",
      "{'name': 'Muhammad Aziz', 'title': 'Senior Lector I of Arabic; Certified ACTFL OPI Full Tester in Arabic', 'img': 'https://nelc.yale.edu/sites/default/files/styles/adaptive/adaptive-image/public/pictures/picture-44-1404401648.jpg?itok=qrULh21R'}\n",
      "{'name': 'Parker Zane', 'title': 'Graduate School Student', 'img': 'https://nelc.yale.edu/sites/default/files/styles/adaptive/adaptive-image/public/pictures/picture-515-1631570027.jpg?itok=kMJoHu17'}\n",
      "____________________________________________\n",
      "url: https://philosophy.yale.edu/people/faculty\n",
      "len: 22\n",
      "{'name': 'Shira Billet', 'title': 'Postdoctoral Associate', 'img': 'https://philosophy.yale.edu/sites/default/files/styles/people_thumbnail/public/pictures/picture-513-1625143234.jpg?itok=Z32RQ8Ke'}\n",
      "{'name': 'Gideon Yaffe', 'title': 'Wesley Newcomb Hohfeld Professor Prof Law Sch and Philosophy', 'img': 'https://philosophy.yale.edu/sites/default/files/styles/people_thumbnail/public/pictures/picture-83-1382381810.jpg?itok=l0G3bb96'}\n",
      "____________________________________________\n",
      "url: https://physics.yale.edu/people\n",
      "len: 38\n",
      "{'name': 'Thomas Appelquist', 'title': 'Eugene Higgins Professor of Physics', 'img': 'https://physics.yale.edu/sites/default/files/styles/people_thumbnail/public/pictures/picture-18-1571322557.jpg?itok=1xi7znvY'}\n",
      "{'name': 'Meg Urry', 'title': 'Israel Munson Professor of Physics', 'img': 'https://physics.yale.edu/sites/default/files/styles/people_thumbnail/public/pictures/picture-142-1357318825.jpg?itok=S-15EFhn'}\n",
      "____________________________________________\n",
      "url: https://politicalscience.yale.edu/people\n",
      "len: 86\n",
      "{'name': 'Sinclair Im', 'title': 'Graduate School Student', 'img': 'https://politicalscience.yale.edu/sites/default/files/styles/large/public/pictures/picture-3294-1656087715.jpg?itok=ILuOX18X'}\n",
      "{'name': 'Heather Wilford', 'title': 'Postdoctoral Fellow in Political Science', 'img': 'https://politicalscience.yale.edu/sites/default/files/styles/large/public/pictures/picture-3060-1596718505.jpg?itok=rU-bL6fF'}\n",
      "____________________________________________\n",
      "url: https://psychology.yale.edu/people/faculty/primary\n",
      "len: 27\n",
      "{'name': 'John Bargh', 'title': 'Professor of Psychology and Cognitive Science, and Professor of Management', 'img': 'https://psychology.yale.edu/sites/default/files/styles/people_thumbnail/public/pictures/picture-30-1414603308.png?itok=1PSPXIOz'}\n",
      "{'name': 'Ilker Yildirim', 'title': 'Assistant Professor of Psychology', 'img': 'https://psychology.yale.edu/sites/default/files/styles/people_thumbnail/public/pictures/picture-603-1569854904.png?itok=sa5zi5Et'}\n",
      "____________________________________________\n",
      "url: https://religiousstudies.yale.edu/people/faculty\n",
      "len: 18\n",
      "{'name': 'Stephen Davis', 'title': 'Woolsey Professor of Religious Studies and Professor of History', 'img': 'https://religiousstudies.yale.edu/sites/default/files/styles/people_thumbnail/public/pictures/picture-16-1651727622.jpg?itok=-xU-PZ2X'}\n",
      "{'name': 'Travis Zadeh', 'title': 'Associate Professor, Director of the Yale Program in Iranian Studies', 'img': 'https://religiousstudies.yale.edu/sites/default/files/styles/people_thumbnail/public/pictures/picture-333-1650460783.jpg?itok=IvLLoN7Y'}\n",
      "____________________________________________\n",
      "url: https://earlymodern.yale.edu/about-faculty\n",
      "len: 36\n",
      "{'name': 'Paola Bertucci', 'title': '- Associate Professor of History and History of Medicine', 'img': None}\n",
      "{'name': 'Jesús Velasco', 'title': '- Augustus R. Street Professor of Spanish & Portuguese and Comparative Literature', 'img': None}\n",
      "____________________________________________\n",
      "url: https://slavic.yale.edu/people/faculty\n",
      "len: 8\n",
      "{'name': 'Marijeta Bozovic', 'title': 'Assistant Professor of Slavic Languages & Literatures,  Film and Media Studies; Women’s, Gender, & Sexuality Studies', 'img': 'https://slavic.yale.edu/sites/default/files/styles/people_thumbnail/public/pictures/picture-16-1561557072.jpg?itok=RLtlh5Oi'}\n",
      "{'name': 'Nari Shelekpayev', 'title': 'Assistant Professor of Slavic Languages and Literatures', 'img': 'https://slavic.yale.edu/sites/default/files/styles/people_thumbnail/public/pictures/picture-290-1655993153.jpg?itok=WmX6MMP5'}\n",
      "____________________________________________\n",
      "url: https://sociology.yale.edu/people/faculty\n",
      "len: 14\n",
      "{'name': 'Jeffrey Alexander', 'title': 'Lillian Chavenson Saden Professor of Sociology, Co-Director, Center for Cultural Sociology', 'img': 'https://sociology.yale.edu/sites/default/files/styles/thumbnail/public/pictures/picture-37-1551973333.jpg?itok=ZAlE-FRP'}\n",
      "{'name': 'Emma Zang', 'title': 'Assistant Professor of Sociology and Biostatistics (Secondary)', 'img': 'https://sociology.yale.edu/sites/default/files/styles/thumbnail/public/pictures/picture-816-1641485023.jpg?itok=hyVhd4kA'}\n",
      "____________________________________________\n",
      "url: https://span-port.yale.edu/people\n",
      "len: 25\n",
      "{'name': 'Maria Pilar Asensio-Manrique', 'title': 'Senior Lector I of Spanish', 'img': 'https://span-port.yale.edu/sites/default/files/styles/people_thumbnail/public/pictures/picture-20-1651512330.jpg?itok=v7bd1eqf'}\n",
      "{'name': 'María M. Vázquez', 'title': 'Senior Lector I of Spanish', 'img': 'https://span-port.yale.edu/sites/default/files/styles/people_thumbnail/public/pictures/picture-103-1469633800.jpg?itok=rum7WCaR'}\n",
      "____________________________________________\n",
      "url: https://statistics.yale.edu/people/faculty\n",
      "len: 22\n",
      "{'name': 'Elisa Celis', 'title': 'Assistant Professor of Statistics & Data Science', 'img': 'https://statistics.yale.edu/sites/default/files/styles/people_user_image/public/pictures/picture-1274-1563890739.jpg?itok=9WAMwA7S'}\n",
      "{'name': 'Huibin Zhou', 'title': 'Henry Ford II Professor of Statistics & Data Science', 'img': 'https://statistics.yale.edu/sites/default/files/styles/people_user_image/public/pictures/picture-18-1362596863.jpg?itok=2hmUgMs3'}\n",
      "____________________________________________\n",
      "url: https://theaterstudies.yale.edu/people/faculty\n",
      "len: 27\n",
      "{'name': 'James Bundy', 'title': 'Dean & Artistic Dir & Prof Sch of Drama/Yale Rep Theatre', 'img': 'https://theaterstudies.yale.edu/sites/default/files/styles/people_thumbnail/public/pictures/picture-66-1410889085.jpg?itok=AEZiW4K8'}\n",
      "{'name': 'Gregory Wallace', 'title': 'Professor in the Practice of Acting', 'img': 'https://theaterstudies.yale.edu/sites/default/files/styles/people_thumbnail/public/pictures/picture-141-1484934906.jpg?itok=Ssjj6NK3'}\n",
      "____________________________________________\n",
      "url: https://wgss.yale.edu/people\n",
      "len: 52\n",
      "{'name': 'Fatima El-Tayeb', 'title': \"Professor of Women's, Gender, and Sexuality Studies and of Ethnicity, Race, and Migration\", 'img': 'https://wgss.yale.edu/sites/default/files/styles/people_thumbnail/public/pictures/picture-1312-1651839796.jpg?itok=fMkPllph'}\n",
      "{'name': 'Noel Valis', 'title': 'Professor Spanish', 'img': 'https://wgss.yale.edu/sites/default/files/styles/people_thumbnail/public/pictures/picture-181-1381346015.jpg?itok=AShBzHX_'}\n"
     ]
    }
   ],
   "source": [
    "completely_failed = []\n",
    "for department in yale:\n",
    "    if department.get('success') == False:\n",
    "        completely_failed.append(department.get('faculty_page'))\n",
    "    else:\n",
    "        res = department.get('profiles')\n",
    "        print(\"____________________________________________\")\n",
    "        print(f\"url: {department.get('faculty_page')}\")\n",
    "        print(f\"len: {len(res)}\")\n",
    "        print(res[1])\n",
    "        print(res[-1])"
   ]
  },
  {
   "cell_type": "code",
   "execution_count": 9,
   "id": "10949c02",
   "metadata": {
    "scrolled": false,
    "pycharm": {
     "name": "#%%\n"
    }
   },
   "outputs": [
    {
     "data": {
      "text/plain": [
       "['https://ide.yale.edu/alumni/alumni-directory',\n",
       " 'https://judaicstudies.yale.edu/people/core-faculty',\n",
       " 'https://clais.macmillan.yale.edu/people/faculty',\n",
       " 'https://mbb.yale.edu/people/faculty',\n",
       " 'https://southasia.macmillan.yale.edu/grants-fellowships/faculty']"
      ]
     },
     "execution_count": 9,
     "metadata": {},
     "output_type": "execute_result"
    }
   ],
   "source": [
    "completely_failed"
   ]
  },
  {
   "cell_type": "code",
   "execution_count": 10,
   "id": "b853b48a",
   "metadata": {
    "pycharm": {
     "name": "#%%\n"
    }
   },
   "outputs": [],
   "source": [
    "failed_directories = []\n",
    "for department in yale:\n",
    "    url = department.get('faculty_page')\n",
    "    if url in completely_failed:\n",
    "        failed_directories.append(department)"
   ]
  },
  {
   "cell_type": "code",
   "execution_count": 11,
   "id": "fc27e084",
   "metadata": {
    "pycharm": {
     "name": "#%%\n"
    }
   },
   "outputs": [],
   "source": [
    "with open(sys.path[0] + '/../data/yale/failed_directories.json', 'w') as f:\n",
    "    json.dump(failed_directories, f)"
   ]
  },
  {
   "cell_type": "code",
   "execution_count": 13,
   "id": "be3d59b7",
   "metadata": {
    "pycharm": {
     "name": "#%%\n"
    }
   },
   "outputs": [
    {
     "name": "stdout",
     "output_type": "stream",
     "text": [
      "success rate for testing (64 departments)= 0.92\n"
     ]
    }
   ],
   "source": [
    "failed_rate = len(failed_directories) / len(yale)\n",
    "print(f\"success rate for testing ({len(yale)} departments)= {1 - failed_rate:.2f}\")"
   ]
  }
 ],
 "metadata": {
  "kernelspec": {
   "display_name": "Python 3 (ipykernel)",
   "language": "python",
   "name": "python3"
  },
  "language_info": {
   "codemirror_mode": {
    "name": "ipython",
    "version": 3
   },
   "file_extension": ".py",
   "mimetype": "text/x-python",
   "name": "python",
   "nbconvert_exporter": "python",
   "pygments_lexer": "ipython3",
   "version": "3.9.7"
  }
 },
 "nbformat": 4,
 "nbformat_minor": 5
}