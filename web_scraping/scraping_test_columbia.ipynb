{
 "cells": [
  {
   "cell_type": "code",
   "execution_count": 7,
   "id": "862d52f2",
   "metadata": {},
   "outputs": [],
   "source": [
    "from scraping import Scraping\n",
    "import sys\n",
    "import json"
   ]
  },
  {
   "cell_type": "markdown",
   "id": "179ba680",
   "metadata": {},
   "source": [
    "# Test"
   ]
  },
  {
   "cell_type": "code",
   "execution_count": 2,
   "id": "e8b2c727",
   "metadata": {},
   "outputs": [],
   "source": [
    "s = Scraping()"
   ]
  },
  {
   "cell_type": "code",
   "execution_count": 8,
   "id": "3dda1a15",
   "metadata": {},
   "outputs": [],
   "source": [
    "with open(sys.path[0] + '/../data/columbia_directories_first_50_sans_med.json') as f:\n",
    "    columbia = json.load(f)"
   ]
  },
  {
   "cell_type": "code",
   "execution_count": 9,
   "id": "2216bea5",
   "metadata": {},
   "outputs": [],
   "source": [
    "for department in columbia:\n",
    "    url = department.get('faculty_page')\n",
    "    try:\n",
    "        res = s.get_department_info(url)\n",
    "        department.update({'success': True, 'profiles': res})\n",
    "    except:\n",
    "        department.update({'success': False})"
   ]
  },
  {
   "cell_type": "markdown",
   "id": "5bb7b545",
   "metadata": {},
   "source": [
    "# Result"
   ]
  },
  {
   "cell_type": "code",
   "execution_count": 10,
   "id": "c2dee163",
   "metadata": {},
   "outputs": [
    {
     "name": "stdout",
     "output_type": "stream",
     "text": [
      "____________________________________________\n",
      "url: https://www8.gsb.columbia.edu/faculty-research/divisions/accounting/faculty-research\n",
      "len: 25\n",
      "{'name': 'Tim Baldenius', 'title': 'Paul M. Montrone Professor of Private Enterprise in the Faculty of Business', 'img': '/cbs-directory/photo/tb171/110x90'}\n",
      "{'name': 'Susan Young', 'title': 'Adjunct Associate Professor of Business', 'img': '/cbs-directory/photo/smy2135'}\n",
      "____________________________________________\n",
      "url: https://afamstudies.columbia.edu/content/people\n",
      "len: 27\n",
      "{'name': 'Kellie E. Jones', 'title': 'Hans Hofmann Professor of Modern Art, Department of Art History and Archaeology; Chair African American and African Diaspora Studies', 'img': 'https://afamstudies.columbia.edu/sites/default/files/styles/cu_crop/public/content/k-jones.png?itok=OTKxY6Vu'}\n",
      "{'name': 'Tumelo Mosaka', 'title': 'Mellon Project Director and Curator, African American and Afircan Diaspora Studies', 'img': 'https://afamstudies.columbia.edu/sites/default/files/styles/cu_crop/public/content/Tumelo_Mosaka_Headshot.jpg?h=be01d3df&itok=j4Ak2_Yf'}\n",
      "____________________________________________\n",
      "url: https://africana.barnard.edu/faculty-6\n",
      "len: 5\n",
      "{'name': 'Yvette Christiansë', 'title': 'Ann Whitney Olin Professor of English and Africana Studies, Co-Chair of the Africana Studies Department', 'img': '/sites/default/files/styles/3_4_600x800_m/public/2021-03/Christianse-yvette-opt.jpg?h=72e0457b&itok=BaYZ2Thi'}\n",
      "{'name': 'Maja Horn', 'title': 'Associate Professor of Spanish & Latin American Cultures', 'img': '/sites/default/files/styles/3_4_600x800_m/public/Horn_Maja.jpg?itok=2_XOSsBC'}\n",
      "____________________________________________\n",
      "url: https://anthropology.barnard.edu/anthropology-faculty-staff\n",
      "len: 9\n",
      "{'name': 'Nadia Abu El-Haj', 'title': 'Professor of Anthropology', 'img': '/sites/default/files/styles/3_4_600x800_m/public/Nadia%20Pic%20%40CU%20Web0516_Hamptons_190%20copy.jpg?h=a7e6d17b&itok=FHmW4mnr'}\n",
      "{'name': 'Paige West', 'title': 'The Claire Tow Professor Of Anthropology', 'img': '/sites/default/files/styles/3_4_600x800_m/public/PWestbirdsPicjuly3019TU.jpeg?itok=riFEB0WN'}\n",
      "____________________________________________\n",
      "url: https://www.apam.columbia.edu/directory?gsarqfields%5Bbiotypetid%5D=30\n",
      "len: 11\n",
      "{'name': 'Mikhail  Alexandrov', 'title': 'Associate Research Scientist', 'img': 'https://www.apam.columbia.edu/files/seas/styles/300x300/public/content/bio_profile_image/2020/26/placeholder-male_0.png?itok=-u4VyNtn'}\n",
      "{'name': 'Daniel Bienstock', 'title': 'LIU FAMILY PROFESSOR OF INDUSTRIAL ENGINEERING AND OPERATIONS RESEARCH AND PROFESSOR OF APPLIED PHYSICS AND APPLIED MATHEMATICS', 'img': 'https://www.apam.columbia.edu/files/seas/styles/300x300/public/content/bio_profile_image/2018/37/bienstock.jpg?itok=mRzYNOAQ'}\n",
      "____________________________________________\n",
      "url: https://architecture.barnard.edu/faculty-profiles\n",
      "len: 15\n",
      "{'name': 'Karen Fairbanks', 'title': 'Professor of Professional Practice in Architecture', 'img': '/sites/default/files/styles/3_4_600x800_m/public/Fairbanks_Karen.jpg?itok=-KVDWunY'}\n",
      "{'name': 'Galen Pardee', 'title': 'Adjunct Assistant Professor', 'img': None}\n",
      "____________________________________________\n",
      "url: https://www.astro.columbia.edu/content/faculty\n",
      "len: 28\n",
      "{'name': 'Marcel Agüeros', 'title': 'Associate Professor, Astronomy', 'img': '/sites/default/files/styles/custom_crop_directory/public/2022-05/magueros.jpg?h=45bc008a&itok=rc0ua54g'}\n",
      "{'name': 'Tom Rice', 'title': 'Columbia Science Fellow, Astronomy; Lecturer, Astronomy; Visiting Scientist, AMNH', 'img': '/sites/default/files/styles/custom_crop_directory/public/content/pics/profiles/trice.jpg?itok=GZOn8VeN'}\n",
      "____________________________________________\n",
      "url: https://www.biology.columbia.edu/people/faculty-department\n",
      "len: 10\n",
      "{'name': 'Read more', 'title': 'Assistant Professor of Biological Sciences (in the Zuckerman Mind Brain Behavior Institute)', 'img': 'https://www.biology.columbia.edu/sites/default/files/styles/people_teaser/public/Ishmail%20photo.jpg?itok=CUhS7GS3'}\n",
      "{'name': 'Jia Lab Members', 'title': 'Professor, National Academies Education Fellow in the Life Sciences, Cancer Genetics and Epigenetics Program', 'img': 'https://www.biology.columbia.edu/sites/default/files/styles/people_teaser/public/Songtao_Jia_8x10_0.jpg?itok=FRwQo85U'}\n",
      "____________________________________________\n",
      "url: https://biology.barnard.edu/faculty-staff\n",
      "len: 20\n",
      "{'name': 'Mehrose Ahmad', 'title': 'Biology Department Staff', 'img': '/sites/default/files/styles/3_4_600x800_m/public/2021-08/Ahmad%2C%20Mehrose%20Headshot.jpeg?h=f0574bed&itok=cCKDbQoQ'}\n",
      "{'name': 'Allison Lopatkin', 'title': 'Assistant Professor of Biological Sciences', 'img': '/sites/default/files/styles/3_4_600x800_m/public/2019-11/headshot1%20copy.jpg?h=47547507&itok=UQyFCuS5'}\n",
      "____________________________________________\n",
      "url: https://www.bme.columbia.edu/directory?gsarqfields%5Bbiotypetid%5D=30\n",
      "len: 11\n",
      "{'name': 'Sunil K. Agrawal', 'title': 'PROFESSOR OF MECHANICAL ENGINEERING AND PROFESSOR OF REHABILITATION AND REGENERATIVE MEDICINE', 'img': 'https://www.bme.columbia.edu/files/seas/styles/300x300/public/content/bio_profile_image/2019/45/sunil_agrawal.jpeg?itok=-GCV07SH'}\n",
      "{'name': 'Hariklia Deligianni', 'title': 'Adjunct Professor Of Biomedical Engineering', 'img': 'https://www.bme.columbia.edu/files/seas/styles/300x300/public/content/bio_profile_image/2020/35/deligiannililli_photo.png?itok=sMzwtK5E'}\n",
      "____________________________________________\n",
      "url: https://www.publichealth.columbia.edu/people/our-faculty/search/?filter_department=Biostatistics\n",
      "len: 34\n",
      "{'name': 'Howard Andrews', 'title': 'Associate Professor', 'img': 'https://www.publichealth.columbia.edu/sites/default/files/styles/medium_262x317/public/jpg/hfa1_3_AndrewsHoward_C_130.jpg?itok=DmALWlmA'}\n",
      "{'name': 'Ying Wei', 'title': 'Professor', 'img': 'https://www.publichealth.columbia.edu/sites/default/files/styles/medium_262x317/public/jpg/yw2148_3_Wei_Ying_C_WY.jpg?itok=81s7XEtM'}\n",
      "____________________________________________\n",
      "url: https://www.cheme.columbia.edu/directory?gsarqfields%5Bbiotypetid%5D=30\n",
      "len: 11\n",
      "{'name': 'Scott Banta', 'title': 'PROFESSOR OF CHEMICAL ENGINEERING', 'img': 'https://www.cheme.columbia.edu/files/seas/styles/300x300/public/content/bio_profile_image/2017/23/banta_web.jpg?itok=MnzEv0KI'}\n",
      "{'name': 'Sanat K. Kumar', 'title': 'MICHAEL BYKHOVSKY AND CHARO GONZALEZ-BYKHOVSKY PROFESSOR OF CHEMICAL ENGINEERING', 'img': 'https://www.cheme.columbia.edu/files/seas/styles/300x300/public/content/bio_profile_image/2017/15/kumar.jpg?itok=WGgX7O6S'}\n",
      "____________________________________________\n",
      "url: https://chemistry.barnard.edu/faculty-staff-0\n",
      "len: 14\n",
      "{'name': 'Rachel Narehood Austin', 'title': 'Diana T. and P. Roy Vagelos Professor of Chemistry', 'img': '/sites/default/files/styles/3_4_600x800_m/public/Rachel%20Austin.jpg?itok=PtCZYXpr'}\n",
      "{'name': 'Jonelle White', 'title': 'Term Assistant Professor', 'img': '/sites/default/files/styles/3_4_600x800_m/public/Jonelle%20White_0.JPG?itok=q6vGm3Pe'}\n",
      "____________________________________________\n",
      "url: https://chem.columbia.edu/content/faculty\n",
      "len: 35\n",
      "{'name': 'Timothy C Berkelbach', 'title': 'Assistant Professor of Chemistry', 'img': '/sites/default/files/styles/custom_crop_directory/public/content/pics/people/faculty/Berkelbach.jpg?h=71947f9b&itok=tgSDyCMH'}\n",
      "{'name': 'Louis E. Brus', 'title': 'Special Research Scientist, and Samuel Latham Mitchill Professor Emeritus', 'img': '/sites/default/files/styles/custom_crop_directory/public/content/pics/people/faculty/LouisBrusLowRes.jpg?h=7d5d45b5&itok=DFp83Hf4'}\n",
      "____________________________________________\n",
      "url: https://www.civil.columbia.edu/directory/faculty\n",
      "len: 12\n",
      "{'name': 'Ali Ashrafi', 'title': 'Adjunct Assistant Professor', 'img': 'https://www.civil.columbia.edu/files/seas/styles/300x300/public/content/bio_profile_image/2018/37/placeholder-male.png?itok=zGpd5ZYP'}\n",
      "{'name': 'Marco Giometto', 'title': 'ASSISTANT PROFESSOR OF CIVIL ENGINEERING AND ENGINEERING MECHANICS', 'img': 'https://www.civil.columbia.edu/files/seas/styles/300x300/public/content/bio_profile_image/2018/49/dxp26214ps.jpg?itok=tlQtX0cV'}\n",
      "____________________________________________\n",
      "url: https://www.cs.columbia.edu/people/faculty/\n",
      "len: 72\n",
      "{'name': 'Alman, Josh', 'title': 'Assistant Professor of Computer Science', 'img': 'https://www.cs.columbia.edu/wp-content/themes/columbia-cs/assets/img/cv.png'}\n",
      "{'name': 'Yemini, Yechiam', 'title': 'Professor Emeritus', 'img': 'https://www.cs.columbia.edu/wp-content/themes/columbia-cs/assets/img/www.png'}\n",
      "____________________________________________\n",
      "url: https://dance.barnard.edu/dance-faculty\n",
      "len: 22\n",
      "{'name': 'Paul A. Scolieri', 'title': 'Chair & Professor of Dance', 'img': '/sites/default/files/styles/3_4_600x800_m/public/rev%20062_Paul_Scolieri_2162.jpg?h=a41baab4&itok=Zju99iPN'}\n",
      "{'name': 'Tricia Toliver', 'title': 'Lighting Designer/Technical Director', 'img': '/sites/default/files/styles/3_4_600x800_m/public/tricia%20pic.jpg?h=4f1b2b52&itok=gdi-bMkr'}\n",
      "____________________________________________\n",
      "url: https://www8.gsb.columbia.edu/faculty-research/divisions/decision-risk-operations/people/faculty\n",
      "len: 49\n",
      "{'name': 'Santiago Balseiro', 'title': 'Daniel W. Stanton Associate Professor of Business', 'img': '/cbs-directory/photo/srb2155/110x90'}\n",
      "{'name': 'Gustavo Vulcano', 'title': 'Adjunct Professor of Business', 'img': '/cbs-directory/photo/gjv9'}\n",
      "____________________________________________\n",
      "url: https://www.eee.columbia.edu/directory\n",
      "len: 11\n",
      "{'name': 'Giovann Achurra', 'title': 'Financial Assistant', 'img': 'https://www.eee.columbia.edu/files/seas/styles/300x300/public/content/bio_profile_image/2021/35/giovannachurra-300.jpg?itok=ZNPjST-_'}\n",
      "{'name': 'Pierre Gentine', 'title': 'MAURICE EWING AND J. LAMAR WORZEL PROFESSOR OF GEOPHYSICS IN THE DEPARTMENT OF EARTH AND ENVIRONMENTAL ENGINEERING AND PROFESSOR OF EARTH AND ENVIRONMENTAL SCIENCES', 'img': 'https://www.eee.columbia.edu/files/seas/styles/300x300/public/content/bio_profile_image/2019/26/pierre_gentine_300_0.jpg?itok=E1U_JgH-'}\n",
      "____________________________________________\n",
      "url: https://eesc.columbia.edu/content/faculty\n",
      "len: 40\n",
      "{'name': 'Ryan Abernathey', 'title': 'Associate Professor of Earth and Environmental Sciences', 'img': '/sites/default/files/styles/custom_crop_directory/public/content/pics/history/Ryan_Abernathey_headshot_2016%20-%20Ryan%20Abernathey.jpeg?h=52bf1be4&itok=8lzPAaV_'}\n",
      "{'name': 'Lynn R. Sykes', 'title': 'Higgins Professor Emeritus of Earth and Environmental Sciences', 'img': '/themes/custom/columbia/assets/img/people-default.svg'}\n",
      "____________________________________________\n",
      "url: http://ealac.columbia.edu/people/professors/\n",
      "len: 27\n",
      "{'name': 'Nicholas Bartlett', 'title': 'Assistant Professor of Contemporary Chinese Culture and Society, Barnard College', 'img': 'http://ealac.columbia.edu/wp-content/uploads/2015/02/Bartlett_square-235x235.jpg'}\n",
      "{'name': 'Madeleine Zelin', 'title': 'Dean Lung Professor of Chinese Studies', 'img': 'http://ealac.columbia.edu/wp-content/uploads/2017/02/Madeleine-Zelin-on-Mornngside-Drive-235x235.jpg'}\n",
      "____________________________________________\n",
      "url: https://economics.barnard.edu/faculty-and-staff-0\n",
      "len: 17\n",
      "{'name': 'Elizabeth Ananat', 'title': '(Mallya Professor of Women and Economics', 'img': None}\n",
      "{'name': 'Homa Zarghamee', 'title': '(Associate\\xa0Professor)', 'img': None}\n",
      "____________________________________________\n",
      "url: https://econ.columbia.edu/faculty/\n",
      "len: 54\n",
      "{'name': 'Hassan Afrouzi', 'title': 'Assistant Professor', 'img': 'https://asit-prod-web1.cc.columbia.edu/econdept/wp-content/uploads/sites/41/2017/10/afrouzi2-300x300.jpg'}\n",
      "{'name': 'Michael Woodford', 'title': 'John Bates Clark Professor of Political Economy', 'img': 'https://asit-prod-web1.cc.columbia.edu/econdept/wp-content/uploads/sites/41/2017/10/Woodford_2018-resized-for-website-300x300.jpg'}\n",
      "____________________________________________\n",
      "url: https://www.ee.columbia.edu/people-by-type/faculty\n",
      "len: 6\n",
      "{'name': 'Alexander L. Gaeta', 'title': 'David M. Rickey Professor of Applied Physics and Materials Science and Professor of Electrical Engineering, Dept Appl Physics & Appl Math', 'img': '/sites/default/files/styles/custom_crop_directory/public/content/pics/profiles/Gaeta_300.jpg?itok=8aYS58aj'}\n",
      "{'name': 'Paul Sajda', 'title': 'Professor of Biomedical Engineering, Radiology (Physics) and Electrical Engineering, Dept of Biomedical Engineering', 'img': '/sites/default/files/styles/custom_crop_directory/public/content/pics/profiles/sajda_4.jpg?itok=shjtp2W9'}\n",
      "____________________________________________\n",
      "url: https://english.columbia.edu/content/faculty\n",
      "len: 60\n",
      "{'name': 'James  Adams', 'title': 'Professor of English and Comparative Literature', 'img': 'https://english.columbia.edu/sites/default/files/styles/cu_crop/public/content/pics/IMG_2214.jpg?h=dd9b2bd9&itok=SeRx78pC'}\n",
      "{'name': 'Jean Franco', 'title': 'Professor Emerita of English and Comparative Literature', 'img': 'https://english.columbia.edu/sites/default/files/styles/cu_crop/public/content/pics/JFranco.jpg?h=7afe7d72&itok=_a-3wyNn'}\n",
      "____________________________________________\n",
      "url: https://www.publichealth.columbia.edu/people/our-faculty/search/?filter_department=Environmental%20Health%20Sciences\n",
      "len: 31\n",
      "{'name': 'David Brenner', 'title': 'Higgins Professor of Radiation Biophysics', 'img': 'https://www.publichealth.columbia.edu/sites/default/files/styles/medium_262x317/public/jpg/djb3_3_Brenner.jpg?itok=WTVYCSYP'}\n",
      "{'name': 'Lewis Ziska', 'title': 'Associate Professor', 'img': 'https://www.publichealth.columbia.edu/sites/default/files/styles/medium_262x317/public/jpg/lhz2103_ziska.jpg?itok=8N8PTcMj'}\n",
      "____________________________________________\n",
      "url: https://envsci.barnard.edu/faculty-and-staff-1\n",
      "len: 9\n",
      "{'name': 'Martin Stute', 'title': \"Alena Wels Hirschorn '58 and Martin Hirschorn Professor in Environmental and Applied Sciences and Co-Chair, Environmental Science Department\", 'img': '/sites/default/files/styles/3_4_600x800_m/public/Martin%20Photo%202019.jpg?itok=NNB3H7dG'}\n",
      "{'name': 'Dana Neacşu', 'title': 'Adjunct Professor in Environmental Science until Spring 2021', 'img': '/sites/default/files/styles/3_4_600x800_m/public/Dana%20Neacsu%20image.jpg?itok=FYHuunz4'}\n",
      "____________________________________________\n",
      "url: https://www.publichealth.columbia.edu/people/our-faculty/search/?filter_department=Epidemiology\n",
      "len: 93\n",
      "{'name': 'Quarraisha Abdool Karim', 'title': 'Professor', 'img': 'https://www.publichealth.columbia.edu/sites/default/files/styles/medium_262x317/public/jpg/qa4_Quarraisha%20Abdool%20Karim.jpg?itok=UAn5hOXS'}\n",
      "{'name': 'Wan Yang', 'title': 'Assistant Professor', 'img': 'https://www.publichealth.columbia.edu/sites/default/files/styles/medium_262x317/public/jpg/wy2202_Wan%20Yang.jpg?itok=wWfs4JH-'}\n",
      "____________________________________________\n",
      "url: https://www8.gsb.columbia.edu/faculty-research/divisions/finance/faculty\n",
      "len: 131\n",
      "{'name': 'Simona Abis', 'title': 'Assistant Professor of Business', 'img': '/cbs-directory/photo/sa3518/110x90'}\n",
      "{'name': 'Evan Zehnal', 'title': 'Adjunct Assistant Professor of Business', 'img': '/cbs-directory/photo/ejz2115'}\n",
      "____________________________________________\n",
      "url: https://french.barnard.edu/dept\n",
      "len: 8\n",
      "{'name': 'Peter Connor', 'title': 'Professor of French', 'img': '/sites/default/files/styles/3_4_600x800_m/public/Peter%20Connor.jpg?itok=ztDatLZE'}\n",
      "{'name': 'Sondra Phifer', 'title': 'Faculty Department Assistant', 'img': '/sites/default/files/styles/3_4_600x800_m/public/Untitled-1.png?itok=mipa-72d'}\n",
      "____________________________________________\n",
      "url: https://french.columbia.edu/faculty\n",
      "len: 26\n",
      "{'name': 'Peter Tracey Connor', 'title': 'Professor', 'img': '/sites/default/files/styles/custom_crop_directory/public/2017-04/cc_1.JPG?itok=McYTnRkT'}\n",
      "{'name': 'Samuel Skippon', 'title': 'Lecturer', 'img': '/sites/default/files/styles/custom_crop_directory/public/2016-11/samuel.JPG?h=81daafc3&itok=ddK3fCwE'}\n",
      "____________________________________________\n",
      "url: https://germanic.columbia.edu/people\n",
      "len: 23\n",
      "{'name': 'Stefan Andriopoulos', 'title': 'Professor', 'img': '/sites/default/files/styles/custom_crop_directory/public/2016-11/andriopolous%20%281%29.jpg?itok=t3IisltE'}\n",
      "{'name': 'Kerstin Hofmann', 'title': 'Staff', 'img': '/sites/default/files/styles/custom_crop_directory/public/content/Kerstin%20Hofmann.jpg?itok=SGMOTIhz'}\n"
     ]
    }
   ],
   "source": [
    "completely_failed = []\n",
    "for department in columbia:\n",
    "    if department.get('success') == False:\n",
    "        completely_failed.append(department.get('faculty_page'))\n",
    "    else:\n",
    "        res = department.get('profiles')\n",
    "        print(\"____________________________________________\")\n",
    "        print(f\"url: {department.get('faculty_page')}\")\n",
    "        print(f\"len: {len(res)}\")\n",
    "        print(res[0])\n",
    "        print(res[-1])"
   ]
  },
  {
   "cell_type": "code",
   "execution_count": 12,
   "id": "215ffe67",
   "metadata": {},
   "outputs": [],
   "source": [
    "not_loading_all = [\"https://www.apam.columbia.edu/directory?gsarqfields%5Bbiotypetid%5D=30\",\n",
    "    \"https://www.bme.columbia.edu/directory?gsarqfields%5Bbiotypetid%5D=30\",\n",
    "    \"https://www.cheme.columbia.edu/directory?gsarqfields%5Bbiotypetid%5D=30\",\n",
    "    \"https://www.civil.columbia.edu/directory/faculty\", \n",
    "    \"https://www.eee.columbia.edu/directory\"]\n",
    "also_completely_failed = [\"https://www.biology.columbia.edu/people/faculty-department\"]"
   ]
  },
  {
   "cell_type": "code",
   "execution_count": 13,
   "id": "3c41aab8",
   "metadata": {},
   "outputs": [],
   "source": [
    "completely_failed.extend(also_completely_failed)"
   ]
  },
  {
   "cell_type": "code",
   "execution_count": 15,
   "id": "2c75cad4",
   "metadata": {},
   "outputs": [
    {
     "data": {
      "text/plain": [
       "['https://anthropology.columbia.edu/content/faculty-directory',\n",
       " 'https://arthistory.barnard.edu/full-time-faculty',\n",
       " 'https://arthistory.columbia.edu/content/full-time-faculty',\n",
       " 'https://amec.barnard.edu/faculty-8',\n",
       " 'https://classics.barnard.edu/faculty-5',\n",
       " 'http://classics.columbia.edu/profiles',\n",
       " 'https://e3b.columbia.edu/faculty/',\n",
       " 'https://arts.columbia.edu/faculty',\n",
       " 'https://www.biology.columbia.edu/people/faculty-department']"
      ]
     },
     "execution_count": 15,
     "metadata": {},
     "output_type": "execute_result"
    }
   ],
   "source": [
    "completely_failed"
   ]
  },
  {
   "cell_type": "code",
   "execution_count": 14,
   "id": "be3d59b7",
   "metadata": {},
   "outputs": [
    {
     "name": "stdout",
     "output_type": "stream",
     "text": [
      "success_rate testing (for 40 departments)= 0.78\n"
     ]
    }
   ],
   "source": [
    "# not considering loading\n",
    "success_rate = len(completely_failed) / len(columbia)\n",
    "print(f\"success_rate testing (for {len(columbia)} departments)= {1 - success_rate:.2f}\")"
   ]
  },
  {
   "cell_type": "code",
   "execution_count": 16,
   "id": "50fd1055",
   "metadata": {},
   "outputs": [],
   "source": [
    "not_loading_items = [\"https://anthropology.columbia.edu/content/faculty-directory\", \n",
    "                     ]\n",
    "no_img = [\"https://arthistory.columbia.edu/content/full-time-faculty\",\n",
    "         \"https://arthistory.barnard.edu/full-time-faculty\",\n",
    "         \"https://classics.barnard.edu/faculty-5\",\n",
    "          \"https://e3b.columbia.edu/faculty/\",\n",
    "         \"https://arts.columbia.edu/faculty\"]\n"
   ]
  }
 ],
 "metadata": {
  "kernelspec": {
   "display_name": "Python 3 (ipykernel)",
   "language": "python",
   "name": "python3"
  },
  "language_info": {
   "codemirror_mode": {
    "name": "ipython",
    "version": 3
   },
   "file_extension": ".py",
   "mimetype": "text/x-python",
   "name": "python",
   "nbconvert_exporter": "python",
   "pygments_lexer": "ipython3",
   "version": "3.9.7"
  }
 },
 "nbformat": 4,
 "nbformat_minor": 5
}
