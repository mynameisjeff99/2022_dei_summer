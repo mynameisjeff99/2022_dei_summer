{
 "cells": [
  {
   "cell_type": "code",
   "execution_count": 172,
   "id": "eeceda77",
   "metadata": {
    "pycharm": {
     "name": "#%%\n"
    }
   },
   "outputs": [],
   "source": [
    "import sys\n",
    "import re\n",
    "import requests\n",
    "import time\n",
    "import json\n",
    "from bs4 import BeautifulSoup\n",
    "from webdriver_manager.chrome import ChromeDriverManager\n",
    "from selenium import webdriver\n",
    "from selenium.webdriver.chrome.service import Service\n",
    "from selenium.webdriver.chrome.options import Options"
   ]
  },
  {
   "cell_type": "markdown",
   "id": "166d7bf1",
   "metadata": {
    "pycharm": {
     "name": "#%% md\n"
    }
   },
   "source": [
    "# Methods"
   ]
  },
  {
   "cell_type": "code",
   "execution_count": 158,
   "id": "97157ac6",
   "metadata": {
    "pycharm": {
     "name": "#%%\n"
    }
   },
   "outputs": [],
   "source": [
    "user_agent = ''.join([\"user-agent=Mozilla/5.0 (Macintosh; Intel Mac OS X 10_15_4) \",\n",
    "                          \"AppleWebKit/537.36 (KHTML, like Gecko) Chrome/\",\n",
    "                           \"83.0.4103.97 Safari/537.36\"])"
   ]
  },
  {
   "cell_type": "code",
   "execution_count": 164,
   "id": "ec5a6e6b",
   "metadata": {
    "pycharm": {
     "name": "#%%\n"
    }
   },
   "outputs": [],
   "source": [
    "def get_school_url(unitid):\n",
    "    return f\"https://nces.ed.gov/ipeds/datacenter/facsimileView.aspx?unitid={unitid}&goToReportId=6&year=2020&surveyNumber=9\""
   ]
  },
  {
   "cell_type": "code",
   "execution_count": 2,
   "id": "3410ccd3",
   "metadata": {
    "pycharm": {
     "name": "#%%\n"
    }
   },
   "outputs": [],
   "source": [
    "def get_driver():\n",
    "    opts = Options()\n",
    "    opts.add_argument(user_agent)\n",
    "    opts.add_argument(\"start-maximized\")\n",
    "    driver = webdriver.Chrome(service=Service(ChromeDriverManager().install()), options=opts)\n",
    "    return driver"
   ]
  },
  {
   "cell_type": "code",
   "execution_count": null,
   "id": "5128b276",
   "metadata": {
    "pycharm": {
     "name": "#%%\n"
    }
   },
   "outputs": [],
   "source": [
    "def get_soup(url, driver):\n",
    "    driver.get(url)\n",
    "    time.sleep(5)\n",
    "    html = driver.page_source\n",
    "    return BeautifulSoup(html, 'html5lib').body"
   ]
  },
  {
   "cell_type": "code",
   "execution_count": 108,
   "id": "a14f2c85",
   "metadata": {
    "pycharm": {
     "name": "#%%\n"
    }
   },
   "outputs": [],
   "source": [
    "ranks = [\"professors\", \"associate professors\", \"assistant professors\"]\n",
    "race_dict = {\"Hispanic/Latino\": \"hispanic\",\n",
    "             \"American Indian or Alaska Native\": \"aian\",\n",
    "             \"Asian\": \"api\",\n",
    "             \"Black or African American\": \"black\",\n",
    "             \"Native Hawaiian or Other Pacific Islander\": \"api\", \n",
    "             \"White\": \"white\"}\n",
    "ignored = [\"Nonresident alien\", \"Two or more races\", \"Race and ethnicity unknown\"]"
   ]
  },
  {
   "cell_type": "code",
   "execution_count": 159,
   "id": "c2338556",
   "metadata": {
    "pycharm": {
     "name": "#%%\n"
    }
   },
   "outputs": [],
   "source": [
    "def get_tenured_tenure_track_data(soup):\n",
    "    male_data = {}\n",
    "    female_data = {}\n",
    "    for race in race_dict.values():\n",
    "        male_data[race] = {\"professors\": 0, \"associate professors\": 0,\n",
    "                          \"assistant professors\": 0}\n",
    "        female_data[race] = {\"professors\": 0, \"associate professors\": 0,\n",
    "                          \"assistant professors\": 0}\n",
    "    \n",
    "    sections = soup.find_all(\"table\", class_=\"sc survey-t\")\n",
    "    \n",
    "    for i in range(1,7):\n",
    "        section = sections[i]\n",
    "        rows = section.find_all('tr')\n",
    "        male_rows = rows[:16]\n",
    "        female_rows = rows[16:]\n",
    "        get_info(male_rows, male_data)\n",
    "        get_info(female_rows, female_data)\n",
    "    \n",
    "    return {\"male\": male_data, \"female\": female_data}"
   ]
  },
  {
   "cell_type": "code",
   "execution_count": 167,
   "id": "d70f4858",
   "metadata": {
    "pycharm": {
     "name": "#%%\n"
    }
   },
   "outputs": [],
   "source": [
    "def get_info(rows, dictionary):\n",
    "    for row in rows:\n",
    "        input_tags = row.find_all(\"input\")\n",
    "        if len(input_tags) != 6:\n",
    "            continue\n",
    "        race = row.text\n",
    "        race = re.sub(\"[^a-zA-Z_/ ]\", \"\", race).strip()\n",
    "        if race in ignored:\n",
    "            continue\n",
    "        race = race_dict[race]\n",
    "        target_dict = dictionary[race]\n",
    "        for i in range(3):\n",
    "            if input_tags[i].has_attr(\"value\"):\n",
    "                val = int(input_tags[i][\"value\"])\n",
    "                target_dict.update({ranks[i]:\n",
    "                                    target_dict[ranks[i]] + val})"
   ]
  },
  {
   "cell_type": "markdown",
   "id": "c7ac5b66",
   "metadata": {
    "pycharm": {
     "name": "#%% md\n"
    }
   },
   "source": [
    "# Application"
   ]
  },
  {
   "cell_type": "code",
   "execution_count": 161,
   "id": "df358acb",
   "metadata": {
    "pycharm": {
     "name": "#%%\n"
    }
   },
   "outputs": [],
   "source": [
    "# can be found at https://nces.ed.gov/\n",
    "school_unitid = {\"columbia\": 190150,\n",
    "                 \"dartmouth\": 182670,\n",
    "                 \"yale\": 130794,\n",
    "                 \"princeton\": 186131,\n",
    "                 \"brown\": 217156, \n",
    "                 \"cornell\": 190415, \n",
    "                 \"upenn\": 215062, \n",
    "                 \"harvard\": 166027}"
   ]
  },
  {
   "cell_type": "code",
   "execution_count": 162,
   "id": "bad5b93d",
   "metadata": {
    "pycharm": {
     "name": "#%%\n"
    }
   },
   "outputs": [
    {
     "name": "stdout",
     "output_type": "stream",
     "text": [
      "\n"
     ]
    }
   ],
   "source": [
    "driver = get_driver()"
   ]
  },
  {
   "cell_type": "code",
   "execution_count": 168,
   "id": "e6d86e57",
   "metadata": {
    "pycharm": {
     "name": "#%%\n"
    }
   },
   "outputs": [],
   "source": [
    "schools = {}\n",
    "for school, unitid in school_unitid.items():\n",
    "    school_url = get_school_url(unitid)\n",
    "    soup = get_soup(school_url, driver)\n",
    "    data = get_tenured_tenure_track_data(soup)\n",
    "    schools[school] = data"
   ]
  },
  {
   "cell_type": "code",
   "execution_count": 171,
   "id": "3c573c0f",
   "metadata": {
    "pycharm": {
     "name": "#%%\n"
    }
   },
   "outputs": [
    {
     "data": {
      "text/plain": [
       "{'columbia': {'male': {'hispanic': {'professors': 27,\n",
       "    'associate professors': 17,\n",
       "    'assistant professors': 40},\n",
       "   'aian': {'professors': 1,\n",
       "    'associate professors': 0,\n",
       "    'assistant professors': 0},\n",
       "   'api': {'professors': 137,\n",
       "    'associate professors': 82,\n",
       "    'assistant professors': 123},\n",
       "   'black': {'professors': 36,\n",
       "    'associate professors': 14,\n",
       "    'assistant professors': 30},\n",
       "   'white': {'professors': 758,\n",
       "    'associate professors': 264,\n",
       "    'assistant professors': 400}},\n",
       "  'female': {'hispanic': {'professors': 13,\n",
       "    'associate professors': 15,\n",
       "    'assistant professors': 75},\n",
       "   'aian': {'professors': 1,\n",
       "    'associate professors': 1,\n",
       "    'assistant professors': 1},\n",
       "   'api': {'professors': 57,\n",
       "    'associate professors': 65,\n",
       "    'assistant professors': 212},\n",
       "   'black': {'professors': 21,\n",
       "    'associate professors': 13,\n",
       "    'assistant professors': 46},\n",
       "   'white': {'professors': 321,\n",
       "    'associate professors': 203,\n",
       "    'assistant professors': 504}}},\n",
       " 'dartmouth': {'male': {'hispanic': {'professors': 8,\n",
       "    'associate professors': 6,\n",
       "    'assistant professors': 3},\n",
       "   'aian': {'professors': 2,\n",
       "    'associate professors': 0,\n",
       "    'assistant professors': 1},\n",
       "   'api': {'professors': 17,\n",
       "    'associate professors': 11,\n",
       "    'assistant professors': 10},\n",
       "   'black': {'professors': 2,\n",
       "    'associate professors': 3,\n",
       "    'assistant professors': 5},\n",
       "   'white': {'professors': 191,\n",
       "    'associate professors': 83,\n",
       "    'assistant professors': 42}},\n",
       "  'female': {'hispanic': {'professors': 6,\n",
       "    'associate professors': 8,\n",
       "    'assistant professors': 3},\n",
       "   'aian': {'professors': 1,\n",
       "    'associate professors': 0,\n",
       "    'assistant professors': 0},\n",
       "   'api': {'professors': 6,\n",
       "    'associate professors': 7,\n",
       "    'assistant professors': 8},\n",
       "   'black': {'professors': 2,\n",
       "    'associate professors': 8,\n",
       "    'assistant professors': 4},\n",
       "   'white': {'professors': 71,\n",
       "    'associate professors': 49,\n",
       "    'assistant professors': 39}}},\n",
       " 'yale': {'male': {'hispanic': {'professors': 27,\n",
       "    'associate professors': 11,\n",
       "    'assistant professors': 18},\n",
       "   'aian': {'professors': 1,\n",
       "    'associate professors': 0,\n",
       "    'assistant professors': 1},\n",
       "   'api': {'professors': 79,\n",
       "    'associate professors': 76,\n",
       "    'assistant professors': 58},\n",
       "   'black': {'professors': 23,\n",
       "    'associate professors': 10,\n",
       "    'assistant professors': 10},\n",
       "   'white': {'professors': 607,\n",
       "    'associate professors': 210,\n",
       "    'assistant professors': 167}},\n",
       "  'female': {'hispanic': {'professors': 9,\n",
       "    'associate professors': 16,\n",
       "    'assistant professors': 19},\n",
       "   'aian': {'professors': 0,\n",
       "    'associate professors': 0,\n",
       "    'assistant professors': 0},\n",
       "   'api': {'professors': 36,\n",
       "    'associate professors': 46,\n",
       "    'assistant professors': 66},\n",
       "   'black': {'professors': 13,\n",
       "    'associate professors': 13,\n",
       "    'assistant professors': 20},\n",
       "   'white': {'professors': 196,\n",
       "    'associate professors': 151,\n",
       "    'assistant professors': 176}}},\n",
       " 'princeton': {'male': {'hispanic': {'professors': 10,\n",
       "    'associate professors': 5,\n",
       "    'assistant professors': 6},\n",
       "   'aian': {'professors': 0,\n",
       "    'associate professors': 0,\n",
       "    'assistant professors': 0},\n",
       "   'api': {'professors': 40,\n",
       "    'associate professors': 5,\n",
       "    'assistant professors': 11},\n",
       "   'black': {'professors': 12,\n",
       "    'associate professors': 2,\n",
       "    'assistant professors': 2},\n",
       "   'white': {'professors': 288,\n",
       "    'associate professors': 57,\n",
       "    'assistant professors': 53}},\n",
       "  'female': {'hispanic': {'professors': 2,\n",
       "    'associate professors': 3,\n",
       "    'assistant professors': 4},\n",
       "   'aian': {'professors': 0,\n",
       "    'associate professors': 0,\n",
       "    'assistant professors': 0},\n",
       "   'api': {'professors': 9,\n",
       "    'associate professors': 8,\n",
       "    'assistant professors': 10},\n",
       "   'black': {'professors': 8,\n",
       "    'associate professors': 1,\n",
       "    'assistant professors': 5},\n",
       "   'white': {'professors': 100,\n",
       "    'associate professors': 36,\n",
       "    'assistant professors': 30}}},\n",
       " 'brown': {'male': {'hispanic': {'professors': 10,\n",
       "    'associate professors': 4,\n",
       "    'assistant professors': 6},\n",
       "   'aian': {'professors': 0,\n",
       "    'associate professors': 0,\n",
       "    'assistant professors': 0},\n",
       "   'api': {'professors': 33,\n",
       "    'associate professors': 8,\n",
       "    'assistant professors': 10},\n",
       "   'black': {'professors': 12,\n",
       "    'associate professors': 5,\n",
       "    'assistant professors': 7},\n",
       "   'white': {'professors': 238,\n",
       "    'associate professors': 66,\n",
       "    'assistant professors': 41}},\n",
       "  'female': {'hispanic': {'professors': 4,\n",
       "    'associate professors': 3,\n",
       "    'assistant professors': 7},\n",
       "   'aian': {'professors': 0,\n",
       "    'associate professors': 0,\n",
       "    'assistant professors': 1},\n",
       "   'api': {'professors': 9,\n",
       "    'associate professors': 14,\n",
       "    'assistant professors': 9},\n",
       "   'black': {'professors': 4,\n",
       "    'associate professors': 8,\n",
       "    'assistant professors': 3},\n",
       "   'white': {'professors': 87,\n",
       "    'associate professors': 43,\n",
       "    'assistant professors': 27}}},\n",
       " 'cornell': {'male': {'hispanic': {'professors': 10,\n",
       "    'associate professors': 13,\n",
       "    'assistant professors': 10},\n",
       "   'aian': {'professors': 2,\n",
       "    'associate professors': 1,\n",
       "    'assistant professors': 1},\n",
       "   'api': {'professors': 64,\n",
       "    'associate professors': 31,\n",
       "    'assistant professors': 15},\n",
       "   'black': {'professors': 11,\n",
       "    'associate professors': 8,\n",
       "    'assistant professors': 6},\n",
       "   'white': {'professors': 446,\n",
       "    'associate professors': 167,\n",
       "    'assistant professors': 112}},\n",
       "  'female': {'hispanic': {'professors': 8,\n",
       "    'associate professors': 11,\n",
       "    'assistant professors': 9},\n",
       "   'aian': {'professors': 0,\n",
       "    'associate professors': 1,\n",
       "    'assistant professors': 0},\n",
       "   'api': {'professors': 27,\n",
       "    'associate professors': 18,\n",
       "    'assistant professors': 26},\n",
       "   'black': {'professors': 8,\n",
       "    'associate professors': 11,\n",
       "    'assistant professors': 10},\n",
       "   'white': {'professors': 160,\n",
       "    'associate professors': 122,\n",
       "    'assistant professors': 80}}},\n",
       " 'upenn': {'male': {'hispanic': {'professors': 21,\n",
       "    'associate professors': 11,\n",
       "    'assistant professors': 11},\n",
       "   'aian': {'professors': 0,\n",
       "    'associate professors': 0,\n",
       "    'assistant professors': 0},\n",
       "   'api': {'professors': 94,\n",
       "    'associate professors': 42,\n",
       "    'assistant professors': 42},\n",
       "   'black': {'professors': 13,\n",
       "    'associate professors': 10,\n",
       "    'assistant professors': 8},\n",
       "   'white': {'professors': 576,\n",
       "    'associate professors': 159,\n",
       "    'assistant professors': 118}},\n",
       "  'female': {'hispanic': {'professors': 5,\n",
       "    'associate professors': 10,\n",
       "    'assistant professors': 11},\n",
       "   'aian': {'professors': 1,\n",
       "    'associate professors': 0,\n",
       "    'assistant professors': 0},\n",
       "   'api': {'professors': 29,\n",
       "    'associate professors': 25,\n",
       "    'assistant professors': 30},\n",
       "   'black': {'professors': 15,\n",
       "    'associate professors': 10,\n",
       "    'assistant professors': 11},\n",
       "   'white': {'professors': 191,\n",
       "    'associate professors': 81,\n",
       "    'assistant professors': 125}}},\n",
       " 'harvard': {'male': {'hispanic': {'professors': 24,\n",
       "    'associate professors': 8,\n",
       "    'assistant professors': 7},\n",
       "   'aian': {'professors': 1,\n",
       "    'associate professors': 0,\n",
       "    'assistant professors': 0},\n",
       "   'api': {'professors': 99,\n",
       "    'associate professors': 22,\n",
       "    'assistant professors': 24},\n",
       "   'black': {'professors': 32,\n",
       "    'associate professors': 3,\n",
       "    'assistant professors': 11},\n",
       "   'white': {'professors': 687,\n",
       "    'associate professors': 67,\n",
       "    'assistant professors': 64}},\n",
       "  'female': {'hispanic': {'professors': 14,\n",
       "    'associate professors': 5,\n",
       "    'assistant professors': 4},\n",
       "   'aian': {'professors': 0,\n",
       "    'associate professors': 0,\n",
       "    'assistant professors': 1},\n",
       "   'api': {'professors': 33,\n",
       "    'associate professors': 17,\n",
       "    'assistant professors': 19},\n",
       "   'black': {'professors': 21,\n",
       "    'associate professors': 3,\n",
       "    'assistant professors': 5},\n",
       "   'white': {'professors': 251,\n",
       "    'associate professors': 50,\n",
       "    'assistant professors': 63}}}}"
      ]
     },
     "execution_count": 171,
     "metadata": {},
     "output_type": "execute_result"
    }
   ],
   "source": [
    "schools"
   ]
  },
  {
   "cell_type": "code",
   "execution_count": 174,
   "id": "75462bba",
   "metadata": {
    "pycharm": {
     "name": "#%%\n"
    }
   },
   "outputs": [],
   "source": [
    "for school, data in schools.items():\n",
    "    path = sys.path[0] + f'/../data/{school}/{school}_nces.json'\n",
    "    with open(path, 'w') as file:\n",
    "        json.dump(data, file)"
   ]
  },
  {
   "cell_type": "code",
   "execution_count": null,
   "id": "1ff07c9e",
   "metadata": {
    "pycharm": {
     "name": "#%%\n"
    }
   },
   "outputs": [],
   "source": []
  }
 ],
 "metadata": {
  "kernelspec": {
   "display_name": "Python 3 (ipykernel)",
   "language": "python",
   "name": "python3"
  },
  "language_info": {
   "codemirror_mode": {
    "name": "ipython",
    "version": 3
   },
   "file_extension": ".py",
   "mimetype": "text/x-python",
   "name": "python",
   "nbconvert_exporter": "python",
   "pygments_lexer": "ipython3",
   "version": "3.9.12"
  }
 },
 "nbformat": 4,
 "nbformat_minor": 5
}