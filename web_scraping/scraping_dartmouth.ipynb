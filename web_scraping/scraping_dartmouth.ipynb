{
 "cells": [
  {
   "cell_type": "code",
   "execution_count": 2,
   "id": "862d52f2",
   "metadata": {},
   "outputs": [],
   "source": [
    "from scraping import Scraping\n",
    "import sys\n",
    "import json"
   ]
  },
  {
   "cell_type": "markdown",
   "id": "179ba680",
   "metadata": {},
   "source": [
    "# Test"
   ]
  },
  {
   "cell_type": "code",
   "execution_count": 3,
   "id": "e8b2c727",
   "metadata": {},
   "outputs": [
    {
     "name": "stdout",
     "output_type": "stream",
     "text": [
      "\n"
     ]
    },
    {
     "name": "stderr",
     "output_type": "stream",
     "text": [
      "[WDM] - ====== WebDriver manager ======\n",
      "[WDM] - Current google-chrome version is 100.0.4896\n",
      "[WDM] - Get LATEST chromedriver version for 100.0.4896 google-chrome\n",
      "[WDM] - Driver [C:\\Users\\GuoshengCai\\.wdm\\drivers\\chromedriver\\win32\\100.0.4896.60\\chromedriver.exe] found in cache\n"
     ]
    }
   ],
   "source": [
    "scraping = Scraping()"
   ]
  },
  {
   "cell_type": "code",
   "execution_count": 4,
   "id": "3dda1a15",
   "metadata": {},
   "outputs": [],
   "source": [
    "with open(sys.path[0] + '/../data/dartmouth/dartmouth_directories_sans_med.json') as f:\n",
    "    dartmouth = json.load(f)"
   ]
  },
  {
   "cell_type": "code",
   "execution_count": 5,
   "id": "2216bea5",
   "metadata": {},
   "outputs": [],
   "source": [
    "for department in dartmouth:\n",
    "    url = department.get('faculty_page')\n",
    "    try:\n",
    "        res = scraping.get_department_info(url)\n",
    "        department.update({'success': True, 'profiles': res})\n",
    "    except:\n",
    "        department.update({'success': False})"
   ]
  },
  {
   "cell_type": "code",
   "execution_count": 12,
   "id": "dd00a83d",
   "metadata": {},
   "outputs": [],
   "source": [
    "with open(sys.path[0] + '/../data/dartmouth/dartmouth_test_sans_processing.json', 'w') as f:\n",
    "    json.dump(dartmouth, f)"
   ]
  },
  {
   "cell_type": "markdown",
   "id": "5bb7b545",
   "metadata": {},
   "source": [
    "# Result"
   ]
  },
  {
   "cell_type": "code",
   "execution_count": 6,
   "id": "c2dee163",
   "metadata": {},
   "outputs": [
    {
     "name": "stdout",
     "output_type": "stream",
     "text": [
      "____________________________________________\n",
      "url: https://aaas.dartmouth.edu/people?field_people_local_tags_tid=2596\n",
      "len: 18\n",
      "{'name': 'Joshua Brandon Bennett', 'title': 'Professor of English and Creative Writing', 'img': 'https://aaas.dartmouth.edu/sites/african_african_american_studies_program/files/styles/profile_portrait/public/img_9500.jpg?itok=Wo2NlJwd'}\n",
      "{'name': 'Jesse Weaver Shipley', 'title': 'John D. Willard Professor of African and African American Studies and Oratory; Affiliated Department of Anthropology', 'img': 'https://aaas.dartmouth.edu/sites/african_african_american_studies_program/files/styles/profile_portrait/public/img_1432_1.jpg?itok=CkwT8OSV'}\n",
      "____________________________________________\n",
      "url: https://anthropology.dartmouth.edu/people/people?field_people_local_tags_tid=5451\n",
      "len: 14\n",
      "{'name': 'Elizabeth A. Carpenter-Song', 'title': 'Research Associate Professor', 'img': 'https://anthropology.dartmouth.edu/sites/anthropology.prod/files/styles/profile_portrait/public/ecsv2-400x268_copy.jpg?itok=U3RxyILe'}\n",
      "{'name': 'John M. Watanabe', 'title': 'Associate Professor of Anthropology', 'img': 'https://anthropology.dartmouth.edu/sites/anthropology.prod/files/styles/profile_portrait/public/200_original_2.jpg?itok=U-6EEleO'}\n",
      "____________________________________________\n",
      "url: https://arthistory.dartmouth.edu/people?field_people_local_tags_tid=1546\n",
      "len: 8\n",
      "{'name': 'Mary K. Coffey', 'title': 'Professor of Art History', 'img': 'https://arthistory.dartmouth.edu/sites/art_history.prod/files/styles/profile_portrait/public/coffey_photo_1.jpg?itok=jYsde7yT'}\n",
      "{'name': 'Sunglim Kim', 'title': 'Associate Professor of Art History', 'img': 'https://arthistory.dartmouth.edu/sites/art_history.prod/files/styles/profile_portrait/public/648_original.jpg?itok=I4Zgvvqw'}\n",
      "____________________________________________\n",
      "url: https://ascl.dartmouth.edu/people?field_people_local_tags_tid=2016\n",
      "len: 5\n",
      "{'name': 'Sachi Schmidt-Hori', 'title': 'Associate Professor of Japanese Literature and Culture', 'img': 'https://ascl.dartmouth.edu/sites/asian_societies_cultures_languages.prod/files/styles/profile_portrait/public/sachi_2.jpg?itok=7mEb89kt'}\n",
      "{'name': 'Miya Qiong Xie', 'title': 'Assistant Professor of Chinese and Comparative East Asian Literature', 'img': 'https://ascl.dartmouth.edu/sites/asian_societies_cultures_languages.prod/files/styles/profile_portrait/public/20180212_xie_eb_031.jpg?itok=BhICukWx'}\n",
      "____________________________________________\n",
      "url: https://biology.dartmouth.edu/people?field_people_local_tags_tid=1191\n",
      "len: 25\n",
      "{'name': 'Matthew P. Ayres', 'title': 'Professor of Biological Sciences', 'img': 'https://biology.dartmouth.edu/sites/department_biology/files/styles/profile_portrait/public/mayres.hs_.jpg?itok=wdHnDx4K'}\n",
      "{'name': 'Olga Zhaxybayeva', 'title': 'Associate Professor of Biological Sciences', 'img': 'https://biology.dartmouth.edu/sites/department_biology/files/styles/profile_portrait/public/olga.zhaxybayeva_0_1.jpeg?itok=El9YQCa7'}\n",
      "____________________________________________\n",
      "url: https://chemistry.dartmouth.edu/people?field_people_local_tags_tid=1626\n",
      "len: 16\n",
      "{'name': 'Robert S. Cantor', 'title': 'Professor of Chemistry', 'img': 'https://chemistry.dartmouth.edu/sites/department_chemistry/files/styles/profile_portrait/public/default_images/facdir_default.jpg?itok=SwM_V3IC'}\n",
      "{'name': 'Wenlin Zhang', 'title': 'Assistant Professor of Chemistry', 'img': 'https://chemistry.dartmouth.edu/sites/department_chemistry/files/styles/profile_portrait/public/photo2.jpg?itok=lClztcFN'}\n",
      "____________________________________________\n",
      "url: https://classics.dartmouth.edu/people?field_people_local_tags_tid=1241\n",
      "len: 6\n",
      "{'name': 'Jennifer K. Lynn', 'title': 'Language Program Director', 'img': 'https://classics.dartmouth.edu/sites/department_classics.prod/files/styles/profile_portrait/public/img_3659.jpg?itok=u6zG8NDG'}\n",
      "{'name': 'Lindsay J. Whaley', 'title': 'Professor of Classics and Linguistics', 'img': 'https://classics.dartmouth.edu/sites/department_classics.prod/files/styles/profile_portrait/public/img_2466.jpeg?itok=gFiajcFY'}\n",
      "____________________________________________\n",
      "url: https://cognitive-science.dartmouth.edu/people?field_people_local_tags_tid=836\n",
      "len: 11\n",
      "{'name': 'Patrick Cavanagh', 'title': 'Research Professor', 'img': 'https://cognitive-science.dartmouth.edu/sites/cognitive_science.prod/files/styles/profile_portrait/public/cavanagh.jpeg?itok=mRDJB6n2'}\n",
      "{'name': 'Samantha C. Wray', 'title': 'Lecturer - Linguistics, Psychological and Brain Sciences, Cognitive Science', 'img': 'https://cognitive-science.dartmouth.edu/sites/cognitive_science.prod/files/styles/profile_portrait/public/c11d9c9f-f827-45d4-a46b-db6b443f2327-2.jpg?itok=_TPelS_v'}\n",
      "____________________________________________\n",
      "url: https://complit.dartmouth.edu/people?field_people_local_tags_tid=1061\n",
      "len: 11\n",
      "{'name': 'Gerd Gemünden', 'title': 'Professor of German Studies', 'img': 'https://complit.dartmouth.edu/sites/complit.prod/files/styles/profile_portrait/public/20200113_gemunden_eb_062.jpg?itok=xAL52O3r'}\n",
      "{'name': 'Dennis Charles Washburn', 'title': 'Professor of Comparative Literature, Asian Societies Cultures and  Languages, & Film Studies', 'img': 'https://complit.dartmouth.edu/sites/complit.prod/files/styles/profile_portrait/public/20170613_washburn_eb_043_810-1_copy.jpg?itok=rZnKfQa5'}\n",
      "____________________________________________\n",
      "url: https://web.cs.dartmouth.edu/people?field_people_local_tags_tid=1606\n",
      "len: 28\n",
      "{'name': 'Devin J. Balkcom', 'title': 'Professor of Computer Science', 'img': 'https://web.cs.dartmouth.edu/sites/department_computer_science/files/styles/profile_portrait/public/devin-balkcom-590_0.jpg?itok=vzoOwPUM'}\n",
      "{'name': 'Bo Zhu', 'title': 'Assistant Professor of Computer Science', 'img': 'https://web.cs.dartmouth.edu/sites/department_computer_science/files/styles/profile_portrait/public/1_2.jpg?itok=03J040jN'}\n",
      "____________________________________________\n",
      "url: https://earthsciences.dartmouth.edu/people?field_people_local_tags_tid=1111\n",
      "len: 13\n",
      "{'name': 'Robert L. Hawley', 'title': 'Professor of Earth Sciences', 'img': 'https://earthsciences.dartmouth.edu/sites/department_earth_sciences.prod/files/styles/profile_portrait/public/bob_headshot_2020.jpg?itok=8f7Gx9GY'}\n",
      "{'name': 'Justin V. Strauss', 'title': 'Assistant Professor of Earth Sciences', 'img': 'https://earthsciences.dartmouth.edu/sites/department_earth_sciences.prod/files/styles/profile_portrait/public/jvs_cropped.jpg?itok=P9128ynw'}\n",
      "____________________________________________\n",
      "url: https://economics.dartmouth.edu/people?field_people_local_tags_tid=2456\n",
      "len: 39\n",
      "{'name': 'Treb Allen', 'title': 'Distinguished Associate Professor of Economics and Globalization', 'img': 'https://economics.dartmouth.edu/sites/department_economics.prod/files/styles/profile_portrait/public/allen_-_photo_0.jpg?itok=0dhmrJfR'}\n",
      "{'name': 'Nathan G. Zorzi', 'title': 'Assistant Professor of Economics', 'img': 'https://economics.dartmouth.edu/sites/department_economics.prod/files/styles/profile_portrait/public/nathanzorzi-5.jpg?itok=S85NIHVo'}\n",
      "____________________________________________\n",
      "url: https://engineering.dartmouth.edu/community/faculty\n",
      "len: 122\n",
      "{'name': 'Margie Ackerman', 'title': 'Professor of Engineering', 'img': 'https://optimise2.assets-servd.host/thayer-web/production/headshots/Margaret_Ackerman_headshot.jpg?w=300&q=80&auto=format&fit=crop&dm=1611102486&s=d511ddd425ab8e8d7c59dd2e5e0a6cf4'}\n",
      "{'name': 'Graham B. Wallis', 'title': 'Sherman Fairchild Professor of Engineering, Emeritus', 'img': 'https://optimise2.assets-servd.host/thayer-web/production/headshots/graham-wallis.jpg?w=300&q=80&auto=format&fit=crop&dm=1611102501&s=81e886a601c22209aa07a6b11fcfebe8'}\n",
      "____________________________________________\n",
      "url: https://english.dartmouth.edu/people?field_people_local_tags_tid=1631\n",
      "len: 28\n",
      "{'name': 'Jessica C. Beckman', 'title': 'Assistant Professor, Department of English and Creative Writing', 'img': 'https://english.dartmouth.edu/sites/department_english/files/styles/profile_portrait/public/img_0554.jpg?itok=-pt9hL4m'}\n",
      "{'name': 'Melissa F. Zeiger', 'title': 'Associate Professor of English', 'img': 'https://english.dartmouth.edu/sites/department_english/files/styles/profile_portrait/public/melissa_zeiger_image.jpg?itok=VaRpBacx'}\n",
      "____________________________________________\n",
      "url: https://envs.dartmouth.edu/people\n",
      "len: 19\n",
      "{'name': 'Bala Chaudhary', 'title': 'Assistant Professor of Environmental Studies', 'img': 'https://envs.dartmouth.edu/sites/department_environmental_studies/files/styles/profile_portrait/public/20210917_chaudhary_eb_008_0.jpg?itok=RctAzMdU'}\n",
      "{'name': 'Angela Spickard', 'title': 'Research Associate', 'img': 'https://envs.dartmouth.edu/sites/department_environmental_studies/files/styles/profile_portrait/public/spickard-photo.jpg?itok=Vg4rE9EP'}\n",
      "____________________________________________\n",
      "url: https://film-media.dartmouth.edu/people?field_people_local_tags_tid=2286\n",
      "len: 6\n",
      "{'name': 'Iyabo E. Kwayana', 'title': 'Assistant Professor, Film and Media Studies Department', 'img': 'https://film-media.dartmouth.edu/sites/department_film.prod/files/styles/profile_portrait/public/screen_shot_2019-12-06_at_9.17.06_pm_0.png?itok=FZg4tDiH'}\n",
      "{'name': 'Paul Young', 'title': 'Associate Professor of Film and Media Studies', 'img': 'https://film-media.dartmouth.edu/sites/department_film.prod/files/styles/profile_portrait/public/paul_young_hs.jpg?itok=S6zCwx52'}\n",
      "____________________________________________\n",
      "url: https://frandit.dartmouth.edu/people\n",
      "len: 23\n",
      "{'name': 'Lynn A. Higgins', 'title': 'Edward Tuck Professor of French', 'img': 'https://frandit.dartmouth.edu/sites/department_french_italian.prod/files/styles/profile_portrait/public/19_original.jpg?itok=tS8pJLw6'}\n",
      "{'name': 'John A. Rassias', 'title': 'Professor of French (Deceased - 2015)', 'img': 'https://frandit.dartmouth.edu/sites/department_french_italian.prod/files/styles/profile_portrait/public/36_original.jpg?itok=pJfSRQHI'}\n",
      "____________________________________________\n",
      "url: https://geography.dartmouth.edu/people?field_people_local_tags_tid=1946\n",
      "len: 12\n",
      "{'name': 'Erin E. Collins', 'title': 'Assistant Professor', 'img': 'https://geography.dartmouth.edu/sites/department_geography.prod/files/styles/profile_portrait/public/erinphoto_0.jpeg?itok=nC8Nm94A'}\n",
      "{'name': 'Richard A. Wright', 'title': 'Professor of Geography', 'img': 'https://geography.dartmouth.edu/sites/department_geography.prod/files/styles/profile_portrait/public/richard2017.png?itok=xKRsfM2z'}\n",
      "____________________________________________\n",
      "url: https://german.dartmouth.edu/people?field_people_local_tags_tid=1841\n",
      "len: 8\n",
      "{'name': 'Irene Kacandes', 'title': 'Professor of German Studies', 'img': 'https://german.dartmouth.edu/sites/german.prod/files/styles/profile_portrait/public/irene_kacandes.jpg?itok=KMXG36Kg'}\n",
      "{'name': 'Ellis Shookman', 'title': 'Professor of German Studies', 'img': 'https://german.dartmouth.edu/sites/german.prod/files/styles/profile_portrait/public/ers_nehru_0.jpg?itok=zfB4_Tja'}\n",
      "____________________________________________\n",
      "url: https://govt.dartmouth.edu/people?field_people_local_tags_tid=1546\n",
      "len: 29\n",
      "{'name': 'Lisa Baldez', 'title': 'Professor of Government', 'img': 'https://govt.dartmouth.edu/sites/department_government.prod/files/styles/profile_portrait/public/baldez_headshot_ffne.jpg?itok=W92huqvp'}\n",
      "{'name': 'William C. Wohlforth', 'title': 'Professor of Government', 'img': 'https://govt.dartmouth.edu/sites/department_government.prod/files/styles/profile_portrait/public/2g5a4299_1.jpg?itok=3wIX9sbV'}\n",
      "____________________________________________\n",
      "url: https://history.dartmouth.edu/people?field_people_local_tags_tid=10861\n",
      "len: 28\n",
      "{'name': 'Leslie Butler', 'title': 'Associate Professor of History', 'img': 'https://history.dartmouth.edu/sites/history.prod/files/styles/profile_portrait/public/LeslieButler_0.jpeg?itok=4HjMCu6C'}\n",
      "{'name': 'Pamela Voekel', 'title': 'Associate Professor of History and LALACS', 'img': 'https://history.dartmouth.edu/sites/history.prod/files/styles/profile_portrait/public/pamela_voekel_0.jpg?itok=ixgfIqBC'}\n",
      "____________________________________________\n",
      "url: https://writing-speech.dartmouth.edu/people?field_people_local_tags_tid=1671\n",
      "len: 25\n",
      "{'name': 'Ingrid Becker', 'title': 'Lecturer, Department of English and Creative Writing', 'img': 'https://writing-speech.dartmouth.edu/sites/institute_writing_rhetoric.prod/files/styles/profile_portrait/public/image0_1.jpeg?itok=4qtjhpBg'}\n",
      "{'name': 'Nick Van Kley', 'title': 'Director of Student Writing Support Services', 'img': 'https://writing-speech.dartmouth.edu/sites/institute_writing_rhetoric.prod/files/styles/profile_portrait/public/nick_van_kley_profile_picture_sept2014_0_0.png?itok=OQE5i7XU'}\n",
      "____________________________________________\n",
      "url: https://jewish.dartmouth.edu/people?field_people_local_tags_tid=791\n",
      "len: 8\n",
      "{'name': 'Udi Greenberg', 'title': 'Associate Professor of History', 'img': 'https://jewish.dartmouth.edu/sites/jewish.prod/files/styles/profile_portrait/public/greenberg_pic.jpg?itok=NoX_7rzi'}\n",
      "{'name': 'Melissa F. Zeiger', 'title': 'Associate Professor of English', 'img': 'https://jewish.dartmouth.edu/sites/jewish.prod/files/styles/profile_portrait/public/melissa_zeiger_image.jpg?itok=gSu3X1VL'}\n",
      "____________________________________________\n",
      "url: https://lalacs.dartmouth.edu/people?field_people_local_tags_tid=2341\n",
      "len: 20\n",
      "{'name': 'Rebecca Elizabeth Biron', 'title': 'Director of Leslie Center for the Humanities', 'img': 'https://lalacs.dartmouth.edu/sites/program_latin_american_latino_caribbean_studies.prod/files/styles/profile_portrait/public/pictures/picture-196-1375197946.jpg?itok=-qNG0Yd3'}\n",
      "{'name': 'Richard A. Wright', 'title': 'Professor of Geography', 'img': 'https://lalacs.dartmouth.edu/sites/program_latin_american_latino_caribbean_studies.prod/files/styles/profile_portrait/public/richard2017.png?itok=B_rggyMJ'}\n",
      "____________________________________________\n",
      "url: https://linguistics.dartmouth.edu/people?field_people_local_tags_tid=2321\n",
      "len: 8\n",
      "{'name': 'Tiane Donahue', 'title': 'Professor of Linguistics', 'img': 'https://linguistics.dartmouth.edu/sites/program_linguistics/files/styles/profile_portrait/public/379_original_0.jpg?itok=zWgMdsmj'}\n",
      "{'name': 'Samantha C. Wray', 'title': 'Lecturer - Linguistics, Psychological and Brain Sciences, Cognitive Science', 'img': 'https://linguistics.dartmouth.edu/sites/program_linguistics/files/styles/profile_portrait/public/c11d9c9f-f827-45d4-a46b-db6b443f2327-2.jpg?itok=bIURzD1V'}\n",
      "____________________________________________\n",
      "url: https://math.dartmouth.edu/people/people-select.php?list=permanent\n",
      "len: 23\n",
      "{'name': 'Vladimir Chernov', 'title': 'Professor', 'img': '/photos/for-people-pages/chernov_d1258d9.jpg'}\n",
      "{'name': 'Peter Winkler', 'title': 'Professor', 'img': '/photos/for-people-pages/winkler_d16439n.jpg'}\n",
      "____________________________________________\n",
      "url: https://mes.dartmouth.edu/people?field_people_local_tags_tid=1521\n",
      "len: 10\n",
      "{'name': 'Jamila Chahboun', 'title': 'Senior Lecturer', 'img': 'https://mes.dartmouth.edu/sites/middle_eastern_studies.prod/files/styles/profile_portrait/public/default_images/facdir_default.jpg?itok=PC4aI__G'}\n",
      "{'name': 'Jonathan Smolin', 'title': 'Jane and Raphael Bernstein Professor in Asian Studies', 'img': 'https://mes.dartmouth.edu/sites/middle_eastern_studies.prod/files/styles/profile_portrait/public/124_original.jpg?itok=wIlCCvC7'}\n",
      "____________________________________________\n",
      "url: https://music.dartmouth.edu/people/people?field_people_local_tags_tid=All\n",
      "len: 39\n",
      "{'name': 'Richard Beaudoin', 'title': 'Assistant Professor of Music', 'img': 'https://music.dartmouth.edu/sites/department_music.prod/files/styles/profile_portrait/public/20191106_beaudoin_eb_022_0.jpg?itok=KLEx-lyF'}\n",
      "{'name': 'Christian Wolff', 'title': 'Jacob H. Strauss 1922 Professor of Music, Emeritus', 'img': 'https://music.dartmouth.edu/sites/department_music.prod/files/styles/profile_portrait/public/wolff.jpg?itok=CDg79FDX'}\n",
      "____________________________________________\n",
      "url: https://native-american.dartmouth.edu/people?field_people_local_tags_tid=811\n",
      "len: 5\n",
      "{'name': 'Maurice S. Crandall', 'title': 'Assistant Professor of Native American Studies', 'img': 'https://native-american.dartmouth.edu/sites/program_native_american_studies.prod/files/styles/profile_portrait/public/img_3062.jpeg?itok=qZ3d2Dk_'}\n",
      "{'name': 'Melanie B. Taylor', 'title': 'Professor of English & Native American Studies', 'img': 'https://native-american.dartmouth.edu/sites/program_native_american_studies.prod/files/styles/profile_portrait/public/mbt_dartmouth_0.jpg?itok=Fjot78Vf'}\n",
      "____________________________________________\n",
      "url: https://philosophy.dartmouth.edu/people?field_people_local_tags_tid=3056\n",
      "len: 10\n",
      "{'name': 'John Kulvicki', 'title': 'Professor of Philosophy', 'img': 'https://philosophy.dartmouth.edu/sites/department_philosophy.prod/files/styles/profile_portrait/public/Dept%20Website%202%20copy.jpg?itok=MJeisG0D'}\n",
      "{'name': 'Kenneth Walden', 'title': 'Associate Professor of Philosophy', 'img': 'https://philosophy.dartmouth.edu/sites/department_philosophy.prod/files/styles/profile_portrait/public/portrai.png?itok=WJt0ptk4'}\n",
      "____________________________________________\n",
      "url: https://pbs.dartmouth.edu/people?field_people_local_tags_tid=1896\n",
      "len: 22\n",
      "{'name': 'Luke J. Chang', 'title': 'Assistant Professor of Psychological and Brain Sciences', 'img': 'https://pbs.dartmouth.edu/sites/department_psychological_brain_sciences/files/styles/profile_portrait/public/luke323.jpg?itok=vEA0CKoT'}\n",
      "{'name': 'Thalia Wheatley', 'title': 'Lincoln Filene Professor in Human Relations', 'img': 'https://pbs.dartmouth.edu/sites/department_psychological_brain_sciences/files/styles/profile_portrait/public/tpw.jpeg?itok=8WXwZ40M'}\n",
      "____________________________________________\n",
      "url: https://physics.dartmouth.edu/people?field_people_local_tags_tid=1086\n",
      "len: 25\n",
      "{'name': 'Robert R. Caldwell', 'title': 'Professor of Physics and Astronomy', 'img': 'https://physics.dartmouth.edu/sites/department_physics_astronomy/files/styles/profile_portrait/public/IMG-20130720-01582_0.jpg?itok=SR9QaxkA'}\n",
      "{'name': 'Martin N. Wybourne', 'title': 'Professor of Physics and Astronomy', 'img': 'https://physics.dartmouth.edu/sites/department_physics_astronomy/files/styles/profile_portrait/public/159_original.jpg?itok=Pip9pNqI'}\n",
      "____________________________________________\n",
      "url: https://qss.dartmouth.edu/people\n",
      "len: 28\n",
      "{'name': 'Mia Costa', 'title': 'Assistant Professor of Government', 'img': 'https://qss.dartmouth.edu/sites/program_quantitative_social_science/files/styles/profile_portrait/public/img_2182.jpg?itok=mfx4wi2r'}\n",
      "{'name': 'Kristin E. Smith', 'title': 'Visiting Associate Professor of Sociology', 'img': 'https://qss.dartmouth.edu/sites/program_quantitative_social_science/files/styles/profile_portrait/public/kristinsmith-2.jpg?itok=bGK0fBlr'}\n",
      "____________________________________________\n",
      "url: https://religion.dartmouth.edu/people?field_people_local_tags_tid=4141\n",
      "len: 11\n",
      "{'name': 'Zahra Ayubi', 'title': 'Associate Professor of Religion', 'img': 'https://religion.dartmouth.edu/sites/department_religion.prod/files/styles/profile_portrait/public/web_profile_pic_0.jpg?itok=H9r-nMKh'}\n",
      "{'name': 'Darryl A. Wilkinson', 'title': 'Assistant Professor of Religion', 'img': 'https://religion.dartmouth.edu/sites/department_religion.prod/files/styles/profile_portrait/public/wilkinson_for_web_0.jpg?itok=1C64Kowc'}\n",
      "____________________________________________\n",
      "url: https://sociology.dartmouth.edu/people?field_people_local_tags_tid=2566\n",
      "len: 12\n",
      "{'name': 'Brooke Harrington', 'title': 'Professor of Sociology', 'img': 'https://sociology.dartmouth.edu/sites/department_sociology/files/styles/profile_portrait/public/brooke_headshot_smiling_medium_0.jpg?itok=Mm25pKNN'}\n",
      "{'name': 'Emily Walton', 'title': 'Associate Professor of Sociology', 'img': 'https://sociology.dartmouth.edu/sites/department_sociology/files/styles/profile_portrait/public/emily%203.jpg?itok=Yi_qnqih'}\n",
      "____________________________________________\n",
      "url: https://spanport.dartmouth.edu/people?field_people_local_tags_tid=2156\n",
      "len: 21\n",
      "{'name': 'Kianny N. Antigua', 'title': 'Spanish Senior Lecturer', 'img': 'https://spanport.dartmouth.edu/sites/department_spanish_portuguese/files/styles/profile_portrait/public/foto_de_eli_b.jpg?itok=-q0yloR6'}\n",
      "{'name': 'Silvia Spitta', 'title': \"Director Comparative Literature Master's Program\", 'img': 'https://spanport.dartmouth.edu/sites/department_spanish_portuguese/files/styles/profile_portrait/public/img_4889.jpg?itok=Yk7iuFyx'}\n",
      "____________________________________________\n",
      "url: https://studioart.dartmouth.edu/people?field_people_local_tags_tid=2236\n",
      "len: 7\n",
      "{'name': 'Soo Sunny Park', 'title': 'Professor of Studio Art', 'img': 'https://studioart.dartmouth.edu/sites/department_studio_art.prod/files/styles/profile_portrait/public/855769f8-aa65-4bb8-98eb-b44572cb0f0d.jpeg?itok=nOUnB0uf'}\n",
      "{'name': 'Tricia Treacy', 'title': 'Associate Professor of Studio Art', 'img': 'https://studioart.dartmouth.edu/sites/department_studio_art.prod/files/styles/profile_portrait/public/20210120_treacy_11.jpg?itok=12N6IPq5'}\n",
      "____________________________________________\n",
      "url: https://wgs.dartmouth.edu/people?field_people_local_tags_tid=931\n",
      "len: 19\n",
      "{'name': 'Robert M. Baum', 'title': 'Associate Professor of Religion and African and African American Studies', 'img': 'https://wgs.dartmouth.edu/sites/program_womens_gender_sexuality_studies/files/styles/profile_portrait/public/RobertBaum.jpg?itok=kk-yaMhf'}\n",
      "{'name': 'Dennis Charles Washburn', 'title': 'Professor of Comparative Literature, Asian Societies Cultures and  Languages, & Film Studies', 'img': 'https://wgs.dartmouth.edu/sites/program_womens_gender_sexuality_studies/files/styles/profile_portrait/public/20170613_washburn_eb_043_810-1_copy.jpg?itok=LtXM3_Ld'}\n"
     ]
    }
   ],
   "source": [
    "completely_failed = []\n",
    "for department in dartmouth:\n",
    "    if department.get('success') == False:\n",
    "        completely_failed.append(department.get('faculty_page'))\n",
    "    else:\n",
    "        res = department.get('profiles')\n",
    "        print(\"____________________________________________\")\n",
    "        print(f\"url: {department.get('faculty_page')}\")\n",
    "        print(f\"len: {len(res)}\")\n",
    "        print(res[1])\n",
    "        print(res[-1])"
   ]
  },
  {
   "cell_type": "code",
   "execution_count": 7,
   "id": "10949c02",
   "metadata": {
    "scrolled": false
   },
   "outputs": [
    {
     "data": {
      "text/plain": [
       "['https://educ.dartmouth.edu/people?field_people_local_tags_tid=861',\n",
       " 'https://russian.dartmouth.edu/people?field_people_local_tags_tid=1136',\n",
       " 'https://theater.dartmouth.edu/people?field_people_local_tags_tid=2211']"
      ]
     },
     "execution_count": 7,
     "metadata": {},
     "output_type": "execute_result"
    }
   ],
   "source": [
    "completely_failed"
   ]
  },
  {
   "cell_type": "code",
   "execution_count": 9,
   "id": "b853b48a",
   "metadata": {},
   "outputs": [],
   "source": [
    "failed_directories = []\n",
    "for department in dartmouth:\n",
    "    url = department.get('faculty_page')\n",
    "    if url in completely_failed:\n",
    "        failed_directories.append(department)"
   ]
  },
  {
   "cell_type": "code",
   "execution_count": 10,
   "id": "fc27e084",
   "metadata": {},
   "outputs": [],
   "source": [
    "with open(sys.path[0] + '/../data/dartmouth/failed_directories.json', 'w') as f:\n",
    "    json.dump(failed_directories, f)"
   ]
  },
  {
   "cell_type": "code",
   "execution_count": 11,
   "id": "be3d59b7",
   "metadata": {},
   "outputs": [
    {
     "name": "stdout",
     "output_type": "stream",
     "text": [
      "success rate for testing (41 departments)= 0.93\n"
     ]
    }
   ],
   "source": [
    "failed_rate = len(failed_directories) / len(dartmouth)\n",
    "print(f\"success rate for testing ({len(dartmouth)} departments)= {1 - failed_rate:.2f}\")"
   ]
  }
 ],
 "metadata": {
  "kernelspec": {
   "display_name": "Python 3 (ipykernel)",
   "language": "python",
   "name": "python3"
  },
  "language_info": {
   "codemirror_mode": {
    "name": "ipython",
    "version": 3
   },
   "file_extension": ".py",
   "mimetype": "text/x-python",
   "name": "python",
   "nbconvert_exporter": "python",
   "pygments_lexer": "ipython3",
   "version": "3.9.7"
  }
 },
 "nbformat": 4,
 "nbformat_minor": 5
}
