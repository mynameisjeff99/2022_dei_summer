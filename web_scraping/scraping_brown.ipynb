{
 "cells": [
  {
   "cell_type": "code",
   "execution_count": 1,
   "id": "862d52f2",
   "metadata": {},
   "outputs": [],
   "source": [
    "from scraping import Scraping\n",
    "import sys\n",
    "import json"
   ]
  },
  {
   "cell_type": "markdown",
   "id": "179ba680",
   "metadata": {},
   "source": [
    "# Scraping"
   ]
  },
  {
   "cell_type": "code",
   "execution_count": 2,
   "id": "e8b2c727",
   "metadata": {},
   "outputs": [
    {
     "name": "stdout",
     "output_type": "stream",
     "text": [
      "\n"
     ]
    },
    {
     "name": "stderr",
     "output_type": "stream",
     "text": [
      "[WDM] - ====== WebDriver manager ======\n",
      "[WDM] - Current google-chrome version is 100.0.4896\n",
      "[WDM] - Get LATEST chromedriver version for 100.0.4896 google-chrome\n",
      "[WDM] - Driver [C:\\Users\\GuoshengCai\\.wdm\\drivers\\chromedriver\\win32\\100.0.4896.60\\chromedriver.exe] found in cache\n"
     ]
    }
   ],
   "source": [
    "scraping = Scraping()"
   ]
  },
  {
   "cell_type": "code",
   "execution_count": 4,
   "id": "3dda1a15",
   "metadata": {},
   "outputs": [],
   "source": [
    "in_path = sys.path[0] + '/../data/brown/brown_directories_sans_med.json'\n",
    "out_path = sys.path[0] + '/../data/brown/brown_w_profiles.json'\n",
    "brown = scraping.scrape_faculty(in_path, out_path)"
   ]
  },
  {
   "cell_type": "markdown",
   "id": "5bb7b545",
   "metadata": {},
   "source": [
    "# Result"
   ]
  },
  {
   "cell_type": "code",
   "execution_count": 5,
   "id": "c2dee163",
   "metadata": {},
   "outputs": [
    {
     "name": "stdout",
     "output_type": "stream",
     "text": [
      "____________________________________________\n",
      "url: https://africana.brown.edu/faculty/our-faculty\n",
      "len: 14\n",
      "{'name': 'Charrise\\n   Barron', 'title': 'Assistant Professor of Africana Studies,   Assistant Professor of Music', 'img': '/sites/default/files/styles/square_xsml/public/CBarron.jpg?h=bfced127&itok=UN4YOhm9'}\n",
      "{'name': 'Elmo\\n   Terry-Morgan', 'title': 'Associate Professor of Africana Studies,   Artistic Director, Rites and Reason Theatre,   Associate Professor of Theatre Arts and Performance Studies', 'img': '/sites/default/files/styles/square_xsml/public/2021-04/ELMO%20TERRY-MORGAN%20PHOTO.jpeg?h=f923b9ec&itok=CVfEDwEX'}\n",
      "____________________________________________\n",
      "url: https://americanstudies.brown.edu/about/people\n",
      "len: 71\n",
      "{'name': 'Leticia \\n   Alvarado', 'title': 'Doctoral Advisor,   Associate Professor of American Studies and Ethnic Studies', 'img': None}\n",
      "{'name': 'Barton \\n   St. Armand', 'title': 'Professor, American Studies', 'img': None}\n",
      "____________________________________________\n",
      "url: https://anthropology.brown.edu/who-we-are/people\n",
      "len: 38\n",
      "{'name': 'Rebecca Louise\\n   Carter', 'title': 'Associate Professor of Anthropology and Urban Studies ,   Director of Undergraduate Studies,   Director of Undergraduate Research', 'img': '/sites/default/files/styles/square_xsml/public/2022-05/20220426_%23215.jpg?itok=6Xpg7HQN'}\n",
      "{'name': 'William S. \\n   Simmons', 'title': 'Professor, Emeritus,   1938 – 2018', 'img': None}\n",
      "____________________________________________\n",
      "url: https://appliedmath.brown.edu/people/faculty\n",
      "len: 37\n",
      "{'name': 'Elie\\n   Bienenstock', 'title': 'Associate Professor Applied Mathematics', 'img': '/sites/default/files/styles/square_xsml/public/2020-09/Bienenstock%2016.jpg?h=a60e49bf&itok=ZsTVHP6v'}\n",
      "{'name': 'Wenjun\\n   Zhao', 'title': 'LFZ Assistant Professor of Applied Mathematics', 'img': '/sites/default/files/styles/square_xsml/public/2021-08/Wenjun%20Zhao.jpeg?h=baf03fb1&itok=AERsB_Jz'}\n",
      "____________________________________________\n",
      "url: https://www.brown.edu/academics/public-health/bss/about/people/faculty\n",
      "len: 113\n",
      "{'name': 'Jasjit Ahluwalia', 'title': 'Professor', 'img': 'https://www.brown.edu/academics/public-health/bss/sites/behavioral-social-sciences/files/images/people/ahluwala-jasjit-400.jpg'}\n",
      "{'name': 'Mark  Wood', 'title': 'Professor, University of Rhode Island', 'img': None}\n",
      "____________________________________________\n",
      "url: https://www.brown.edu/academics/public-health/biostats/people/faculty\n",
      "len: 374\n",
      "{'name': 'Stavroula  Chrysanthopoulou, Ph.D.', 'title': \"Assistant Professor of Biostatistics, Director of the Master's Graduate Program in Biostatistics\", 'img': 'https://www.brown.edu/academics/public-health/biostats/sites/biostats/files/images/people/schrysan_photo_%20%281%29.jpg'}\n",
      "{'name': 'Ormanda Johnson', 'title': 'Clinical Assistant Professor of Family Medicine', 'img': 'https://vivo.brown.edu/profile-images/6e1/bb6/731/d6f/457/dbb/8ef/888/a86/c0e/99/ojohns15_photo_.jpg'}\n",
      "____________________________________________\n",
      "url: https://www.brown.edu/academics/chemistry/people/faculty\n",
      "len: 30\n",
      "{'name': 'Amit Basu', 'title': 'Associate Professor of Chemistry', 'img': 'https://www.brown.edu/academics/chemistry/sites/academics-chemistry/files/styles/person-175-wide/public/images/people/Basu_Amit.jpg?itok=u71QB6uo'}\n",
      "{'name': 'J. William Suggs', 'title': 'Professor Emeritus of Chemistry', 'img': 'https://www.brown.edu/academics/chemistry/sites/academics-chemistry/files/styles/person-175-wide/public/images/people/Suggs_Bill.png?itok=0KuNx5hG'}\n",
      "____________________________________________\n",
      "url: https://www.brown.edu/academics/cognitive-linguistic-psychological-sciences/people\n",
      "len: 27\n",
      "{'name': 'David Badre', 'title': 'Professor', 'img': 'https://www.brown.edu/academics/cognitive-linguistic-psychological-sciences/sites/clps/files/images/people/0822201820180822_DavidBadre_09.jpeg'}\n",
      "{'name': 'Leslie  Welch', 'title': 'Associate Professor', 'img': 'https://www.brown.edu/academics/cognitive-linguistic-psychological-sciences/sites/clps/files/images/people/%2020180817%20071%20leslie.jpg'}\n",
      "____________________________________________\n",
      "url: https://complit.brown.edu/faculty\n",
      "len: 30\n",
      "{'name': 'Susan\\n   Bernstein', 'title': 'Chair of Comparative Literature,   Professor of Comparative Literature,   Professor of German Studies', 'img': '/sites/default/files/styles/square_xsml/public/2021-02/sbernste.jpg?h=a5927c4d&itok=HBFwhupv'}\n",
      "{'name': 'Karen\\n   Newman', 'title': 'Owen F. Walker Professor Emerita of Humanities and Professor Emerita of Comparative Literature and English', 'img': '/sites/default/files/styles/square_xsml/public/2021-03/knewman_photo_.jpg?h=edbb4f4a&itok=gD4uPEZi'}\n",
      "____________________________________________\n",
      "url: http://cs.brown.edu/people/faculty/\n",
      "len: 72\n",
      "{'name': 'Stephen Bach', 'title': 'Assistant Professor of Computer Science', 'img': '/media/filer_public_thumbnails/filer_public/05/d3/05d3c81f-8f88-49b6-aaf3-56525c89f8e2/headshot.jpg__60x80_q85_subsampling-2.jpg'}\n",
      "{'name': 'Ankit J Shah', 'title': 'Postdoctoral Research Associate in Computer Science', 'img': '/media/filer_public_thumbnails/filer_public/5e/c5/5ec561ad-ae64-41de-922d-dd1dfbe7ca35/avatar.jpg__60x80_q85_subsampling-2.jpg'}\n",
      "____________________________________________\n",
      "url: https://www.brown.edu/academics/earth-environmental-planetary-sciences/faculty\n",
      "len: 19\n",
      "{'name': 'Gerrit Budde', 'title': 'Assistant Professor', 'img': 'https://www.brown.edu/academics/earth-environmental-planetary-sciences/sites/brown.edu.academics.earth-environmental-planetary-sciences/files/images/Pic_Gerrit.thumbnail.jpeg'}\n",
      "{'name': 'Daniel Ibarra', 'title': ', Assistant Professor', 'img': 'https://www.brown.edu/academics/earth-environmental-planetary-sciences/sites/brown.edu.academics.earth-environmental-planetary-sciences/files/images/ibarra.thumbnail.jpg'}\n",
      "____________________________________________\n",
      "url: https://www.brown.edu/academics/east-asian-studies/faculty\n",
      "len: 19\n",
      "{'name': 'Cynthia Brokaw', 'title': 'Chen Family Professor of China Studies,  Professor of East Asian Studies and History', 'img': None}\n",
      "{'name': 'Kikuko Yamashita', 'title': 'Associate Professor of East Asian Studies', 'img': None}\n",
      "____________________________________________\n",
      "url: https://www.brown.edu/academics/ecology-and-evolutionary-biology/people\n",
      "len: 21\n",
      "{'name': 'Elizabeth  Brainerd', 'title': 'Robert P. Brown Professor of Biology, Professor of Medical Science, Ecology, Evolution and Organismal Biology', 'img': 'https://www.brown.edu/academics/ecology-and-evolutionary-biology/sites/academics-ecology-and-evolutionary-biology/files/styles/full_column/public/images/people/Brainerd-square.jpg?itok=-W-tUigz'}\n",
      "{'name': 'Jon D.  Witman', 'title': 'Professor of Biology, Ecology, Evolution and Organismal Biology', 'img': 'https://www.brown.edu/academics/ecology-and-evolutionary-biology/sites/academics-ecology-and-evolutionary-biology/files/styles/full_column/public/images/people/Jon%20Witman.jpg?itok=txOjXjTb'}\n",
      "____________________________________________\n",
      "url: https://economics.brown.edu/people/faculty\n",
      "len: 44\n",
      "{'name': 'Daniel\\n   Bjorkegren', 'title': 'Assistant Professor of Economics', 'img': '/sites/default/files/styles/square_xsml/public/people/Daniel-Bjorkegren.jpg?h=dcea1b7f&itok=0vPAL2od'}\n",
      "{'name': 'David\\n   Weil', 'title': 'James and Merryl Tisch Professor of Economics', 'img': '/sites/default/files/styles/square_xsml/public/2021-10/20211008_%23168.jpg?itok=vrNxqUi4'}\n",
      "____________________________________________\n",
      "url: https://e-a.brown.edu/people/faculty-staff\n",
      "len: 7\n",
      "{'name': 'Laurel\\n   Bestock', 'title': 'Associate Professor of Archaeology,   Associate Professor of Egyptology & Assyriology', 'img': None}\n",
      "{'name': 'Leonard H.\\n   Lesko', 'title': 'Charles Edwin Wilbour Professor Emeritus of Egyptology', 'img': None}\n",
      "____________________________________________\n",
      "url: https://english.brown.edu/faculty\n",
      "len: 42\n",
      "{'name': 'Amanda \\n   Anderson', 'title': 'Andrew W. Mellon Professor of Humanities and English,   Director of the Cogut Institute for the Humanities', 'img': '/sites/default/files/styles/square_xsml/public/people/asa1.jpeg?h=65a76c90&itok=AFcPikjG'}\n",
      "{'name': 'Robert P. \\n   Ward', 'title': 'Assistant Professor of the Practice,   Nonfiction Writing Program', 'img': '/sites/default/files/styles/square_xsml/public/people/rpward_photo_.jpg?h=6e8020a1&itok=r90OgR2O'}\n",
      "____________________________________________\n",
      "url: https://epidemiology.sph.brown.edu/people/faculty\n",
      "len: 61\n",
      "{'name': 'Angela\\n   Bengtson', 'title': 'Assistant Professor of Epidemiology', 'img': '/sites/default/files/styles/square_xsml/public/2021-12/20180808_COMM_Bengtson_Angela001_0.jpg?h=becf0bd6&itok=YheHELD2'}\n",
      "{'name': 'Sally\\n   Zierler', 'title': 'Professor Emerita', 'img': None}\n",
      "____________________________________________\n",
      "url: https://www.brown.edu/academics/french-studies/faculty\n",
      "len: 9\n",
      "{'name': 'Alani Hicks-Bartlett', 'title': 'Assistant Professor', 'img': 'https://www.brown.edu/academics/french-studies/sites/brown.edu.academics.french-studies/files/images/AHB.thumbnail.png'}\n",
      "{'name': 'David Wills', 'title': 'Professor', 'img': 'https://www.brown.edu/academics/french-studies/sites/brown.edu.academics.french-studies/files/images/IMG_0985.thumbnail.jpg'}\n",
      "____________________________________________\n",
      "url: https://german.brown.edu/people\n",
      "len: 24\n",
      "{'name': 'Jonathan\\n   Fine', 'title': 'Lecturer, German Studies', 'img': None}\n",
      "{'name': 'Duncan\\n   Smith', 'title': 'Professor Emeritus', 'img': None}\n",
      "____________________________________________\n",
      "url: https://www.brown.edu/academics/public-health/hspp/people/faculty\n",
      "len: 125\n",
      "{'name': 'Siraj Amanullah', 'title': 'Associate Professor', 'img': None}\n",
      "{'name': 'Samuel Zwetchkenbaum', 'title': 'Assistant Professor of the Practice', 'img': None}\n",
      "____________________________________________\n",
      "url: https://www.brown.edu/academics/hispanic-studies/home/people\n",
      "len: 21\n",
      "{'name': 'Laura Bass', 'title': 'Associate Professor', 'img': None}\n",
      "{'name': 'Neil Safier', 'title': 'Associate Professor of History', 'img': None}\n",
      "____________________________________________\n",
      "url: https://www.brown.edu/academics/art-history/people\n",
      "len: 11\n",
      "{'name': 'Sheila Bonde', 'title': 'Christopher Chan and Michelle Ma Professor of History of Art, Professor of Archaeology', 'img': 'https://www.brown.edu/academics/art-history/sites/academics-art-history/files/images/people/Screen%20Shot%202020-09-11%20at%202.47.17%20PM.png'}\n",
      "{'name': 'Holly Shaffer', 'title': 'Assistant Professor of History of Art and Architecture, Director of Undergraduate Studies (Spring 2022)', 'img': 'https://www.brown.edu/academics/art-history/sites/academics-art-history/files/images/people/shaffer.jpeg'}\n",
      "____________________________________________\n",
      "url: https://www.brown.edu/academics/italian-studies/people\n",
      "len: 9\n",
      "{'name': 'Cosette Bruhns Alonso', 'title': 'Postdoctoral Research Associate', 'img': 'https://www.brown.edu/academics/italian-studies/sites/academics-italian-studies/files/images/people/a46d3bfa-f053-ffa1-d7f3-62c1b0382a6a.jpg'}\n",
      "{'name': 'Suzanne Stewart-Steinberg', 'title': 'Professor and Chair of Italian Studies , Professor of Comparative Literature, Affiliated Professor of Modern Culture and Media', 'img': 'https://www.brown.edu/academics/italian-studies/sites/academics-italian-studies/files/sstewart.jpg'}\n",
      "____________________________________________\n",
      "url: https://judaicstudies.brown.edu/people\n",
      "len: 13\n",
      "{'name': 'Ruth Adler\\n   Ben-Yehuda', 'title': 'Distinguished Senior Lecturer in Judaic Studies,   Associate DUS/Concentration Advisor', 'img': None}\n",
      "{'name': 'Nelson H.\\n   Vieira', 'title': 'University Professor and Professor of Portuguese & Brazilian Studies and Judaic Studies', 'img': None}\n",
      "____________________________________________\n",
      "url: https://www.brown.edu/academics/literary-arts/faculty/faculty\n",
      "len: 14\n",
      "{'name': 'Lori Baker', 'title': 'Literary Arts faculty members are practicing writers who are active in the worlds of publishing, editing, translation, web-based film and production, and scholarship. They work with undergraduate students and with graduate students who are seeking the MFA degree, offering genre-specific and multidisciplinary writing workshops, reading and writing courses, and special topics seminars. Literary Arts faculty members also serve as advisors for undergraduate honors theses and for MFA theses.', 'img': None}\n",
      "{'name': 'Lori Baker', 'title': 'Literary Arts faculty members are practicing writers who are active in the worlds of publishing, editing, translation, web-based film and production, and scholarship. They work with undergraduate students and with graduate students who are seeking the MFA degree, offering genre-specific and multidisciplinary writing workshops, reading and writing courses, and special topics seminars. Literary Arts faculty members also serve as advisors for undergraduate honors theses and for MFA theses.', 'img': None}\n",
      "____________________________________________\n",
      "url: https://www.brown.edu/academics/math/faculty-0\n",
      "len: 33\n",
      "{'name': 'Madeline Brandt', 'title': 'Tamarkin Assistant Professor', 'img': 'https://www.brown.edu/academics/math/sites/math/files/Brandt.png'}\n",
      "{'name': 'Peter Zens', 'title': 'Tamarkin Assistant Professor', 'img': None}\n",
      "____________________________________________\n",
      "url: https://www.brown.edu/academics/modern-culture-and-media/faculty\n",
      "len: 6\n",
      "{'name': 'Matthew Ellis', 'title': \"Deans' Faculty Fellow\", 'img': 'https://www.brown.edu/academics/modern-culture-and-media/sites/brown.edu.academics.modern-culture-and-media/files/images/image.thumbnail_1.jpeg'}\n",
      "{'name': 'Jennifer Montgomery', 'title': 'Visiting Assistant Professor of Modern Culture and Media', 'img': 'https://www.brown.edu/academics/modern-culture-and-media/sites/brown.edu.academics.modern-culture-and-media/files/images/JM_2.thumbnail.jpg'}\n",
      "____________________________________________\n",
      "url: https://mcb.brown.edu/about/people\n",
      "len: 58\n",
      "{'name': 'Judith\\n   Bender', 'title': 'Professor of Biology', 'img': '/sites/default/files/styles/square_xsml/public/2020-11/jlbender.jpg?h=ddc3dfa8&itok=NlBOuuZn'}\n",
      "{'name': 'Mark\\n   Zervas', 'title': 'Adjunct Assistant Professor of Molecular Biology, Cell Biology and Biochemistry', 'img': '/sites/default/files/styles/square_xsml/public/2020-11/mzervas_photo_.jpeg?h=806c0c96&itok=RVIaztCC'}\n",
      "____________________________________________\n",
      "url: https://www.brown.edu/academics/medical/molecular-microbiology-and-immunology/faculty-0\n",
      "len: 10\n",
      "{'name': 'Lee, Chun Geun', 'title': 'Professor of Molecular Microbiology and Immunology (Research)', 'img': None}\n",
      "{'name': 'Zimmerman, Anita', 'title': 'Professor of Molecular Microbiology and Immunology', 'img': None}\n",
      "____________________________________________\n",
      "url: https://music.brown.edu/people/faculty\n",
      "len: 29\n",
      "{'name': 'Anthony \\n   Cheung', 'title': 'Associate Professor of Music', 'img': None}\n",
      "{'name': 'Jeff Todd \\n   Titon', 'title': 'Professor Emeritus in Music', 'img': None}\n",
      "____________________________________________\n",
      "url: https://neuroscience.brown.edu/people/faculty\n",
      "len: 30\n",
      "{'name': 'Carlos\\n   Aizenman', 'title': 'Professor of Neuroscience', 'img': '/sites/default/files/styles/square_xsml/public/2022-03/Carlos_Aizenman.jpg?h=bfced127&itok=DMyIpWy8'}\n",
      "{'name': 'Wilson\\n   Truccolo', 'title': 'Associate Professor of Neuroscience,   Pablo J. Salame Goldman Sachs Associate Professor of Computational Neuroscience', 'img': '/sites/default/files/styles/square_xsml/public/2022-03/wtruccol_photo_.jpg?h=2d04a41e&itok=AoszhWTo'}\n",
      "____________________________________________\n",
      "url: https://www.brown.edu/academics/physics/professors-physics\n",
      "len: 25\n",
      "{'name': 'JiJi Fan', 'title': 'Associate\\xa0Professor of Physics', 'img': '/academics/physics/sites/physics/files/images/jiji.jpg'}\n",
      "{'name': 'Gang Xiao', 'title': 'Ford Foundation Professor of Physics & Engineering', 'img': '/academics/physics/sites/physics/files/images/Gang4.jpg'}\n",
      "____________________________________________\n",
      "url: https://www.brown.edu/academics/portuguese-brazilian-studies/people\n",
      "len: 13\n",
      "{'name': 'Patricia Sobral', 'title': 'Director of Undergraduate Studies', 'img': None}\n",
      "{'name': 'Christopher Joshua Tucker', 'title': 'Assistant Professor of Music', 'img': None}\n",
      "____________________________________________\n",
      "url: https://www.brown.edu/academics/science-and-technology-studies/faculty\n",
      "len: 38\n",
      "{'name': 'Anne Fausto-Sterling', 'title': 'Nancy Duke Lewis Professor of Biology and Gender Studies Emerita', 'img': None}\n",
      "{'name': 'Deborah Hurley', 'title': 'Adjunct Professor of the Practice of Computer Science', 'img': None}\n",
      "____________________________________________\n",
      "url: https://www.brown.edu/academics/sociology/people/faculty\n",
      "len: 42\n",
      "{'name': 'Jennifer Candipan', 'title': 'Assistant Professor', 'img': 'https://www.brown.edu/academics/sociology/sites/academics-sociology/files/styles/square/public/images/people/candipan_web.jpg?itok=S8BkiV9i'}\n",
      "{'name': 'Mary Wright', 'title': 'ASSOCIATE PROVOST FOR TEACHING AND LEARNING', 'img': 'https://www.brown.edu/academics/sociology/sites/academics-sociology/files/styles/square/public/images/people/Mary%20Wright.jpg?itok=X8EHCnel'}\n",
      "____________________________________________\n",
      "url: https://www.brown.edu/academics/theatre-arts-performance-studies/faculty\n",
      "len: 7\n",
      "{'name': 'Michelle Bach-Coulibaly', 'title': 'Senior Lecturer,', 'img': None}\n",
      "{'name': 'James O. Barnhill', 'title': 'Professor Emeritus, \\xa0Theatre Arts & Performance Studies', 'img': None}\n",
      "____________________________________________\n",
      "url: https://www.brown.edu/academics/visual-art/people-0\n",
      "len: 10\n",
      "{'name': 'Becci Davis', 'title': 'Lecturer in Visual Art', 'img': '/academics/visual-art/sites/visual-art/files/Becci%20davis_0.jpg'}\n",
      "{'name': 'Daniel Stupar', 'title': 'Studio & Exhibitions\\xa0Manager, Adjunct Lecturer', 'img': '/academics/visual-art/sites/visual-art/files/IMG_0014.jpg'}\n"
     ]
    }
   ],
   "source": [
    "completely_failed = []\n",
    "for department in brown:\n",
    "    if department.get('success') == False:\n",
    "        completely_failed.append(department.get('faculty_page'))\n",
    "    else:\n",
    "        res = department.get('profiles')\n",
    "        print(\"____________________________________________\")\n",
    "        print(f\"url: {department.get('faculty_page')}\")\n",
    "        print(f\"len: {len(res)}\")\n",
    "        print(res[1])\n",
    "        print(res[-1])"
   ]
  },
  {
   "cell_type": "code",
   "execution_count": 6,
   "id": "10949c02",
   "metadata": {
    "scrolled": false
   },
   "outputs": [
    {
     "data": {
      "text/plain": [
       "['https://www.brown.edu/academics/classics/faculty',\n",
       " 'https://www.brown.edu/academics/history/faculty',\n",
       " 'https://philosophy.brown.edu/people#faculty',\n",
       " 'https://polisci.brown.edu/people',\n",
       " 'https://religious-studies.brown.edu/people',\n",
       " 'https://www.brown.edu/academics/slavic-studies/people/faculty/faculty']"
      ]
     },
     "execution_count": 6,
     "metadata": {},
     "output_type": "execute_result"
    }
   ],
   "source": [
    "completely_failed"
   ]
  },
  {
   "cell_type": "code",
   "execution_count": 7,
   "id": "b853b48a",
   "metadata": {},
   "outputs": [],
   "source": [
    "failed_directories = []\n",
    "for department in brown:\n",
    "    url = department.get('faculty_page')\n",
    "    if url in completely_failed:\n",
    "        failed_directories.append(department)"
   ]
  },
  {
   "cell_type": "code",
   "execution_count": 8,
   "id": "fc27e084",
   "metadata": {},
   "outputs": [],
   "source": [
    "with open(sys.path[0] + '/../data/brown/failed_directories.json', 'w') as f:\n",
    "    json.dump(failed_directories, f)"
   ]
  },
  {
   "cell_type": "code",
   "execution_count": 9,
   "id": "be3d59b7",
   "metadata": {},
   "outputs": [
    {
     "name": "stdout",
     "output_type": "stream",
     "text": [
      "success rate for testing (43 departments)= 0.86\n"
     ]
    }
   ],
   "source": [
    "failed_rate = len(failed_directories) / len(brown)\n",
    "print(f\"success rate for testing ({len(brown)} departments)= {1 - failed_rate:.2f}\")"
   ]
  }
 ],
 "metadata": {
  "kernelspec": {
   "display_name": "Python 3 (ipykernel)",
   "language": "python",
   "name": "python3"
  },
  "language_info": {
   "codemirror_mode": {
    "name": "ipython",
    "version": 3
   },
   "file_extension": ".py",
   "mimetype": "text/x-python",
   "name": "python",
   "nbconvert_exporter": "python",
   "pygments_lexer": "ipython3",
   "version": "3.9.7"
  }
 },
 "nbformat": 4,
 "nbformat_minor": 5
}
